{
 "cells": [
  {
   "cell_type": "markdown",
   "metadata": {},
   "source": [
    "# MOwNiT \n",
    "## Laboratorium\n",
    "### Znajdowanie pierwiastków"
   ]
  },
  {
   "cell_type": "markdown",
   "metadata": {},
   "source": [
    "Do poszukiwania pierwiastków funkcji w Julii używamy pakietu Roots"
   ]
  },
  {
   "cell_type": "markdown",
   "metadata": {},
   "source": [
    "```julia\n",
    "Pkg.add(\"Roots\")\n",
    "Pkg.add(\"ForwardDiff\")\n",
    "```"
   ]
  },
  {
   "cell_type": "code",
   "execution_count": 1,
   "metadata": {},
   "outputs": [
    {
     "name": "stderr",
     "output_type": "stream",
     "text": [
      "\u001b[32m\u001b[1m   Updating\u001b[22m\u001b[39m registry at `C:\\Users\\szady\\.julia\\registries\\General`\n",
      "\u001b[32m\u001b[1m  Resolving\u001b[22m\u001b[39m package versions...\n",
      "\u001b[32m\u001b[1m  Installed\u001b[22m\u001b[39m CommonSolve ─ v0.2.0\n",
      "\u001b[32m\u001b[1m  Installed\u001b[22m\u001b[39m Roots ─────── v1.0.9\n",
      "\u001b[32m\u001b[1mUpdating\u001b[22m\u001b[39m `C:\\Users\\szady\\.julia\\environments\\v1.5\\Project.toml`\n",
      " \u001b[90m [f2b01f46] \u001b[39m\u001b[92m+ Roots v1.0.9\u001b[39m\n",
      "\u001b[32m\u001b[1mUpdating\u001b[22m\u001b[39m `C:\\Users\\szady\\.julia\\environments\\v1.5\\Manifest.toml`\n",
      " \u001b[90m [38540f10] \u001b[39m\u001b[92m+ CommonSolve v0.2.0\u001b[39m\n",
      " \u001b[90m [f2b01f46] \u001b[39m\u001b[92m+ Roots v1.0.9\u001b[39m\n",
      "\u001b[32m\u001b[1m  Resolving\u001b[22m\u001b[39m package versions...\n",
      "\u001b[32m\u001b[1m  Installed\u001b[22m\u001b[39m DiffRules ──────────── v1.0.2\n",
      "\u001b[32m\u001b[1m  Installed\u001b[22m\u001b[39m OpenSpecFun_jll ────── v0.5.3+4\n",
      "\u001b[32m\u001b[1m  Installed\u001b[22m\u001b[39m DiffResults ────────── v1.0.3\n",
      "\u001b[32m\u001b[1m  Installed\u001b[22m\u001b[39m ForwardDiff ────────── v0.10.18\n",
      "\u001b[32m\u001b[1m  Installed\u001b[22m\u001b[39m CommonSubexpressions ─ v0.3.0\n",
      "\u001b[32m\u001b[1m  Installed\u001b[22m\u001b[39m SpecialFunctions ───── v1.3.0\n",
      "\u001b[32m\u001b[1m  Installed\u001b[22m\u001b[39m ChainRulesCore ─────── v0.9.42\n",
      "\u001b[32m\u001b[1mUpdating\u001b[22m\u001b[39m `C:\\Users\\szady\\.julia\\environments\\v1.5\\Project.toml`\n",
      " \u001b[90m [f6369f11] \u001b[39m\u001b[92m+ ForwardDiff v0.10.18\u001b[39m\n",
      "\u001b[32m\u001b[1mUpdating\u001b[22m\u001b[39m `C:\\Users\\szady\\.julia\\environments\\v1.5\\Manifest.toml`\n",
      " \u001b[90m [d360d2e6] \u001b[39m\u001b[92m+ ChainRulesCore v0.9.42\u001b[39m\n",
      " \u001b[90m [bbf7d656] \u001b[39m\u001b[92m+ CommonSubexpressions v0.3.0\u001b[39m\n",
      " \u001b[90m [163ba53b] \u001b[39m\u001b[92m+ DiffResults v1.0.3\u001b[39m\n",
      " \u001b[90m [b552c78f] \u001b[39m\u001b[92m+ DiffRules v1.0.2\u001b[39m\n",
      " \u001b[90m [f6369f11] \u001b[39m\u001b[92m+ ForwardDiff v0.10.18\u001b[39m\n",
      " \u001b[90m [efe28fd5] \u001b[39m\u001b[92m+ OpenSpecFun_jll v0.5.3+4\u001b[39m\n",
      " \u001b[90m [276daf66] \u001b[39m\u001b[92m+ SpecialFunctions v1.3.0\u001b[39m\n"
     ]
    }
   ],
   "source": [
    "using Pkg\n",
    "#Pkg.add(\"Roots\")\n",
    "#Pkg.add(\"ForwardDiff\")"
   ]
  },
  {
   "cell_type": "code",
   "execution_count": 2,
   "metadata": {},
   "outputs": [
    {
     "name": "stderr",
     "output_type": "stream",
     "text": [
      "┌ Info: Precompiling Roots [f2b01f46-fcfa-551c-844a-d8ac1e96c665]\n",
      "└ @ Base loading.jl:1278\n",
      "┌ Info: Precompiling ForwardDiff [f6369f11-7733-5829-9624-2563aa707210]\n",
      "└ @ Base loading.jl:1278\n"
     ]
    }
   ],
   "source": [
    "using Roots  \n",
    "using Plots\n",
    "using ForwardDiff"
   ]
  },
  {
   "cell_type": "code",
   "execution_count": 3,
   "metadata": {},
   "outputs": [
    {
     "data": {
      "image/svg+xml": [
       "<?xml version=\"1.0\" encoding=\"utf-8\"?>\n",
       "<svg xmlns=\"http://www.w3.org/2000/svg\" xmlns:xlink=\"http://www.w3.org/1999/xlink\" width=\"600\" height=\"400\" viewBox=\"0 0 2400 1600\">\n",
       "<defs>\n",
       "  <clipPath id=\"clip310\">\n",
       "    <rect x=\"0\" y=\"0\" width=\"2400\" height=\"1600\"/>\n",
       "  </clipPath>\n",
       "</defs>\n",
       "<path clip-path=\"url(#clip310)\" d=\"\n",
       "M0 1600 L2400 1600 L2400 0 L0 0  Z\n",
       "  \" fill=\"#ffffff\" fill-rule=\"evenodd\" fill-opacity=\"1\"/>\n",
       "<defs>\n",
       "  <clipPath id=\"clip311\">\n",
       "    <rect x=\"480\" y=\"0\" width=\"1681\" height=\"1600\"/>\n",
       "  </clipPath>\n",
       "</defs>\n",
       "<path clip-path=\"url(#clip310)\" d=\"\n",
       "M142.455 1486.45 L2352.76 1486.45 L2352.76 47.2441 L142.455 47.2441  Z\n",
       "  \" fill=\"#ffffff\" fill-rule=\"evenodd\" fill-opacity=\"1\"/>\n",
       "<defs>\n",
       "  <clipPath id=\"clip312\">\n",
       "    <rect x=\"142\" y=\"47\" width=\"2211\" height=\"1440\"/>\n",
       "  </clipPath>\n",
       "</defs>\n",
       "<polyline clip-path=\"url(#clip312)\" style=\"stroke:#000000; stroke-width:2; stroke-opacity:0.1; fill:none\" points=\"\n",
       "  205.01,1486.45 205.01,47.2441 \n",
       "  \"/>\n",
       "<polyline clip-path=\"url(#clip312)\" style=\"stroke:#000000; stroke-width:2; stroke-opacity:0.1; fill:none\" points=\"\n",
       "  726.308,1486.45 726.308,47.2441 \n",
       "  \"/>\n",
       "<polyline clip-path=\"url(#clip312)\" style=\"stroke:#000000; stroke-width:2; stroke-opacity:0.1; fill:none\" points=\"\n",
       "  1247.61,1486.45 1247.61,47.2441 \n",
       "  \"/>\n",
       "<polyline clip-path=\"url(#clip312)\" style=\"stroke:#000000; stroke-width:2; stroke-opacity:0.1; fill:none\" points=\"\n",
       "  1768.9,1486.45 1768.9,47.2441 \n",
       "  \"/>\n",
       "<polyline clip-path=\"url(#clip312)\" style=\"stroke:#000000; stroke-width:2; stroke-opacity:0.1; fill:none\" points=\"\n",
       "  2290.2,1486.45 2290.2,47.2441 \n",
       "  \"/>\n",
       "<polyline clip-path=\"url(#clip310)\" style=\"stroke:#000000; stroke-width:4; stroke-opacity:1; fill:none\" points=\"\n",
       "  142.455,1486.45 2352.76,1486.45 \n",
       "  \"/>\n",
       "<polyline clip-path=\"url(#clip310)\" style=\"stroke:#000000; stroke-width:4; stroke-opacity:1; fill:none\" points=\"\n",
       "  205.01,1486.45 205.01,1469.18 \n",
       "  \"/>\n",
       "<polyline clip-path=\"url(#clip310)\" style=\"stroke:#000000; stroke-width:4; stroke-opacity:1; fill:none\" points=\"\n",
       "  726.308,1486.45 726.308,1469.18 \n",
       "  \"/>\n",
       "<polyline clip-path=\"url(#clip310)\" style=\"stroke:#000000; stroke-width:4; stroke-opacity:1; fill:none\" points=\"\n",
       "  1247.61,1486.45 1247.61,1469.18 \n",
       "  \"/>\n",
       "<polyline clip-path=\"url(#clip310)\" style=\"stroke:#000000; stroke-width:4; stroke-opacity:1; fill:none\" points=\"\n",
       "  1768.9,1486.45 1768.9,1469.18 \n",
       "  \"/>\n",
       "<polyline clip-path=\"url(#clip310)\" style=\"stroke:#000000; stroke-width:4; stroke-opacity:1; fill:none\" points=\"\n",
       "  2290.2,1486.45 2290.2,1469.18 \n",
       "  \"/>\n",
       "<path clip-path=\"url(#clip310)\" d=\"M 0 0 M177.464 1530.29 L207.14 1530.29 L207.14 1534.23 L177.464 1534.23 L177.464 1530.29 Z\" fill=\"#000000\" fill-rule=\"evenodd\" fill-opacity=\"1\" /><path clip-path=\"url(#clip310)\" d=\"M 0 0 M216.237 1543.18 L232.557 1543.18 L232.557 1547.12 L210.612 1547.12 L210.612 1543.18 Q213.274 1540.43 217.858 1535.8 Q222.464 1531.15 223.645 1529.81 Q225.89 1527.28 226.77 1525.55 Q227.672 1523.79 227.672 1522.1 Q227.672 1519.34 225.728 1517.61 Q223.807 1515.87 220.705 1515.87 Q218.506 1515.87 216.052 1516.63 Q213.622 1517.4 210.844 1518.95 L210.844 1514.23 Q213.668 1513.09 216.122 1512.51 Q218.575 1511.93 220.612 1511.93 Q225.983 1511.93 229.177 1514.62 Q232.371 1517.31 232.371 1521.8 Q232.371 1523.93 231.561 1525.85 Q230.774 1527.74 228.668 1530.34 Q228.089 1531.01 224.987 1534.23 Q221.885 1537.42 216.237 1543.18 Z\" fill=\"#000000\" fill-rule=\"evenodd\" fill-opacity=\"1\" /><path clip-path=\"url(#clip310)\" d=\"M 0 0 M698.577 1530.29 L728.252 1530.29 L728.252 1534.23 L698.577 1534.23 L698.577 1530.29 Z\" fill=\"#000000\" fill-rule=\"evenodd\" fill-opacity=\"1\" /><path clip-path=\"url(#clip310)\" d=\"M 0 0 M734.132 1543.18 L741.771 1543.18 L741.771 1516.82 L733.461 1518.49 L733.461 1514.23 L741.725 1512.56 L746.4 1512.56 L746.4 1543.18 L754.039 1543.18 L754.039 1547.12 L734.132 1547.12 L734.132 1543.18 Z\" fill=\"#000000\" fill-rule=\"evenodd\" fill-opacity=\"1\" /><path clip-path=\"url(#clip310)\" d=\"M 0 0 M1247.61 1515.64 Q1243.99 1515.64 1242.17 1519.2 Q1240.36 1522.75 1240.36 1529.87 Q1240.36 1536.98 1242.17 1540.55 Q1243.99 1544.09 1247.61 1544.09 Q1251.24 1544.09 1253.05 1540.55 Q1254.87 1536.98 1254.87 1529.87 Q1254.87 1522.75 1253.05 1519.2 Q1251.24 1515.64 1247.61 1515.64 M1247.61 1511.93 Q1253.42 1511.93 1256.47 1516.54 Q1259.55 1521.12 1259.55 1529.87 Q1259.55 1538.6 1256.47 1543.21 Q1253.42 1547.79 1247.61 1547.79 Q1241.8 1547.79 1238.72 1543.21 Q1235.66 1538.6 1235.66 1529.87 Q1235.66 1521.12 1238.72 1516.54 Q1241.8 1511.93 1247.61 1511.93 Z\" fill=\"#000000\" fill-rule=\"evenodd\" fill-opacity=\"1\" /><path clip-path=\"url(#clip310)\" d=\"M 0 0 M1759.28 1543.18 L1766.92 1543.18 L1766.92 1516.82 L1758.61 1518.49 L1758.61 1514.23 L1766.88 1512.56 L1771.55 1512.56 L1771.55 1543.18 L1779.19 1543.18 L1779.19 1547.12 L1759.28 1547.12 L1759.28 1543.18 Z\" fill=\"#000000\" fill-rule=\"evenodd\" fill-opacity=\"1\" /><path clip-path=\"url(#clip310)\" d=\"M 0 0 M2284.85 1543.18 L2301.17 1543.18 L2301.17 1547.12 L2279.23 1547.12 L2279.23 1543.18 Q2281.89 1540.43 2286.47 1535.8 Q2291.08 1531.15 2292.26 1529.81 Q2294.51 1527.28 2295.39 1525.55 Q2296.29 1523.79 2296.29 1522.1 Q2296.29 1519.34 2294.34 1517.61 Q2292.42 1515.87 2289.32 1515.87 Q2287.12 1515.87 2284.67 1516.63 Q2282.24 1517.4 2279.46 1518.95 L2279.46 1514.23 Q2282.28 1513.09 2284.74 1512.51 Q2287.19 1511.93 2289.23 1511.93 Q2294.6 1511.93 2297.79 1514.62 Q2300.99 1517.31 2300.99 1521.8 Q2300.99 1523.93 2300.18 1525.85 Q2299.39 1527.74 2297.28 1530.34 Q2296.7 1531.01 2293.6 1534.23 Q2290.5 1537.42 2284.85 1543.18 Z\" fill=\"#000000\" fill-rule=\"evenodd\" fill-opacity=\"1\" /><polyline clip-path=\"url(#clip312)\" style=\"stroke:#000000; stroke-width:2; stroke-opacity:0.1; fill:none\" points=\"\n",
       "  142.455,1304.46 2352.76,1304.46 \n",
       "  \"/>\n",
       "<polyline clip-path=\"url(#clip312)\" style=\"stroke:#000000; stroke-width:2; stroke-opacity:0.1; fill:none\" points=\"\n",
       "  142.455,965.026 2352.76,965.026 \n",
       "  \"/>\n",
       "<polyline clip-path=\"url(#clip312)\" style=\"stroke:#000000; stroke-width:2; stroke-opacity:0.1; fill:none\" points=\"\n",
       "  142.455,625.591 2352.76,625.591 \n",
       "  \"/>\n",
       "<polyline clip-path=\"url(#clip312)\" style=\"stroke:#000000; stroke-width:2; stroke-opacity:0.1; fill:none\" points=\"\n",
       "  142.455,286.156 2352.76,286.156 \n",
       "  \"/>\n",
       "<polyline clip-path=\"url(#clip310)\" style=\"stroke:#000000; stroke-width:4; stroke-opacity:1; fill:none\" points=\"\n",
       "  142.455,1486.45 142.455,47.2441 \n",
       "  \"/>\n",
       "<polyline clip-path=\"url(#clip310)\" style=\"stroke:#000000; stroke-width:4; stroke-opacity:1; fill:none\" points=\"\n",
       "  142.455,1304.46 168.978,1304.46 \n",
       "  \"/>\n",
       "<polyline clip-path=\"url(#clip310)\" style=\"stroke:#000000; stroke-width:4; stroke-opacity:1; fill:none\" points=\"\n",
       "  142.455,965.026 168.978,965.026 \n",
       "  \"/>\n",
       "<polyline clip-path=\"url(#clip310)\" style=\"stroke:#000000; stroke-width:4; stroke-opacity:1; fill:none\" points=\"\n",
       "  142.455,625.591 168.978,625.591 \n",
       "  \"/>\n",
       "<polyline clip-path=\"url(#clip310)\" style=\"stroke:#000000; stroke-width:4; stroke-opacity:1; fill:none\" points=\"\n",
       "  142.455,286.156 168.978,286.156 \n",
       "  \"/>\n",
       "<path clip-path=\"url(#clip310)\" d=\"M 0 0 M51.3625 1304.91 L81.0383 1304.91 L81.0383 1308.85 L51.3625 1308.85 L51.3625 1304.91 Z\" fill=\"#000000\" fill-rule=\"evenodd\" fill-opacity=\"1\" /><path clip-path=\"url(#clip310)\" d=\"M 0 0 M90.1354 1317.81 L106.455 1317.81 L106.455 1321.74 L84.5105 1321.74 L84.5105 1317.81 Q87.1725 1315.05 91.7558 1310.42 Q96.3623 1305.77 97.5428 1304.43 Q99.7882 1301.9 100.668 1300.17 Q101.571 1298.41 101.571 1296.72 Q101.571 1293.96 99.6261 1292.23 Q97.7048 1290.49 94.603 1290.49 Q92.4039 1290.49 89.9503 1291.26 Q87.5197 1292.02 84.7419 1293.57 L84.7419 1288.85 Q87.566 1287.71 90.0197 1287.13 Q92.4734 1286.56 94.5104 1286.56 Q99.8808 1286.56 103.075 1289.24 Q106.27 1291.93 106.27 1296.42 Q106.27 1298.55 105.459 1300.47 Q104.672 1302.37 102.566 1304.96 Q101.987 1305.63 98.8854 1308.85 Q95.7836 1312.04 90.1354 1317.81 Z\" fill=\"#000000\" fill-rule=\"evenodd\" fill-opacity=\"1\" /><path clip-path=\"url(#clip310)\" d=\"M 0 0 M50.9921 965.477 L80.6679 965.477 L80.6679 969.413 L50.9921 969.413 L50.9921 965.477 Z\" fill=\"#000000\" fill-rule=\"evenodd\" fill-opacity=\"1\" /><path clip-path=\"url(#clip310)\" d=\"M 0 0 M86.5475 978.371 L94.1863 978.371 L94.1863 952.005 L85.8762 953.672 L85.8762 949.413 L94.14 947.746 L98.8159 947.746 L98.8159 978.371 L106.455 978.371 L106.455 982.306 L86.5475 982.306 L86.5475 978.371 Z\" fill=\"#000000\" fill-rule=\"evenodd\" fill-opacity=\"1\" /><path clip-path=\"url(#clip310)\" d=\"M 0 0 M94.5104 611.39 Q90.8993 611.39 89.0706 614.955 Q87.2651 618.496 87.2651 625.626 Q87.2651 632.732 89.0706 636.297 Q90.8993 639.839 94.5104 639.839 Q98.1447 639.839 99.9502 636.297 Q101.779 632.732 101.779 625.626 Q101.779 618.496 99.9502 614.955 Q98.1447 611.39 94.5104 611.39 M94.5104 607.686 Q100.321 607.686 103.376 612.293 Q106.455 616.876 106.455 625.626 Q106.455 634.353 103.376 638.959 Q100.321 643.543 94.5104 643.543 Q88.7003 643.543 85.6216 638.959 Q82.566 634.353 82.566 625.626 Q82.566 616.876 85.6216 612.293 Q88.7003 607.686 94.5104 607.686 Z\" fill=\"#000000\" fill-rule=\"evenodd\" fill-opacity=\"1\" /><path clip-path=\"url(#clip310)\" d=\"M 0 0 M86.5475 299.501 L94.1863 299.501 L94.1863 273.136 L85.8762 274.802 L85.8762 270.543 L94.14 268.876 L98.8159 268.876 L98.8159 299.501 L106.455 299.501 L106.455 303.436 L86.5475 303.436 L86.5475 299.501 Z\" fill=\"#000000\" fill-rule=\"evenodd\" fill-opacity=\"1\" /><polyline clip-path=\"url(#clip312)\" style=\"stroke:#009af9; stroke-width:4; stroke-opacity:1; fill:none\" points=\"\n",
       "  205.01,87.9763 225.374,89.0742 413.665,92.4069 526.82,92.7842 622.491,95.2922 726.416,102.77 822.226,116.052 924.945,139.032 1043.95,179.126 1149.72,228.384 \n",
       "  1242.46,282.822 1343.58,354.381 1445.29,438.992 1557.75,546.426 1664.75,660.777 1776.01,790.171 1869.67,905.524 1984.01,1051.63 2091.5,1191.38 2263.7,1412.59 \n",
       "  2290.2,1445.72 \n",
       "  \"/>\n",
       "<path clip-path=\"url(#clip310)\" d=\"\n",
       "M1982.47 216.178 L2279.08 216.178 L2279.08 95.2176 L1982.47 95.2176  Z\n",
       "  \" fill=\"#ffffff\" fill-rule=\"evenodd\" fill-opacity=\"1\"/>\n",
       "<polyline clip-path=\"url(#clip310)\" style=\"stroke:#000000; stroke-width:4; stroke-opacity:1; fill:none\" points=\"\n",
       "  1982.47,216.178 2279.08,216.178 2279.08,95.2176 1982.47,95.2176 1982.47,216.178 \n",
       "  \"/>\n",
       "<polyline clip-path=\"url(#clip310)\" style=\"stroke:#009af9; stroke-width:4; stroke-opacity:1; fill:none\" points=\"\n",
       "  2007.03,155.698 2154.38,155.698 \n",
       "  \"/>\n",
       "<path clip-path=\"url(#clip310)\" d=\"M 0 0 M2192.79 175.385 Q2190.98 180.015 2189.27 181.427 Q2187.55 182.839 2184.68 182.839 L2181.28 182.839 L2181.28 179.274 L2183.78 179.274 Q2185.54 179.274 2186.51 178.44 Q2187.48 177.607 2188.67 174.505 L2189.43 172.561 L2178.94 147.052 L2183.46 147.052 L2191.56 167.329 L2199.66 147.052 L2204.17 147.052 L2192.79 175.385 Z\" fill=\"#000000\" fill-rule=\"evenodd\" fill-opacity=\"1\" /><path clip-path=\"url(#clip310)\" d=\"M 0 0 M2210.05 169.042 L2217.69 169.042 L2217.69 142.677 L2209.38 144.343 L2209.38 140.084 L2217.65 138.418 L2222.32 138.418 L2222.32 169.042 L2229.96 169.042 L2229.96 172.978 L2210.05 172.978 L2210.05 169.042 Z\" fill=\"#000000\" fill-rule=\"evenodd\" fill-opacity=\"1\" /></svg>\n"
      ]
     },
     "execution_count": 3,
     "metadata": {},
     "output_type": "execute_result"
    }
   ],
   "source": [
    "# przykładowa funkcja do testów\n",
    "f(x) = cos(x) - x\n",
    "plot(f, -2, 2)"
   ]
  },
  {
   "cell_type": "markdown",
   "metadata": {},
   "source": [
    "Funkcja <i> find_zero</i>  dobiera odpowiedni algorytm w zależności od sposobu wywołania.\n"
   ]
  },
  {
   "cell_type": "markdown",
   "metadata": {},
   "source": [
    "### 1. Metody wykorzytujące  przedział i zmianę znaku"
   ]
  },
  {
   "cell_type": "markdown",
   "metadata": {},
   "source": [
    "#### 1.1 Metoda bisekcji - jesli wywołamy fzero z podaniem  przedziału (tutaj (0,1))"
   ]
  },
  {
   "cell_type": "code",
   "execution_count": 4,
   "metadata": {},
   "outputs": [
    {
     "name": "stdout",
     "output_type": "stream",
     "text": [
      "Results of univariate zero finding:\n",
      "\n",
      "* Converged to: 0.7390851332151609\n",
      "* Algorithm: Roots.BisectionExact()\n",
      "* iterations: 60\n",
      "* function evaluations: 62\n",
      "* stopped as x_n ≈ x_{n-1} using atol=xatol, rtol=xrtol\n",
      "* stopped as |f(x_n)| ≤ max(δ, max(1,|x|)⋅ϵ) using δ = atol, ϵ = rtol\n",
      "\n",
      "Trace:\n",
      "(a_0, b_0) = ( 0.0000000000000000,  1.0000000000000000)\n",
      "(a_1, b_1) = ( 0.0000000000000000,  1.0000000000000000)\n",
      "(a_2, b_2) = ( 0.0000000000000000,  1.0000000000000000)\n",
      "(a_3, b_3) = ( 0.0000000000000000,  1.0000000000000000)\n",
      "(a_4, b_4) = ( 0.0000000000000000,  1.0000000000000000)\n",
      "(a_5, b_5) = ( 0.0000000002401066,  1.0000000000000000)\n",
      "(a_6, b_6) = ( 0.0000154972076416,  1.0000000000000000)\n",
      "(a_7, b_7) = ( 0.0039367675781250,  1.0000000000000000)\n",
      "(a_8, b_8) = ( 0.0627441406250000,  1.0000000000000000)\n",
      "(a_9, b_9) = ( 0.2504882812500000,  1.0000000000000000)\n",
      "(a_10, b_10) = ( 0.5004882812500000,  1.0000000000000000)\n",
      "(a_11, b_11) = ( 0.5004882812500000,  0.7502441406250000)\n",
      "(a_12, b_12) = ( 0.6253662109375000,  0.7502441406250000)\n",
      "(a_13, b_13) = ( 0.6878051757812500,  0.7502441406250000)\n",
      "(a_14, b_14) = ( 0.7190246582031250,  0.7502441406250000)\n",
      "(a_15, b_15) = ( 0.7346343994140625,  0.7502441406250000)\n",
      "(a_16, b_16) = ( 0.7346343994140625,  0.7424392700195313)\n",
      "(a_17, b_17) = ( 0.7385368347167969,  0.7424392700195313)\n",
      "(a_18, b_18) = ( 0.7385368347167969,  0.7404880523681641)\n",
      "(a_19, b_19) = ( 0.7385368347167969,  0.7395124435424805)\n",
      "(a_20, b_20) = ( 0.7390246391296387,  0.7395124435424805)\n",
      "(a_21, b_21) = ( 0.7390246391296387,  0.7392685413360596)\n",
      "(a_22, b_22) = ( 0.7390246391296387,  0.7391465902328491)\n",
      "(a_23, b_23) = ( 0.7390246391296387,  0.7390856146812439)\n",
      "(a_24, b_24) = ( 0.7390551269054413,  0.7390856146812439)\n",
      "(a_25, b_25) = ( 0.7390703707933426,  0.7390856146812439)\n",
      "(a_26, b_26) = ( 0.7390779927372932,  0.7390856146812439)\n",
      "(a_27, b_27) = ( 0.7390818037092686,  0.7390856146812439)\n",
      "(a_28, b_28) = ( 0.7390837091952562,  0.7390856146812439)\n",
      "(a_29, b_29) = ( 0.7390846619382501,  0.7390856146812439)\n",
      "(a_30, b_30) = ( 0.7390846619382501,  0.7390851383097470)\n",
      "(a_31, b_31) = ( 0.7390849001239985,  0.7390851383097470)\n",
      "(a_32, b_32) = ( 0.7390850192168728,  0.7390851383097470)\n",
      "(a_33, b_33) = ( 0.7390850787633099,  0.7390851383097470)\n",
      "(a_34, b_34) = ( 0.7390851085365284,  0.7390851383097470)\n",
      "(a_35, b_35) = ( 0.7390851234231377,  0.7390851383097470)\n",
      "(a_36, b_36) = ( 0.7390851308664423,  0.7390851383097470)\n",
      "(a_37, b_37) = ( 0.7390851308664423,  0.7390851345880947)\n",
      "(a_38, b_38) = ( 0.7390851327272685,  0.7390851345880947)\n",
      "(a_39, b_39) = ( 0.7390851327272685,  0.7390851336576816)\n",
      "(a_40, b_40) = ( 0.7390851331924750,  0.7390851336576816)\n",
      "(a_41, b_41) = ( 0.7390851331924750,  0.7390851334250783)\n",
      "(a_42, b_42) = ( 0.7390851331924750,  0.7390851333087767)\n",
      "(a_43, b_43) = ( 0.7390851331924750,  0.7390851332506259)\n",
      "(a_44, b_44) = ( 0.7390851331924750,  0.7390851332215504)\n",
      "(a_45, b_45) = ( 0.7390851332070127,  0.7390851332215504)\n",
      "(a_46, b_46) = ( 0.7390851332142816,  0.7390851332215504)\n",
      "(a_47, b_47) = ( 0.7390851332142816,  0.7390851332179160)\n",
      "(a_48, b_48) = ( 0.7390851332142816,  0.7390851332160988)\n",
      "(a_49, b_49) = ( 0.7390851332142816,  0.7390851332151902)\n",
      "(a_50, b_50) = ( 0.7390851332147359,  0.7390851332151902)\n",
      "(a_51, b_51) = ( 0.7390851332149631,  0.7390851332151902)\n",
      "(a_52, b_52) = ( 0.7390851332150766,  0.7390851332151902)\n",
      "(a_53, b_53) = ( 0.7390851332151334,  0.7390851332151902)\n",
      "(a_54, b_54) = ( 0.7390851332151334,  0.7390851332151618)\n",
      "(a_55, b_55) = ( 0.7390851332151476,  0.7390851332151618)\n",
      "(a_56, b_56) = ( 0.7390851332151547,  0.7390851332151618)\n",
      "(a_57, b_57) = ( 0.7390851332151582,  0.7390851332151618)\n",
      "(a_58, b_58) = ( 0.7390851332151600,  0.7390851332151618)\n",
      "(a_59, b_59) = ( 0.7390851332151600,  0.7390851332151609)\n",
      "(a_60, b_60) = ( 0.7390851332151605,  0.7390851332151609)\n",
      "\n"
     ]
    },
    {
     "data": {
      "text/plain": [
       "0.7390851332151607"
      ]
     },
     "execution_count": 4,
     "metadata": {},
     "output_type": "execute_result"
    }
   ],
   "source": [
    "x = find_zero(f, (0, 1),verbose=true)  "
   ]
  },
  {
   "cell_type": "code",
   "execution_count": 5,
   "metadata": {},
   "outputs": [
    {
     "name": "stdout",
     "output_type": "stream",
     "text": [
      "Results of univariate zero finding:\n",
      "\n",
      "* Converged to: 0.7390851332151609\n",
      "* Algorithm: Roots.BisectionExact()\n",
      "* iterations: 60\n",
      "* function evaluations: 62\n",
      "* stopped as x_n ≈ x_{n-1} using atol=xatol, rtol=xrtol\n",
      "* stopped as |f(x_n)| ≤ max(δ, max(1,|x|)⋅ϵ) using δ = atol, ϵ = rtol\n",
      "\n",
      "Trace:\n",
      "(a_0, b_0) = ( 0.0000000000000000,  1.0000000000000000)\n",
      "(a_1, b_1) = ( 0.0000000000000000,  1.0000000000000000)\n",
      "(a_2, b_2) = ( 0.0000000000000000,  1.0000000000000000)\n",
      "(a_3, b_3) = ( 0.0000000000000000,  1.0000000000000000)\n",
      "(a_4, b_4) = ( 0.0000000000000000,  1.0000000000000000)\n",
      "(a_5, b_5) = ( 0.0000000002401066,  1.0000000000000000)\n",
      "(a_6, b_6) = ( 0.0000154972076416,  1.0000000000000000)\n",
      "(a_7, b_7) = ( 0.0039367675781250,  1.0000000000000000)\n",
      "(a_8, b_8) = ( 0.0627441406250000,  1.0000000000000000)\n",
      "(a_9, b_9) = ( 0.2504882812500000,  1.0000000000000000)\n",
      "(a_10, b_10) = ( 0.5004882812500000,  1.0000000000000000)\n",
      "(a_11, b_11) = ( 0.5004882812500000,  0.7502441406250000)\n",
      "(a_12, b_12) = ( 0.6253662109375000,  0.7502441406250000)\n",
      "(a_13, b_13) = ( 0.6878051757812500,  0.7502441406250000)\n",
      "(a_14, b_14) = ( 0.7190246582031250,  0.7502441406250000)\n",
      "(a_15, b_15) = ( 0.7346343994140625,  0.7502441406250000)\n",
      "(a_16, b_16) = ( 0.7346343994140625,  0.7424392700195313)\n",
      "(a_17, b_17) = ( 0.7385368347167969,  0.7424392700195313)\n",
      "(a_18, b_18) = ( 0.7385368347167969,  0.7404880523681641)\n",
      "(a_19, b_19) = ( 0.7385368347167969,  0.7395124435424805)\n",
      "(a_20, b_20) = ( 0.7390246391296387,  0.7395124435424805)\n",
      "(a_21, b_21) = ( 0.7390246391296387,  0.7392685413360596)\n",
      "(a_22, b_22) = ( 0.7390246391296387,  0.7391465902328491)\n",
      "(a_23, b_23) = ( 0.7390246391296387,  0.7390856146812439)\n",
      "(a_24, b_24) = ( 0.7390551269054413,  0.7390856146812439)\n",
      "(a_25, b_25) = ( 0.7390703707933426,  0.7390856146812439)\n",
      "(a_26, b_26) = ( 0.7390779927372932,  0.7390856146812439)\n",
      "(a_27, b_27) = ( 0.7390818037092686,  0.7390856146812439)\n",
      "(a_28, b_28) = ( 0.7390837091952562,  0.7390856146812439)\n",
      "(a_29, b_29) = ( 0.7390846619382501,  0.7390856146812439)\n",
      "(a_30, b_30) = ( 0.7390846619382501,  0.7390851383097470)\n",
      "(a_31, b_31) = ( 0.7390849001239985,  0.7390851383097470)\n",
      "(a_32, b_32) = ( 0.7390850192168728,  0.7390851383097470)\n",
      "(a_33, b_33) = ( 0.7390850787633099,  0.7390851383097470)\n",
      "(a_34, b_34) = ( 0.7390851085365284,  0.7390851383097470)\n",
      "(a_35, b_35) = ( 0.7390851234231377,  0.7390851383097470)\n",
      "(a_36, b_36) = ( 0.7390851308664423,  0.7390851383097470)\n",
      "(a_37, b_37) = ( 0.7390851308664423,  0.7390851345880947)\n",
      "(a_38, b_38) = ( 0.7390851327272685,  0.7390851345880947)\n",
      "(a_39, b_39) = ( 0.7390851327272685,  0.7390851336576816)\n",
      "(a_40, b_40) = ( 0.7390851331924750,  0.7390851336576816)\n",
      "(a_41, b_41) = ( 0.7390851331924750,  0.7390851334250783)\n",
      "(a_42, b_42) = ( 0.7390851331924750,  0.7390851333087767)\n",
      "(a_43, b_43) = ( 0.7390851331924750,  0.7390851332506259)\n",
      "(a_44, b_44) = ( 0.7390851331924750,  0.7390851332215504)\n",
      "(a_45, b_45) = ( 0.7390851332070127,  0.7390851332215504)\n",
      "(a_46, b_46) = ( 0.7390851332142816,  0.7390851332215504)\n",
      "(a_47, b_47) = ( 0.7390851332142816,  0.7390851332179160)\n",
      "(a_48, b_48) = ( 0.7390851332142816,  0.7390851332160988)\n",
      "(a_49, b_49) = ( 0.7390851332142816,  0.7390851332151902)\n",
      "(a_50, b_50) = ( 0.7390851332147359,  0.7390851332151902)\n",
      "(a_51, b_51) = ( 0.7390851332149631,  0.7390851332151902)\n",
      "(a_52, b_52) = ( 0.7390851332150766,  0.7390851332151902)\n",
      "(a_53, b_53) = ( 0.7390851332151334,  0.7390851332151902)\n",
      "(a_54, b_54) = ( 0.7390851332151334,  0.7390851332151618)\n",
      "(a_55, b_55) = ( 0.7390851332151476,  0.7390851332151618)\n",
      "(a_56, b_56) = ( 0.7390851332151547,  0.7390851332151618)\n",
      "(a_57, b_57) = ( 0.7390851332151582,  0.7390851332151618)\n",
      "(a_58, b_58) = ( 0.7390851332151600,  0.7390851332151618)\n",
      "(a_59, b_59) = ( 0.7390851332151600,  0.7390851332151609)\n",
      "(a_60, b_60) = ( 0.7390851332151605,  0.7390851332151609)\n",
      "\n"
     ]
    },
    {
     "data": {
      "text/plain": [
       "0.7390851332151607"
      ]
     },
     "execution_count": 5,
     "metadata": {},
     "output_type": "execute_result"
    }
   ],
   "source": [
    "# mozna wyspecyfikowac wprost\n",
    "x = find_zero(f, (0, 1), Bisection(),verbose=true)  "
   ]
  },
  {
   "cell_type": "markdown",
   "metadata": {},
   "source": [
    "#### Sprawdzanie, czy znaleźliśmy 0"
   ]
  },
  {
   "cell_type": "code",
   "execution_count": 6,
   "metadata": {},
   "outputs": [
    {
     "data": {
      "text/plain": [
       "true"
      ]
     },
     "execution_count": 6,
     "metadata": {},
     "output_type": "execute_result"
    }
   ],
   "source": [
    "#Sprawdzamy czy znaleźliśmy 0\n",
    "iszero(f(x))"
   ]
  },
  {
   "cell_type": "code",
   "execution_count": 7,
   "metadata": {},
   "outputs": [
    {
     "data": {
      "text/plain": [
       "-1.0"
      ]
     },
     "execution_count": 7,
     "metadata": {},
     "output_type": "execute_result"
    }
   ],
   "source": [
    "# można też sprawdzić, czy funkcja zmienia znak dla lewego i prawego sąsiada miejsca zerowego.\n",
    "sign(f(prevfloat(x))) *sign(f(nextfloat(x))) "
   ]
  },
  {
   "cell_type": "code",
   "execution_count": 8,
   "metadata": {},
   "outputs": [
    {
     "data": {
      "text/plain": [
       "(3.1415926535897936, -3.216245299353273e-16)"
      ]
     },
     "execution_count": 8,
     "metadata": {},
     "output_type": "execute_result"
    }
   ],
   "source": [
    "# czasem algorytm znajduje najlepsze przybliżenie 0\n",
    "g(x) = sin(x)\n",
    "x = find_zero(g, (pi/2, 3pi/2))\n",
    "x, g(x)"
   ]
  },
  {
   "cell_type": "code",
   "execution_count": 9,
   "metadata": {},
   "outputs": [
    {
     "data": {
      "text/plain": [
       "false"
      ]
     },
     "execution_count": 9,
     "metadata": {},
     "output_type": "execute_result"
    }
   ],
   "source": [
    "# nie jest to dokładnie 0, ale ...\n",
    "iszero(g(x))"
   ]
  },
  {
   "cell_type": "code",
   "execution_count": 10,
   "metadata": {},
   "outputs": [
    {
     "data": {
      "text/plain": [
       "true"
      ]
     },
     "execution_count": 10,
     "metadata": {},
     "output_type": "execute_result"
    }
   ],
   "source": [
    "#... najbliższy lewy albo prawy sąsiad leży po przeciwnej stronie osi x  niż nasze 0.\n",
    "g(prevfloat(x)) * g(x) < 0.0 || g(x) * g(nextfloat(x)) < 0.0"
   ]
  },
  {
   "cell_type": "markdown",
   "metadata": {},
   "source": [
    "#### 1.2 Metoda regula falsi"
   ]
  },
  {
   "cell_type": "code",
   "execution_count": 11,
   "metadata": {},
   "outputs": [
    {
     "name": "stdout",
     "output_type": "stream",
     "text": [
      "Results of univariate zero finding:\n",
      "\n",
      "* Converged to: 0.7390851332151607\n",
      "* Algorithm: FalsePosition{:anderson_bjork}()\n",
      "* iterations: 6\n",
      "* function evaluations: 8\n",
      "* stopped as |f(x_n)| ≤ max(δ, max(1,|x|)⋅ϵ) using δ = atol, ϵ = rtol\n",
      "\n",
      "Trace:\n",
      "(a_0, b_0) = ( 0.0000000000000000,  1.0000000000000000)\n",
      "(a_1, b_1) = ( 1.0000000000000000,  0.6850733573260451)\n",
      "(a_2, b_2) = ( 1.0000000000000000,  0.7362989976136540)\n",
      "(a_3, b_3) = ( 0.7362989976136540,  0.7390895164441823)\n",
      "(a_4, b_4) = ( 0.7390895164441823,  0.7390851305146882)\n",
      "(a_5, b_5) = ( 0.7390895164441823,  0.7390851332151580)\n",
      "(a_6, b_6) = ( 0.7390895164441823,  0.7390851332151607)\n",
      "\n"
     ]
    },
    {
     "data": {
      "text/plain": [
       "0.7390851332151607"
      ]
     },
     "execution_count": 11,
     "metadata": {},
     "output_type": "execute_result"
    }
   ],
   "source": [
    "find_zero(f, (0, 1), FalsePosition(), verbose=true) "
   ]
  },
  {
   "cell_type": "code",
   "execution_count": 12,
   "metadata": {},
   "outputs": [
    {
     "name": "stdout",
     "output_type": "stream",
     "text": [
      "Results of univariate zero finding:\n",
      "\n",
      "* Converged to: 0.7390851332151607\n",
      "* Algorithm: FalsePosition{12}()\n",
      "* iterations: 6\n",
      "* function evaluations: 8\n",
      "* stopped as |f(x_n)| ≤ max(δ, max(1,|x|)⋅ϵ) using δ = atol, ϵ = rtol\n",
      "\n",
      "Trace:\n",
      "(a_0, b_0) = ( 0.0000000000000000,  1.0000000000000000)\n",
      "(a_1, b_1) = ( 1.0000000000000000,  0.6850733573260451)\n",
      "(a_2, b_2) = ( 1.0000000000000000,  0.7362989976136540)\n",
      "(a_3, b_3) = ( 0.7362989976136540,  0.7390895164441823)\n",
      "(a_4, b_4) = ( 0.7390895164441823,  0.7390851305146882)\n",
      "(a_5, b_5) = ( 0.7390895164441823,  0.7390851332151580)\n",
      "(a_6, b_6) = ( 0.7390895164441823,  0.7390851332151607)\n",
      "\n"
     ]
    },
    {
     "data": {
      "text/plain": [
       "0.7390851332151607"
      ]
     },
     "execution_count": 12,
     "metadata": {},
     "output_type": "execute_result"
    }
   ],
   "source": [
    "# do dyspozycji mamy  12 wersji algorytmu regula falsi\n",
    "find_zero(f, (0, 1), FalsePosition(12), verbose=true)"
   ]
  },
  {
   "cell_type": "markdown",
   "metadata": {},
   "source": [
    "### 2. Metody korzytające z pochodnych\n",
    "\n",
    "#### 2.1 Metoda Newtona, potrzebuje punktu startowego i wykorzystuje pochodną funkcji."
   ]
  },
  {
   "cell_type": "markdown",
   "metadata": {},
   "source": [
    "Aby użyć Metody Newtona, można skorzystać z pakietu ForwardDiff, aby obliczyć pochodną funkcji. "
   ]
  },
  {
   "cell_type": "code",
   "execution_count": 13,
   "metadata": {},
   "outputs": [
    {
     "data": {
      "text/plain": [
       "D (generic function with 1 method)"
      ]
     },
     "execution_count": 13,
     "metadata": {},
     "output_type": "execute_result"
    }
   ],
   "source": [
    "# definujemy D(f) obliczającą  funkcje pochodną \n",
    "D(f) = x->ForwardDiff.derivative(f, float(x))"
   ]
  },
  {
   "cell_type": "code",
   "execution_count": 14,
   "metadata": {},
   "outputs": [
    {
     "data": {
      "image/svg+xml": [
       "<?xml version=\"1.0\" encoding=\"utf-8\"?>\n",
       "<svg xmlns=\"http://www.w3.org/2000/svg\" xmlns:xlink=\"http://www.w3.org/1999/xlink\" width=\"600\" height=\"400\" viewBox=\"0 0 2400 1600\">\n",
       "<defs>\n",
       "  <clipPath id=\"clip350\">\n",
       "    <rect x=\"0\" y=\"0\" width=\"2400\" height=\"1600\"/>\n",
       "  </clipPath>\n",
       "</defs>\n",
       "<path clip-path=\"url(#clip350)\" d=\"\n",
       "M0 1600 L2400 1600 L2400 0 L0 0  Z\n",
       "  \" fill=\"#ffffff\" fill-rule=\"evenodd\" fill-opacity=\"1\"/>\n",
       "<defs>\n",
       "  <clipPath id=\"clip351\">\n",
       "    <rect x=\"480\" y=\"0\" width=\"1681\" height=\"1600\"/>\n",
       "  </clipPath>\n",
       "</defs>\n",
       "<path clip-path=\"url(#clip350)\" d=\"\n",
       "M179.654 1486.45 L2352.76 1486.45 L2352.76 47.2441 L179.654 47.2441  Z\n",
       "  \" fill=\"#ffffff\" fill-rule=\"evenodd\" fill-opacity=\"1\"/>\n",
       "<defs>\n",
       "  <clipPath id=\"clip352\">\n",
       "    <rect x=\"179\" y=\"47\" width=\"2174\" height=\"1440\"/>\n",
       "  </clipPath>\n",
       "</defs>\n",
       "<polyline clip-path=\"url(#clip352)\" style=\"stroke:#000000; stroke-width:2; stroke-opacity:0.1; fill:none\" points=\"\n",
       "  241.157,1486.45 241.157,47.2441 \n",
       "  \"/>\n",
       "<polyline clip-path=\"url(#clip352)\" style=\"stroke:#000000; stroke-width:2; stroke-opacity:0.1; fill:none\" points=\"\n",
       "  753.681,1486.45 753.681,47.2441 \n",
       "  \"/>\n",
       "<polyline clip-path=\"url(#clip352)\" style=\"stroke:#000000; stroke-width:2; stroke-opacity:0.1; fill:none\" points=\"\n",
       "  1266.2,1486.45 1266.2,47.2441 \n",
       "  \"/>\n",
       "<polyline clip-path=\"url(#clip352)\" style=\"stroke:#000000; stroke-width:2; stroke-opacity:0.1; fill:none\" points=\"\n",
       "  1778.73,1486.45 1778.73,47.2441 \n",
       "  \"/>\n",
       "<polyline clip-path=\"url(#clip352)\" style=\"stroke:#000000; stroke-width:2; stroke-opacity:0.1; fill:none\" points=\"\n",
       "  2291.25,1486.45 2291.25,47.2441 \n",
       "  \"/>\n",
       "<polyline clip-path=\"url(#clip350)\" style=\"stroke:#000000; stroke-width:4; stroke-opacity:1; fill:none\" points=\"\n",
       "  179.654,1486.45 2352.76,1486.45 \n",
       "  \"/>\n",
       "<polyline clip-path=\"url(#clip350)\" style=\"stroke:#000000; stroke-width:4; stroke-opacity:1; fill:none\" points=\"\n",
       "  241.157,1486.45 241.157,1469.18 \n",
       "  \"/>\n",
       "<polyline clip-path=\"url(#clip350)\" style=\"stroke:#000000; stroke-width:4; stroke-opacity:1; fill:none\" points=\"\n",
       "  753.681,1486.45 753.681,1469.18 \n",
       "  \"/>\n",
       "<polyline clip-path=\"url(#clip350)\" style=\"stroke:#000000; stroke-width:4; stroke-opacity:1; fill:none\" points=\"\n",
       "  1266.2,1486.45 1266.2,1469.18 \n",
       "  \"/>\n",
       "<polyline clip-path=\"url(#clip350)\" style=\"stroke:#000000; stroke-width:4; stroke-opacity:1; fill:none\" points=\"\n",
       "  1778.73,1486.45 1778.73,1469.18 \n",
       "  \"/>\n",
       "<polyline clip-path=\"url(#clip350)\" style=\"stroke:#000000; stroke-width:4; stroke-opacity:1; fill:none\" points=\"\n",
       "  2291.25,1486.45 2291.25,1469.18 \n",
       "  \"/>\n",
       "<path clip-path=\"url(#clip350)\" d=\"M 0 0 M213.61 1530.29 L243.286 1530.29 L243.286 1534.23 L213.61 1534.23 L213.61 1530.29 Z\" fill=\"#000000\" fill-rule=\"evenodd\" fill-opacity=\"1\" /><path clip-path=\"url(#clip350)\" d=\"M 0 0 M252.383 1543.18 L268.703 1543.18 L268.703 1547.12 L246.758 1547.12 L246.758 1543.18 Q249.42 1540.43 254.004 1535.8 Q258.61 1531.15 259.791 1529.81 Q262.036 1527.28 262.916 1525.55 Q263.818 1523.79 263.818 1522.1 Q263.818 1519.34 261.874 1517.61 Q259.953 1515.87 256.851 1515.87 Q254.652 1515.87 252.198 1516.63 Q249.768 1517.4 246.99 1518.95 L246.99 1514.23 Q249.814 1513.09 252.268 1512.51 Q254.721 1511.93 256.758 1511.93 Q262.129 1511.93 265.323 1514.62 Q268.518 1517.31 268.518 1521.8 Q268.518 1523.93 267.707 1525.85 Q266.92 1527.74 264.814 1530.34 Q264.235 1531.01 261.133 1534.23 Q258.031 1537.42 252.383 1543.18 Z\" fill=\"#000000\" fill-rule=\"evenodd\" fill-opacity=\"1\" /><path clip-path=\"url(#clip350)\" d=\"M 0 0 M725.949 1530.29 L755.625 1530.29 L755.625 1534.23 L725.949 1534.23 L725.949 1530.29 Z\" fill=\"#000000\" fill-rule=\"evenodd\" fill-opacity=\"1\" /><path clip-path=\"url(#clip350)\" d=\"M 0 0 M761.505 1543.18 L769.144 1543.18 L769.144 1516.82 L760.833 1518.49 L760.833 1514.23 L769.097 1512.56 L773.773 1512.56 L773.773 1543.18 L781.412 1543.18 L781.412 1547.12 L761.505 1547.12 L761.505 1543.18 Z\" fill=\"#000000\" fill-rule=\"evenodd\" fill-opacity=\"1\" /><path clip-path=\"url(#clip350)\" d=\"M 0 0 M1266.2 1515.64 Q1262.59 1515.64 1260.77 1519.2 Q1258.96 1522.75 1258.96 1529.87 Q1258.96 1536.98 1260.77 1540.55 Q1262.59 1544.09 1266.2 1544.09 Q1269.84 1544.09 1271.64 1540.55 Q1273.47 1536.98 1273.47 1529.87 Q1273.47 1522.75 1271.64 1519.2 Q1269.84 1515.64 1266.2 1515.64 M1266.2 1511.93 Q1272.01 1511.93 1275.07 1516.54 Q1278.15 1521.12 1278.15 1529.87 Q1278.15 1538.6 1275.07 1543.21 Q1272.01 1547.79 1266.2 1547.79 Q1260.39 1547.79 1257.32 1543.21 Q1254.26 1538.6 1254.26 1529.87 Q1254.26 1521.12 1257.32 1516.54 Q1260.39 1511.93 1266.2 1511.93 Z\" fill=\"#000000\" fill-rule=\"evenodd\" fill-opacity=\"1\" /><path clip-path=\"url(#clip350)\" d=\"M 0 0 M1769.11 1543.18 L1776.75 1543.18 L1776.75 1516.82 L1768.44 1518.49 L1768.44 1514.23 L1776.7 1512.56 L1781.38 1512.56 L1781.38 1543.18 L1789.02 1543.18 L1789.02 1547.12 L1769.11 1547.12 L1769.11 1543.18 Z\" fill=\"#000000\" fill-rule=\"evenodd\" fill-opacity=\"1\" /><path clip-path=\"url(#clip350)\" d=\"M 0 0 M2285.91 1543.18 L2302.23 1543.18 L2302.23 1547.12 L2280.28 1547.12 L2280.28 1543.18 Q2282.94 1540.43 2287.53 1535.8 Q2292.13 1531.15 2293.31 1529.81 Q2295.56 1527.28 2296.44 1525.55 Q2297.34 1523.79 2297.34 1522.1 Q2297.34 1519.34 2295.4 1517.61 Q2293.48 1515.87 2290.37 1515.87 Q2288.17 1515.87 2285.72 1516.63 Q2283.29 1517.4 2280.51 1518.95 L2280.51 1514.23 Q2283.34 1513.09 2285.79 1512.51 Q2288.24 1511.93 2290.28 1511.93 Q2295.65 1511.93 2298.85 1514.62 Q2302.04 1517.31 2302.04 1521.8 Q2302.04 1523.93 2301.23 1525.85 Q2300.44 1527.74 2298.34 1530.34 Q2297.76 1531.01 2294.66 1534.23 Q2291.55 1537.42 2285.91 1543.18 Z\" fill=\"#000000\" fill-rule=\"evenodd\" fill-opacity=\"1\" /><polyline clip-path=\"url(#clip352)\" style=\"stroke:#000000; stroke-width:2; stroke-opacity:0.1; fill:none\" points=\"\n",
       "  179.654,1446.5 2352.76,1446.5 \n",
       "  \"/>\n",
       "<polyline clip-path=\"url(#clip352)\" style=\"stroke:#000000; stroke-width:2; stroke-opacity:0.1; fill:none\" points=\"\n",
       "  179.654,1106.8 2352.76,1106.8 \n",
       "  \"/>\n",
       "<polyline clip-path=\"url(#clip352)\" style=\"stroke:#000000; stroke-width:2; stroke-opacity:0.1; fill:none\" points=\"\n",
       "  179.654,767.096 2352.76,767.096 \n",
       "  \"/>\n",
       "<polyline clip-path=\"url(#clip352)\" style=\"stroke:#000000; stroke-width:2; stroke-opacity:0.1; fill:none\" points=\"\n",
       "  179.654,427.394 2352.76,427.394 \n",
       "  \"/>\n",
       "<polyline clip-path=\"url(#clip352)\" style=\"stroke:#000000; stroke-width:2; stroke-opacity:0.1; fill:none\" points=\"\n",
       "  179.654,87.6917 2352.76,87.6917 \n",
       "  \"/>\n",
       "<polyline clip-path=\"url(#clip350)\" style=\"stroke:#000000; stroke-width:4; stroke-opacity:1; fill:none\" points=\"\n",
       "  179.654,1486.45 179.654,47.2441 \n",
       "  \"/>\n",
       "<polyline clip-path=\"url(#clip350)\" style=\"stroke:#000000; stroke-width:4; stroke-opacity:1; fill:none\" points=\"\n",
       "  179.654,1446.5 205.731,1446.5 \n",
       "  \"/>\n",
       "<polyline clip-path=\"url(#clip350)\" style=\"stroke:#000000; stroke-width:4; stroke-opacity:1; fill:none\" points=\"\n",
       "  179.654,1106.8 205.731,1106.8 \n",
       "  \"/>\n",
       "<polyline clip-path=\"url(#clip350)\" style=\"stroke:#000000; stroke-width:4; stroke-opacity:1; fill:none\" points=\"\n",
       "  179.654,767.096 205.731,767.096 \n",
       "  \"/>\n",
       "<polyline clip-path=\"url(#clip350)\" style=\"stroke:#000000; stroke-width:4; stroke-opacity:1; fill:none\" points=\"\n",
       "  179.654,427.394 205.731,427.394 \n",
       "  \"/>\n",
       "<polyline clip-path=\"url(#clip350)\" style=\"stroke:#000000; stroke-width:4; stroke-opacity:1; fill:none\" points=\"\n",
       "  179.654,87.6917 205.731,87.6917 \n",
       "  \"/>\n",
       "<path clip-path=\"url(#clip350)\" d=\"M 0 0 M51.594 1446.95 L81.2697 1446.95 L81.2697 1450.89 L51.594 1450.89 L51.594 1446.95 Z\" fill=\"#000000\" fill-rule=\"evenodd\" fill-opacity=\"1\" /><path clip-path=\"url(#clip350)\" d=\"M 0 0 M90.3669 1459.84 L106.686 1459.84 L106.686 1463.78 L84.7419 1463.78 L84.7419 1459.84 Q87.404 1457.09 91.9873 1452.46 Q96.5937 1447.81 97.7743 1446.46 Q100.02 1443.94 100.899 1442.21 Q101.802 1440.45 101.802 1438.76 Q101.802 1436 99.8576 1434.27 Q97.9363 1432.53 94.8345 1432.53 Q92.6354 1432.53 90.1817 1433.29 Q87.7512 1434.06 84.9734 1435.61 L84.9734 1430.89 Q87.7975 1429.75 90.2512 1429.17 Q92.7049 1428.59 94.7419 1428.59 Q100.112 1428.59 103.307 1431.28 Q106.501 1433.96 106.501 1438.46 Q106.501 1440.59 105.691 1442.51 Q104.904 1444.4 102.797 1447 Q102.219 1447.67 99.1169 1450.89 Q96.015 1454.08 90.3669 1459.84 Z\" fill=\"#000000\" fill-rule=\"evenodd\" fill-opacity=\"1\" /><path clip-path=\"url(#clip350)\" d=\"M 0 0 M111.756 1457.9 L116.64 1457.9 L116.64 1463.78 L111.756 1463.78 L111.756 1457.9 Z\" fill=\"#000000\" fill-rule=\"evenodd\" fill-opacity=\"1\" /><path clip-path=\"url(#clip350)\" d=\"M 0 0 M131.709 1432.3 Q128.098 1432.3 126.27 1435.86 Q124.464 1439.4 124.464 1446.53 Q124.464 1453.64 126.27 1457.21 Q128.098 1460.75 131.709 1460.75 Q135.344 1460.75 137.149 1457.21 Q138.978 1453.64 138.978 1446.53 Q138.978 1439.4 137.149 1435.86 Q135.344 1432.3 131.709 1432.3 M131.709 1428.59 Q137.519 1428.59 140.575 1433.2 Q143.654 1437.78 143.654 1446.53 Q143.654 1455.26 140.575 1459.87 Q137.519 1464.45 131.709 1464.45 Q125.899 1464.45 122.82 1459.87 Q119.765 1455.26 119.765 1446.53 Q119.765 1437.78 122.82 1433.2 Q125.899 1428.59 131.709 1428.59 Z\" fill=\"#000000\" fill-rule=\"evenodd\" fill-opacity=\"1\" /><path clip-path=\"url(#clip350)\" d=\"M 0 0 M52.219 1107.25 L81.8947 1107.25 L81.8947 1111.18 L52.219 1111.18 L52.219 1107.25 Z\" fill=\"#000000\" fill-rule=\"evenodd\" fill-opacity=\"1\" /><path clip-path=\"url(#clip350)\" d=\"M 0 0 M87.7743 1120.14 L95.4132 1120.14 L95.4132 1093.78 L87.103 1095.44 L87.103 1091.18 L95.3669 1089.52 L100.043 1089.52 L100.043 1120.14 L107.682 1120.14 L107.682 1124.08 L87.7743 1124.08 L87.7743 1120.14 Z\" fill=\"#000000\" fill-rule=\"evenodd\" fill-opacity=\"1\" /><path clip-path=\"url(#clip350)\" d=\"M 0 0 M112.751 1118.2 L117.635 1118.2 L117.635 1124.08 L112.751 1124.08 L112.751 1118.2 Z\" fill=\"#000000\" fill-rule=\"evenodd\" fill-opacity=\"1\" /><path clip-path=\"url(#clip350)\" d=\"M 0 0 M122.751 1089.52 L141.107 1089.52 L141.107 1093.45 L127.033 1093.45 L127.033 1101.92 Q128.052 1101.58 129.07 1101.42 Q130.089 1101.23 131.107 1101.23 Q136.894 1101.23 140.274 1104.4 Q143.654 1107.57 143.654 1112.99 Q143.654 1118.57 140.181 1121.67 Q136.709 1124.75 130.39 1124.75 Q128.214 1124.75 125.945 1124.38 Q123.7 1124.01 121.293 1123.27 L121.293 1118.57 Q123.376 1119.7 125.598 1120.26 Q127.82 1120.81 130.297 1120.81 Q134.302 1120.81 136.64 1118.71 Q138.978 1116.6 138.978 1112.99 Q138.978 1109.38 136.64 1107.27 Q134.302 1105.17 130.297 1105.17 Q128.422 1105.17 126.547 1105.58 Q124.695 1106 122.751 1106.88 L122.751 1089.52 Z\" fill=\"#000000\" fill-rule=\"evenodd\" fill-opacity=\"1\" /><path clip-path=\"url(#clip350)\" d=\"M 0 0 M51.2236 767.547 L80.8994 767.547 L80.8994 771.482 L51.2236 771.482 L51.2236 767.547 Z\" fill=\"#000000\" fill-rule=\"evenodd\" fill-opacity=\"1\" /><path clip-path=\"url(#clip350)\" d=\"M 0 0 M86.779 780.44 L94.4178 780.44 L94.4178 754.075 L86.1077 755.741 L86.1077 751.482 L94.3715 749.816 L99.0474 749.816 L99.0474 780.44 L106.686 780.44 L106.686 784.376 L86.779 784.376 L86.779 780.44 Z\" fill=\"#000000\" fill-rule=\"evenodd\" fill-opacity=\"1\" /><path clip-path=\"url(#clip350)\" d=\"M 0 0 M111.756 778.496 L116.64 778.496 L116.64 784.376 L111.756 784.376 L111.756 778.496 Z\" fill=\"#000000\" fill-rule=\"evenodd\" fill-opacity=\"1\" /><path clip-path=\"url(#clip350)\" d=\"M 0 0 M131.709 752.894 Q128.098 752.894 126.27 756.459 Q124.464 760.001 124.464 767.13 Q124.464 774.237 126.27 777.802 Q128.098 781.343 131.709 781.343 Q135.344 781.343 137.149 777.802 Q138.978 774.237 138.978 767.13 Q138.978 760.001 137.149 756.459 Q135.344 752.894 131.709 752.894 M131.709 749.191 Q137.519 749.191 140.575 753.797 Q143.654 758.38 143.654 767.13 Q143.654 775.857 140.575 780.464 Q137.519 785.047 131.709 785.047 Q125.899 785.047 122.82 780.464 Q119.765 775.857 119.765 767.13 Q119.765 758.38 122.82 753.797 Q125.899 749.191 131.709 749.191 Z\" fill=\"#000000\" fill-rule=\"evenodd\" fill-opacity=\"1\" /><path clip-path=\"url(#clip350)\" d=\"M 0 0 M50.9921 427.845 L80.6679 427.845 L80.6679 431.78 L50.9921 431.78 L50.9921 427.845 Z\" fill=\"#000000\" fill-rule=\"evenodd\" fill-opacity=\"1\" /><path clip-path=\"url(#clip350)\" d=\"M 0 0 M95.7373 413.192 Q92.1262 413.192 90.2975 416.757 Q88.4919 420.299 88.4919 427.428 Q88.4919 434.535 90.2975 438.1 Q92.1262 441.641 95.7373 441.641 Q99.3715 441.641 101.177 438.1 Q103.006 434.535 103.006 427.428 Q103.006 420.299 101.177 416.757 Q99.3715 413.192 95.7373 413.192 M95.7373 409.489 Q101.547 409.489 104.603 414.095 Q107.682 418.678 107.682 427.428 Q107.682 436.155 104.603 440.762 Q101.547 445.345 95.7373 445.345 Q89.9271 445.345 86.8484 440.762 Q83.7929 436.155 83.7929 427.428 Q83.7929 418.678 86.8484 414.095 Q89.9271 409.489 95.7373 409.489 Z\" fill=\"#000000\" fill-rule=\"evenodd\" fill-opacity=\"1\" /><path clip-path=\"url(#clip350)\" d=\"M 0 0 M112.751 438.794 L117.635 438.794 L117.635 444.674 L112.751 444.674 L112.751 438.794 Z\" fill=\"#000000\" fill-rule=\"evenodd\" fill-opacity=\"1\" /><path clip-path=\"url(#clip350)\" d=\"M 0 0 M122.751 410.114 L141.107 410.114 L141.107 414.049 L127.033 414.049 L127.033 422.521 Q128.052 422.174 129.07 422.012 Q130.089 421.827 131.107 421.827 Q136.894 421.827 140.274 424.998 Q143.654 428.169 143.654 433.586 Q143.654 439.164 140.181 442.266 Q136.709 445.345 130.39 445.345 Q128.214 445.345 125.945 444.975 Q123.7 444.604 121.293 443.863 L121.293 439.164 Q123.376 440.299 125.598 440.854 Q127.82 441.41 130.297 441.41 Q134.302 441.41 136.64 439.303 Q138.978 437.197 138.978 433.586 Q138.978 429.975 136.64 427.868 Q134.302 425.762 130.297 425.762 Q128.422 425.762 126.547 426.178 Q124.695 426.595 122.751 427.475 L122.751 410.114 Z\" fill=\"#000000\" fill-rule=\"evenodd\" fill-opacity=\"1\" /><path clip-path=\"url(#clip350)\" d=\"M 0 0 M94.7419 73.4904 Q91.1308 73.4904 89.3021 77.0552 Q87.4966 80.5968 87.4966 87.7264 Q87.4966 94.8329 89.3021 98.3977 Q91.1308 101.939 94.7419 101.939 Q98.3761 101.939 100.182 98.3977 Q102.01 94.8329 102.01 87.7264 Q102.01 80.5968 100.182 77.0552 Q98.3761 73.4904 94.7419 73.4904 M94.7419 69.7867 Q100.552 69.7867 103.608 74.3932 Q106.686 78.9765 106.686 87.7264 Q106.686 96.4532 103.608 101.06 Q100.552 105.643 94.7419 105.643 Q88.9317 105.643 85.8531 101.06 Q82.7975 96.4532 82.7975 87.7264 Q82.7975 78.9765 85.8531 74.3932 Q88.9317 69.7867 94.7419 69.7867 Z\" fill=\"#000000\" fill-rule=\"evenodd\" fill-opacity=\"1\" /><path clip-path=\"url(#clip350)\" d=\"M 0 0 M111.756 99.0921 L116.64 99.0921 L116.64 104.972 L111.756 104.972 L111.756 99.0921 Z\" fill=\"#000000\" fill-rule=\"evenodd\" fill-opacity=\"1\" /><path clip-path=\"url(#clip350)\" d=\"M 0 0 M131.709 73.4904 Q128.098 73.4904 126.27 77.0552 Q124.464 80.5968 124.464 87.7264 Q124.464 94.8329 126.27 98.3977 Q128.098 101.939 131.709 101.939 Q135.344 101.939 137.149 98.3977 Q138.978 94.8329 138.978 87.7264 Q138.978 80.5968 137.149 77.0552 Q135.344 73.4904 131.709 73.4904 M131.709 69.7867 Q137.519 69.7867 140.575 74.3932 Q143.654 78.9765 143.654 87.7264 Q143.654 96.4532 140.575 101.06 Q137.519 105.643 131.709 105.643 Q125.899 105.643 122.82 101.06 Q119.765 96.4532 119.765 87.7264 Q119.765 78.9765 122.82 74.3932 Q125.899 69.7867 131.709 69.7867 Z\" fill=\"#000000\" fill-rule=\"evenodd\" fill-opacity=\"1\" /><polyline clip-path=\"url(#clip352)\" style=\"stroke:#009af9; stroke-width:4; stroke-opacity:1; fill:none\" points=\"\n",
       "  241.157,149.315 251.167,143.911 261.177,138.745 353.738,102.553 446.299,87.9763 501.925,89.8423 557.55,99.6781 604.58,114.129 651.611,134.074 702.699,161.769 \n",
       "  753.787,195.473 800.886,231.582 847.985,272.21 948.975,372.915 1065.98,508.379 1169.96,640.266 1261.15,760.389 1360.56,891.467 1460.56,1018.61 1571.13,1147.88 \n",
       "  1676.33,1254.57 1731.03,1302.2 1785.72,1343.75 1831.76,1373.65 1877.8,1398.66 1934.01,1422.28 1990.22,1438.02 2043.06,1445.47 2095.9,1445.72 2180.55,1431.12 \n",
       "  2265.2,1398.44 2278.23,1391.86 2291.25,1384.88 \n",
       "  \"/>\n",
       "<path clip-path=\"url(#clip350)\" d=\"\n",
       "M1987.85 216.178 L2280.32 216.178 L2280.32 95.2176 L1987.85 95.2176  Z\n",
       "  \" fill=\"#ffffff\" fill-rule=\"evenodd\" fill-opacity=\"1\"/>\n",
       "<polyline clip-path=\"url(#clip350)\" style=\"stroke:#000000; stroke-width:4; stroke-opacity:1; fill:none\" points=\"\n",
       "  1987.85,216.178 2280.32,216.178 2280.32,95.2176 1987.85,95.2176 1987.85,216.178 \n",
       "  \"/>\n",
       "<polyline clip-path=\"url(#clip350)\" style=\"stroke:#009af9; stroke-width:4; stroke-opacity:1; fill:none\" points=\"\n",
       "  2011.99,155.698 2156.86,155.698 \n",
       "  \"/>\n",
       "<path clip-path=\"url(#clip350)\" d=\"M 0 0 M2194.85 175.385 Q2193.05 180.015 2191.33 181.427 Q2189.62 182.839 2186.75 182.839 L2183.35 182.839 L2183.35 179.274 L2185.85 179.274 Q2187.61 179.274 2188.58 178.44 Q2189.55 177.607 2190.73 174.505 L2191.5 172.561 L2181.01 147.052 L2185.52 147.052 L2193.63 167.329 L2201.73 147.052 L2206.24 147.052 L2194.85 175.385 Z\" fill=\"#000000\" fill-rule=\"evenodd\" fill-opacity=\"1\" /><path clip-path=\"url(#clip350)\" d=\"M 0 0 M2212.12 169.042 L2219.76 169.042 L2219.76 142.677 L2211.45 144.343 L2211.45 140.084 L2219.71 138.418 L2224.39 138.418 L2224.39 169.042 L2232.03 169.042 L2232.03 172.978 L2212.12 172.978 L2212.12 169.042 Z\" fill=\"#000000\" fill-rule=\"evenodd\" fill-opacity=\"1\" /></svg>\n"
      ]
     },
     "execution_count": 14,
     "metadata": {},
     "output_type": "execute_result"
    }
   ],
   "source": [
    "plot(D(f), -2,2)"
   ]
  },
  {
   "cell_type": "code",
   "execution_count": 15,
   "metadata": {},
   "outputs": [
    {
     "name": "stdout",
     "output_type": "stream",
     "text": [
      "Results of univariate zero finding:\n",
      "\n",
      "* Converged to: 0.7390851332151607\n",
      "* Algorithm: Roots.Newton()\n",
      "* iterations: 5\n",
      "* function evaluations: 11\n",
      "* stopped as |f(x_n)| ≤ max(δ, max(1,|x|)⋅ϵ) using δ = atol, ϵ = rtol\n",
      "\n",
      "Trace:\n",
      "x_0 =  0.0000000000000000,\t fx_0 =  1.0000000000000000\n",
      "x_1 =  1.0000000000000000,\t fx_1 = -0.4596976941318602\n",
      "x_2 =  0.7503638678402439,\t fx_2 = -0.0189230738221174\n",
      "x_3 =  0.7391128909113617,\t fx_3 = -0.0000464558989908\n",
      "x_4 =  0.7390851333852840,\t fx_4 = -0.0000000002847206\n",
      "x_5 =  0.7390851332151607,\t fx_5 =  0.0000000000000000\n",
      "\n"
     ]
    },
    {
     "data": {
      "text/plain": [
       "0.7390851332151607"
      ]
     },
     "execution_count": 15,
     "metadata": {},
     "output_type": "execute_result"
    }
   ],
   "source": [
    "#wywolanie metody Newtona\n",
    "find_zero((f, D(f)),0, Roots.Newton(),verbose=true)"
   ]
  },
  {
   "cell_type": "markdown",
   "metadata": {},
   "source": [
    "#### 2.2 Metoda Halleya (potrzebuje pierwszej i drugiej pochodnej)"
   ]
  },
  {
   "cell_type": "code",
   "execution_count": 16,
   "metadata": {},
   "outputs": [
    {
     "name": "stdout",
     "output_type": "stream",
     "text": [
      "Results of univariate zero finding:\n",
      "\n",
      "* Converged to: 0.7390851332151606\n",
      "* Algorithm: Roots.Halley()\n",
      "* iterations: 4\n",
      "* function evaluations: 15\n",
      "* stopped as |f(x_n)| ≤ max(δ, max(1,|x|)⋅ϵ) using δ = atol, ϵ = rtol\n",
      "\n",
      "Trace:\n",
      "x_0 =  0.0000000000000000,\t fx_0 =  1.0000000000000000\n",
      "x_1 =  0.6666666666666666,\t fx_1 =  0.1192205941102814\n",
      "x_2 =  0.7390392624463102,\t fx_2 =  0.0000767690929604\n",
      "x_3 =  0.7390851332151495,\t fx_3 =  0.0000000000000187\n",
      "x_4 =  0.7390851332151606,\t fx_4 =  0.0000000000000001\n",
      "\n"
     ]
    },
    {
     "data": {
      "text/plain": [
       "0.7390851332151606"
      ]
     },
     "execution_count": 16,
     "metadata": {},
     "output_type": "execute_result"
    }
   ],
   "source": [
    "DD(f) = x->ForwardDiff.derivative(D(f), float(x))\n",
    "find_zero((f, D(f), DD(f)), 0.0, Roots.Halley(), verbose=true) "
   ]
  },
  {
   "cell_type": "markdown",
   "metadata": {},
   "source": [
    "### 3. Metody korzystające z przybliżenia pochodnej"
   ]
  },
  {
   "cell_type": "markdown",
   "metadata": {},
   "source": [
    "#### 3.1 Domyślna metoda bazuje na metodzie z <a href=\"http://www.hpl.hp.com/hpjournal/pdfs/IssuePDFs/1979-12.pdf\"> kalkulatorów HP-34</a> , używa metody siecznych\n",
    "oraz metody bazującej na przedziale wg artykułu:\n",
    "\n",
    "<a href=\"http://na.math.kit.edu/alefeld/download/1995_Algorithm_748_Enclosing_Zeros_of_Continuous_Functions.pdf\">G. E. Alefeld, F. A. Potra, and\n",
    "Y. Shi, \"Algorithm 748: enclosing zeros of continuous functions,\" ACM\n",
    "Trans. Math. Softw. 21, 327–344 (1995), DOI: 10.1145/210089.210111. </a>"
   ]
  },
  {
   "cell_type": "code",
   "execution_count": 17,
   "metadata": {},
   "outputs": [
    {
     "name": "stdout",
     "output_type": "stream",
     "text": [
      "Results of univariate zero finding:\n",
      "\n",
      "* Converged to: 0.7390851344824166\n",
      "* Algorithm: Roots.Secant(), with possible bracketing with Roots.AlefeldPotraShi()\n",
      "* iterations: 2\n",
      "* function evaluations: 11\n",
      "* Note: Exact zero found. Bracketing used over (0.0, 0.9999969722835389), those steps not shown. \n",
      "\n",
      "Trace:\n",
      "x_0 =  0.0000000000000000,\t fx_0 =  1.0000000000000000\n",
      "\n"
     ]
    },
    {
     "data": {
      "text/plain": [
       "0.7390851332151607"
      ]
     },
     "execution_count": 17,
     "metadata": {},
     "output_type": "execute_result"
    }
   ],
   "source": [
    "x = find_zero(f, 0,   verbose=true)"
   ]
  },
  {
   "cell_type": "markdown",
   "metadata": {},
   "source": [
    "Metody find_zero dla wyzszych rzędów to wariacje metody Newtona, które nie korzystaja z pochodnej, ale ja przyblizają.\n"
   ]
  },
  {
   "cell_type": "markdown",
   "metadata": {},
   "source": [
    "#### 3.2 Metoda siecznych"
   ]
  },
  {
   "cell_type": "code",
   "execution_count": 18,
   "metadata": {},
   "outputs": [
    {
     "name": "stdout",
     "output_type": "stream",
     "text": [
      "Results of univariate zero finding:\n",
      "\n",
      "* Converged to: 0.7390851332151607\n",
      "* Algorithm: Roots.Secant()\n",
      "* iterations: 7\n",
      "* function evaluations: 9\n",
      "* stopped as |f(x_n)| ≤ max(δ, max(1,|x|)⋅ϵ) using δ = atol, ϵ = rtol\n",
      "\n",
      "Trace:\n",
      "x_0 =  0.0000000000000000,\t fx_0 =  1.0000000000000000\n",
      "x_1 =  0.9999969722835389,\t fx_1 = -0.4596921186823234\n",
      "x_2 =  0.6850738998209052,\t fx_2 =  0.0892983907342113\n",
      "x_3 =  0.7362990541607766,\t fx_3 =  0.0046599445167859\n",
      "x_4 =  0.7391193608624661,\t fx_4 = -0.0000572842351875\n",
      "x_5 =  0.7390851121285389,\t fx_5 =  0.0000000352908237\n",
      "x_6 =  0.7390851332150014,\t fx_6 =  0.0000000000002666\n",
      "x_7 =  0.7390851332151607,\t fx_7 =  0.0000000000000000\n",
      "\n"
     ]
    },
    {
     "data": {
      "text/plain": [
       "0.7390851332151607"
      ]
     },
     "execution_count": 18,
     "metadata": {},
     "output_type": "execute_result"
    }
   ],
   "source": [
    "# wywołanie find_zero używając punktu startowego (a nie przedziału) \n",
    "# oraz opcji order=1   wykorzystuje metodę siecznych  \n",
    "x = find_zero(f, 0, Order1(),  verbose=true) "
   ]
  },
  {
   "cell_type": "code",
   "execution_count": 19,
   "metadata": {},
   "outputs": [
    {
     "data": {
      "text/plain": [
       "0.7390851332151607"
      ]
     },
     "execution_count": 19,
     "metadata": {},
     "output_type": "execute_result"
    }
   ],
   "source": [
    "# metoda siecznych może być wywołana bezpośrednio \n",
    "# implementacja taka sama jak find_zero(f, 0, Order1()), ale bez\n",
    "# narzutów frameworku oraz mniejsza ilość sprawdzanych warunków zbieżności - szybsza\n",
    "Roots.secant_method(f, 0)"
   ]
  },
  {
   "cell_type": "code",
   "execution_count": 20,
   "metadata": {},
   "outputs": [
    {
     "data": {
      "text/plain": [
       "0.7390851332151607"
      ]
     },
     "execution_count": 20,
     "metadata": {},
     "output_type": "execute_result"
    }
   ],
   "source": [
    "# mozemy podać przedział\n",
    "Roots.secant_method(f, (0,1))"
   ]
  },
  {
   "cell_type": "markdown",
   "metadata": {},
   "source": [
    "#### 3.3 Metoda Steffensena \n",
    "przybliża pochodną poprzez  (f(x + f(x)) - f(x))/f(x)  \n",
    "aby ja wywołać podajemy punkt startowy oraz order 2"
   ]
  },
  {
   "cell_type": "code",
   "execution_count": 21,
   "metadata": {},
   "outputs": [
    {
     "name": "stdout",
     "output_type": "stream",
     "text": [
      "Results of univariate zero finding:\n",
      "\n",
      "* Converged to: 0.7390851332151607\n",
      "* Algorithm: Order2()\n",
      "* iterations: 6\n",
      "* function evaluations: 10\n",
      "* stopped as |f(x_n)| ≤ max(δ, max(1,|x|)⋅ϵ) using δ = atol, ϵ = rtol\n",
      "\n",
      "Trace:\n",
      "x_0 =  0.0000000000000000,\t fx_0 =  1.0000000000000000\n",
      "x_1 =  0.9999969722835389,\t fx_1 = -0.4596921186823234\n",
      "x_2 =  0.6850738998209052,\t fx_2 =  0.0892983907342113\n",
      "x_3 =  0.7362990541607766,\t fx_3 =  0.0046599445167859\n",
      "x_4 =  0.7391193608624661,\t fx_4 = -0.0000572842351875\n",
      "x_5 =  0.7390851330409081,\t fx_5 =  0.0000000002916313\n",
      "x_6 =  0.7390851332151607,\t fx_6 =  0.0000000000000000\n",
      "\n"
     ]
    },
    {
     "data": {
      "text/plain": [
       "0.7390851332151607"
      ]
     },
     "execution_count": 21,
     "metadata": {},
     "output_type": "execute_result"
    }
   ],
   "source": [
    "x = find_zero(f, 0, Order2(), verbose=true) "
   ]
  },
  {
   "cell_type": "code",
   "execution_count": 22,
   "metadata": {},
   "outputs": [
    {
     "name": "stdout",
     "output_type": "stream",
     "text": [
      "Results of univariate zero finding:\n",
      "\n",
      "* Converged to: 0.7390851332151607\n",
      "* Algorithm: Order8()\n",
      "* iterations: 2\n",
      "* function evaluations: 10\n",
      "* stopped as |f(x_n)| ≤ max(δ, max(1,|x|)⋅ϵ) using δ = atol, ϵ = rtol\n",
      "\n",
      "Trace:\n",
      "x_0 =  0.0000000000000000,\t fx_0 =  1.0000000000000000\n",
      "x_1 =  0.7369285852997423,\t fx_1 =  0.0036075047762146\n",
      "x_2 =  0.7390851332151607,\t fx_2 =  0.0000000000000000\n",
      "\n"
     ]
    },
    {
     "data": {
      "text/plain": [
       "0.7390851332151607"
      ]
     },
     "execution_count": 22,
     "metadata": {},
     "output_type": "execute_result"
    }
   ],
   "source": [
    "# mozliwe sa jeszcze rzędy 5, 8 i 16\n",
    "x = find_zero(f, 0, Order8(), verbose=true) "
   ]
  },
  {
   "cell_type": "markdown",
   "metadata": {},
   "source": [
    "Można użyć funkcji fzero do znajdowania nieciagłości"
   ]
  },
  {
   "cell_type": "code",
   "execution_count": 23,
   "metadata": {},
   "outputs": [
    {
     "data": {
      "image/svg+xml": [
       "<?xml version=\"1.0\" encoding=\"utf-8\"?>\n",
       "<svg xmlns=\"http://www.w3.org/2000/svg\" xmlns:xlink=\"http://www.w3.org/1999/xlink\" width=\"600\" height=\"400\" viewBox=\"0 0 2400 1600\">\n",
       "<defs>\n",
       "  <clipPath id=\"clip390\">\n",
       "    <rect x=\"0\" y=\"0\" width=\"2400\" height=\"1600\"/>\n",
       "  </clipPath>\n",
       "</defs>\n",
       "<path clip-path=\"url(#clip390)\" d=\"\n",
       "M0 1600 L2400 1600 L2400 0 L0 0  Z\n",
       "  \" fill=\"#ffffff\" fill-rule=\"evenodd\" fill-opacity=\"1\"/>\n",
       "<defs>\n",
       "  <clipPath id=\"clip391\">\n",
       "    <rect x=\"480\" y=\"0\" width=\"1681\" height=\"1600\"/>\n",
       "  </clipPath>\n",
       "</defs>\n",
       "<path clip-path=\"url(#clip390)\" d=\"\n",
       "M198.195 1486.45 L2352.76 1486.45 L2352.76 47.2441 L198.195 47.2441  Z\n",
       "  \" fill=\"#ffffff\" fill-rule=\"evenodd\" fill-opacity=\"1\"/>\n",
       "<defs>\n",
       "  <clipPath id=\"clip392\">\n",
       "    <rect x=\"198\" y=\"47\" width=\"2156\" height=\"1440\"/>\n",
       "  </clipPath>\n",
       "</defs>\n",
       "<polyline clip-path=\"url(#clip392)\" style=\"stroke:#000000; stroke-width:2; stroke-opacity:0.1; fill:none\" points=\"\n",
       "  462.434,1486.45 462.434,47.2441 \n",
       "  \"/>\n",
       "<polyline clip-path=\"url(#clip392)\" style=\"stroke:#000000; stroke-width:2; stroke-opacity:0.1; fill:none\" points=\"\n",
       "  868.955,1486.45 868.955,47.2441 \n",
       "  \"/>\n",
       "<polyline clip-path=\"url(#clip392)\" style=\"stroke:#000000; stroke-width:2; stroke-opacity:0.1; fill:none\" points=\"\n",
       "  1275.48,1486.45 1275.48,47.2441 \n",
       "  \"/>\n",
       "<polyline clip-path=\"url(#clip392)\" style=\"stroke:#000000; stroke-width:2; stroke-opacity:0.1; fill:none\" points=\"\n",
       "  1682,1486.45 1682,47.2441 \n",
       "  \"/>\n",
       "<polyline clip-path=\"url(#clip392)\" style=\"stroke:#000000; stroke-width:2; stroke-opacity:0.1; fill:none\" points=\"\n",
       "  2088.52,1486.45 2088.52,47.2441 \n",
       "  \"/>\n",
       "<polyline clip-path=\"url(#clip390)\" style=\"stroke:#000000; stroke-width:4; stroke-opacity:1; fill:none\" points=\"\n",
       "  198.195,1486.45 2352.76,1486.45 \n",
       "  \"/>\n",
       "<polyline clip-path=\"url(#clip390)\" style=\"stroke:#000000; stroke-width:4; stroke-opacity:1; fill:none\" points=\"\n",
       "  462.434,1486.45 462.434,1469.18 \n",
       "  \"/>\n",
       "<polyline clip-path=\"url(#clip390)\" style=\"stroke:#000000; stroke-width:4; stroke-opacity:1; fill:none\" points=\"\n",
       "  868.955,1486.45 868.955,1469.18 \n",
       "  \"/>\n",
       "<polyline clip-path=\"url(#clip390)\" style=\"stroke:#000000; stroke-width:4; stroke-opacity:1; fill:none\" points=\"\n",
       "  1275.48,1486.45 1275.48,1469.18 \n",
       "  \"/>\n",
       "<polyline clip-path=\"url(#clip390)\" style=\"stroke:#000000; stroke-width:4; stroke-opacity:1; fill:none\" points=\"\n",
       "  1682,1486.45 1682,1469.18 \n",
       "  \"/>\n",
       "<polyline clip-path=\"url(#clip390)\" style=\"stroke:#000000; stroke-width:4; stroke-opacity:1; fill:none\" points=\"\n",
       "  2088.52,1486.45 2088.52,1469.18 \n",
       "  \"/>\n",
       "<path clip-path=\"url(#clip390)\" d=\"M 0 0 M433.846 1530.29 L463.522 1530.29 L463.522 1534.23 L433.846 1534.23 L433.846 1530.29 Z\" fill=\"#000000\" fill-rule=\"evenodd\" fill-opacity=\"1\" /><path clip-path=\"url(#clip390)\" d=\"M 0 0 M481.438 1516.63 L469.633 1535.08 L481.438 1535.08 L481.438 1516.63 M480.211 1512.56 L486.091 1512.56 L486.091 1535.08 L491.022 1535.08 L491.022 1538.97 L486.091 1538.97 L486.091 1547.12 L481.438 1547.12 L481.438 1538.97 L465.837 1538.97 L465.837 1534.46 L480.211 1512.56 Z\" fill=\"#000000\" fill-rule=\"evenodd\" fill-opacity=\"1\" /><path clip-path=\"url(#clip390)\" d=\"M 0 0 M841.409 1530.29 L871.084 1530.29 L871.084 1534.23 L841.409 1534.23 L841.409 1530.29 Z\" fill=\"#000000\" fill-rule=\"evenodd\" fill-opacity=\"1\" /><path clip-path=\"url(#clip390)\" d=\"M 0 0 M880.181 1543.18 L896.501 1543.18 L896.501 1547.12 L874.557 1547.12 L874.557 1543.18 Q877.219 1540.43 881.802 1535.8 Q886.408 1531.15 887.589 1529.81 Q889.834 1527.28 890.714 1525.55 Q891.617 1523.79 891.617 1522.1 Q891.617 1519.34 889.672 1517.61 Q887.751 1515.87 884.649 1515.87 Q882.45 1515.87 879.996 1516.63 Q877.566 1517.4 874.788 1518.95 L874.788 1514.23 Q877.612 1513.09 880.066 1512.51 Q882.519 1511.93 884.556 1511.93 Q889.927 1511.93 893.121 1514.62 Q896.316 1517.31 896.316 1521.8 Q896.316 1523.93 895.505 1525.85 Q894.718 1527.74 892.612 1530.34 Q892.033 1531.01 888.931 1534.23 Q885.83 1537.42 880.181 1543.18 Z\" fill=\"#000000\" fill-rule=\"evenodd\" fill-opacity=\"1\" /><path clip-path=\"url(#clip390)\" d=\"M 0 0 M1275.48 1515.64 Q1271.86 1515.64 1270.04 1519.2 Q1268.23 1522.75 1268.23 1529.87 Q1268.23 1536.98 1270.04 1540.55 Q1271.86 1544.09 1275.48 1544.09 Q1279.11 1544.09 1280.92 1540.55 Q1282.74 1536.98 1282.74 1529.87 Q1282.74 1522.75 1280.92 1519.2 Q1279.11 1515.64 1275.48 1515.64 M1275.48 1511.93 Q1281.29 1511.93 1284.34 1516.54 Q1287.42 1521.12 1287.42 1529.87 Q1287.42 1538.6 1284.34 1543.21 Q1281.29 1547.79 1275.48 1547.79 Q1269.67 1547.79 1266.59 1543.21 Q1263.53 1538.6 1263.53 1529.87 Q1263.53 1521.12 1266.59 1516.54 Q1269.67 1511.93 1275.48 1511.93 Z\" fill=\"#000000\" fill-rule=\"evenodd\" fill-opacity=\"1\" /><path clip-path=\"url(#clip390)\" d=\"M 0 0 M1676.65 1543.18 L1692.97 1543.18 L1692.97 1547.12 L1671.02 1547.12 L1671.02 1543.18 Q1673.69 1540.43 1678.27 1535.8 Q1682.88 1531.15 1684.06 1529.81 Q1686.3 1527.28 1687.18 1525.55 Q1688.08 1523.79 1688.08 1522.1 Q1688.08 1519.34 1686.14 1517.61 Q1684.22 1515.87 1681.12 1515.87 Q1678.92 1515.87 1676.46 1516.63 Q1674.03 1517.4 1671.26 1518.95 L1671.26 1514.23 Q1674.08 1513.09 1676.53 1512.51 Q1678.99 1511.93 1681.02 1511.93 Q1686.39 1511.93 1689.59 1514.62 Q1692.78 1517.31 1692.78 1521.8 Q1692.78 1523.93 1691.97 1525.85 Q1691.19 1527.74 1689.08 1530.34 Q1688.5 1531.01 1685.4 1534.23 Q1682.3 1537.42 1676.65 1543.18 Z\" fill=\"#000000\" fill-rule=\"evenodd\" fill-opacity=\"1\" /><path clip-path=\"url(#clip390)\" d=\"M 0 0 M2091.53 1516.63 L2079.72 1535.08 L2091.53 1535.08 L2091.53 1516.63 M2090.3 1512.56 L2096.18 1512.56 L2096.18 1535.08 L2101.11 1535.08 L2101.11 1538.97 L2096.18 1538.97 L2096.18 1547.12 L2091.53 1547.12 L2091.53 1538.97 L2075.92 1538.97 L2075.92 1534.46 L2090.3 1512.56 Z\" fill=\"#000000\" fill-rule=\"evenodd\" fill-opacity=\"1\" /><polyline clip-path=\"url(#clip392)\" style=\"stroke:#000000; stroke-width:2; stroke-opacity:0.1; fill:none\" points=\"\n",
       "  198.195,1299.37 2352.76,1299.37 \n",
       "  \"/>\n",
       "<polyline clip-path=\"url(#clip392)\" style=\"stroke:#000000; stroke-width:2; stroke-opacity:0.1; fill:none\" points=\"\n",
       "  198.195,1042.38 2352.76,1042.38 \n",
       "  \"/>\n",
       "<polyline clip-path=\"url(#clip392)\" style=\"stroke:#000000; stroke-width:2; stroke-opacity:0.1; fill:none\" points=\"\n",
       "  198.195,785.385 2352.76,785.385 \n",
       "  \"/>\n",
       "<polyline clip-path=\"url(#clip392)\" style=\"stroke:#000000; stroke-width:2; stroke-opacity:0.1; fill:none\" points=\"\n",
       "  198.195,528.391 2352.76,528.391 \n",
       "  \"/>\n",
       "<polyline clip-path=\"url(#clip392)\" style=\"stroke:#000000; stroke-width:2; stroke-opacity:0.1; fill:none\" points=\"\n",
       "  198.195,271.397 2352.76,271.397 \n",
       "  \"/>\n",
       "<polyline clip-path=\"url(#clip390)\" style=\"stroke:#000000; stroke-width:4; stroke-opacity:1; fill:none\" points=\"\n",
       "  198.195,1486.45 198.195,47.2441 \n",
       "  \"/>\n",
       "<polyline clip-path=\"url(#clip390)\" style=\"stroke:#000000; stroke-width:4; stroke-opacity:1; fill:none\" points=\"\n",
       "  198.195,1299.37 224.05,1299.37 \n",
       "  \"/>\n",
       "<polyline clip-path=\"url(#clip390)\" style=\"stroke:#000000; stroke-width:4; stroke-opacity:1; fill:none\" points=\"\n",
       "  198.195,1042.38 224.05,1042.38 \n",
       "  \"/>\n",
       "<polyline clip-path=\"url(#clip390)\" style=\"stroke:#000000; stroke-width:4; stroke-opacity:1; fill:none\" points=\"\n",
       "  198.195,785.385 224.05,785.385 \n",
       "  \"/>\n",
       "<polyline clip-path=\"url(#clip390)\" style=\"stroke:#000000; stroke-width:4; stroke-opacity:1; fill:none\" points=\"\n",
       "  198.195,528.391 224.05,528.391 \n",
       "  \"/>\n",
       "<polyline clip-path=\"url(#clip390)\" style=\"stroke:#000000; stroke-width:4; stroke-opacity:1; fill:none\" points=\"\n",
       "  198.195,271.397 224.05,271.397 \n",
       "  \"/>\n",
       "<path clip-path=\"url(#clip390)\" d=\"M 0 0 M50.9921 1299.83 L80.6679 1299.83 L80.6679 1303.76 L50.9921 1303.76 L50.9921 1299.83 Z\" fill=\"#000000\" fill-rule=\"evenodd\" fill-opacity=\"1\" /><path clip-path=\"url(#clip390)\" d=\"M 0 0 M98.5845 1286.17 L86.779 1304.62 L98.5845 1304.62 L98.5845 1286.17 M97.3576 1282.09 L103.237 1282.09 L103.237 1304.62 L108.168 1304.62 L108.168 1308.51 L103.237 1308.51 L103.237 1316.65 L98.5845 1316.65 L98.5845 1308.51 L82.9827 1308.51 L82.9827 1303.99 L97.3576 1282.09 Z\" fill=\"#000000\" fill-rule=\"evenodd\" fill-opacity=\"1\" /><path clip-path=\"url(#clip390)\" d=\"M 0 0 M123.237 1285.17 Q119.626 1285.17 117.797 1288.74 Q115.992 1292.28 115.992 1299.41 Q115.992 1306.52 117.797 1310.08 Q119.626 1313.62 123.237 1313.62 Q126.871 1313.62 128.677 1310.08 Q130.506 1306.52 130.506 1299.41 Q130.506 1292.28 128.677 1288.74 Q126.871 1285.17 123.237 1285.17 M123.237 1281.47 Q129.047 1281.47 132.103 1286.08 Q135.181 1290.66 135.181 1299.41 Q135.181 1308.14 132.103 1312.74 Q129.047 1317.33 123.237 1317.33 Q117.427 1317.33 114.348 1312.74 Q111.293 1308.14 111.293 1299.41 Q111.293 1290.66 114.348 1286.08 Q117.427 1281.47 123.237 1281.47 Z\" fill=\"#000000\" fill-rule=\"evenodd\" fill-opacity=\"1\" /><path clip-path=\"url(#clip390)\" d=\"M 0 0 M150.251 1285.17 Q146.64 1285.17 144.811 1288.74 Q143.006 1292.28 143.006 1299.41 Q143.006 1306.52 144.811 1310.08 Q146.64 1313.62 150.251 1313.62 Q153.885 1313.62 155.691 1310.08 Q157.519 1306.52 157.519 1299.41 Q157.519 1292.28 155.691 1288.74 Q153.885 1285.17 150.251 1285.17 M150.251 1281.47 Q156.061 1281.47 159.117 1286.08 Q162.195 1290.66 162.195 1299.41 Q162.195 1308.14 159.117 1312.74 Q156.061 1317.33 150.251 1317.33 Q144.441 1317.33 141.362 1312.74 Q138.306 1308.14 138.306 1299.41 Q138.306 1290.66 141.362 1286.08 Q144.441 1281.47 150.251 1281.47 Z\" fill=\"#000000\" fill-rule=\"evenodd\" fill-opacity=\"1\" /><path clip-path=\"url(#clip390)\" d=\"M 0 0 M53.0754 1042.83 L82.7512 1042.83 L82.7512 1046.77 L53.0754 1046.77 L53.0754 1042.83 Z\" fill=\"#000000\" fill-rule=\"evenodd\" fill-opacity=\"1\" /><path clip-path=\"url(#clip390)\" d=\"M 0 0 M91.8484 1055.72 L108.168 1055.72 L108.168 1059.66 L86.2234 1059.66 L86.2234 1055.72 Q88.8854 1052.97 93.4688 1048.34 Q98.0752 1043.69 99.2558 1042.35 Q101.501 1039.82 102.381 1038.09 Q103.284 1036.33 103.284 1034.64 Q103.284 1031.88 101.339 1030.15 Q99.4178 1028.41 96.316 1028.41 Q94.1169 1028.41 91.6632 1029.17 Q89.2327 1029.94 86.4549 1031.49 L86.4549 1026.77 Q89.279 1025.63 91.7326 1025.05 Q94.1863 1024.47 96.2234 1024.47 Q101.594 1024.47 104.788 1027.16 Q107.983 1029.85 107.983 1034.34 Q107.983 1036.47 107.172 1038.39 Q106.385 1040.28 104.279 1042.88 Q103.7 1043.55 100.598 1046.77 Q97.4965 1049.96 91.8484 1055.72 Z\" fill=\"#000000\" fill-rule=\"evenodd\" fill-opacity=\"1\" /><path clip-path=\"url(#clip390)\" d=\"M 0 0 M123.237 1028.18 Q119.626 1028.18 117.797 1031.74 Q115.992 1035.28 115.992 1042.41 Q115.992 1049.52 117.797 1053.09 Q119.626 1056.63 123.237 1056.63 Q126.871 1056.63 128.677 1053.09 Q130.506 1049.52 130.506 1042.41 Q130.506 1035.28 128.677 1031.74 Q126.871 1028.18 123.237 1028.18 M123.237 1024.47 Q129.047 1024.47 132.103 1029.08 Q135.181 1033.66 135.181 1042.41 Q135.181 1051.14 132.103 1055.75 Q129.047 1060.33 123.237 1060.33 Q117.427 1060.33 114.348 1055.75 Q111.293 1051.14 111.293 1042.41 Q111.293 1033.66 114.348 1029.08 Q117.427 1024.47 123.237 1024.47 Z\" fill=\"#000000\" fill-rule=\"evenodd\" fill-opacity=\"1\" /><path clip-path=\"url(#clip390)\" d=\"M 0 0 M150.251 1028.18 Q146.64 1028.18 144.811 1031.74 Q143.006 1035.28 143.006 1042.41 Q143.006 1049.52 144.811 1053.09 Q146.64 1056.63 150.251 1056.63 Q153.885 1056.63 155.691 1053.09 Q157.519 1049.52 157.519 1042.41 Q157.519 1035.28 155.691 1031.74 Q153.885 1028.18 150.251 1028.18 M150.251 1024.47 Q156.061 1024.47 159.117 1029.08 Q162.195 1033.66 162.195 1042.41 Q162.195 1051.14 159.117 1055.75 Q156.061 1060.33 150.251 1060.33 Q144.441 1060.33 141.362 1055.75 Q138.306 1051.14 138.306 1042.41 Q138.306 1033.66 141.362 1029.08 Q144.441 1024.47 150.251 1024.47 Z\" fill=\"#000000\" fill-rule=\"evenodd\" fill-opacity=\"1\" /><path clip-path=\"url(#clip390)\" d=\"M 0 0 M150.251 771.184 Q146.64 771.184 144.811 774.749 Q143.006 778.291 143.006 785.42 Q143.006 792.527 144.811 796.091 Q146.64 799.633 150.251 799.633 Q153.885 799.633 155.691 796.091 Q157.519 792.527 157.519 785.42 Q157.519 778.291 155.691 774.749 Q153.885 771.184 150.251 771.184 M150.251 767.48 Q156.061 767.48 159.117 772.087 Q162.195 776.67 162.195 785.42 Q162.195 794.147 159.117 798.753 Q156.061 803.337 150.251 803.337 Q144.441 803.337 141.362 798.753 Q138.306 794.147 138.306 785.42 Q138.306 776.67 141.362 772.087 Q144.441 767.48 150.251 767.48 Z\" fill=\"#000000\" fill-rule=\"evenodd\" fill-opacity=\"1\" /><path clip-path=\"url(#clip390)\" d=\"M 0 0 M91.8484 541.736 L108.168 541.736 L108.168 545.671 L86.2234 545.671 L86.2234 541.736 Q88.8854 538.981 93.4688 534.352 Q98.0752 529.699 99.2558 528.356 Q101.501 525.833 102.381 524.097 Q103.284 522.338 103.284 520.648 Q103.284 517.893 101.339 516.157 Q99.4178 514.421 96.316 514.421 Q94.1169 514.421 91.6632 515.185 Q89.2327 515.949 86.4549 517.5 L86.4549 512.778 Q89.279 511.643 91.7326 511.065 Q94.1863 510.486 96.2234 510.486 Q101.594 510.486 104.788 513.171 Q107.983 515.856 107.983 520.347 Q107.983 522.477 107.172 524.398 Q106.385 526.296 104.279 528.889 Q103.7 529.56 100.598 532.778 Q97.4965 535.972 91.8484 541.736 Z\" fill=\"#000000\" fill-rule=\"evenodd\" fill-opacity=\"1\" /><path clip-path=\"url(#clip390)\" d=\"M 0 0 M123.237 514.19 Q119.626 514.19 117.797 517.755 Q115.992 521.296 115.992 528.426 Q115.992 535.532 117.797 539.097 Q119.626 542.639 123.237 542.639 Q126.871 542.639 128.677 539.097 Q130.506 535.532 130.506 528.426 Q130.506 521.296 128.677 517.755 Q126.871 514.19 123.237 514.19 M123.237 510.486 Q129.047 510.486 132.103 515.093 Q135.181 519.676 135.181 528.426 Q135.181 537.153 132.103 541.759 Q129.047 546.342 123.237 546.342 Q117.427 546.342 114.348 541.759 Q111.293 537.153 111.293 528.426 Q111.293 519.676 114.348 515.093 Q117.427 510.486 123.237 510.486 Z\" fill=\"#000000\" fill-rule=\"evenodd\" fill-opacity=\"1\" /><path clip-path=\"url(#clip390)\" d=\"M 0 0 M150.251 514.19 Q146.64 514.19 144.811 517.755 Q143.006 521.296 143.006 528.426 Q143.006 535.532 144.811 539.097 Q146.64 542.639 150.251 542.639 Q153.885 542.639 155.691 539.097 Q157.519 535.532 157.519 528.426 Q157.519 521.296 155.691 517.755 Q153.885 514.19 150.251 514.19 M150.251 510.486 Q156.061 510.486 159.117 515.093 Q162.195 519.676 162.195 528.426 Q162.195 537.153 159.117 541.759 Q156.061 546.342 150.251 546.342 Q144.441 546.342 141.362 541.759 Q138.306 537.153 138.306 528.426 Q138.306 519.676 141.362 515.093 Q144.441 510.486 150.251 510.486 Z\" fill=\"#000000\" fill-rule=\"evenodd\" fill-opacity=\"1\" /><path clip-path=\"url(#clip390)\" d=\"M 0 0 M98.5845 258.191 L86.779 276.64 L98.5845 276.64 L98.5845 258.191 M97.3576 254.117 L103.237 254.117 L103.237 276.64 L108.168 276.64 L108.168 280.529 L103.237 280.529 L103.237 288.677 L98.5845 288.677 L98.5845 280.529 L82.9827 280.529 L82.9827 276.015 L97.3576 254.117 Z\" fill=\"#000000\" fill-rule=\"evenodd\" fill-opacity=\"1\" /><path clip-path=\"url(#clip390)\" d=\"M 0 0 M123.237 257.195 Q119.626 257.195 117.797 260.76 Q115.992 264.302 115.992 271.431 Q115.992 278.538 117.797 282.103 Q119.626 285.644 123.237 285.644 Q126.871 285.644 128.677 282.103 Q130.506 278.538 130.506 271.431 Q130.506 264.302 128.677 260.76 Q126.871 257.195 123.237 257.195 M123.237 253.492 Q129.047 253.492 132.103 258.098 Q135.181 262.681 135.181 271.431 Q135.181 280.158 132.103 284.765 Q129.047 289.348 123.237 289.348 Q117.427 289.348 114.348 284.765 Q111.293 280.158 111.293 271.431 Q111.293 262.681 114.348 258.098 Q117.427 253.492 123.237 253.492 Z\" fill=\"#000000\" fill-rule=\"evenodd\" fill-opacity=\"1\" /><path clip-path=\"url(#clip390)\" d=\"M 0 0 M150.251 257.195 Q146.64 257.195 144.811 260.76 Q143.006 264.302 143.006 271.431 Q143.006 278.538 144.811 282.103 Q146.64 285.644 150.251 285.644 Q153.885 285.644 155.691 282.103 Q157.519 278.538 157.519 271.431 Q157.519 264.302 155.691 260.76 Q153.885 257.195 150.251 257.195 M150.251 253.492 Q156.061 253.492 159.117 258.098 Q162.195 262.681 162.195 271.431 Q162.195 280.158 159.117 284.765 Q156.061 289.348 150.251 289.348 Q144.441 289.348 141.362 284.765 Q138.306 280.158 138.306 271.431 Q138.306 262.681 141.362 258.098 Q144.441 253.492 150.251 253.492 Z\" fill=\"#000000\" fill-rule=\"evenodd\" fill-opacity=\"1\" /><polyline clip-path=\"url(#clip392)\" style=\"stroke:#009af9; stroke-width:4; stroke-opacity:1; fill:none\" points=\"\n",
       "  259.173,785.642 279.023,785.648 462.566,785.707 572.867,785.757 666.125,785.814 767.43,785.9 860.824,786.015 960.952,786.216 1076.96,786.701 1102.73,786.897 \n",
       "  1128.51,787.163 1154.28,787.541 1180.06,788.123 1191.36,788.49 1202.66,788.972 1213.96,789.631 1225.26,790.586 1230.91,791.246 1236.56,792.097 1242.21,793.237 \n",
       "  1247.86,794.843 1253.51,797.275 1259.16,801.393 1261.98,804.745 1264.81,809.873 1266.22,813.611 1267.63,818.696 1269.05,826.015 1270.46,837.458 1271.23,846.902 \n",
       "  1272,860.531 1272.77,881.918 1273.54,920.321 1274.31,1009.47 1275.08,1445.72 1275.85,87.9763 1276.62,557.187 1277.39,648.968 1278.16,688.097 1278.93,709.782 \n",
       "  1279.7,723.563 1281.24,740.079 1282.78,749.631 1284.32,755.856 1285.86,760.235 1287.4,763.483 1288.94,765.988 1292.02,769.599 1295.1,772.077 1301.26,775.256 \n",
       "  1307.42,777.21 1313.58,778.531 1319.74,779.485 1332.06,780.77 1344.38,781.595 1356.7,782.17 1369.03,782.593 1393.81,783.178 1418.6,783.561 1443.39,783.83 \n",
       "  1468.18,784.03 1577.8,784.521 1682.11,784.743 1790.56,784.878 1881.85,784.955 1993.31,785.022 2098.09,785.068 2265.95,785.122 2291.78,785.128 \n",
       "  \"/>\n",
       "<path clip-path=\"url(#clip390)\" d=\"\n",
       "M1990.52 216.178 L2280.94 216.178 L2280.94 95.2176 L1990.52 95.2176  Z\n",
       "  \" fill=\"#ffffff\" fill-rule=\"evenodd\" fill-opacity=\"1\"/>\n",
       "<polyline clip-path=\"url(#clip390)\" style=\"stroke:#000000; stroke-width:4; stroke-opacity:1; fill:none\" points=\"\n",
       "  1990.52,216.178 2280.94,216.178 2280.94,95.2176 1990.52,95.2176 1990.52,216.178 \n",
       "  \"/>\n",
       "<polyline clip-path=\"url(#clip390)\" style=\"stroke:#009af9; stroke-width:4; stroke-opacity:1; fill:none\" points=\"\n",
       "  2014.46,155.698 2158.1,155.698 \n",
       "  \"/>\n",
       "<path clip-path=\"url(#clip390)\" d=\"M 0 0 M2195.88 175.385 Q2194.08 180.015 2192.36 181.427 Q2190.65 182.839 2187.78 182.839 L2184.38 182.839 L2184.38 179.274 L2186.88 179.274 Q2188.64 179.274 2189.61 178.44 Q2190.58 177.607 2191.76 174.505 L2192.53 172.561 L2182.04 147.052 L2186.55 147.052 L2194.66 167.329 L2202.76 147.052 L2207.27 147.052 L2195.88 175.385 Z\" fill=\"#000000\" fill-rule=\"evenodd\" fill-opacity=\"1\" /><path clip-path=\"url(#clip390)\" d=\"M 0 0 M2213.15 169.042 L2220.79 169.042 L2220.79 142.677 L2212.48 144.343 L2212.48 140.084 L2220.74 138.418 L2225.42 138.418 L2225.42 169.042 L2233.06 169.042 L2233.06 172.978 L2213.15 172.978 L2213.15 169.042 Z\" fill=\"#000000\" fill-rule=\"evenodd\" fill-opacity=\"1\" /></svg>\n"
      ]
     },
     "execution_count": 23,
     "metadata": {},
     "output_type": "execute_result"
    }
   ],
   "source": [
    "plot(x -> 1/x)"
   ]
  },
  {
   "cell_type": "code",
   "execution_count": 24,
   "metadata": {},
   "outputs": [
    {
     "name": "stdout",
     "output_type": "stream",
     "text": [
      "Results of univariate zero finding:\n",
      "\n",
      "* Converged to: 0.0\n",
      "* Algorithm: Roots.BisectionExact()\n",
      "* iterations: 61\n",
      "* function evaluations: 63\n",
      "* stopped as x_n ≈ x_{n-1} using atol=xatol, rtol=xrtol\n",
      "* Note: Change of sign at xn identified. \n",
      "\n",
      "Trace:\n",
      "(a_0, b_0) = (-1.0000000000000000,  0.0000000000000000)\n",
      "(a_1, b_1) = (-0.0000000000000000,  0.0000000000000000)\n",
      "(a_2, b_2) = (-0.0000000000000000,  0.0000000000000000)\n",
      "(a_3, b_3) = (-0.0000000000000000,  0.0000000000000000)\n",
      "(a_4, b_4) = (-0.0000000000000000,  0.0000000000000000)\n",
      "(a_5, b_5) = (-0.0000000000000000,  0.0000000000000000)\n",
      "(a_6, b_6) = (-0.0000000000000000,  0.0000000000000000)\n",
      "(a_7, b_7) = (-0.0000000000000000,  0.0000000000000000)\n",
      "(a_8, b_8) = (-0.0000000000000000,  0.0000000000000000)\n",
      "(a_9, b_9) = (-0.0000000000000000,  0.0000000000000000)\n",
      "(a_10, b_10) = (-0.0000000000000000,  0.0000000000000000)\n",
      "(a_11, b_11) = (-0.0000000000000000,  0.0000000000000000)\n",
      "(a_12, b_12) = (-0.0000000000000000,  0.0000000000000000)\n",
      "(a_13, b_13) = (-0.0000000000000000,  0.0000000000000000)\n",
      "(a_14, b_14) = (-0.0000000000000000,  0.0000000000000000)\n",
      "(a_15, b_15) = (-0.0000000000000000,  0.0000000000000000)\n",
      "(a_16, b_16) = (-0.0000000000000000,  0.0000000000000000)\n",
      "(a_17, b_17) = (-0.0000000000000000,  0.0000000000000000)\n",
      "(a_18, b_18) = (-0.0000000000000000,  0.0000000000000000)\n",
      "(a_19, b_19) = (-0.0000000000000000,  0.0000000000000000)\n",
      "(a_20, b_20) = (-0.0000000000000000,  0.0000000000000000)\n",
      "(a_21, b_21) = (-0.0000000000000000,  0.0000000000000000)\n",
      "(a_22, b_22) = (-0.0000000000000000,  0.0000000000000000)\n",
      "(a_23, b_23) = (-0.0000000000000000,  0.0000000000000000)\n",
      "(a_24, b_24) = (-0.0000000000000000,  0.0000000000000000)\n",
      "(a_25, b_25) = (-0.0000000000000000,  0.0000000000000000)\n",
      "(a_26, b_26) = (-0.0000000000000000,  0.0000000000000000)\n",
      "(a_27, b_27) = (-0.0000000000000000,  0.0000000000000000)\n",
      "(a_28, b_28) = (-0.0000000000000000,  0.0000000000000000)\n",
      "(a_29, b_29) = (-0.0000000000000000,  0.0000000000000000)\n",
      "(a_30, b_30) = (-0.0000000000000000,  0.0000000000000000)\n",
      "(a_31, b_31) = (-0.0000000000000000,  0.0000000000000000)\n",
      "(a_32, b_32) = (-0.0000000000000000,  0.0000000000000000)\n",
      "(a_33, b_33) = (-0.0000000000000000,  0.0000000000000000)\n",
      "(a_34, b_34) = (-0.0000000000000000,  0.0000000000000000)\n",
      "(a_35, b_35) = (-0.0000000000000000,  0.0000000000000000)\n",
      "(a_36, b_36) = (-0.0000000000000000,  0.0000000000000000)\n",
      "(a_37, b_37) = (-0.0000000000000000,  0.0000000000000000)\n",
      "(a_38, b_38) = (-0.0000000000000000,  0.0000000000000000)\n",
      "(a_39, b_39) = (-0.0000000000000000,  0.0000000000000000)\n",
      "(a_40, b_40) = (-0.0000000000000000,  0.0000000000000000)\n",
      "(a_41, b_41) = (-0.0000000000000000,  0.0000000000000000)\n",
      "(a_42, b_42) = (-0.0000000000000000,  0.0000000000000000)\n",
      "(a_43, b_43) = (-0.0000000000000000,  0.0000000000000000)\n",
      "(a_44, b_44) = (-0.0000000000000000,  0.0000000000000000)\n",
      "(a_45, b_45) = (-0.0000000000000000,  0.0000000000000000)\n",
      "(a_46, b_46) = (-0.0000000000000000,  0.0000000000000000)\n",
      "(a_47, b_47) = (-0.0000000000000000,  0.0000000000000000)\n",
      "(a_48, b_48) = (-0.0000000000000000,  0.0000000000000000)\n",
      "(a_49, b_49) = (-0.0000000000000000,  0.0000000000000000)\n",
      "(a_50, b_50) = (-0.0000000000000000,  0.0000000000000000)\n",
      "(a_51, b_51) = (-0.0000000000000000,  0.0000000000000000)\n",
      "(a_52, b_52) = (-0.0000000000000000,  0.0000000000000000)\n",
      "(a_53, b_53) = (-0.0000000000000000,  0.0000000000000000)\n",
      "(a_54, b_54) = (-0.0000000000000000,  0.0000000000000000)\n",
      "(a_55, b_55) = (-0.0000000000000000,  0.0000000000000000)\n",
      "(a_56, b_56) = (-0.0000000000000000,  0.0000000000000000)\n",
      "(a_57, b_57) = (-0.0000000000000000,  0.0000000000000000)\n",
      "(a_58, b_58) = (-0.0000000000000000,  0.0000000000000000)\n",
      "(a_59, b_59) = (-0.0000000000000000,  0.0000000000000000)\n",
      "(a_60, b_60) = (-0.0000000000000000,  0.0000000000000000)\n",
      "(a_61, b_61) = (-0.0000000000000000,  0.0000000000000000)\n",
      "\n"
     ]
    },
    {
     "data": {
      "text/plain": [
       "0.0"
      ]
     },
     "execution_count": 24,
     "metadata": {},
     "output_type": "execute_result"
    }
   ],
   "source": [
    "find_zero(x -> 1/x, (-1, 1), verbose=true)"
   ]
  },
  {
   "cell_type": "markdown",
   "metadata": {},
   "source": [
    "find_zeros - szukanie więcej niż jednego pierwiastka. Wykorzystuje podział przedziału na mniejsze podprzedziały"
   ]
  },
  {
   "cell_type": "code",
   "execution_count": 25,
   "metadata": {},
   "outputs": [
    {
     "data": {
      "text/plain": [
       "2-element Array{Float64,1}:\n",
       " 0.0\n",
       " 3.0"
      ]
     },
     "execution_count": 25,
     "metadata": {},
     "output_type": "execute_result"
    }
   ],
   "source": [
    "find_zeros(x ->(x-3)*x, -10, 10)"
   ]
  },
  {
   "cell_type": "code",
   "execution_count": 26,
   "metadata": {
    "scrolled": false
   },
   "outputs": [
    {
     "data": {
      "image/svg+xml": [
       "<?xml version=\"1.0\" encoding=\"utf-8\"?>\n",
       "<svg xmlns=\"http://www.w3.org/2000/svg\" xmlns:xlink=\"http://www.w3.org/1999/xlink\" width=\"600\" height=\"400\" viewBox=\"0 0 2400 1600\">\n",
       "<defs>\n",
       "  <clipPath id=\"clip430\">\n",
       "    <rect x=\"0\" y=\"0\" width=\"2400\" height=\"1600\"/>\n",
       "  </clipPath>\n",
       "</defs>\n",
       "<path clip-path=\"url(#clip430)\" d=\"\n",
       "M0 1600 L2400 1600 L2400 0 L0 0  Z\n",
       "  \" fill=\"#ffffff\" fill-rule=\"evenodd\" fill-opacity=\"1\"/>\n",
       "<defs>\n",
       "  <clipPath id=\"clip431\">\n",
       "    <rect x=\"480\" y=\"0\" width=\"1681\" height=\"1600\"/>\n",
       "  </clipPath>\n",
       "</defs>\n",
       "<path clip-path=\"url(#clip430)\" d=\"\n",
       "M142.455 1486.45 L2352.76 1486.45 L2352.76 47.2441 L142.455 47.2441  Z\n",
       "  \" fill=\"#ffffff\" fill-rule=\"evenodd\" fill-opacity=\"1\"/>\n",
       "<defs>\n",
       "  <clipPath id=\"clip432\">\n",
       "    <rect x=\"142\" y=\"47\" width=\"2211\" height=\"1440\"/>\n",
       "  </clipPath>\n",
       "</defs>\n",
       "<polyline clip-path=\"url(#clip432)\" style=\"stroke:#000000; stroke-width:2; stroke-opacity:0.1; fill:none\" points=\"\n",
       "  205.01,1486.45 205.01,47.2441 \n",
       "  \"/>\n",
       "<polyline clip-path=\"url(#clip432)\" style=\"stroke:#000000; stroke-width:2; stroke-opacity:0.1; fill:none\" points=\"\n",
       "  622.048,1486.45 622.048,47.2441 \n",
       "  \"/>\n",
       "<polyline clip-path=\"url(#clip432)\" style=\"stroke:#000000; stroke-width:2; stroke-opacity:0.1; fill:none\" points=\"\n",
       "  1039.09,1486.45 1039.09,47.2441 \n",
       "  \"/>\n",
       "<polyline clip-path=\"url(#clip432)\" style=\"stroke:#000000; stroke-width:2; stroke-opacity:0.1; fill:none\" points=\"\n",
       "  1456.12,1486.45 1456.12,47.2441 \n",
       "  \"/>\n",
       "<polyline clip-path=\"url(#clip432)\" style=\"stroke:#000000; stroke-width:2; stroke-opacity:0.1; fill:none\" points=\"\n",
       "  1873.16,1486.45 1873.16,47.2441 \n",
       "  \"/>\n",
       "<polyline clip-path=\"url(#clip432)\" style=\"stroke:#000000; stroke-width:2; stroke-opacity:0.1; fill:none\" points=\"\n",
       "  2290.2,1486.45 2290.2,47.2441 \n",
       "  \"/>\n",
       "<polyline clip-path=\"url(#clip430)\" style=\"stroke:#000000; stroke-width:4; stroke-opacity:1; fill:none\" points=\"\n",
       "  142.455,1486.45 2352.76,1486.45 \n",
       "  \"/>\n",
       "<polyline clip-path=\"url(#clip430)\" style=\"stroke:#000000; stroke-width:4; stroke-opacity:1; fill:none\" points=\"\n",
       "  205.01,1486.45 205.01,1469.18 \n",
       "  \"/>\n",
       "<polyline clip-path=\"url(#clip430)\" style=\"stroke:#000000; stroke-width:4; stroke-opacity:1; fill:none\" points=\"\n",
       "  622.048,1486.45 622.048,1469.18 \n",
       "  \"/>\n",
       "<polyline clip-path=\"url(#clip430)\" style=\"stroke:#000000; stroke-width:4; stroke-opacity:1; fill:none\" points=\"\n",
       "  1039.09,1486.45 1039.09,1469.18 \n",
       "  \"/>\n",
       "<polyline clip-path=\"url(#clip430)\" style=\"stroke:#000000; stroke-width:4; stroke-opacity:1; fill:none\" points=\"\n",
       "  1456.12,1486.45 1456.12,1469.18 \n",
       "  \"/>\n",
       "<polyline clip-path=\"url(#clip430)\" style=\"stroke:#000000; stroke-width:4; stroke-opacity:1; fill:none\" points=\"\n",
       "  1873.16,1486.45 1873.16,1469.18 \n",
       "  \"/>\n",
       "<polyline clip-path=\"url(#clip430)\" style=\"stroke:#000000; stroke-width:4; stroke-opacity:1; fill:none\" points=\"\n",
       "  2290.2,1486.45 2290.2,1469.18 \n",
       "  \"/>\n",
       "<path clip-path=\"url(#clip430)\" d=\"M 0 0 M177.279 1530.29 L206.955 1530.29 L206.955 1534.23 L177.279 1534.23 L177.279 1530.29 Z\" fill=\"#000000\" fill-rule=\"evenodd\" fill-opacity=\"1\" /><path clip-path=\"url(#clip430)\" d=\"M 0 0 M212.835 1543.18 L220.473 1543.18 L220.473 1516.82 L212.163 1518.49 L212.163 1514.23 L220.427 1512.56 L225.103 1512.56 L225.103 1543.18 L232.742 1543.18 L232.742 1547.12 L212.835 1547.12 L212.835 1543.18 Z\" fill=\"#000000\" fill-rule=\"evenodd\" fill-opacity=\"1\" /><path clip-path=\"url(#clip430)\" d=\"M 0 0 M622.048 1515.64 Q618.437 1515.64 616.609 1519.2 Q614.803 1522.75 614.803 1529.87 Q614.803 1536.98 616.609 1540.55 Q618.437 1544.09 622.048 1544.09 Q625.683 1544.09 627.488 1540.55 Q629.317 1536.98 629.317 1529.87 Q629.317 1522.75 627.488 1519.2 Q625.683 1515.64 622.048 1515.64 M622.048 1511.93 Q627.859 1511.93 630.914 1516.54 Q633.993 1521.12 633.993 1529.87 Q633.993 1538.6 630.914 1543.21 Q627.859 1547.79 622.048 1547.79 Q616.238 1547.79 613.16 1543.21 Q610.104 1538.6 610.104 1529.87 Q610.104 1521.12 613.16 1516.54 Q616.238 1511.93 622.048 1511.93 Z\" fill=\"#000000\" fill-rule=\"evenodd\" fill-opacity=\"1\" /><path clip-path=\"url(#clip430)\" d=\"M 0 0 M1029.47 1543.18 L1037.11 1543.18 L1037.11 1516.82 L1028.8 1518.49 L1028.8 1514.23 L1037.06 1512.56 L1041.74 1512.56 L1041.74 1543.18 L1049.38 1543.18 L1049.38 1547.12 L1029.47 1547.12 L1029.47 1543.18 Z\" fill=\"#000000\" fill-rule=\"evenodd\" fill-opacity=\"1\" /><path clip-path=\"url(#clip430)\" d=\"M 0 0 M1450.78 1543.18 L1467.1 1543.18 L1467.1 1547.12 L1445.15 1547.12 L1445.15 1543.18 Q1447.81 1540.43 1452.4 1535.8 Q1457 1531.15 1458.18 1529.81 Q1460.43 1527.28 1461.31 1525.55 Q1462.21 1523.79 1462.21 1522.1 Q1462.21 1519.34 1460.27 1517.61 Q1458.35 1515.87 1455.24 1515.87 Q1453.05 1515.87 1450.59 1516.63 Q1448.16 1517.4 1445.38 1518.95 L1445.38 1514.23 Q1448.21 1513.09 1450.66 1512.51 Q1453.12 1511.93 1455.15 1511.93 Q1460.52 1511.93 1463.72 1514.62 Q1466.91 1517.31 1466.91 1521.8 Q1466.91 1523.93 1466.1 1525.85 Q1465.31 1527.74 1463.21 1530.34 Q1462.63 1531.01 1459.53 1534.23 Q1456.43 1537.42 1450.78 1543.18 Z\" fill=\"#000000\" fill-rule=\"evenodd\" fill-opacity=\"1\" /><path clip-path=\"url(#clip430)\" d=\"M 0 0 M1877.41 1528.49 Q1880.77 1529.2 1882.64 1531.47 Q1884.54 1533.74 1884.54 1537.07 Q1884.54 1542.19 1881.02 1544.99 Q1877.5 1547.79 1871.02 1547.79 Q1868.85 1547.79 1866.53 1547.35 Q1864.24 1546.93 1861.79 1546.08 L1861.79 1541.56 Q1863.73 1542.7 1866.04 1543.28 Q1868.36 1543.86 1870.88 1543.86 Q1875.28 1543.86 1877.57 1542.12 Q1879.89 1540.38 1879.89 1537.07 Q1879.89 1534.02 1877.73 1532.31 Q1875.6 1530.57 1871.78 1530.57 L1867.76 1530.57 L1867.76 1526.73 L1871.97 1526.73 Q1875.42 1526.73 1877.25 1525.36 Q1879.08 1523.97 1879.08 1521.38 Q1879.08 1518.72 1877.18 1517.31 Q1875.3 1515.87 1871.78 1515.87 Q1869.86 1515.87 1867.66 1516.29 Q1865.47 1516.7 1862.83 1517.58 L1862.83 1513.42 Q1865.49 1512.68 1867.8 1512.31 Q1870.14 1511.93 1872.2 1511.93 Q1877.53 1511.93 1880.63 1514.37 Q1883.73 1516.77 1883.73 1520.89 Q1883.73 1523.76 1882.09 1525.75 Q1880.44 1527.72 1877.41 1528.49 Z\" fill=\"#000000\" fill-rule=\"evenodd\" fill-opacity=\"1\" /><path clip-path=\"url(#clip430)\" d=\"M 0 0 M2293.21 1516.63 L2281.4 1535.08 L2293.21 1535.08 L2293.21 1516.63 M2291.98 1512.56 L2297.86 1512.56 L2297.86 1535.08 L2302.79 1535.08 L2302.79 1538.97 L2297.86 1538.97 L2297.86 1547.12 L2293.21 1547.12 L2293.21 1538.97 L2277.61 1538.97 L2277.61 1534.46 L2291.98 1512.56 Z\" fill=\"#000000\" fill-rule=\"evenodd\" fill-opacity=\"1\" /><polyline clip-path=\"url(#clip432)\" style=\"stroke:#000000; stroke-width:2; stroke-opacity:0.1; fill:none\" points=\"\n",
       "  142.455,1391.44 2352.76,1391.44 \n",
       "  \"/>\n",
       "<polyline clip-path=\"url(#clip432)\" style=\"stroke:#000000; stroke-width:2; stroke-opacity:0.1; fill:none\" points=\"\n",
       "  142.455,1174.19 2352.76,1174.19 \n",
       "  \"/>\n",
       "<polyline clip-path=\"url(#clip432)\" style=\"stroke:#000000; stroke-width:2; stroke-opacity:0.1; fill:none\" points=\"\n",
       "  142.455,956.951 2352.76,956.951 \n",
       "  \"/>\n",
       "<polyline clip-path=\"url(#clip432)\" style=\"stroke:#000000; stroke-width:2; stroke-opacity:0.1; fill:none\" points=\"\n",
       "  142.455,739.707 2352.76,739.707 \n",
       "  \"/>\n",
       "<polyline clip-path=\"url(#clip432)\" style=\"stroke:#000000; stroke-width:2; stroke-opacity:0.1; fill:none\" points=\"\n",
       "  142.455,522.463 2352.76,522.463 \n",
       "  \"/>\n",
       "<polyline clip-path=\"url(#clip432)\" style=\"stroke:#000000; stroke-width:2; stroke-opacity:0.1; fill:none\" points=\"\n",
       "  142.455,305.22 2352.76,305.22 \n",
       "  \"/>\n",
       "<polyline clip-path=\"url(#clip432)\" style=\"stroke:#000000; stroke-width:2; stroke-opacity:0.1; fill:none\" points=\"\n",
       "  142.455,87.9763 2352.76,87.9763 \n",
       "  \"/>\n",
       "<polyline clip-path=\"url(#clip430)\" style=\"stroke:#000000; stroke-width:4; stroke-opacity:1; fill:none\" points=\"\n",
       "  142.455,1486.45 142.455,47.2441 \n",
       "  \"/>\n",
       "<polyline clip-path=\"url(#clip430)\" style=\"stroke:#000000; stroke-width:4; stroke-opacity:1; fill:none\" points=\"\n",
       "  142.455,1391.44 168.978,1391.44 \n",
       "  \"/>\n",
       "<polyline clip-path=\"url(#clip430)\" style=\"stroke:#000000; stroke-width:4; stroke-opacity:1; fill:none\" points=\"\n",
       "  142.455,1174.19 168.978,1174.19 \n",
       "  \"/>\n",
       "<polyline clip-path=\"url(#clip430)\" style=\"stroke:#000000; stroke-width:4; stroke-opacity:1; fill:none\" points=\"\n",
       "  142.455,956.951 168.978,956.951 \n",
       "  \"/>\n",
       "<polyline clip-path=\"url(#clip430)\" style=\"stroke:#000000; stroke-width:4; stroke-opacity:1; fill:none\" points=\"\n",
       "  142.455,739.707 168.978,739.707 \n",
       "  \"/>\n",
       "<polyline clip-path=\"url(#clip430)\" style=\"stroke:#000000; stroke-width:4; stroke-opacity:1; fill:none\" points=\"\n",
       "  142.455,522.463 168.978,522.463 \n",
       "  \"/>\n",
       "<polyline clip-path=\"url(#clip430)\" style=\"stroke:#000000; stroke-width:4; stroke-opacity:1; fill:none\" points=\"\n",
       "  142.455,305.22 168.978,305.22 \n",
       "  \"/>\n",
       "<polyline clip-path=\"url(#clip430)\" style=\"stroke:#000000; stroke-width:4; stroke-opacity:1; fill:none\" points=\"\n",
       "  142.455,87.9763 168.978,87.9763 \n",
       "  \"/>\n",
       "<path clip-path=\"url(#clip430)\" d=\"M 0 0 M51.3625 1391.89 L81.0383 1391.89 L81.0383 1395.82 L51.3625 1395.82 L51.3625 1391.89 Z\" fill=\"#000000\" fill-rule=\"evenodd\" fill-opacity=\"1\" /><path clip-path=\"url(#clip430)\" d=\"M 0 0 M90.1354 1404.78 L106.455 1404.78 L106.455 1408.72 L84.5105 1408.72 L84.5105 1404.78 Q87.1725 1402.03 91.7558 1397.4 Q96.3623 1392.75 97.5428 1391.4 Q99.7882 1388.88 100.668 1387.14 Q101.571 1385.38 101.571 1383.69 Q101.571 1380.94 99.6261 1379.2 Q97.7048 1377.47 94.603 1377.47 Q92.4039 1377.47 89.9503 1378.23 Q87.5197 1379 84.7419 1380.55 L84.7419 1375.82 Q87.566 1374.69 90.0197 1374.11 Q92.4734 1373.53 94.5104 1373.53 Q99.8808 1373.53 103.075 1376.22 Q106.27 1378.9 106.27 1383.39 Q106.27 1385.52 105.459 1387.44 Q104.672 1389.34 102.566 1391.94 Q101.987 1392.61 98.8854 1395.82 Q95.7836 1399.02 90.1354 1404.78 Z\" fill=\"#000000\" fill-rule=\"evenodd\" fill-opacity=\"1\" /><path clip-path=\"url(#clip430)\" d=\"M 0 0 M50.9921 1174.65 L80.6679 1174.65 L80.6679 1178.58 L50.9921 1178.58 L50.9921 1174.65 Z\" fill=\"#000000\" fill-rule=\"evenodd\" fill-opacity=\"1\" /><path clip-path=\"url(#clip430)\" d=\"M 0 0 M86.5475 1187.54 L94.1863 1187.54 L94.1863 1161.17 L85.8762 1162.84 L85.8762 1158.58 L94.14 1156.91 L98.8159 1156.91 L98.8159 1187.54 L106.455 1187.54 L106.455 1191.47 L86.5475 1191.47 L86.5475 1187.54 Z\" fill=\"#000000\" fill-rule=\"evenodd\" fill-opacity=\"1\" /><path clip-path=\"url(#clip430)\" d=\"M 0 0 M94.5104 942.749 Q90.8993 942.749 89.0706 946.314 Q87.2651 949.856 87.2651 956.985 Q87.2651 964.092 89.0706 967.657 Q90.8993 971.198 94.5104 971.198 Q98.1447 971.198 99.9502 967.657 Q101.779 964.092 101.779 956.985 Q101.779 949.856 99.9502 946.314 Q98.1447 942.749 94.5104 942.749 M94.5104 939.046 Q100.321 939.046 103.376 943.652 Q106.455 948.235 106.455 956.985 Q106.455 965.712 103.376 970.319 Q100.321 974.902 94.5104 974.902 Q88.7003 974.902 85.6216 970.319 Q82.566 965.712 82.566 956.985 Q82.566 948.235 85.6216 943.652 Q88.7003 939.046 94.5104 939.046 Z\" fill=\"#000000\" fill-rule=\"evenodd\" fill-opacity=\"1\" /><path clip-path=\"url(#clip430)\" d=\"M 0 0 M86.5475 753.052 L94.1863 753.052 L94.1863 726.686 L85.8762 728.353 L85.8762 724.094 L94.14 722.427 L98.8159 722.427 L98.8159 753.052 L106.455 753.052 L106.455 756.987 L86.5475 756.987 L86.5475 753.052 Z\" fill=\"#000000\" fill-rule=\"evenodd\" fill-opacity=\"1\" /><path clip-path=\"url(#clip430)\" d=\"M 0 0 M90.1354 535.808 L106.455 535.808 L106.455 539.743 L84.5105 539.743 L84.5105 535.808 Q87.1725 533.054 91.7558 528.424 Q96.3623 523.771 97.5428 522.429 Q99.7882 519.906 100.668 518.17 Q101.571 516.41 101.571 514.72 Q101.571 511.966 99.6261 510.23 Q97.7048 508.494 94.603 508.494 Q92.4039 508.494 89.9503 509.258 Q87.5197 510.021 84.7419 511.572 L84.7419 506.85 Q87.566 505.716 90.0197 505.137 Q92.4734 504.558 94.5104 504.558 Q99.8808 504.558 103.075 507.244 Q106.27 509.929 106.27 514.42 Q106.27 516.549 105.459 518.47 Q104.672 520.369 102.566 522.961 Q101.987 523.632 98.8854 526.85 Q95.7836 530.044 90.1354 535.808 Z\" fill=\"#000000\" fill-rule=\"evenodd\" fill-opacity=\"1\" /><path clip-path=\"url(#clip430)\" d=\"M 0 0 M99.3252 303.866 Q102.682 304.583 104.557 306.852 Q106.455 309.12 106.455 312.454 Q106.455 317.569 102.936 320.37 Q99.4178 323.171 92.9363 323.171 Q90.7604 323.171 88.4456 322.731 Q86.154 322.315 83.7003 321.458 L83.7003 316.944 Q85.6447 318.079 87.9595 318.657 Q90.2743 319.236 92.7975 319.236 Q97.1956 319.236 99.4872 317.5 Q101.802 315.764 101.802 312.454 Q101.802 309.398 99.6493 307.685 Q97.5197 305.949 93.7002 305.949 L89.6725 305.949 L89.6725 302.106 L93.8854 302.106 Q97.3345 302.106 99.1632 300.741 Q100.992 299.352 100.992 296.759 Q100.992 294.097 99.0937 292.685 Q97.2187 291.25 93.7002 291.25 Q91.7789 291.25 89.5799 291.667 Q87.3808 292.083 84.7419 292.963 L84.7419 288.796 Q87.404 288.056 89.7188 287.685 Q92.0567 287.315 94.1169 287.315 Q99.4409 287.315 102.543 289.745 Q105.645 292.153 105.645 296.273 Q105.645 299.144 104.001 301.134 Q102.358 303.102 99.3252 303.866 Z\" fill=\"#000000\" fill-rule=\"evenodd\" fill-opacity=\"1\" /><path clip-path=\"url(#clip430)\" d=\"M 0 0 M96.8715 74.7703 L85.066 93.2193 L96.8715 93.2193 L96.8715 74.7703 M95.6447 70.6963 L101.524 70.6963 L101.524 93.2193 L106.455 93.2193 L106.455 97.1082 L101.524 97.1082 L101.524 105.256 L96.8715 105.256 L96.8715 97.1082 L81.2697 97.1082 L81.2697 92.5943 L95.6447 70.6963 Z\" fill=\"#000000\" fill-rule=\"evenodd\" fill-opacity=\"1\" /><polyline clip-path=\"url(#clip432)\" style=\"stroke:#009af9; stroke-width:4; stroke-opacity:1; fill:none\" points=\"\n",
       "  205.01,87.9763 215.192,114.366 225.374,140.497 319.519,369.848 413.665,577.056 470.242,690.928 526.82,796.803 574.655,880.081 622.491,957.642 674.454,1035.42 \n",
       "  726.416,1106.45 774.321,1165.95 822.226,1219.73 873.586,1271.01 924.945,1315.71 984.45,1359.25 1043.95,1393.94 1096.84,1417.35 1149.72,1433.78 1196.09,1442.43 \n",
       "  1242.46,1445.72 1293.02,1443.17 1343.58,1434.24 1394.43,1418.82 1445.29,1396.93 1501.52,1365.22 1557.75,1325.6 1611.25,1280.57 1664.75,1228.39 1720.38,1166.55 \n",
       "  1776.01,1096.98 1822.84,1032.43 1869.67,962.394 1926.84,869.465 1984.01,768.37 2037.76,665.892 2091.5,556.198 2177.6,365.421 2263.7,156.123 2276.95,122.269 \n",
       "  2290.2,87.9763 \n",
       "  \"/>\n",
       "<path clip-path=\"url(#clip430)\" d=\"\n",
       "M1982.47 216.178 L2279.08 216.178 L2279.08 95.2176 L1982.47 95.2176  Z\n",
       "  \" fill=\"#ffffff\" fill-rule=\"evenodd\" fill-opacity=\"1\"/>\n",
       "<polyline clip-path=\"url(#clip430)\" style=\"stroke:#000000; stroke-width:4; stroke-opacity:1; fill:none\" points=\"\n",
       "  1982.47,216.178 2279.08,216.178 2279.08,95.2176 1982.47,95.2176 1982.47,216.178 \n",
       "  \"/>\n",
       "<polyline clip-path=\"url(#clip430)\" style=\"stroke:#009af9; stroke-width:4; stroke-opacity:1; fill:none\" points=\"\n",
       "  2007.03,155.698 2154.38,155.698 \n",
       "  \"/>\n",
       "<path clip-path=\"url(#clip430)\" d=\"M 0 0 M2192.79 175.385 Q2190.98 180.015 2189.27 181.427 Q2187.55 182.839 2184.68 182.839 L2181.28 182.839 L2181.28 179.274 L2183.78 179.274 Q2185.54 179.274 2186.51 178.44 Q2187.48 177.607 2188.67 174.505 L2189.43 172.561 L2178.94 147.052 L2183.46 147.052 L2191.56 167.329 L2199.66 147.052 L2204.17 147.052 L2192.79 175.385 Z\" fill=\"#000000\" fill-rule=\"evenodd\" fill-opacity=\"1\" /><path clip-path=\"url(#clip430)\" d=\"M 0 0 M2210.05 169.042 L2217.69 169.042 L2217.69 142.677 L2209.38 144.343 L2209.38 140.084 L2217.65 138.418 L2222.32 138.418 L2222.32 169.042 L2229.96 169.042 L2229.96 172.978 L2210.05 172.978 L2210.05 169.042 Z\" fill=\"#000000\" fill-rule=\"evenodd\" fill-opacity=\"1\" /></svg>\n"
      ]
     },
     "execution_count": 26,
     "metadata": {},
     "output_type": "execute_result"
    }
   ],
   "source": [
    "plot(x ->(x-3)*x,-1,4)"
   ]
  },
  {
   "cell_type": "markdown",
   "metadata": {},
   "source": [
    "Więcej na https://github.com/JuliaMath/Roots.jl/blob/master/doc/roots.ipynb"
   ]
  },
  {
   "cell_type": "markdown",
   "metadata": {},
   "source": [
    "### Zadanie:\n",
    "\n",
    "A. Wybrać trzy metody poszukiwania pierwiastków: \n",
    "\n",
    "* wykorzystującą przedział i zmianę znaku, \n",
    "* wykorzystującą pochodną, \n",
    "* wykorzystującą przybliżenie pochodnej\n",
    "\n",
    "    1. Każdą z trzech wybranych metod przetestować (ilość iteracji, ilość wywołań funkcji) na sześciu wybranych  funkcjach ze zbioru http://people.sc.fsu.edu/~jburkardt/py_src/test_zero/test_zero.html Wyniki przedstawić w formie tabelki. <b>Pamiętać o sprawdzeniu czy wynik jest poprawny poprzez obliczenie wartości funkcji dla znalezionego pierwiastka !</b> (3 pkt)\n",
    "\n",
    "    2. Zademonstrować wybrany, ciekawy przykład trudnej funkcji z p.1 i działania metod na niej. (1 pkt)\n",
    "\n",
    "    3. Dla każdej z wybranych metod zademonstrować i wyjaśnić po jednym  przykładzie, dla którego nie działają (można na podstawie p.1 lub wymyślić własny)(1 pkt)\n",
    "\n",
    "B. Narysować <a href=\"https://pl.wikipedia.org/wiki/Wst%C4%99ga_Newtona\"> wstegę Newtona </a> i objaśnić, w jaki sposób powstała i jaki jest jej związek z metodą Newtona do znajdowania pierwiastków. Sposób i język - dowolny. (1 pkt)"
   ]
  },
  {
   "cell_type": "markdown",
   "metadata": {},
   "source": [
    "Wybrane metody poszukiwania pierwiastków :\n",
    "\n",
    "*  Metoda bisekcji\n",
    "\n",
    "*  Metoda Halleya\n",
    "\n",
    "*  Metoda siecznych"
   ]
  },
  {
   "cell_type": "markdown",
   "metadata": {},
   "source": [
    "### (Podpunkt 1)"
   ]
  },
  {
   "cell_type": "markdown",
   "metadata": {},
   "source": [
    "### Pierwsza funkcja - x^3"
   ]
  },
  {
   "cell_type": "code",
   "execution_count": 147,
   "metadata": {},
   "outputs": [
    {
     "data": {
      "text/plain": [
       "DD (generic function with 1 method)"
      ]
     },
     "execution_count": 147,
     "metadata": {},
     "output_type": "execute_result"
    }
   ],
   "source": [
    "D(f) = x->ForwardDiff.derivative(f, float(x))\n",
    "DD(f) = x->ForwardDiff.derivative(D(f), float(x))"
   ]
  },
  {
   "cell_type": "code",
   "execution_count": 88,
   "metadata": {},
   "outputs": [
    {
     "data": {
      "image/svg+xml": [
       "<?xml version=\"1.0\" encoding=\"utf-8\"?>\n",
       "<svg xmlns=\"http://www.w3.org/2000/svg\" xmlns:xlink=\"http://www.w3.org/1999/xlink\" width=\"600\" height=\"400\" viewBox=\"0 0 2400 1600\">\n",
       "<defs>\n",
       "  <clipPath id=\"clip670\">\n",
       "    <rect x=\"0\" y=\"0\" width=\"2400\" height=\"1600\"/>\n",
       "  </clipPath>\n",
       "</defs>\n",
       "<path clip-path=\"url(#clip670)\" d=\"\n",
       "M0 1600 L2400 1600 L2400 0 L0 0  Z\n",
       "  \" fill=\"#ffffff\" fill-rule=\"evenodd\" fill-opacity=\"1\"/>\n",
       "<defs>\n",
       "  <clipPath id=\"clip671\">\n",
       "    <rect x=\"480\" y=\"0\" width=\"1681\" height=\"1600\"/>\n",
       "  </clipPath>\n",
       "</defs>\n",
       "<path clip-path=\"url(#clip670)\" d=\"\n",
       "M143.844 1486.45 L2352.76 1486.45 L2352.76 47.2441 L143.844 47.2441  Z\n",
       "  \" fill=\"#ffffff\" fill-rule=\"evenodd\" fill-opacity=\"1\"/>\n",
       "<defs>\n",
       "  <clipPath id=\"clip672\">\n",
       "    <rect x=\"143\" y=\"47\" width=\"2210\" height=\"1440\"/>\n",
       "  </clipPath>\n",
       "</defs>\n",
       "<polyline clip-path=\"url(#clip672)\" style=\"stroke:#000000; stroke-width:2; stroke-opacity:0.1; fill:none\" points=\"\n",
       "  206.36,1486.45 206.36,47.2441 \n",
       "  \"/>\n",
       "<polyline clip-path=\"url(#clip672)\" style=\"stroke:#000000; stroke-width:2; stroke-opacity:0.1; fill:none\" points=\"\n",
       "  727.33,1486.45 727.33,47.2441 \n",
       "  \"/>\n",
       "<polyline clip-path=\"url(#clip672)\" style=\"stroke:#000000; stroke-width:2; stroke-opacity:0.1; fill:none\" points=\"\n",
       "  1248.3,1486.45 1248.3,47.2441 \n",
       "  \"/>\n",
       "<polyline clip-path=\"url(#clip672)\" style=\"stroke:#000000; stroke-width:2; stroke-opacity:0.1; fill:none\" points=\"\n",
       "  1769.27,1486.45 1769.27,47.2441 \n",
       "  \"/>\n",
       "<polyline clip-path=\"url(#clip672)\" style=\"stroke:#000000; stroke-width:2; stroke-opacity:0.1; fill:none\" points=\"\n",
       "  2290.24,1486.45 2290.24,47.2441 \n",
       "  \"/>\n",
       "<polyline clip-path=\"url(#clip670)\" style=\"stroke:#000000; stroke-width:4; stroke-opacity:1; fill:none\" points=\"\n",
       "  143.844,1486.45 2352.76,1486.45 \n",
       "  \"/>\n",
       "<polyline clip-path=\"url(#clip670)\" style=\"stroke:#000000; stroke-width:4; stroke-opacity:1; fill:none\" points=\"\n",
       "  206.36,1486.45 206.36,1469.18 \n",
       "  \"/>\n",
       "<polyline clip-path=\"url(#clip670)\" style=\"stroke:#000000; stroke-width:4; stroke-opacity:1; fill:none\" points=\"\n",
       "  727.33,1486.45 727.33,1469.18 \n",
       "  \"/>\n",
       "<polyline clip-path=\"url(#clip670)\" style=\"stroke:#000000; stroke-width:4; stroke-opacity:1; fill:none\" points=\"\n",
       "  1248.3,1486.45 1248.3,1469.18 \n",
       "  \"/>\n",
       "<polyline clip-path=\"url(#clip670)\" style=\"stroke:#000000; stroke-width:4; stroke-opacity:1; fill:none\" points=\"\n",
       "  1769.27,1486.45 1769.27,1469.18 \n",
       "  \"/>\n",
       "<polyline clip-path=\"url(#clip670)\" style=\"stroke:#000000; stroke-width:4; stroke-opacity:1; fill:none\" points=\"\n",
       "  2290.24,1486.45 2290.24,1469.18 \n",
       "  \"/>\n",
       "<path clip-path=\"url(#clip670)\" d=\"M 0 0 M178.814 1530.29 L208.49 1530.29 L208.49 1534.23 L178.814 1534.23 L178.814 1530.29 Z\" fill=\"#000000\" fill-rule=\"evenodd\" fill-opacity=\"1\" /><path clip-path=\"url(#clip670)\" d=\"M 0 0 M217.587 1543.18 L233.906 1543.18 L233.906 1547.12 L211.962 1547.12 L211.962 1543.18 Q214.624 1540.43 219.207 1535.8 Q223.814 1531.15 224.994 1529.81 Q227.24 1527.28 228.119 1525.55 Q229.022 1523.79 229.022 1522.1 Q229.022 1519.34 227.078 1517.61 Q225.156 1515.87 222.054 1515.87 Q219.855 1515.87 217.402 1516.63 Q214.971 1517.4 212.193 1518.95 L212.193 1514.23 Q215.017 1513.09 217.471 1512.51 Q219.925 1511.93 221.962 1511.93 Q227.332 1511.93 230.527 1514.62 Q233.721 1517.31 233.721 1521.8 Q233.721 1523.93 232.911 1525.85 Q232.124 1527.74 230.017 1530.34 Q229.439 1531.01 226.337 1534.23 Q223.235 1537.42 217.587 1543.18 Z\" fill=\"#000000\" fill-rule=\"evenodd\" fill-opacity=\"1\" /><path clip-path=\"url(#clip670)\" d=\"M 0 0 M699.599 1530.29 L729.274 1530.29 L729.274 1534.23 L699.599 1534.23 L699.599 1530.29 Z\" fill=\"#000000\" fill-rule=\"evenodd\" fill-opacity=\"1\" /><path clip-path=\"url(#clip670)\" d=\"M 0 0 M735.154 1543.18 L742.793 1543.18 L742.793 1516.82 L734.483 1518.49 L734.483 1514.23 L742.747 1512.56 L747.422 1512.56 L747.422 1543.18 L755.061 1543.18 L755.061 1547.12 L735.154 1547.12 L735.154 1543.18 Z\" fill=\"#000000\" fill-rule=\"evenodd\" fill-opacity=\"1\" /><path clip-path=\"url(#clip670)\" d=\"M 0 0 M1248.3 1515.64 Q1244.69 1515.64 1242.86 1519.2 Q1241.05 1522.75 1241.05 1529.87 Q1241.05 1536.98 1242.86 1540.55 Q1244.69 1544.09 1248.3 1544.09 Q1251.93 1544.09 1253.74 1540.55 Q1255.57 1536.98 1255.57 1529.87 Q1255.57 1522.75 1253.74 1519.2 Q1251.93 1515.64 1248.3 1515.64 M1248.3 1511.93 Q1254.11 1511.93 1257.17 1516.54 Q1260.24 1521.12 1260.24 1529.87 Q1260.24 1538.6 1257.17 1543.21 Q1254.11 1547.79 1248.3 1547.79 Q1242.49 1547.79 1239.41 1543.21 Q1236.36 1538.6 1236.36 1529.87 Q1236.36 1521.12 1239.41 1516.54 Q1242.49 1511.93 1248.3 1511.93 Z\" fill=\"#000000\" fill-rule=\"evenodd\" fill-opacity=\"1\" /><path clip-path=\"url(#clip670)\" d=\"M 0 0 M1759.65 1543.18 L1767.29 1543.18 L1767.29 1516.82 L1758.98 1518.49 L1758.98 1514.23 L1767.24 1512.56 L1771.92 1512.56 L1771.92 1543.18 L1779.56 1543.18 L1779.56 1547.12 L1759.65 1547.12 L1759.65 1543.18 Z\" fill=\"#000000\" fill-rule=\"evenodd\" fill-opacity=\"1\" /><path clip-path=\"url(#clip670)\" d=\"M 0 0 M2284.89 1543.18 L2301.21 1543.18 L2301.21 1547.12 L2279.27 1547.12 L2279.27 1543.18 Q2281.93 1540.43 2286.51 1535.8 Q2291.12 1531.15 2292.3 1529.81 Q2294.55 1527.28 2295.42 1525.55 Q2296.33 1523.79 2296.33 1522.1 Q2296.33 1519.34 2294.38 1517.61 Q2292.46 1515.87 2289.36 1515.87 Q2287.16 1515.87 2284.71 1516.63 Q2282.28 1517.4 2279.5 1518.95 L2279.5 1514.23 Q2282.32 1513.09 2284.78 1512.51 Q2287.23 1511.93 2289.27 1511.93 Q2294.64 1511.93 2297.83 1514.62 Q2301.03 1517.31 2301.03 1521.8 Q2301.03 1523.93 2300.22 1525.85 Q2299.43 1527.74 2297.32 1530.34 Q2296.74 1531.01 2293.64 1534.23 Q2290.54 1537.42 2284.89 1543.18 Z\" fill=\"#000000\" fill-rule=\"evenodd\" fill-opacity=\"1\" /><polyline clip-path=\"url(#clip672)\" style=\"stroke:#000000; stroke-width:2; stroke-opacity:0.1; fill:none\" points=\"\n",
       "  143.844,1276 2352.76,1276 \n",
       "  \"/>\n",
       "<polyline clip-path=\"url(#clip672)\" style=\"stroke:#000000; stroke-width:2; stroke-opacity:0.1; fill:none\" points=\"\n",
       "  143.844,1021.42 2352.76,1021.42 \n",
       "  \"/>\n",
       "<polyline clip-path=\"url(#clip672)\" style=\"stroke:#000000; stroke-width:2; stroke-opacity:0.1; fill:none\" points=\"\n",
       "  143.844,766.846 2352.76,766.846 \n",
       "  \"/>\n",
       "<polyline clip-path=\"url(#clip672)\" style=\"stroke:#000000; stroke-width:2; stroke-opacity:0.1; fill:none\" points=\"\n",
       "  143.844,512.27 2352.76,512.27 \n",
       "  \"/>\n",
       "<polyline clip-path=\"url(#clip672)\" style=\"stroke:#000000; stroke-width:2; stroke-opacity:0.1; fill:none\" points=\"\n",
       "  143.844,257.694 2352.76,257.694 \n",
       "  \"/>\n",
       "<polyline clip-path=\"url(#clip670)\" style=\"stroke:#000000; stroke-width:4; stroke-opacity:1; fill:none\" points=\"\n",
       "  143.844,1486.45 143.844,47.2441 \n",
       "  \"/>\n",
       "<polyline clip-path=\"url(#clip670)\" style=\"stroke:#000000; stroke-width:4; stroke-opacity:1; fill:none\" points=\"\n",
       "  143.844,1276 170.351,1276 \n",
       "  \"/>\n",
       "<polyline clip-path=\"url(#clip670)\" style=\"stroke:#000000; stroke-width:4; stroke-opacity:1; fill:none\" points=\"\n",
       "  143.844,1021.42 170.351,1021.42 \n",
       "  \"/>\n",
       "<polyline clip-path=\"url(#clip670)\" style=\"stroke:#000000; stroke-width:4; stroke-opacity:1; fill:none\" points=\"\n",
       "  143.844,766.846 170.351,766.846 \n",
       "  \"/>\n",
       "<polyline clip-path=\"url(#clip670)\" style=\"stroke:#000000; stroke-width:4; stroke-opacity:1; fill:none\" points=\"\n",
       "  143.844,512.27 170.351,512.27 \n",
       "  \"/>\n",
       "<polyline clip-path=\"url(#clip670)\" style=\"stroke:#000000; stroke-width:4; stroke-opacity:1; fill:none\" points=\"\n",
       "  143.844,257.694 170.351,257.694 \n",
       "  \"/>\n",
       "<path clip-path=\"url(#clip670)\" d=\"M 0 0 M50.9921 1276.45 L80.6679 1276.45 L80.6679 1280.38 L50.9921 1280.38 L50.9921 1276.45 Z\" fill=\"#000000\" fill-rule=\"evenodd\" fill-opacity=\"1\" /><path clip-path=\"url(#clip670)\" d=\"M 0 0 M96.316 1274.13 Q93.1678 1274.13 91.316 1276.29 Q89.4873 1278.44 89.4873 1282.19 Q89.4873 1285.92 91.316 1288.09 Q93.1678 1290.25 96.316 1290.25 Q99.4641 1290.25 101.293 1288.09 Q103.145 1285.92 103.145 1282.19 Q103.145 1278.44 101.293 1276.29 Q99.4641 1274.13 96.316 1274.13 M105.598 1259.48 L105.598 1263.74 Q103.839 1262.91 102.034 1262.47 Q100.251 1262.03 98.4919 1262.03 Q93.8623 1262.03 91.4086 1265.15 Q88.978 1268.28 88.6308 1274.6 Q89.9965 1272.58 92.0567 1271.52 Q94.1169 1270.43 96.5937 1270.43 Q101.802 1270.43 104.811 1273.6 Q107.844 1276.75 107.844 1282.19 Q107.844 1287.51 104.696 1290.73 Q101.547 1293.95 96.316 1293.95 Q90.3206 1293.95 87.1493 1289.37 Q83.9781 1284.76 83.9781 1276.03 Q83.9781 1267.84 87.8669 1262.98 Q91.7558 1258.09 98.3067 1258.09 Q100.066 1258.09 101.848 1258.44 Q103.654 1258.79 105.598 1259.48 Z\" fill=\"#000000\" fill-rule=\"evenodd\" fill-opacity=\"1\" /><path clip-path=\"url(#clip670)\" d=\"M 0 0 M51.8023 1021.87 L81.4781 1021.87 L81.4781 1025.81 L51.8023 1025.81 L51.8023 1021.87 Z\" fill=\"#000000\" fill-rule=\"evenodd\" fill-opacity=\"1\" /><path clip-path=\"url(#clip670)\" d=\"M 0 0 M100.714 1020.07 Q104.071 1020.79 105.946 1023.05 Q107.844 1025.32 107.844 1028.66 Q107.844 1033.77 104.325 1036.57 Q100.807 1039.37 94.3252 1039.37 Q92.1493 1039.37 89.8345 1038.93 Q87.5429 1038.52 85.0892 1037.66 L85.0892 1033.15 Q87.0336 1034.28 89.3484 1034.86 Q91.6632 1035.44 94.1863 1035.44 Q98.5845 1035.44 100.876 1033.7 Q103.191 1031.97 103.191 1028.66 Q103.191 1025.6 101.038 1023.89 Q98.9085 1022.15 95.0891 1022.15 L91.0614 1022.15 L91.0614 1018.31 L95.2743 1018.31 Q98.7234 1018.31 100.552 1016.94 Q102.381 1015.55 102.381 1012.96 Q102.381 1010.3 100.483 1008.89 Q98.6076 1007.45 95.0891 1007.45 Q93.1678 1007.45 90.9688 1007.87 Q88.7697 1008.29 86.1308 1009.17 L86.1308 1005 Q88.7928 1004.26 91.1077 1003.89 Q93.4456 1003.52 95.5058 1003.52 Q100.83 1003.52 103.932 1005.95 Q107.033 1008.36 107.033 1012.48 Q107.033 1015.35 105.39 1017.34 Q103.746 1019.3 100.714 1020.07 Z\" fill=\"#000000\" fill-rule=\"evenodd\" fill-opacity=\"1\" /><path clip-path=\"url(#clip670)\" d=\"M 0 0 M95.8993 752.645 Q92.2882 752.645 90.4595 756.209 Q88.654 759.751 88.654 766.881 Q88.654 773.987 90.4595 777.552 Q92.2882 781.094 95.8993 781.094 Q99.5335 781.094 101.339 777.552 Q103.168 773.987 103.168 766.881 Q103.168 759.751 101.339 756.209 Q99.5335 752.645 95.8993 752.645 M95.8993 748.941 Q101.709 748.941 104.765 753.547 Q107.844 758.131 107.844 766.881 Q107.844 775.608 104.765 780.214 Q101.709 784.797 95.8993 784.797 Q90.0891 784.797 87.0105 780.214 Q83.9549 775.608 83.9549 766.881 Q83.9549 758.131 87.0105 753.547 Q90.0891 748.941 95.8993 748.941 Z\" fill=\"#000000\" fill-rule=\"evenodd\" fill-opacity=\"1\" /><path clip-path=\"url(#clip670)\" d=\"M 0 0 M100.714 510.916 Q104.071 511.633 105.946 513.902 Q107.844 516.17 107.844 519.504 Q107.844 524.619 104.325 527.42 Q100.807 530.221 94.3252 530.221 Q92.1493 530.221 89.8345 529.781 Q87.5429 529.365 85.0892 528.508 L85.0892 523.994 Q87.0336 525.129 89.3484 525.707 Q91.6632 526.286 94.1863 526.286 Q98.5845 526.286 100.876 524.55 Q103.191 522.814 103.191 519.504 Q103.191 516.448 101.038 514.735 Q98.9085 512.999 95.0891 512.999 L91.0614 512.999 L91.0614 509.156 L95.2743 509.156 Q98.7234 509.156 100.552 507.791 Q102.381 506.402 102.381 503.809 Q102.381 501.147 100.483 499.735 Q98.6076 498.3 95.0891 498.3 Q93.1678 498.3 90.9688 498.717 Q88.7697 499.133 86.1308 500.013 L86.1308 495.846 Q88.7928 495.106 91.1077 494.735 Q93.4456 494.365 95.5058 494.365 Q100.83 494.365 103.932 496.795 Q107.033 499.203 107.033 503.323 Q107.033 506.193 105.39 508.184 Q103.746 510.152 100.714 510.916 Z\" fill=\"#000000\" fill-rule=\"evenodd\" fill-opacity=\"1\" /><path clip-path=\"url(#clip670)\" d=\"M 0 0 M96.316 255.83 Q93.1678 255.83 91.316 257.983 Q89.4873 260.136 89.4873 263.886 Q89.4873 267.613 91.316 269.789 Q93.1678 271.941 96.316 271.941 Q99.4641 271.941 101.293 269.789 Q103.145 267.613 103.145 263.886 Q103.145 260.136 101.293 257.983 Q99.4641 255.83 96.316 255.83 M105.598 241.178 L105.598 245.437 Q103.839 244.603 102.034 244.164 Q100.251 243.724 98.4919 243.724 Q93.8623 243.724 91.4086 246.849 Q88.978 249.974 88.6308 256.293 Q89.9965 254.279 92.0567 253.215 Q94.1169 252.127 96.5937 252.127 Q101.802 252.127 104.811 255.298 Q107.844 258.446 107.844 263.886 Q107.844 269.21 104.696 272.427 Q101.547 275.645 96.316 275.645 Q90.3206 275.645 87.1493 271.062 Q83.9781 266.455 83.9781 257.728 Q83.9781 249.534 87.8669 244.673 Q91.7558 239.789 98.3067 239.789 Q100.066 239.789 101.848 240.136 Q103.654 240.483 105.598 241.178 Z\" fill=\"#000000\" fill-rule=\"evenodd\" fill-opacity=\"1\" /><polyline clip-path=\"url(#clip672)\" style=\"stroke:#009af9; stroke-width:4; stroke-opacity:1; fill:none\" points=\"\n",
       "  206.36,1445.72 211.448,1435.82 216.535,1426.02 221.623,1416.32 226.711,1406.71 273.754,1322.32 320.797,1245.7 367.84,1176.47 414.883,1114.26 471.425,1048.24 \n",
       "  527.967,991.161 575.773,949.399 623.578,913.171 727.438,851.652 823.188,812.953 925.842,786.968 1044.78,771.905 1150.47,767.408 1243.16,766.846 1344.21,766.317 \n",
       "  1445.86,762.218 1558.25,748.975 1665.19,723.363 1720.78,703.545 1776.38,678.467 1823.17,652.827 1869.97,622.653 1927.11,579.13 1984.24,527.628 2037.95,471.339 \n",
       "  2091.66,406.847 2134.69,348.893 2177.71,285.032 2220.73,214.976 2263.76,138.439 2270.38,126.066 2277,113.532 2283.62,100.836 2290.24,87.9763 \n",
       "  \"/>\n",
       "<path clip-path=\"url(#clip670)\" d=\"\n",
       "M1982.67 216.178 L2279.13 216.178 L2279.13 95.2176 L1982.67 95.2176  Z\n",
       "  \" fill=\"#ffffff\" fill-rule=\"evenodd\" fill-opacity=\"1\"/>\n",
       "<polyline clip-path=\"url(#clip670)\" style=\"stroke:#000000; stroke-width:4; stroke-opacity:1; fill:none\" points=\"\n",
       "  1982.67,216.178 2279.13,216.178 2279.13,95.2176 1982.67,95.2176 1982.67,216.178 \n",
       "  \"/>\n",
       "<polyline clip-path=\"url(#clip670)\" style=\"stroke:#009af9; stroke-width:4; stroke-opacity:1; fill:none\" points=\"\n",
       "  2007.22,155.698 2154.48,155.698 \n",
       "  \"/>\n",
       "<path clip-path=\"url(#clip670)\" d=\"M 0 0 M2192.86 175.385 Q2191.06 180.015 2189.34 181.427 Q2187.63 182.839 2184.76 182.839 L2181.36 182.839 L2181.36 179.274 L2183.86 179.274 Q2185.62 179.274 2186.59 178.44 Q2187.56 177.607 2188.74 174.505 L2189.51 172.561 L2179.02 147.052 L2183.53 147.052 L2191.64 167.329 L2199.74 147.052 L2204.25 147.052 L2192.86 175.385 Z\" fill=\"#000000\" fill-rule=\"evenodd\" fill-opacity=\"1\" /><path clip-path=\"url(#clip670)\" d=\"M 0 0 M2210.13 169.042 L2217.77 169.042 L2217.77 142.677 L2209.46 144.343 L2209.46 140.084 L2217.72 138.418 L2222.4 138.418 L2222.4 169.042 L2230.04 169.042 L2230.04 172.978 L2210.13 172.978 L2210.13 169.042 Z\" fill=\"#000000\" fill-rule=\"evenodd\" fill-opacity=\"1\" /></svg>\n"
      ]
     },
     "execution_count": 88,
     "metadata": {},
     "output_type": "execute_result"
    }
   ],
   "source": [
    "a(x) = x^3\n",
    "plot(a,-2,2)"
   ]
  },
  {
   "cell_type": "code",
   "execution_count": 193,
   "metadata": {},
   "outputs": [
    {
     "name": "stdout",
     "output_type": "stream",
     "text": [
      "Results of univariate zero finding:\n",
      "\n",
      "* Converged to: 2.0\n",
      "* Algorithm: Roots.BisectionExact()\n",
      "* iterations: 0\n",
      "* function evaluations: 3\n",
      "* stopped as x_n ≈ x_{n-1} using atol=xatol, rtol=xrtol\n",
      "* Note: Exact zero found\n",
      "\n",
      "Trace:\n",
      "(a_0, b_0) = (-1.0000000000000000,  2.0000000000000000)\n",
      "\n"
     ]
    },
    {
     "data": {
      "text/plain": [
       "0.0"
      ]
     },
     "execution_count": 193,
     "metadata": {},
     "output_type": "execute_result"
    }
   ],
   "source": [
    "x = find_zero(a, (-1, 2),verbose=true)  #Bisekcja"
   ]
  },
  {
   "cell_type": "code",
   "execution_count": 194,
   "metadata": {},
   "outputs": [
    {
     "data": {
      "text/plain": [
       "true"
      ]
     },
     "execution_count": 194,
     "metadata": {},
     "output_type": "execute_result"
    }
   ],
   "source": [
    "iszero(a(0.0))"
   ]
  },
  {
   "cell_type": "code",
   "execution_count": 148,
   "metadata": {},
   "outputs": [
    {
     "name": "stdout",
     "output_type": "stream",
     "text": [
      "Results of univariate zero finding:\n",
      "\n",
      "* Converged to: -6.103515625000002e-6\n",
      "* Algorithm: Roots.Halley()\n",
      "* iterations: 15\n",
      "* function evaluations: 48\n",
      "* stopped as |f(x_n)| ≤ max(δ, max(1,|x|)⋅ϵ) using δ = atol, ϵ = rtol\n",
      "\n",
      "Trace:\n",
      "x_0 = -0.2000000000000000,\t fx_0 = -0.0080000000000000\n",
      "x_1 = -0.1000000000000000,\t fx_1 = -0.0010000000000000\n",
      "x_2 = -0.0500000000000000,\t fx_2 = -0.0001250000000000\n",
      "x_3 = -0.0250000000000000,\t fx_3 = -0.0000156250000000\n",
      "x_4 = -0.0125000000000000,\t fx_4 = -0.0000019531250000\n",
      "x_5 = -0.0062500000000000,\t fx_5 = -0.0000002441406250\n",
      "x_6 = -0.0031250000000000,\t fx_6 = -0.0000000305175781\n",
      "x_7 = -0.0015625000000000,\t fx_7 = -0.0000000038146973\n",
      "x_8 = -0.0007812500000000,\t fx_8 = -0.0000000004768372\n",
      "x_9 = -0.0003906250000000,\t fx_9 = -0.0000000000596046\n",
      "x_10 = -0.0001953125000000,\t fx_10 = -0.0000000000074506\n",
      "x_11 = -0.0000976562500000,\t fx_11 = -0.0000000000009313\n",
      "x_12 = -0.0000488281250000,\t fx_12 = -0.0000000000001164\n",
      "x_13 = -0.0000244140625000,\t fx_13 = -0.0000000000000146\n",
      "x_14 = -0.0000122070312500,\t fx_14 = -0.0000000000000018\n",
      "x_15 = -0.0000061035156250,\t fx_15 = -0.0000000000000002\n",
      "\n"
     ]
    },
    {
     "data": {
      "text/plain": [
       "-6.103515625000002e-6"
      ]
     },
     "execution_count": 148,
     "metadata": {},
     "output_type": "execute_result"
    }
   ],
   "source": [
    "find_zero((a, D(a), DD(a)), -0.2, Roots.Halley(), verbose=true)  # Halley"
   ]
  },
  {
   "cell_type": "code",
   "execution_count": 195,
   "metadata": {},
   "outputs": [
    {
     "data": {
      "text/plain": [
       "false"
      ]
     },
     "execution_count": 195,
     "metadata": {},
     "output_type": "execute_result"
    }
   ],
   "source": [
    "iszero(a(-6.103515625000002e-6))"
   ]
  },
  {
   "cell_type": "code",
   "execution_count": 93,
   "metadata": {},
   "outputs": [
    {
     "name": "stdout",
     "output_type": "stream",
     "text": [
      "Results of univariate zero finding:\n",
      "\n",
      "* Converged to: -7.320139035701368e-6\n",
      "* Algorithm: Roots.Secant()\n",
      "* iterations: 36\n",
      "* function evaluations: 38\n",
      "* stopped as |f(x_n)| ≤ max(δ, max(1,|x|)⋅ϵ) using δ = atol, ϵ = rtol\n",
      "\n",
      "Trace:\n",
      "x_0 = -0.2000000000000000,\t fx_0 = -0.0080000000000000\n",
      "x_1 = -0.1333313148053338,\t fx_1 = -0.0023702627171735\n",
      "x_2 = -0.1052621010958520,\t fx_2 = -0.0011663156513010\n",
      "x_3 = -0.0780702384325595,\t fx_3 = -0.0004758351466419\n",
      "x_4 = -0.0593313401283342,\t fx_4 = -0.0002088586535085\n",
      "x_5 = -0.0446716934226751,\t fx_5 = -0.0000891450531593\n",
      "x_6 = -0.0337553482366496,\t fx_6 = -0.0000384616381987\n",
      "x_7 = -0.0254713658072281,\t fx_7 = -0.0000165255795486\n",
      "x_8 = -0.0192306088508122,\t fx_8 = -0.0000071117929345\n",
      "x_9 = -0.0145159310014037,\t fx_9 = -0.0000030586845233\n",
      "x_10 = -0.0109579920795677,\t fx_10 = -0.0000013158092847\n",
      "x_11 = -0.0082718737826161,\t fx_11 = -0.0000005659938304\n",
      "x_12 = -0.0062442730242616,\t fx_12 = -0.0000002434701098\n",
      "x_13 = -0.0047136563663964,\t fx_13 = -0.0000001047306395\n",
      "x_14 = -0.0035582356258244,\t fx_14 = -0.0000000450509663\n",
      "x_15 = -0.0026860321089030,\t fx_15 = -0.0000000193790998\n",
      "x_16 = -0.0020276257939900,\t fx_16 = -0.0000000083361097\n",
      "x_17 = -0.0015306093855140,\t fx_17 = -0.0000000035858582\n",
      "x_18 = -0.0011554228530358,\t fx_18 = -0.0000000015424918\n",
      "x_19 = -0.0008722029032945,\t fx_19 = -0.0000000006635178\n",
      "x_20 = -0.0006584064931589,\t fx_20 = -0.0000000002854186\n",
      "x_21 = -0.0004970163566993,\t fx_21 = -0.0000000001227756\n",
      "x_22 = -0.0003751865475182,\t fx_22 = -0.0000000000528131\n",
      "x_23 = -0.0002832199453725,\t fx_23 = -0.0000000000227181\n",
      "x_24 = -0.0002137964114046,\t fx_24 = -0.0000000000097724\n",
      "x_25 = -0.0001613901360909,\t fx_25 = -0.0000000000042037\n",
      "x_26 = -0.0001218298092882,\t fx_26 = -0.0000000000018083\n",
      "x_27 = -0.0000919666021146,\t fx_27 = -0.0000000000007778\n",
      "x_28 = -0.0000694235339769,\t fx_28 = -0.0000000000003346\n",
      "x_29 = -0.0000524062753111,\t fx_29 = -0.0000000000001439\n",
      "x_30 = -0.0000395603268035,\t fx_30 = -0.0000000000000619\n",
      "x_31 = -0.0000298632071734,\t fx_31 = -0.0000000000000266\n",
      "x_32 = -0.0000225430681377,\t fx_32 = -0.0000000000000115\n",
      "x_33 = -0.0000170172586658,\t fx_33 = -0.0000000000000049\n",
      "x_34 = -0.0000128459485076,\t fx_34 = -0.0000000000000021\n",
      "x_35 = -0.0000096971196301,\t fx_35 = -0.0000000000000009\n",
      "x_36 = -0.0000073201390357,\t fx_36 = -0.0000000000000004\n",
      "\n"
     ]
    },
    {
     "data": {
      "text/plain": [
       "-7.320139035701368e-6"
      ]
     },
     "execution_count": 93,
     "metadata": {},
     "output_type": "execute_result"
    }
   ],
   "source": [
    "x = find_zero(a, -0.2, Order1(),  verbose=true) "
   ]
  },
  {
   "cell_type": "code",
   "execution_count": 196,
   "metadata": {},
   "outputs": [
    {
     "data": {
      "text/plain": [
       "false"
      ]
     },
     "execution_count": 196,
     "metadata": {},
     "output_type": "execute_result"
    }
   ],
   "source": [
    "iszero(a(-7.320139035701368e-6))"
   ]
  },
  {
   "cell_type": "markdown",
   "metadata": {},
   "source": [
    "### Druga funkcja - ( x + 3 ) * ( x - 1 )^2"
   ]
  },
  {
   "cell_type": "code",
   "execution_count": 94,
   "metadata": {},
   "outputs": [
    {
     "data": {
      "text/plain": [
       "b (generic function with 1 method)"
      ]
     },
     "execution_count": 94,
     "metadata": {},
     "output_type": "execute_result"
    }
   ],
   "source": [
    "b(x) = (x+3)*(x-1)*(x-1)"
   ]
  },
  {
   "cell_type": "code",
   "execution_count": 95,
   "metadata": {},
   "outputs": [
    {
     "data": {
      "image/svg+xml": [
       "<?xml version=\"1.0\" encoding=\"utf-8\"?>\n",
       "<svg xmlns=\"http://www.w3.org/2000/svg\" xmlns:xlink=\"http://www.w3.org/1999/xlink\" width=\"600\" height=\"400\" viewBox=\"0 0 2400 1600\">\n",
       "<defs>\n",
       "  <clipPath id=\"clip710\">\n",
       "    <rect x=\"0\" y=\"0\" width=\"2400\" height=\"1600\"/>\n",
       "  </clipPath>\n",
       "</defs>\n",
       "<path clip-path=\"url(#clip710)\" d=\"\n",
       "M0 1600 L2400 1600 L2400 0 L0 0  Z\n",
       "  \" fill=\"#ffffff\" fill-rule=\"evenodd\" fill-opacity=\"1\"/>\n",
       "<defs>\n",
       "  <clipPath id=\"clip711\">\n",
       "    <rect x=\"480\" y=\"0\" width=\"1681\" height=\"1600\"/>\n",
       "  </clipPath>\n",
       "</defs>\n",
       "<path clip-path=\"url(#clip710)\" d=\"\n",
       "M169.7 1486.45 L2352.76 1486.45 L2352.76 47.2441 L169.7 47.2441  Z\n",
       "  \" fill=\"#ffffff\" fill-rule=\"evenodd\" fill-opacity=\"1\"/>\n",
       "<defs>\n",
       "  <clipPath id=\"clip712\">\n",
       "    <rect x=\"169\" y=\"47\" width=\"2184\" height=\"1440\"/>\n",
       "  </clipPath>\n",
       "</defs>\n",
       "<polyline clip-path=\"url(#clip712)\" style=\"stroke:#000000; stroke-width:2; stroke-opacity:0.1; fill:none\" points=\"\n",
       "  437.433,1486.45 437.433,47.2441 \n",
       "  \"/>\n",
       "<polyline clip-path=\"url(#clip712)\" style=\"stroke:#000000; stroke-width:2; stroke-opacity:0.1; fill:none\" points=\"\n",
       "  849.331,1486.45 849.331,47.2441 \n",
       "  \"/>\n",
       "<polyline clip-path=\"url(#clip712)\" style=\"stroke:#000000; stroke-width:2; stroke-opacity:0.1; fill:none\" points=\"\n",
       "  1261.23,1486.45 1261.23,47.2441 \n",
       "  \"/>\n",
       "<polyline clip-path=\"url(#clip712)\" style=\"stroke:#000000; stroke-width:2; stroke-opacity:0.1; fill:none\" points=\"\n",
       "  1673.13,1486.45 1673.13,47.2441 \n",
       "  \"/>\n",
       "<polyline clip-path=\"url(#clip712)\" style=\"stroke:#000000; stroke-width:2; stroke-opacity:0.1; fill:none\" points=\"\n",
       "  2085.02,1486.45 2085.02,47.2441 \n",
       "  \"/>\n",
       "<polyline clip-path=\"url(#clip710)\" style=\"stroke:#000000; stroke-width:4; stroke-opacity:1; fill:none\" points=\"\n",
       "  169.7,1486.45 2352.76,1486.45 \n",
       "  \"/>\n",
       "<polyline clip-path=\"url(#clip710)\" style=\"stroke:#000000; stroke-width:4; stroke-opacity:1; fill:none\" points=\"\n",
       "  437.433,1486.45 437.433,1469.18 \n",
       "  \"/>\n",
       "<polyline clip-path=\"url(#clip710)\" style=\"stroke:#000000; stroke-width:4; stroke-opacity:1; fill:none\" points=\"\n",
       "  849.331,1486.45 849.331,1469.18 \n",
       "  \"/>\n",
       "<polyline clip-path=\"url(#clip710)\" style=\"stroke:#000000; stroke-width:4; stroke-opacity:1; fill:none\" points=\"\n",
       "  1261.23,1486.45 1261.23,1469.18 \n",
       "  \"/>\n",
       "<polyline clip-path=\"url(#clip710)\" style=\"stroke:#000000; stroke-width:4; stroke-opacity:1; fill:none\" points=\"\n",
       "  1673.13,1486.45 1673.13,1469.18 \n",
       "  \"/>\n",
       "<polyline clip-path=\"url(#clip710)\" style=\"stroke:#000000; stroke-width:4; stroke-opacity:1; fill:none\" points=\"\n",
       "  2085.02,1486.45 2085.02,1469.18 \n",
       "  \"/>\n",
       "<path clip-path=\"url(#clip710)\" d=\"M 0 0 M408.845 1530.29 L438.521 1530.29 L438.521 1534.23 L408.845 1534.23 L408.845 1530.29 Z\" fill=\"#000000\" fill-rule=\"evenodd\" fill-opacity=\"1\" /><path clip-path=\"url(#clip710)\" d=\"M 0 0 M456.438 1516.63 L444.632 1535.08 L456.438 1535.08 L456.438 1516.63 M455.211 1512.56 L461.091 1512.56 L461.091 1535.08 L466.021 1535.08 L466.021 1538.97 L461.091 1538.97 L461.091 1547.12 L456.438 1547.12 L456.438 1538.97 L440.836 1538.97 L440.836 1534.46 L455.211 1512.56 Z\" fill=\"#000000\" fill-rule=\"evenodd\" fill-opacity=\"1\" /><path clip-path=\"url(#clip710)\" d=\"M 0 0 M821.784 1530.29 L851.46 1530.29 L851.46 1534.23 L821.784 1534.23 L821.784 1530.29 Z\" fill=\"#000000\" fill-rule=\"evenodd\" fill-opacity=\"1\" /><path clip-path=\"url(#clip710)\" d=\"M 0 0 M860.557 1543.18 L876.877 1543.18 L876.877 1547.12 L854.932 1547.12 L854.932 1543.18 Q857.594 1540.43 862.178 1535.8 Q866.784 1531.15 867.965 1529.81 Q870.21 1527.28 871.09 1525.55 Q871.993 1523.79 871.993 1522.1 Q871.993 1519.34 870.048 1517.61 Q868.127 1515.87 865.025 1515.87 Q862.826 1515.87 860.372 1516.63 Q857.942 1517.4 855.164 1518.95 L855.164 1514.23 Q857.988 1513.09 860.442 1512.51 Q862.895 1511.93 864.932 1511.93 Q870.303 1511.93 873.497 1514.62 Q876.692 1517.31 876.692 1521.8 Q876.692 1523.93 875.881 1525.85 Q875.094 1527.74 872.988 1530.34 Q872.409 1531.01 869.307 1534.23 Q866.206 1537.42 860.557 1543.18 Z\" fill=\"#000000\" fill-rule=\"evenodd\" fill-opacity=\"1\" /><path clip-path=\"url(#clip710)\" d=\"M 0 0 M1261.23 1515.64 Q1257.62 1515.64 1255.79 1519.2 Q1253.98 1522.75 1253.98 1529.87 Q1253.98 1536.98 1255.79 1540.55 Q1257.62 1544.09 1261.23 1544.09 Q1264.86 1544.09 1266.67 1540.55 Q1268.5 1536.98 1268.5 1529.87 Q1268.5 1522.75 1266.67 1519.2 Q1264.86 1515.64 1261.23 1515.64 M1261.23 1511.93 Q1267.04 1511.93 1270.09 1516.54 Q1273.17 1521.12 1273.17 1529.87 Q1273.17 1538.6 1270.09 1543.21 Q1267.04 1547.79 1261.23 1547.79 Q1255.42 1547.79 1252.34 1543.21 Q1249.28 1538.6 1249.28 1529.87 Q1249.28 1521.12 1252.34 1516.54 Q1255.42 1511.93 1261.23 1511.93 Z\" fill=\"#000000\" fill-rule=\"evenodd\" fill-opacity=\"1\" /><path clip-path=\"url(#clip710)\" d=\"M 0 0 M1667.78 1543.18 L1684.1 1543.18 L1684.1 1547.12 L1662.15 1547.12 L1662.15 1543.18 Q1664.82 1540.43 1669.4 1535.8 Q1674 1531.15 1675.19 1529.81 Q1677.43 1527.28 1678.31 1525.55 Q1679.21 1523.79 1679.21 1522.1 Q1679.21 1519.34 1677.27 1517.61 Q1675.35 1515.87 1672.25 1515.87 Q1670.05 1515.87 1667.59 1516.63 Q1665.16 1517.4 1662.38 1518.95 L1662.38 1514.23 Q1665.21 1513.09 1667.66 1512.51 Q1670.12 1511.93 1672.15 1511.93 Q1677.52 1511.93 1680.72 1514.62 Q1683.91 1517.31 1683.91 1521.8 Q1683.91 1523.93 1683.1 1525.85 Q1682.32 1527.74 1680.21 1530.34 Q1679.63 1531.01 1676.53 1534.23 Q1673.43 1537.42 1667.78 1543.18 Z\" fill=\"#000000\" fill-rule=\"evenodd\" fill-opacity=\"1\" /><path clip-path=\"url(#clip710)\" d=\"M 0 0 M2088.03 1516.63 L2076.23 1535.08 L2088.03 1535.08 L2088.03 1516.63 M2086.81 1512.56 L2092.68 1512.56 L2092.68 1535.08 L2097.62 1535.08 L2097.62 1538.97 L2092.68 1538.97 L2092.68 1547.12 L2088.03 1547.12 L2088.03 1538.97 L2072.43 1538.97 L2072.43 1534.46 L2086.81 1512.56 Z\" fill=\"#000000\" fill-rule=\"evenodd\" fill-opacity=\"1\" /><polyline clip-path=\"url(#clip712)\" style=\"stroke:#000000; stroke-width:2; stroke-opacity:0.1; fill:none\" points=\"\n",
       "  169.7,1296.36 2352.76,1296.36 \n",
       "  \"/>\n",
       "<polyline clip-path=\"url(#clip712)\" style=\"stroke:#000000; stroke-width:2; stroke-opacity:0.1; fill:none\" points=\"\n",
       "  169.7,956.93 2352.76,956.93 \n",
       "  \"/>\n",
       "<polyline clip-path=\"url(#clip712)\" style=\"stroke:#000000; stroke-width:2; stroke-opacity:0.1; fill:none\" points=\"\n",
       "  169.7,617.495 2352.76,617.495 \n",
       "  \"/>\n",
       "<polyline clip-path=\"url(#clip712)\" style=\"stroke:#000000; stroke-width:2; stroke-opacity:0.1; fill:none\" points=\"\n",
       "  169.7,278.06 2352.76,278.06 \n",
       "  \"/>\n",
       "<polyline clip-path=\"url(#clip710)\" style=\"stroke:#000000; stroke-width:4; stroke-opacity:1; fill:none\" points=\"\n",
       "  169.7,1486.45 169.7,47.2441 \n",
       "  \"/>\n",
       "<polyline clip-path=\"url(#clip710)\" style=\"stroke:#000000; stroke-width:4; stroke-opacity:1; fill:none\" points=\"\n",
       "  169.7,1296.36 195.897,1296.36 \n",
       "  \"/>\n",
       "<polyline clip-path=\"url(#clip710)\" style=\"stroke:#000000; stroke-width:4; stroke-opacity:1; fill:none\" points=\"\n",
       "  169.7,956.93 195.897,956.93 \n",
       "  \"/>\n",
       "<polyline clip-path=\"url(#clip710)\" style=\"stroke:#000000; stroke-width:4; stroke-opacity:1; fill:none\" points=\"\n",
       "  169.7,617.495 195.897,617.495 \n",
       "  \"/>\n",
       "<polyline clip-path=\"url(#clip710)\" style=\"stroke:#000000; stroke-width:4; stroke-opacity:1; fill:none\" points=\"\n",
       "  169.7,278.06 195.897,278.06 \n",
       "  \"/>\n",
       "<path clip-path=\"url(#clip710)\" d=\"M 0 0 M50.9921 1296.82 L80.6679 1296.82 L80.6679 1300.75 L50.9921 1300.75 L50.9921 1296.82 Z\" fill=\"#000000\" fill-rule=\"evenodd\" fill-opacity=\"1\" /><path clip-path=\"url(#clip710)\" d=\"M 0 0 M85.7836 1279.08 L104.14 1279.08 L104.14 1283.02 L90.066 1283.02 L90.066 1291.49 Q91.0845 1291.14 92.103 1290.98 Q93.1215 1290.8 94.14 1290.8 Q99.927 1290.8 103.307 1293.97 Q106.686 1297.14 106.686 1302.56 Q106.686 1308.14 103.214 1311.24 Q99.7419 1314.32 93.4225 1314.32 Q91.2465 1314.32 88.978 1313.95 Q86.7327 1313.57 84.3253 1312.83 L84.3253 1308.14 Q86.4086 1309.27 88.6308 1309.82 Q90.853 1310.38 93.3299 1310.38 Q97.3345 1310.38 99.6724 1308.27 Q102.01 1306.17 102.01 1302.56 Q102.01 1298.95 99.6724 1296.84 Q97.3345 1294.73 93.3299 1294.73 Q91.4549 1294.73 89.5799 1295.15 Q87.728 1295.57 85.7836 1296.45 L85.7836 1279.08 Z\" fill=\"#000000\" fill-rule=\"evenodd\" fill-opacity=\"1\" /><path clip-path=\"url(#clip710)\" d=\"M 0 0 M121.756 1282.16 Q118.145 1282.16 116.316 1285.73 Q114.51 1289.27 114.51 1296.4 Q114.51 1303.51 116.316 1307.07 Q118.145 1310.61 121.756 1310.61 Q125.39 1310.61 127.195 1307.07 Q129.024 1303.51 129.024 1296.4 Q129.024 1289.27 127.195 1285.73 Q125.39 1282.16 121.756 1282.16 M121.756 1278.46 Q127.566 1278.46 130.621 1283.07 Q133.7 1287.65 133.7 1296.4 Q133.7 1305.13 130.621 1309.73 Q127.566 1314.32 121.756 1314.32 Q115.945 1314.32 112.867 1309.73 Q109.811 1305.13 109.811 1296.4 Q109.811 1287.65 112.867 1283.07 Q115.945 1278.46 121.756 1278.46 Z\" fill=\"#000000\" fill-rule=\"evenodd\" fill-opacity=\"1\" /><path clip-path=\"url(#clip710)\" d=\"M 0 0 M121.756 942.728 Q118.145 942.728 116.316 946.293 Q114.51 949.835 114.51 956.964 Q114.51 964.071 116.316 967.635 Q118.145 971.177 121.756 971.177 Q125.39 971.177 127.195 967.635 Q129.024 964.071 129.024 956.964 Q129.024 949.835 127.195 946.293 Q125.39 942.728 121.756 942.728 M121.756 939.025 Q127.566 939.025 130.621 943.631 Q133.7 948.214 133.7 956.964 Q133.7 965.691 130.621 970.297 Q127.566 974.881 121.756 974.881 Q115.945 974.881 112.867 970.297 Q109.811 965.691 109.811 956.964 Q109.811 948.214 112.867 943.631 Q115.945 939.025 121.756 939.025 Z\" fill=\"#000000\" fill-rule=\"evenodd\" fill-opacity=\"1\" /><path clip-path=\"url(#clip710)\" d=\"M 0 0 M85.7836 600.215 L104.14 600.215 L104.14 604.15 L90.066 604.15 L90.066 612.622 Q91.0845 612.275 92.103 612.113 Q93.1215 611.928 94.14 611.928 Q99.927 611.928 103.307 615.099 Q106.686 618.27 106.686 623.687 Q106.686 629.265 103.214 632.367 Q99.7419 635.446 93.4225 635.446 Q91.2465 635.446 88.978 635.076 Q86.7327 634.705 84.3253 633.964 L84.3253 629.265 Q86.4086 630.4 88.6308 630.955 Q90.853 631.511 93.3299 631.511 Q97.3345 631.511 99.6724 629.404 Q102.01 627.298 102.01 623.687 Q102.01 620.076 99.6724 617.969 Q97.3345 615.863 93.3299 615.863 Q91.4549 615.863 89.5799 616.279 Q87.728 616.696 85.7836 617.576 L85.7836 600.215 Z\" fill=\"#000000\" fill-rule=\"evenodd\" fill-opacity=\"1\" /><path clip-path=\"url(#clip710)\" d=\"M 0 0 M121.756 603.293 Q118.145 603.293 116.316 606.858 Q114.51 610.4 114.51 617.529 Q114.51 624.636 116.316 628.201 Q118.145 631.742 121.756 631.742 Q125.39 631.742 127.195 628.201 Q129.024 624.636 129.024 617.529 Q129.024 610.4 127.195 606.858 Q125.39 603.293 121.756 603.293 M121.756 599.59 Q127.566 599.59 130.621 604.196 Q133.7 608.779 133.7 617.529 Q133.7 626.256 130.621 630.863 Q127.566 635.446 121.756 635.446 Q115.945 635.446 112.867 630.863 Q109.811 626.256 109.811 617.529 Q109.811 608.779 112.867 604.196 Q115.945 599.59 121.756 599.59 Z\" fill=\"#000000\" fill-rule=\"evenodd\" fill-opacity=\"1\" /><path clip-path=\"url(#clip710)\" d=\"M 0 0 M59.7652 291.405 L67.4041 291.405 L67.4041 265.039 L59.0939 266.706 L59.0939 262.446 L67.3578 260.78 L72.0337 260.78 L72.0337 291.405 L79.6725 291.405 L79.6725 295.34 L59.7652 295.34 L59.7652 291.405 Z\" fill=\"#000000\" fill-rule=\"evenodd\" fill-opacity=\"1\" /><path clip-path=\"url(#clip710)\" d=\"M 0 0 M94.7419 263.858 Q91.1308 263.858 89.3021 267.423 Q87.4966 270.965 87.4966 278.095 Q87.4966 285.201 89.3021 288.766 Q91.1308 292.307 94.7419 292.307 Q98.3761 292.307 100.182 288.766 Q102.01 285.201 102.01 278.095 Q102.01 270.965 100.182 267.423 Q98.3761 263.858 94.7419 263.858 M94.7419 260.155 Q100.552 260.155 103.608 264.761 Q106.686 269.345 106.686 278.095 Q106.686 286.821 103.608 291.428 Q100.552 296.011 94.7419 296.011 Q88.9317 296.011 85.8531 291.428 Q82.7975 286.821 82.7975 278.095 Q82.7975 269.345 85.8531 264.761 Q88.9317 260.155 94.7419 260.155 Z\" fill=\"#000000\" fill-rule=\"evenodd\" fill-opacity=\"1\" /><path clip-path=\"url(#clip710)\" d=\"M 0 0 M121.756 263.858 Q118.145 263.858 116.316 267.423 Q114.51 270.965 114.51 278.095 Q114.51 285.201 116.316 288.766 Q118.145 292.307 121.756 292.307 Q125.39 292.307 127.195 288.766 Q129.024 285.201 129.024 278.095 Q129.024 270.965 127.195 267.423 Q125.39 263.858 121.756 263.858 M121.756 260.155 Q127.566 260.155 130.621 264.761 Q133.7 269.345 133.7 278.095 Q133.7 286.821 130.621 291.428 Q127.566 296.011 121.756 296.011 Q115.945 296.011 112.867 291.428 Q109.811 286.821 109.811 278.095 Q109.811 269.345 112.867 264.761 Q115.945 260.155 121.756 260.155 Z\" fill=\"#000000\" fill-rule=\"evenodd\" fill-opacity=\"1\" /><polyline clip-path=\"url(#clip712)\" style=\"stroke:#009af9; stroke-width:4; stroke-opacity:1; fill:none\" points=\"\n",
       "  231.485,1445.72 236.513,1435.83 241.541,1426.05 246.569,1416.39 251.597,1406.84 298.09,1323.7 344.582,1249.57 391.075,1183.99 437.567,1126.49 493.447,1067.41 \n",
       "  549.327,1018.51 596.573,984.502 643.819,956.699 695.141,932.954 746.463,915.318 793.778,903.928 841.092,896.701 942.545,892.937 1060.09,903.261 1164.55,919.835 \n",
       "  1256.15,935.722 1356.01,950.086 1456.48,956.857 1512.01,955.572 1567.55,949.693 1620.39,939.105 1673.24,922.946 1728.18,899.499 1783.12,868.512 1829.37,836.015 \n",
       "  1875.62,797.166 1932.09,740.454 1988.56,672.746 2041.64,598.323 2094.72,512.745 2137.24,435.677 2179.76,350.646 2222.28,257.293 2264.8,155.259 2271.34,138.762 \n",
       "  2277.88,122.051 2284.43,105.123 2290.97,87.9763 \n",
       "  \"/>\n",
       "<path clip-path=\"url(#clip710)\" d=\"\n",
       "M1986.41 216.178 L2279.99 216.178 L2279.99 95.2176 L1986.41 95.2176  Z\n",
       "  \" fill=\"#ffffff\" fill-rule=\"evenodd\" fill-opacity=\"1\"/>\n",
       "<polyline clip-path=\"url(#clip710)\" style=\"stroke:#000000; stroke-width:4; stroke-opacity:1; fill:none\" points=\"\n",
       "  1986.41,216.178 2279.99,216.178 2279.99,95.2176 1986.41,95.2176 1986.41,216.178 \n",
       "  \"/>\n",
       "<polyline clip-path=\"url(#clip710)\" style=\"stroke:#009af9; stroke-width:4; stroke-opacity:1; fill:none\" points=\"\n",
       "  2010.66,155.698 2156.2,155.698 \n",
       "  \"/>\n",
       "<path clip-path=\"url(#clip710)\" d=\"M 0 0 M2194.3 175.385 Q2192.49 180.015 2190.78 181.427 Q2189.07 182.839 2186.2 182.839 L2182.79 182.839 L2182.79 179.274 L2185.29 179.274 Q2187.05 179.274 2188.03 178.44 Q2189 177.607 2190.18 174.505 L2190.94 172.561 L2180.46 147.052 L2184.97 147.052 L2193.07 167.329 L2201.17 147.052 L2205.69 147.052 L2194.3 175.385 Z\" fill=\"#000000\" fill-rule=\"evenodd\" fill-opacity=\"1\" /><path clip-path=\"url(#clip710)\" d=\"M 0 0 M2211.57 169.042 L2219.21 169.042 L2219.21 142.677 L2210.9 144.343 L2210.9 140.084 L2219.16 138.418 L2223.84 138.418 L2223.84 169.042 L2231.48 169.042 L2231.48 172.978 L2211.57 172.978 L2211.57 169.042 Z\" fill=\"#000000\" fill-rule=\"evenodd\" fill-opacity=\"1\" /></svg>\n"
      ]
     },
     "execution_count": 95,
     "metadata": {},
     "output_type": "execute_result"
    }
   ],
   "source": [
    "plot(x -> (x+3)*(x-1)*(x-1))"
   ]
  },
  {
   "cell_type": "code",
   "execution_count": 102,
   "metadata": {},
   "outputs": [
    {
     "name": "stdout",
     "output_type": "stream",
     "text": [
      "Results of univariate zero finding:\n",
      "\n",
      "* Converged to: -2.999999999999999\n",
      "* Algorithm: Roots.BisectionExact()\n",
      "* iterations: 60\n",
      "* function evaluations: 62\n",
      "* stopped as x_n ≈ x_{n-1} using atol=xatol, rtol=xrtol\n",
      "* stopped as |f(x_n)| ≤ max(δ, max(1,|x|)⋅ϵ) using δ = atol, ϵ = rtol\n",
      "\n",
      "Trace:\n",
      "(a_0, b_0) = (-4.0000000000000000,  0.0000000000000000)\n",
      "(a_1, b_1) = (-4.0000000000000000, -0.0000000000000000)\n",
      "(a_2, b_2) = (-4.0000000000000000, -0.0000000000000000)\n",
      "(a_3, b_3) = (-4.0000000000000000, -0.0000000000000000)\n",
      "(a_4, b_4) = (-4.0000000000000000, -0.0000000000000000)\n",
      "(a_5, b_5) = (-4.0000000000000000, -0.0000000009167707)\n",
      "(a_6, b_6) = (-4.0000000000000000, -0.0000605583190918)\n",
      "(a_7, b_7) = (-4.0000000000000000, -0.0155639648437500)\n",
      "(a_8, b_8) = (-4.0000000000000000, -0.2495117187500000)\n",
      "(a_9, b_9) = (-4.0000000000000000, -0.9990234375000000)\n",
      "(a_10, b_10) = (-4.0000000000000000, -1.9990234375000000)\n",
      "(a_11, b_11) = (-4.0000000000000000, -2.9990234375000000)\n",
      "(a_12, b_12) = (-3.4995117187500000, -2.9990234375000000)\n",
      "(a_13, b_13) = (-3.2492675781250000, -2.9990234375000000)\n",
      "(a_14, b_14) = (-3.1241455078125000, -2.9990234375000000)\n",
      "(a_15, b_15) = (-3.0615844726562500, -2.9990234375000000)\n",
      "(a_16, b_16) = (-3.0303039550781250, -2.9990234375000000)\n",
      "(a_17, b_17) = (-3.0146636962890625, -2.9990234375000000)\n",
      "(a_18, b_18) = (-3.0068435668945313, -2.9990234375000000)\n",
      "(a_19, b_19) = (-3.0029335021972656, -2.9990234375000000)\n",
      "(a_20, b_20) = (-3.0009784698486328, -2.9990234375000000)\n",
      "(a_21, b_21) = (-3.0000009536743164, -2.9990234375000000)\n",
      "(a_22, b_22) = (-3.0000009536743164, -2.9995121955871582)\n",
      "(a_23, b_23) = (-3.0000009536743164, -2.9997565746307373)\n",
      "(a_24, b_24) = (-3.0000009536743164, -2.9998787641525269)\n",
      "(a_25, b_25) = (-3.0000009536743164, -2.9999398589134216)\n",
      "(a_26, b_26) = (-3.0000009536743164, -2.9999704062938690)\n",
      "(a_27, b_27) = (-3.0000009536743164, -2.9999856799840927)\n",
      "(a_28, b_28) = (-3.0000009536743164, -2.9999933168292046)\n",
      "(a_29, b_29) = (-3.0000009536743164, -2.9999971352517605)\n",
      "(a_30, b_30) = (-3.0000009536743164, -2.9999990444630384)\n",
      "(a_31, b_31) = (-3.0000009536743164, -2.9999999990686774)\n",
      "(a_32, b_32) = (-3.0000004763714969, -2.9999999990686774)\n",
      "(a_33, b_33) = (-3.0000002377200872, -2.9999999990686774)\n",
      "(a_34, b_34) = (-3.0000001183943823, -2.9999999990686774)\n",
      "(a_35, b_35) = (-3.0000000587315299, -2.9999999990686774)\n",
      "(a_36, b_36) = (-3.0000000289001036, -2.9999999990686774)\n",
      "(a_37, b_37) = (-3.0000000139843905, -2.9999999990686774)\n",
      "(a_38, b_38) = (-3.0000000065265340, -2.9999999990686774)\n",
      "(a_39, b_39) = (-3.0000000027976057, -2.9999999990686774)\n",
      "(a_40, b_40) = (-3.0000000009331416, -2.9999999990686774)\n",
      "(a_41, b_41) = (-3.0000000000009095, -2.9999999990686774)\n",
      "(a_42, b_42) = (-3.0000000000009095, -2.9999999995347935)\n",
      "(a_43, b_43) = (-3.0000000000009095, -2.9999999997678515)\n",
      "(a_44, b_44) = (-3.0000000000009095, -2.9999999998843805)\n",
      "(a_45, b_45) = (-3.0000000000009095, -2.9999999999426450)\n",
      "(a_46, b_46) = (-3.0000000000009095, -2.9999999999717772)\n",
      "(a_47, b_47) = (-3.0000000000009095, -2.9999999999863434)\n",
      "(a_48, b_48) = (-3.0000000000009095, -2.9999999999936264)\n",
      "(a_49, b_49) = (-3.0000000000009095, -2.9999999999972680)\n",
      "(a_50, b_50) = (-3.0000000000009095, -2.9999999999990887)\n",
      "(a_51, b_51) = (-3.0000000000009095, -2.9999999999999991)\n",
      "(a_52, b_52) = (-3.0000000000004543, -2.9999999999999991)\n",
      "(a_53, b_53) = (-3.0000000000002265, -2.9999999999999991)\n",
      "(a_54, b_54) = (-3.0000000000001128, -2.9999999999999991)\n",
      "(a_55, b_55) = (-3.0000000000000560, -2.9999999999999991)\n",
      "(a_56, b_56) = (-3.0000000000000275, -2.9999999999999991)\n",
      "(a_57, b_57) = (-3.0000000000000133, -2.9999999999999991)\n",
      "(a_58, b_58) = (-3.0000000000000062, -2.9999999999999991)\n",
      "(a_59, b_59) = (-3.0000000000000027, -2.9999999999999991)\n",
      "(a_60, b_60) = (-3.0000000000000009, -2.9999999999999991)\n",
      "\n"
     ]
    },
    {
     "data": {
      "text/plain": [
       "-3.0"
      ]
     },
     "execution_count": 102,
     "metadata": {},
     "output_type": "execute_result"
    }
   ],
   "source": [
    "x = find_zero(b, (-4, 2),verbose=true)"
   ]
  },
  {
   "cell_type": "code",
   "execution_count": 197,
   "metadata": {},
   "outputs": [
    {
     "data": {
      "text/plain": [
       "true"
      ]
     },
     "execution_count": 197,
     "metadata": {},
     "output_type": "execute_result"
    }
   ],
   "source": [
    "iszero(b(-3.0))"
   ]
  },
  {
   "cell_type": "code",
   "execution_count": 149,
   "metadata": {},
   "outputs": [
    {
     "name": "stdout",
     "output_type": "stream",
     "text": [
      "Results of univariate zero finding:\n",
      "\n",
      "* Converged to: 0.9999999928866423\n",
      "* Algorithm: Roots.Halley()\n",
      "* iterations: 17\n",
      "* function evaluations: 54\n",
      "* stopped as |f(x_n)| ≤ max(δ, max(1,|x|)⋅ϵ) using δ = atol, ϵ = rtol\n",
      "\n",
      "Trace:\n",
      "x_0 =  0.0000000000000000,\t fx_0 =  3.0000000000000000\n",
      "x_1 =  0.6818181818181818,\t fx_1 =  0.3727460555972954\n",
      "x_2 =  0.8966140054160272,\t fx_2 =  0.0416495973588628\n",
      "x_3 =  0.9658317402597549,\t fx_3 =  0.0046299894774079\n",
      "x_4 =  0.9886429104886695,\t fx_4 =  0.0005144690517210\n",
      "x_5 =  0.9962178828957884,\t fx_5 =  0.0000571635382069\n",
      "x_6 =  0.9987396915170502,\t fx_6 =  0.0000063515080432\n",
      "x_7 =  0.9995799412892999,\t fx_7 =  0.0000007057231627\n",
      "x_8 =  0.9998599853309650,\t fx_8 =  0.0000000784136853\n",
      "x_9 =  0.9999533289882072,\t fx_9 =  0.0000000087126317\n",
      "x_10 =  0.9999844430565740,\t fx_10 =  0.0000000009680702\n",
      "x_11 =  0.9999948143589140,\t fx_11 =  0.0000000001075634\n",
      "x_12 =  0.9999982714537183,\t fx_12 =  0.0000000000119515\n",
      "x_13 =  0.9999994238179891,\t fx_13 =  0.0000000000013279\n",
      "x_14 =  0.9999998079393390,\t fx_14 =  0.0000000000001475\n",
      "x_15 =  0.9999999359797807,\t fx_15 =  0.0000000000000164\n",
      "x_16 =  0.9999999786599270,\t fx_16 =  0.0000000000000018\n",
      "x_17 =  0.9999999928866423,\t fx_17 =  0.0000000000000002\n",
      "\n"
     ]
    },
    {
     "data": {
      "text/plain": [
       "0.9999999928866423"
      ]
     },
     "execution_count": 149,
     "metadata": {},
     "output_type": "execute_result"
    }
   ],
   "source": [
    "find_zero((b, D(b), DD(b)), 0.0, Roots.Halley(), verbose=true)  # Halley"
   ]
  },
  {
   "cell_type": "code",
   "execution_count": 198,
   "metadata": {},
   "outputs": [
    {
     "data": {
      "text/plain": [
       "false"
      ]
     },
     "execution_count": 198,
     "metadata": {},
     "output_type": "execute_result"
    }
   ],
   "source": [
    "iszero(b(0.9999999928866423))"
   ]
  },
  {
   "cell_type": "code",
   "execution_count": 105,
   "metadata": {},
   "outputs": [
    {
     "name": "stdout",
     "output_type": "stream",
     "text": [
      "Results of univariate zero finding:\n",
      "\n",
      "* Converged to: 0.9999999886120837\n",
      "* Algorithm: Roots.Secant()\n",
      "* iterations: 37\n",
      "* function evaluations: 39\n",
      "* stopped as |f(x_n)| ≤ max(δ, max(1,|x|)⋅ϵ) using δ = atol, ϵ = rtol\n",
      "\n",
      "Trace:\n",
      "x_0 =  0.0000000000000000,\t fx_0 =  3.0000000000000000\n",
      "x_1 =  0.6000007266660472,\t fx_1 =  0.5759980234698301\n",
      "x_2 =  0.7425745512694462,\t fx_2 =  0.2480124125937801\n",
      "x_3 =  0.8503843973116693,\t fx_3 =  0.0861901946539245\n",
      "x_4 =  0.9078063739369214,\t fx_4 =  0.0332150438388517\n",
      "x_5 =  0.9438095460199841,\t fx_5 =  0.0124520545821521\n",
      "x_6 =  0.9654014978514989,\t fx_6 =  0.0047468090469502\n",
      "x_7 =  0.9787031988585466,\t fx_7 =  0.0018045557116510\n",
      "x_8 =  0.9868614564222180,\t fx_8 =  0.0006882173165493\n",
      "x_9 =  0.9918909834480951,\t fx_9 =  0.0002624913800521\n",
      "x_10 =  0.9949920571127490,\t fx_10 =  0.0001001923711845\n",
      "x_11 =  0.9969064491096398,\t fx_11 =  0.0000382506229863\n",
      "x_12 =  0.9980886354161476,\t fx_12 =  0.0000146062754735\n",
      "x_13 =  0.9988189299968956,\t fx_13 =  0.0000055780579033\n",
      "x_14 =  0.9992701403743751,\t fx_14 =  0.0000021303914998\n",
      "x_15 =  0.9995489535309700,\t fx_15 =  0.0000008136799067\n",
      "x_16 =  0.9997212499278583,\t fx_16 =  0.0000003107847515\n",
      "x_17 =  0.9998277275750426,\t fx_17 =  0.0000001187060409\n",
      "x_18 =  0.9998935315358537,\t fx_18 =  0.0000000453409286\n",
      "x_19 =  0.9999341995398781,\t fx_19 =  0.0000000173185173\n",
      "x_20 =  0.9999593333346009,\t fx_20 =  0.0000000066150434\n",
      "x_21 =  0.9999748667162009,\t fx_21 =  0.0000000025267119\n",
      "x_22 =  0.9999844668136380,\t fx_22 =  0.0000000009651158\n",
      "x_23 =  0.9999903999771157,\t fx_23 =  0.0000000003686409\n",
      "x_24 =  0.9999940668650035,\t fx_24 =  0.0000000001408082\n",
      "x_25 =  0.9999963331229899,\t fx_25 =  0.0000000000537839\n",
      "x_26 =  0.9999977337461687,\t fx_26 =  0.0000000000205436\n",
      "x_27 =  0.9999985993784083,\t fx_27 =  0.0000000000078470\n",
      "x_28 =  0.9999991343683667,\t fx_28 =  0.0000000000029973\n",
      "x_29 =  0.9999994650102731,\t fx_29 =  0.0000000000011449\n",
      "x_30 =  0.9999996693581821,\t fx_30 =  0.0000000000004373\n",
      "x_31 =  0.9999997956521248,\t fx_31 =  0.0000000000001670\n",
      "x_32 =  0.9999998737060701,\t fx_32 =  0.0000000000000638\n",
      "x_33 =  0.9999999219460597,\t fx_33 =  0.0000000000000244\n",
      "x_34 =  0.9999999517600123,\t fx_34 =  0.0000000000000093\n",
      "x_35 =  0.9999999701860481,\t fx_35 =  0.0000000000000036\n",
      "x_36 =  0.9999999815739644,\t fx_36 =  0.0000000000000014\n",
      "x_37 =  0.9999999886120837,\t fx_37 =  0.0000000000000005\n",
      "\n"
     ]
    },
    {
     "data": {
      "text/plain": [
       "0.9999999886120837"
      ]
     },
     "execution_count": 105,
     "metadata": {},
     "output_type": "execute_result"
    }
   ],
   "source": [
    "x = find_zero(b, 0.0, Order1(),  verbose=true) "
   ]
  },
  {
   "cell_type": "code",
   "execution_count": 199,
   "metadata": {},
   "outputs": [
    {
     "data": {
      "text/plain": [
       "false"
      ]
     },
     "execution_count": 199,
     "metadata": {},
     "output_type": "execute_result"
    }
   ],
   "source": [
    "iszero(b(0.9999999886120837))"
   ]
  },
  {
   "cell_type": "markdown",
   "metadata": {},
   "source": [
    "### Trzecia funkcja - x * exp ( - x ). "
   ]
  },
  {
   "cell_type": "code",
   "execution_count": 109,
   "metadata": {},
   "outputs": [
    {
     "data": {
      "image/svg+xml": [
       "<?xml version=\"1.0\" encoding=\"utf-8\"?>\n",
       "<svg xmlns=\"http://www.w3.org/2000/svg\" xmlns:xlink=\"http://www.w3.org/1999/xlink\" width=\"600\" height=\"400\" viewBox=\"0 0 2400 1600\">\n",
       "<defs>\n",
       "  <clipPath id=\"clip870\">\n",
       "    <rect x=\"0\" y=\"0\" width=\"2400\" height=\"1600\"/>\n",
       "  </clipPath>\n",
       "</defs>\n",
       "<path clip-path=\"url(#clip870)\" d=\"\n",
       "M0 1600 L2400 1600 L2400 0 L0 0  Z\n",
       "  \" fill=\"#ffffff\" fill-rule=\"evenodd\" fill-opacity=\"1\"/>\n",
       "<defs>\n",
       "  <clipPath id=\"clip871\">\n",
       "    <rect x=\"480\" y=\"0\" width=\"1681\" height=\"1600\"/>\n",
       "  </clipPath>\n",
       "</defs>\n",
       "<path clip-path=\"url(#clip870)\" d=\"\n",
       "M169.469 1486.45 L2352.76 1486.45 L2352.76 47.2441 L169.469 47.2441  Z\n",
       "  \" fill=\"#ffffff\" fill-rule=\"evenodd\" fill-opacity=\"1\"/>\n",
       "<defs>\n",
       "  <clipPath id=\"clip872\">\n",
       "    <rect x=\"169\" y=\"47\" width=\"2184\" height=\"1440\"/>\n",
       "  </clipPath>\n",
       "</defs>\n",
       "<polyline clip-path=\"url(#clip872)\" style=\"stroke:#000000; stroke-width:2; stroke-opacity:0.1; fill:none\" points=\"\n",
       "  231.26,1486.45 231.26,47.2441 \n",
       "  \"/>\n",
       "<polyline clip-path=\"url(#clip872)\" style=\"stroke:#000000; stroke-width:2; stroke-opacity:0.1; fill:none\" points=\"\n",
       "  746.186,1486.45 746.186,47.2441 \n",
       "  \"/>\n",
       "<polyline clip-path=\"url(#clip872)\" style=\"stroke:#000000; stroke-width:2; stroke-opacity:0.1; fill:none\" points=\"\n",
       "  1261.11,1486.45 1261.11,47.2441 \n",
       "  \"/>\n",
       "<polyline clip-path=\"url(#clip872)\" style=\"stroke:#000000; stroke-width:2; stroke-opacity:0.1; fill:none\" points=\"\n",
       "  1776.04,1486.45 1776.04,47.2441 \n",
       "  \"/>\n",
       "<polyline clip-path=\"url(#clip872)\" style=\"stroke:#000000; stroke-width:2; stroke-opacity:0.1; fill:none\" points=\"\n",
       "  2290.96,1486.45 2290.96,47.2441 \n",
       "  \"/>\n",
       "<polyline clip-path=\"url(#clip870)\" style=\"stroke:#000000; stroke-width:4; stroke-opacity:1; fill:none\" points=\"\n",
       "  169.469,1486.45 2352.76,1486.45 \n",
       "  \"/>\n",
       "<polyline clip-path=\"url(#clip870)\" style=\"stroke:#000000; stroke-width:4; stroke-opacity:1; fill:none\" points=\"\n",
       "  231.26,1486.45 231.26,1469.18 \n",
       "  \"/>\n",
       "<polyline clip-path=\"url(#clip870)\" style=\"stroke:#000000; stroke-width:4; stroke-opacity:1; fill:none\" points=\"\n",
       "  746.186,1486.45 746.186,1469.18 \n",
       "  \"/>\n",
       "<polyline clip-path=\"url(#clip870)\" style=\"stroke:#000000; stroke-width:4; stroke-opacity:1; fill:none\" points=\"\n",
       "  1261.11,1486.45 1261.11,1469.18 \n",
       "  \"/>\n",
       "<polyline clip-path=\"url(#clip870)\" style=\"stroke:#000000; stroke-width:4; stroke-opacity:1; fill:none\" points=\"\n",
       "  1776.04,1486.45 1776.04,1469.18 \n",
       "  \"/>\n",
       "<polyline clip-path=\"url(#clip870)\" style=\"stroke:#000000; stroke-width:4; stroke-opacity:1; fill:none\" points=\"\n",
       "  2290.96,1486.45 2290.96,1469.18 \n",
       "  \"/>\n",
       "<path clip-path=\"url(#clip870)\" d=\"M 0 0 M203.714 1530.29 L233.389 1530.29 L233.389 1534.23 L203.714 1534.23 L203.714 1530.29 Z\" fill=\"#000000\" fill-rule=\"evenodd\" fill-opacity=\"1\" /><path clip-path=\"url(#clip870)\" d=\"M 0 0 M242.486 1543.18 L258.806 1543.18 L258.806 1547.12 L236.862 1547.12 L236.862 1543.18 Q239.524 1540.43 244.107 1535.8 Q248.713 1531.15 249.894 1529.81 Q252.139 1527.28 253.019 1525.55 Q253.922 1523.79 253.922 1522.1 Q253.922 1519.34 251.977 1517.61 Q250.056 1515.87 246.954 1515.87 Q244.755 1515.87 242.301 1516.63 Q239.871 1517.4 237.093 1518.95 L237.093 1514.23 Q239.917 1513.09 242.371 1512.51 Q244.824 1511.93 246.861 1511.93 Q252.232 1511.93 255.426 1514.62 Q258.621 1517.31 258.621 1521.8 Q258.621 1523.93 257.81 1525.85 Q257.023 1527.74 254.917 1530.34 Q254.338 1531.01 251.236 1534.23 Q248.135 1537.42 242.486 1543.18 Z\" fill=\"#000000\" fill-rule=\"evenodd\" fill-opacity=\"1\" /><path clip-path=\"url(#clip870)\" d=\"M 0 0 M718.455 1530.29 L748.13 1530.29 L748.13 1534.23 L718.455 1534.23 L718.455 1530.29 Z\" fill=\"#000000\" fill-rule=\"evenodd\" fill-opacity=\"1\" /><path clip-path=\"url(#clip870)\" d=\"M 0 0 M754.01 1543.18 L761.649 1543.18 L761.649 1516.82 L753.339 1518.49 L753.339 1514.23 L761.603 1512.56 L766.278 1512.56 L766.278 1543.18 L773.917 1543.18 L773.917 1547.12 L754.01 1547.12 L754.01 1543.18 Z\" fill=\"#000000\" fill-rule=\"evenodd\" fill-opacity=\"1\" /><path clip-path=\"url(#clip870)\" d=\"M 0 0 M1261.11 1515.64 Q1257.5 1515.64 1255.67 1519.2 Q1253.87 1522.75 1253.87 1529.87 Q1253.87 1536.98 1255.67 1540.55 Q1257.5 1544.09 1261.11 1544.09 Q1264.75 1544.09 1266.55 1540.55 Q1268.38 1536.98 1268.38 1529.87 Q1268.38 1522.75 1266.55 1519.2 Q1264.75 1515.64 1261.11 1515.64 M1261.11 1511.93 Q1266.92 1511.93 1269.98 1516.54 Q1273.06 1521.12 1273.06 1529.87 Q1273.06 1538.6 1269.98 1543.21 Q1266.92 1547.79 1261.11 1547.79 Q1255.3 1547.79 1252.22 1543.21 Q1249.17 1538.6 1249.17 1529.87 Q1249.17 1521.12 1252.22 1516.54 Q1255.3 1511.93 1261.11 1511.93 Z\" fill=\"#000000\" fill-rule=\"evenodd\" fill-opacity=\"1\" /><path clip-path=\"url(#clip870)\" d=\"M 0 0 M1766.42 1543.18 L1774.06 1543.18 L1774.06 1516.82 L1765.75 1518.49 L1765.75 1514.23 L1774.01 1512.56 L1778.69 1512.56 L1778.69 1543.18 L1786.33 1543.18 L1786.33 1547.12 L1766.42 1547.12 L1766.42 1543.18 Z\" fill=\"#000000\" fill-rule=\"evenodd\" fill-opacity=\"1\" /><path clip-path=\"url(#clip870)\" d=\"M 0 0 M2285.62 1543.18 L2301.94 1543.18 L2301.94 1547.12 L2279.99 1547.12 L2279.99 1543.18 Q2282.65 1540.43 2287.24 1535.8 Q2291.84 1531.15 2293.02 1529.81 Q2295.27 1527.28 2296.15 1525.55 Q2297.05 1523.79 2297.05 1522.1 Q2297.05 1519.34 2295.11 1517.61 Q2293.19 1515.87 2290.09 1515.87 Q2287.89 1515.87 2285.43 1516.63 Q2283 1517.4 2280.22 1518.95 L2280.22 1514.23 Q2283.05 1513.09 2285.5 1512.51 Q2287.96 1511.93 2289.99 1511.93 Q2295.36 1511.93 2298.56 1514.62 Q2301.75 1517.31 2301.75 1521.8 Q2301.75 1523.93 2300.94 1525.85 Q2300.15 1527.74 2298.05 1530.34 Q2297.47 1531.01 2294.37 1534.23 Q2291.27 1537.42 2285.62 1543.18 Z\" fill=\"#000000\" fill-rule=\"evenodd\" fill-opacity=\"1\" /><polyline clip-path=\"url(#clip872)\" style=\"stroke:#000000; stroke-width:2; stroke-opacity:0.1; fill:none\" points=\"\n",
       "  169.469,1465.61 2352.76,1465.61 \n",
       "  \"/>\n",
       "<polyline clip-path=\"url(#clip872)\" style=\"stroke:#000000; stroke-width:2; stroke-opacity:0.1; fill:none\" points=\"\n",
       "  169.469,1017.39 2352.76,1017.39 \n",
       "  \"/>\n",
       "<polyline clip-path=\"url(#clip872)\" style=\"stroke:#000000; stroke-width:2; stroke-opacity:0.1; fill:none\" points=\"\n",
       "  169.469,569.17 2352.76,569.17 \n",
       "  \"/>\n",
       "<polyline clip-path=\"url(#clip872)\" style=\"stroke:#000000; stroke-width:2; stroke-opacity:0.1; fill:none\" points=\"\n",
       "  169.469,120.951 2352.76,120.951 \n",
       "  \"/>\n",
       "<polyline clip-path=\"url(#clip870)\" style=\"stroke:#000000; stroke-width:4; stroke-opacity:1; fill:none\" points=\"\n",
       "  169.469,1486.45 169.469,47.2441 \n",
       "  \"/>\n",
       "<polyline clip-path=\"url(#clip870)\" style=\"stroke:#000000; stroke-width:4; stroke-opacity:1; fill:none\" points=\"\n",
       "  169.469,1465.61 195.668,1465.61 \n",
       "  \"/>\n",
       "<polyline clip-path=\"url(#clip870)\" style=\"stroke:#000000; stroke-width:4; stroke-opacity:1; fill:none\" points=\"\n",
       "  169.469,1017.39 195.668,1017.39 \n",
       "  \"/>\n",
       "<polyline clip-path=\"url(#clip870)\" style=\"stroke:#000000; stroke-width:4; stroke-opacity:1; fill:none\" points=\"\n",
       "  169.469,569.17 195.668,569.17 \n",
       "  \"/>\n",
       "<polyline clip-path=\"url(#clip870)\" style=\"stroke:#000000; stroke-width:4; stroke-opacity:1; fill:none\" points=\"\n",
       "  169.469,120.951 195.668,120.951 \n",
       "  \"/>\n",
       "<path clip-path=\"url(#clip870)\" d=\"M 0 0 M51.9875 1466.06 L81.6633 1466.06 L81.6633 1469.99 L51.9875 1469.99 L51.9875 1466.06 Z\" fill=\"#000000\" fill-rule=\"evenodd\" fill-opacity=\"1\" /><path clip-path=\"url(#clip870)\" d=\"M 0 0 M87.5429 1478.95 L95.1817 1478.95 L95.1817 1452.59 L86.8716 1454.25 L86.8716 1449.99 L95.1354 1448.33 L99.8113 1448.33 L99.8113 1478.95 L107.45 1478.95 L107.45 1482.89 L87.5429 1482.89 L87.5429 1478.95 Z\" fill=\"#000000\" fill-rule=\"evenodd\" fill-opacity=\"1\" /><path clip-path=\"url(#clip870)\" d=\"M 0 0 M112.566 1448.33 L130.922 1448.33 L130.922 1452.26 L116.848 1452.26 L116.848 1460.73 Q117.867 1460.39 118.885 1460.22 Q119.904 1460.04 120.922 1460.04 Q126.709 1460.04 130.089 1463.21 Q133.469 1466.38 133.469 1471.8 Q133.469 1477.38 129.996 1480.48 Q126.524 1483.56 120.205 1483.56 Q118.029 1483.56 115.76 1483.19 Q113.515 1482.82 111.108 1482.08 L111.108 1477.38 Q113.191 1478.51 115.413 1479.07 Q117.635 1479.62 120.112 1479.62 Q124.117 1479.62 126.455 1477.52 Q128.793 1475.41 128.793 1471.8 Q128.793 1468.19 126.455 1466.08 Q124.117 1463.97 120.112 1463.97 Q118.237 1463.97 116.362 1464.39 Q114.51 1464.81 112.566 1465.69 L112.566 1448.33 Z\" fill=\"#000000\" fill-rule=\"evenodd\" fill-opacity=\"1\" /><path clip-path=\"url(#clip870)\" d=\"M 0 0 M50.9921 1017.84 L80.6679 1017.84 L80.6679 1021.77 L50.9921 1021.77 L50.9921 1017.84 Z\" fill=\"#000000\" fill-rule=\"evenodd\" fill-opacity=\"1\" /><path clip-path=\"url(#clip870)\" d=\"M 0 0 M86.5475 1030.73 L94.1863 1030.73 L94.1863 1004.37 L85.8762 1006.03 L85.8762 1001.77 L94.14 1000.11 L98.8159 1000.11 L98.8159 1030.73 L106.455 1030.73 L106.455 1034.67 L86.5475 1034.67 L86.5475 1030.73 Z\" fill=\"#000000\" fill-rule=\"evenodd\" fill-opacity=\"1\" /><path clip-path=\"url(#clip870)\" d=\"M 0 0 M121.524 1003.19 Q117.913 1003.19 116.084 1006.75 Q114.279 1010.29 114.279 1017.42 Q114.279 1024.53 116.084 1028.09 Q117.913 1031.64 121.524 1031.64 Q125.158 1031.64 126.964 1028.09 Q128.793 1024.53 128.793 1017.42 Q128.793 1010.29 126.964 1006.75 Q125.158 1003.19 121.524 1003.19 M121.524 999.483 Q127.334 999.483 130.39 1004.09 Q133.469 1008.67 133.469 1017.42 Q133.469 1026.15 130.39 1030.76 Q127.334 1035.34 121.524 1035.34 Q115.714 1035.34 112.635 1030.76 Q109.58 1026.15 109.58 1017.42 Q109.58 1008.67 112.635 1004.09 Q115.714 999.483 121.524 999.483 Z\" fill=\"#000000\" fill-rule=\"evenodd\" fill-opacity=\"1\" /><path clip-path=\"url(#clip870)\" d=\"M 0 0 M77.7744 569.621 L107.45 569.621 L107.45 573.556 L77.7744 573.556 L77.7744 569.621 Z\" fill=\"#000000\" fill-rule=\"evenodd\" fill-opacity=\"1\" /><path clip-path=\"url(#clip870)\" d=\"M 0 0 M112.566 551.89 L130.922 551.89 L130.922 555.825 L116.848 555.825 L116.848 564.297 Q117.867 563.95 118.885 563.788 Q119.904 563.603 120.922 563.603 Q126.709 563.603 130.089 566.774 Q133.469 569.945 133.469 575.362 Q133.469 580.94 129.996 584.042 Q126.524 587.121 120.205 587.121 Q118.029 587.121 115.76 586.751 Q113.515 586.38 111.108 585.64 L111.108 580.94 Q113.191 582.075 115.413 582.63 Q117.635 583.186 120.112 583.186 Q124.117 583.186 126.455 581.079 Q128.793 578.973 128.793 575.362 Q128.793 571.751 126.455 569.644 Q124.117 567.538 120.112 567.538 Q118.237 567.538 116.362 567.954 Q114.51 568.371 112.566 569.251 L112.566 551.89 Z\" fill=\"#000000\" fill-rule=\"evenodd\" fill-opacity=\"1\" /><path clip-path=\"url(#clip870)\" d=\"M 0 0 M121.524 106.75 Q117.913 106.75 116.084 110.315 Q114.279 113.856 114.279 120.986 Q114.279 128.092 116.084 131.657 Q117.913 135.199 121.524 135.199 Q125.158 135.199 126.964 131.657 Q128.793 128.092 128.793 120.986 Q128.793 113.856 126.964 110.315 Q125.158 106.75 121.524 106.75 M121.524 103.046 Q127.334 103.046 130.39 107.653 Q133.469 112.236 133.469 120.986 Q133.469 129.713 130.39 134.319 Q127.334 138.903 121.524 138.903 Q115.714 138.903 112.635 134.319 Q109.58 129.713 109.58 120.986 Q109.58 112.236 112.635 107.653 Q115.714 103.046 121.524 103.046 Z\" fill=\"#000000\" fill-rule=\"evenodd\" fill-opacity=\"1\" /><polyline clip-path=\"url(#clip872)\" style=\"stroke:#009af9; stroke-width:4; stroke-opacity:1; fill:none\" points=\"\n",
       "  231.26,1445.72 236.288,1426.44 241.317,1407.4 246.346,1388.62 251.374,1370.08 297.872,1209.67 344.369,1067.65 390.867,942.042 437.364,831.064 465.307,770.74 \n",
       "  493.25,714.808 521.193,662.971 549.136,614.954 596.387,541.73 643.638,477.549 694.965,416.888 746.293,364.527 793.613,322.718 840.932,286.374 891.664,252.754 \n",
       "  942.395,223.987 1001.17,195.92 1059.95,172.71 1164.42,141.262 1256.03,121.845 1355.91,107.223 1456.38,97.6856 1567.47,91.5331 1673.16,88.726 1783.06,87.9763 \n",
       "  1875.57,88.5154 1988.52,90.1159 2094.69,92.1991 2264.79,96.0709 2290.96,96.6874 \n",
       "  \"/>\n",
       "<path clip-path=\"url(#clip870)\" d=\"\n",
       "M1986.37 216.178 L2279.98 216.178 L2279.98 95.2176 L1986.37 95.2176  Z\n",
       "  \" fill=\"#ffffff\" fill-rule=\"evenodd\" fill-opacity=\"1\"/>\n",
       "<polyline clip-path=\"url(#clip870)\" style=\"stroke:#000000; stroke-width:4; stroke-opacity:1; fill:none\" points=\"\n",
       "  1986.37,216.178 2279.98,216.178 2279.98,95.2176 1986.37,95.2176 1986.37,216.178 \n",
       "  \"/>\n",
       "<polyline clip-path=\"url(#clip870)\" style=\"stroke:#009af9; stroke-width:4; stroke-opacity:1; fill:none\" points=\"\n",
       "  2010.63,155.698 2156.19,155.698 \n",
       "  \"/>\n",
       "<path clip-path=\"url(#clip870)\" d=\"M 0 0 M2194.29 175.385 Q2192.48 180.015 2190.77 181.427 Q2189.05 182.839 2186.18 182.839 L2182.78 182.839 L2182.78 179.274 L2185.28 179.274 Q2187.04 179.274 2188.01 178.44 Q2188.99 177.607 2190.17 174.505 L2190.93 172.561 L2180.44 147.052 L2184.96 147.052 L2193.06 167.329 L2201.16 147.052 L2205.68 147.052 L2194.29 175.385 Z\" fill=\"#000000\" fill-rule=\"evenodd\" fill-opacity=\"1\" /><path clip-path=\"url(#clip870)\" d=\"M 0 0 M2211.55 169.042 L2219.19 169.042 L2219.19 142.677 L2210.88 144.343 L2210.88 140.084 L2219.15 138.418 L2223.82 138.418 L2223.82 169.042 L2231.46 169.042 L2231.46 172.978 L2211.55 172.978 L2211.55 169.042 Z\" fill=\"#000000\" fill-rule=\"evenodd\" fill-opacity=\"1\" /></svg>\n"
      ]
     },
     "execution_count": 109,
     "metadata": {},
     "output_type": "execute_result"
    }
   ],
   "source": [
    "c(x) = x*exp(-x)\n",
    "plot(c,-2,2)"
   ]
  },
  {
   "cell_type": "code",
   "execution_count": 112,
   "metadata": {},
   "outputs": [
    {
     "name": "stdout",
     "output_type": "stream",
     "text": [
      "Results of univariate zero finding:\n",
      "\n",
      "* Converged to: 3.0\n",
      "* Algorithm: Roots.BisectionExact()\n",
      "* iterations: 0\n",
      "* function evaluations: 3\n",
      "* stopped as x_n ≈ x_{n-1} using atol=xatol, rtol=xrtol\n",
      "* Note: Exact zero found\n",
      "\n",
      "Trace:\n",
      "(a_0, b_0) = (-2.0000000000000000,  3.0000000000000000)\n",
      "\n"
     ]
    },
    {
     "data": {
      "text/plain": [
       "0.0"
      ]
     },
     "execution_count": 112,
     "metadata": {},
     "output_type": "execute_result"
    }
   ],
   "source": [
    "x = find_zero(c, (-2, 3),verbose=true)"
   ]
  },
  {
   "cell_type": "code",
   "execution_count": 200,
   "metadata": {},
   "outputs": [
    {
     "data": {
      "text/plain": [
       "true"
      ]
     },
     "execution_count": 200,
     "metadata": {},
     "output_type": "execute_result"
    }
   ],
   "source": [
    "iszero(c(0.0))"
   ]
  },
  {
   "cell_type": "code",
   "execution_count": 150,
   "metadata": {},
   "outputs": [
    {
     "name": "stdout",
     "output_type": "stream",
     "text": [
      "Results of univariate zero finding:\n",
      "\n",
      "* Converged to: 0.0\n",
      "* Algorithm: Roots.Halley()\n",
      "* iterations: 2\n",
      "* function evaluations: 9\n",
      "* stopped as |f(x_n)| ≤ max(δ, max(1,|x|)⋅ϵ) using δ = atol, ϵ = rtol\n",
      "\n",
      "Trace:\n",
      "x_0 = -0.0001000000000000,\t fx_0 = -0.0001000100005000\n",
      "x_1 = -0.0000000000004999,\t fx_1 = -0.0000000000004999\n",
      "x_2 =  0.0000000000000000,\t fx_2 =  0.0000000000000000\n",
      "\n"
     ]
    },
    {
     "data": {
      "text/plain": [
       "0.0"
      ]
     },
     "execution_count": 150,
     "metadata": {},
     "output_type": "execute_result"
    }
   ],
   "source": [
    "x = find_zero((c, D(c), DD(c)), -0.0001, Roots.Halley(), verbose=true)"
   ]
  },
  {
   "cell_type": "code",
   "execution_count": 201,
   "metadata": {},
   "outputs": [
    {
     "data": {
      "text/plain": [
       "true"
      ]
     },
     "execution_count": 201,
     "metadata": {},
     "output_type": "execute_result"
    }
   ],
   "source": [
    "iszero(c(0.0))"
   ]
  },
  {
   "cell_type": "code",
   "execution_count": 124,
   "metadata": {},
   "outputs": [
    {
     "name": "stdout",
     "output_type": "stream",
     "text": [
      "Results of univariate zero finding:\n",
      "\n",
      "* Converged to: -8.823424926384475e-21\n",
      "* Algorithm: Roots.Secant()\n",
      "* iterations: 3\n",
      "* function evaluations: 5\n",
      "* stopped as |f(x_n)| ≤ max(δ, max(1,|x|)⋅ϵ) using δ = atol, ϵ = rtol\n",
      "\n",
      "Trace:\n",
      "x_0 = -0.0001000000000000,\t fx_0 = -0.0001000100005000\n",
      "x_1 = -0.0000000093935436,\t fx_1 = -0.0000000093935437\n",
      "x_2 = -0.0000000000009393,\t fx_2 = -0.0000000000009393\n",
      "x_3 = -0.0000000000000000,\t fx_3 = -0.0000000000000000\n",
      "\n"
     ]
    },
    {
     "data": {
      "text/plain": [
       "-8.823424926384475e-21"
      ]
     },
     "execution_count": 124,
     "metadata": {},
     "output_type": "execute_result"
    }
   ],
   "source": [
    "x = find_zero(c, -0.0001, Order1(),  verbose=true) "
   ]
  },
  {
   "cell_type": "code",
   "execution_count": 202,
   "metadata": {},
   "outputs": [
    {
     "data": {
      "text/plain": [
       "false"
      ]
     },
     "execution_count": 202,
     "metadata": {},
     "output_type": "execute_result"
    }
   ],
   "source": [
    "iszero(c(-8.823424926384475e-21))"
   ]
  },
  {
   "cell_type": "markdown",
   "metadata": {},
   "source": [
    "### Czwarta funkcja - sin(x) - x / 2."
   ]
  },
  {
   "cell_type": "code",
   "execution_count": 130,
   "metadata": {},
   "outputs": [
    {
     "data": {
      "text/plain": [
       "d (generic function with 1 method)"
      ]
     },
     "execution_count": 130,
     "metadata": {},
     "output_type": "execute_result"
    }
   ],
   "source": [
    "d(x) =  sin(x) -x/2"
   ]
  },
  {
   "cell_type": "code",
   "execution_count": 132,
   "metadata": {},
   "outputs": [
    {
     "data": {
      "image/svg+xml": [
       "<?xml version=\"1.0\" encoding=\"utf-8\"?>\n",
       "<svg xmlns=\"http://www.w3.org/2000/svg\" xmlns:xlink=\"http://www.w3.org/1999/xlink\" width=\"600\" height=\"400\" viewBox=\"0 0 2400 1600\">\n",
       "<defs>\n",
       "  <clipPath id=\"clip070\">\n",
       "    <rect x=\"0\" y=\"0\" width=\"2400\" height=\"1600\"/>\n",
       "  </clipPath>\n",
       "</defs>\n",
       "<path clip-path=\"url(#clip070)\" d=\"\n",
       "M0 1600 L2400 1600 L2400 0 L0 0  Z\n",
       "  \" fill=\"#ffffff\" fill-rule=\"evenodd\" fill-opacity=\"1\"/>\n",
       "<defs>\n",
       "  <clipPath id=\"clip071\">\n",
       "    <rect x=\"480\" y=\"0\" width=\"1681\" height=\"1600\"/>\n",
       "  </clipPath>\n",
       "</defs>\n",
       "<path clip-path=\"url(#clip070)\" d=\"\n",
       "M205.07 1486.45 L2352.76 1486.45 L2352.76 47.2441 L205.07 47.2441  Z\n",
       "  \" fill=\"#ffffff\" fill-rule=\"evenodd\" fill-opacity=\"1\"/>\n",
       "<defs>\n",
       "  <clipPath id=\"clip072\">\n",
       "    <rect x=\"205\" y=\"47\" width=\"2149\" height=\"1440\"/>\n",
       "  </clipPath>\n",
       "</defs>\n",
       "<polyline clip-path=\"url(#clip072)\" style=\"stroke:#000000; stroke-width:2; stroke-opacity:0.1; fill:none\" points=\"\n",
       "  265.854,1486.45 265.854,47.2441 \n",
       "  \"/>\n",
       "<polyline clip-path=\"url(#clip072)\" style=\"stroke:#000000; stroke-width:2; stroke-opacity:0.1; fill:none\" points=\"\n",
       "  671.077,1486.45 671.077,47.2441 \n",
       "  \"/>\n",
       "<polyline clip-path=\"url(#clip072)\" style=\"stroke:#000000; stroke-width:2; stroke-opacity:0.1; fill:none\" points=\"\n",
       "  1076.3,1486.45 1076.3,47.2441 \n",
       "  \"/>\n",
       "<polyline clip-path=\"url(#clip072)\" style=\"stroke:#000000; stroke-width:2; stroke-opacity:0.1; fill:none\" points=\"\n",
       "  1481.52,1486.45 1481.52,47.2441 \n",
       "  \"/>\n",
       "<polyline clip-path=\"url(#clip072)\" style=\"stroke:#000000; stroke-width:2; stroke-opacity:0.1; fill:none\" points=\"\n",
       "  1886.75,1486.45 1886.75,47.2441 \n",
       "  \"/>\n",
       "<polyline clip-path=\"url(#clip072)\" style=\"stroke:#000000; stroke-width:2; stroke-opacity:0.1; fill:none\" points=\"\n",
       "  2291.97,1486.45 2291.97,47.2441 \n",
       "  \"/>\n",
       "<polyline clip-path=\"url(#clip070)\" style=\"stroke:#000000; stroke-width:4; stroke-opacity:1; fill:none\" points=\"\n",
       "  205.07,1486.45 2352.76,1486.45 \n",
       "  \"/>\n",
       "<polyline clip-path=\"url(#clip070)\" style=\"stroke:#000000; stroke-width:4; stroke-opacity:1; fill:none\" points=\"\n",
       "  265.854,1486.45 265.854,1469.18 \n",
       "  \"/>\n",
       "<polyline clip-path=\"url(#clip070)\" style=\"stroke:#000000; stroke-width:4; stroke-opacity:1; fill:none\" points=\"\n",
       "  671.077,1486.45 671.077,1469.18 \n",
       "  \"/>\n",
       "<polyline clip-path=\"url(#clip070)\" style=\"stroke:#000000; stroke-width:4; stroke-opacity:1; fill:none\" points=\"\n",
       "  1076.3,1486.45 1076.3,1469.18 \n",
       "  \"/>\n",
       "<polyline clip-path=\"url(#clip070)\" style=\"stroke:#000000; stroke-width:4; stroke-opacity:1; fill:none\" points=\"\n",
       "  1481.52,1486.45 1481.52,1469.18 \n",
       "  \"/>\n",
       "<polyline clip-path=\"url(#clip070)\" style=\"stroke:#000000; stroke-width:4; stroke-opacity:1; fill:none\" points=\"\n",
       "  1886.75,1486.45 1886.75,1469.18 \n",
       "  \"/>\n",
       "<polyline clip-path=\"url(#clip070)\" style=\"stroke:#000000; stroke-width:4; stroke-opacity:1; fill:none\" points=\"\n",
       "  2291.97,1486.45 2291.97,1469.18 \n",
       "  \"/>\n",
       "<path clip-path=\"url(#clip070)\" d=\"M 0 0 M237.833 1530.29 L267.509 1530.29 L267.509 1534.23 L237.833 1534.23 L237.833 1530.29 Z\" fill=\"#000000\" fill-rule=\"evenodd\" fill-opacity=\"1\" /><path clip-path=\"url(#clip070)\" d=\"M 0 0 M286.745 1528.49 Q290.101 1529.2 291.976 1531.47 Q293.874 1533.74 293.874 1537.07 Q293.874 1542.19 290.356 1544.99 Q286.837 1547.79 280.356 1547.79 Q278.18 1547.79 275.865 1547.35 Q273.574 1546.93 271.12 1546.08 L271.12 1541.56 Q273.064 1542.7 275.379 1543.28 Q277.694 1543.86 280.217 1543.86 Q284.615 1543.86 286.907 1542.12 Q289.222 1540.38 289.222 1537.07 Q289.222 1534.02 287.069 1532.31 Q284.939 1530.57 281.12 1530.57 L277.092 1530.57 L277.092 1526.73 L281.305 1526.73 Q284.754 1526.73 286.583 1525.36 Q288.412 1523.97 288.412 1521.38 Q288.412 1518.72 286.513 1517.31 Q284.638 1515.87 281.12 1515.87 Q279.199 1515.87 277 1516.29 Q274.8 1516.7 272.162 1517.58 L272.162 1513.42 Q274.824 1512.68 277.138 1512.31 Q279.476 1511.93 281.537 1511.93 Q286.861 1511.93 289.962 1514.37 Q293.064 1516.77 293.064 1520.89 Q293.064 1523.76 291.421 1525.75 Q289.777 1527.72 286.745 1528.49 Z\" fill=\"#000000\" fill-rule=\"evenodd\" fill-opacity=\"1\" /><path clip-path=\"url(#clip070)\" d=\"M 0 0 M643.531 1530.29 L673.207 1530.29 L673.207 1534.23 L643.531 1534.23 L643.531 1530.29 Z\" fill=\"#000000\" fill-rule=\"evenodd\" fill-opacity=\"1\" /><path clip-path=\"url(#clip070)\" d=\"M 0 0 M682.304 1543.18 L698.624 1543.18 L698.624 1547.12 L676.679 1547.12 L676.679 1543.18 Q679.341 1540.43 683.925 1535.8 Q688.531 1531.15 689.712 1529.81 Q691.957 1527.28 692.837 1525.55 Q693.739 1523.79 693.739 1522.1 Q693.739 1519.34 691.795 1517.61 Q689.874 1515.87 686.772 1515.87 Q684.573 1515.87 682.119 1516.63 Q679.689 1517.4 676.911 1518.95 L676.911 1514.23 Q679.735 1513.09 682.189 1512.51 Q684.642 1511.93 686.679 1511.93 Q692.05 1511.93 695.244 1514.62 Q698.438 1517.31 698.438 1521.8 Q698.438 1523.93 697.628 1525.85 Q696.841 1527.74 694.735 1530.34 Q694.156 1531.01 691.054 1534.23 Q687.952 1537.42 682.304 1543.18 Z\" fill=\"#000000\" fill-rule=\"evenodd\" fill-opacity=\"1\" /><path clip-path=\"url(#clip070)\" d=\"M 0 0 M1048.57 1530.29 L1078.25 1530.29 L1078.25 1534.23 L1048.57 1534.23 L1048.57 1530.29 Z\" fill=\"#000000\" fill-rule=\"evenodd\" fill-opacity=\"1\" /><path clip-path=\"url(#clip070)\" d=\"M 0 0 M1084.13 1543.18 L1091.76 1543.18 L1091.76 1516.82 L1083.45 1518.49 L1083.45 1514.23 L1091.72 1512.56 L1096.39 1512.56 L1096.39 1543.18 L1104.03 1543.18 L1104.03 1547.12 L1084.13 1547.12 L1084.13 1543.18 Z\" fill=\"#000000\" fill-rule=\"evenodd\" fill-opacity=\"1\" /><path clip-path=\"url(#clip070)\" d=\"M 0 0 M1481.52 1515.64 Q1477.91 1515.64 1476.09 1519.2 Q1474.28 1522.75 1474.28 1529.87 Q1474.28 1536.98 1476.09 1540.55 Q1477.91 1544.09 1481.52 1544.09 Q1485.16 1544.09 1486.96 1540.55 Q1488.79 1536.98 1488.79 1529.87 Q1488.79 1522.75 1486.96 1519.2 Q1485.16 1515.64 1481.52 1515.64 M1481.52 1511.93 Q1487.34 1511.93 1490.39 1516.54 Q1493.47 1521.12 1493.47 1529.87 Q1493.47 1538.6 1490.39 1543.21 Q1487.34 1547.79 1481.52 1547.79 Q1475.71 1547.79 1472.64 1543.21 Q1469.58 1538.6 1469.58 1529.87 Q1469.58 1521.12 1472.64 1516.54 Q1475.71 1511.93 1481.52 1511.93 Z\" fill=\"#000000\" fill-rule=\"evenodd\" fill-opacity=\"1\" /><path clip-path=\"url(#clip070)\" d=\"M 0 0 M1877.13 1543.18 L1884.77 1543.18 L1884.77 1516.82 L1876.46 1518.49 L1876.46 1514.23 L1884.72 1512.56 L1889.4 1512.56 L1889.4 1543.18 L1897.04 1543.18 L1897.04 1547.12 L1877.13 1547.12 L1877.13 1543.18 Z\" fill=\"#000000\" fill-rule=\"evenodd\" fill-opacity=\"1\" /><path clip-path=\"url(#clip070)\" d=\"M 0 0 M2286.63 1543.18 L2302.94 1543.18 L2302.94 1547.12 L2281 1547.12 L2281 1543.18 Q2283.66 1540.43 2288.25 1535.8 Q2292.85 1531.15 2294.03 1529.81 Q2296.28 1527.28 2297.16 1525.55 Q2298.06 1523.79 2298.06 1522.1 Q2298.06 1519.34 2296.12 1517.61 Q2294.19 1515.87 2291.09 1515.87 Q2288.89 1515.87 2286.44 1516.63 Q2284.01 1517.4 2281.23 1518.95 L2281.23 1514.23 Q2284.06 1513.09 2286.51 1512.51 Q2288.96 1511.93 2291 1511.93 Q2296.37 1511.93 2299.56 1514.62 Q2302.76 1517.31 2302.76 1521.8 Q2302.76 1523.93 2301.95 1525.85 Q2301.16 1527.74 2299.06 1530.34 Q2298.48 1531.01 2295.38 1534.23 Q2292.27 1537.42 2286.63 1543.18 Z\" fill=\"#000000\" fill-rule=\"evenodd\" fill-opacity=\"1\" /><polyline clip-path=\"url(#clip072)\" style=\"stroke:#000000; stroke-width:2; stroke-opacity:0.1; fill:none\" points=\"\n",
       "  205.07,1372 2352.76,1372 \n",
       "  \"/>\n",
       "<polyline clip-path=\"url(#clip072)\" style=\"stroke:#000000; stroke-width:2; stroke-opacity:0.1; fill:none\" points=\"\n",
       "  205.07,1172.48 2352.76,1172.48 \n",
       "  \"/>\n",
       "<polyline clip-path=\"url(#clip072)\" style=\"stroke:#000000; stroke-width:2; stroke-opacity:0.1; fill:none\" points=\"\n",
       "  205.07,972.961 2352.76,972.961 \n",
       "  \"/>\n",
       "<polyline clip-path=\"url(#clip072)\" style=\"stroke:#000000; stroke-width:2; stroke-opacity:0.1; fill:none\" points=\"\n",
       "  205.07,773.439 2352.76,773.439 \n",
       "  \"/>\n",
       "<polyline clip-path=\"url(#clip072)\" style=\"stroke:#000000; stroke-width:2; stroke-opacity:0.1; fill:none\" points=\"\n",
       "  205.07,573.916 2352.76,573.916 \n",
       "  \"/>\n",
       "<polyline clip-path=\"url(#clip072)\" style=\"stroke:#000000; stroke-width:2; stroke-opacity:0.1; fill:none\" points=\"\n",
       "  205.07,374.394 2352.76,374.394 \n",
       "  \"/>\n",
       "<polyline clip-path=\"url(#clip072)\" style=\"stroke:#000000; stroke-width:2; stroke-opacity:0.1; fill:none\" points=\"\n",
       "  205.07,174.872 2352.76,174.872 \n",
       "  \"/>\n",
       "<polyline clip-path=\"url(#clip070)\" style=\"stroke:#000000; stroke-width:4; stroke-opacity:1; fill:none\" points=\"\n",
       "  205.07,1486.45 205.07,47.2441 \n",
       "  \"/>\n",
       "<polyline clip-path=\"url(#clip070)\" style=\"stroke:#000000; stroke-width:4; stroke-opacity:1; fill:none\" points=\"\n",
       "  205.07,1372 230.842,1372 \n",
       "  \"/>\n",
       "<polyline clip-path=\"url(#clip070)\" style=\"stroke:#000000; stroke-width:4; stroke-opacity:1; fill:none\" points=\"\n",
       "  205.07,1172.48 230.842,1172.48 \n",
       "  \"/>\n",
       "<polyline clip-path=\"url(#clip070)\" style=\"stroke:#000000; stroke-width:4; stroke-opacity:1; fill:none\" points=\"\n",
       "  205.07,972.961 230.842,972.961 \n",
       "  \"/>\n",
       "<polyline clip-path=\"url(#clip070)\" style=\"stroke:#000000; stroke-width:4; stroke-opacity:1; fill:none\" points=\"\n",
       "  205.07,773.439 230.842,773.439 \n",
       "  \"/>\n",
       "<polyline clip-path=\"url(#clip070)\" style=\"stroke:#000000; stroke-width:4; stroke-opacity:1; fill:none\" points=\"\n",
       "  205.07,573.916 230.842,573.916 \n",
       "  \"/>\n",
       "<polyline clip-path=\"url(#clip070)\" style=\"stroke:#000000; stroke-width:4; stroke-opacity:1; fill:none\" points=\"\n",
       "  205.07,374.394 230.842,374.394 \n",
       "  \"/>\n",
       "<polyline clip-path=\"url(#clip070)\" style=\"stroke:#000000; stroke-width:4; stroke-opacity:1; fill:none\" points=\"\n",
       "  205.07,174.872 230.842,174.872 \n",
       "  \"/>\n",
       "<path clip-path=\"url(#clip070)\" d=\"M 0 0 M50.9921 1372.46 L80.6679 1372.46 L80.6679 1376.39 L50.9921 1376.39 L50.9921 1372.46 Z\" fill=\"#000000\" fill-rule=\"evenodd\" fill-opacity=\"1\" /><path clip-path=\"url(#clip070)\" d=\"M 0 0 M95.7373 1357.8 Q92.1262 1357.8 90.2975 1361.37 Q88.4919 1364.91 88.4919 1372.04 Q88.4919 1379.15 90.2975 1382.71 Q92.1262 1386.25 95.7373 1386.25 Q99.3715 1386.25 101.177 1382.71 Q103.006 1379.15 103.006 1372.04 Q103.006 1364.91 101.177 1361.37 Q99.3715 1357.8 95.7373 1357.8 M95.7373 1354.1 Q101.547 1354.1 104.603 1358.71 Q107.682 1363.29 107.682 1372.04 Q107.682 1380.77 104.603 1385.37 Q101.547 1389.96 95.7373 1389.96 Q89.9271 1389.96 86.8484 1385.37 Q83.7929 1380.77 83.7929 1372.04 Q83.7929 1363.29 86.8484 1358.71 Q89.9271 1354.1 95.7373 1354.1 Z\" fill=\"#000000\" fill-rule=\"evenodd\" fill-opacity=\"1\" /><path clip-path=\"url(#clip070)\" d=\"M 0 0 M112.751 1383.41 L117.635 1383.41 L117.635 1389.28 L112.751 1389.28 L112.751 1383.41 Z\" fill=\"#000000\" fill-rule=\"evenodd\" fill-opacity=\"1\" /><path clip-path=\"url(#clip070)\" d=\"M 0 0 M126.732 1385.35 L143.052 1385.35 L143.052 1389.28 L121.107 1389.28 L121.107 1385.35 Q123.77 1382.6 128.353 1377.97 Q132.959 1373.31 134.14 1371.97 Q136.385 1369.45 137.265 1367.71 Q138.168 1365.95 138.168 1364.26 Q138.168 1361.51 136.223 1359.77 Q134.302 1358.04 131.2 1358.04 Q129.001 1358.04 126.547 1358.8 Q124.117 1359.56 121.339 1361.11 L121.339 1356.39 Q124.163 1355.26 126.617 1354.68 Q129.07 1354.1 131.107 1354.1 Q136.478 1354.1 139.672 1356.79 Q142.867 1359.47 142.867 1363.96 Q142.867 1366.09 142.056 1368.01 Q141.269 1369.91 139.163 1372.5 Q138.584 1373.17 135.482 1376.39 Q132.381 1379.59 126.732 1385.35 Z\" fill=\"#000000\" fill-rule=\"evenodd\" fill-opacity=\"1\" /><path clip-path=\"url(#clip070)\" d=\"M 0 0 M148.168 1354.72 L166.524 1354.72 L166.524 1358.66 L152.45 1358.66 L152.45 1367.13 Q153.468 1366.79 154.487 1366.62 Q155.505 1366.44 156.524 1366.44 Q162.311 1366.44 165.691 1369.61 Q169.07 1372.78 169.07 1378.2 Q169.07 1383.78 165.598 1386.88 Q162.126 1389.96 155.806 1389.96 Q153.63 1389.96 151.362 1389.59 Q149.117 1389.22 146.709 1388.47 L146.709 1383.78 Q148.793 1384.91 151.015 1385.47 Q153.237 1386.02 155.714 1386.02 Q159.718 1386.02 162.056 1383.91 Q164.394 1381.81 164.394 1378.2 Q164.394 1374.59 162.056 1372.48 Q159.718 1370.37 155.714 1370.37 Q153.839 1370.37 151.964 1370.79 Q150.112 1371.21 148.168 1372.09 L148.168 1354.72 Z\" fill=\"#000000\" fill-rule=\"evenodd\" fill-opacity=\"1\" /><path clip-path=\"url(#clip070)\" d=\"M 0 0 M93.1447 1158.28 Q89.5336 1158.28 87.7049 1161.85 Q85.8993 1165.39 85.8993 1172.52 Q85.8993 1179.62 87.7049 1183.19 Q89.5336 1186.73 93.1447 1186.73 Q96.7789 1186.73 98.5845 1183.19 Q100.413 1179.62 100.413 1172.52 Q100.413 1165.39 98.5845 1161.85 Q96.7789 1158.28 93.1447 1158.28 M93.1447 1154.58 Q98.9548 1154.58 102.01 1159.18 Q105.089 1163.77 105.089 1172.52 Q105.089 1181.24 102.01 1185.85 Q98.9548 1190.43 93.1447 1190.43 Q87.3345 1190.43 84.2558 1185.85 Q81.2003 1181.24 81.2003 1172.52 Q81.2003 1163.77 84.2558 1159.18 Q87.3345 1154.58 93.1447 1154.58 Z\" fill=\"#000000\" fill-rule=\"evenodd\" fill-opacity=\"1\" /><path clip-path=\"url(#clip070)\" d=\"M 0 0 M110.158 1183.88 L115.043 1183.88 L115.043 1189.76 L110.158 1189.76 L110.158 1183.88 Z\" fill=\"#000000\" fill-rule=\"evenodd\" fill-opacity=\"1\" /><path clip-path=\"url(#clip070)\" d=\"M 0 0 M130.112 1158.28 Q126.501 1158.28 124.672 1161.85 Q122.867 1165.39 122.867 1172.52 Q122.867 1179.62 124.672 1183.19 Q126.501 1186.73 130.112 1186.73 Q133.746 1186.73 135.552 1183.19 Q137.381 1179.62 137.381 1172.52 Q137.381 1165.39 135.552 1161.85 Q133.746 1158.28 130.112 1158.28 M130.112 1154.58 Q135.922 1154.58 138.978 1159.18 Q142.056 1163.77 142.056 1172.52 Q142.056 1181.24 138.978 1185.85 Q135.922 1190.43 130.112 1190.43 Q124.302 1190.43 121.223 1185.85 Q118.168 1181.24 118.168 1172.52 Q118.168 1163.77 121.223 1159.18 Q124.302 1154.58 130.112 1154.58 Z\" fill=\"#000000\" fill-rule=\"evenodd\" fill-opacity=\"1\" /><path clip-path=\"url(#clip070)\" d=\"M 0 0 M157.126 1158.28 Q153.515 1158.28 151.686 1161.85 Q149.88 1165.39 149.88 1172.52 Q149.88 1179.62 151.686 1183.19 Q153.515 1186.73 157.126 1186.73 Q160.76 1186.73 162.566 1183.19 Q164.394 1179.62 164.394 1172.52 Q164.394 1165.39 162.566 1161.85 Q160.76 1158.28 157.126 1158.28 M157.126 1154.58 Q162.936 1154.58 165.992 1159.18 Q169.07 1163.77 169.07 1172.52 Q169.07 1181.24 165.992 1185.85 Q162.936 1190.43 157.126 1190.43 Q151.316 1190.43 148.237 1185.85 Q145.181 1181.24 145.181 1172.52 Q145.181 1163.77 148.237 1159.18 Q151.316 1154.58 157.126 1154.58 Z\" fill=\"#000000\" fill-rule=\"evenodd\" fill-opacity=\"1\" /><path clip-path=\"url(#clip070)\" d=\"M 0 0 M95.7373 958.759 Q92.1262 958.759 90.2975 962.324 Q88.4919 965.866 88.4919 972.995 Q88.4919 980.102 90.2975 983.667 Q92.1262 987.208 95.7373 987.208 Q99.3715 987.208 101.177 983.667 Q103.006 980.102 103.006 972.995 Q103.006 965.866 101.177 962.324 Q99.3715 958.759 95.7373 958.759 M95.7373 955.056 Q101.547 955.056 104.603 959.662 Q107.682 964.245 107.682 972.995 Q107.682 981.722 104.603 986.329 Q101.547 990.912 95.7373 990.912 Q89.9271 990.912 86.8484 986.329 Q83.7929 981.722 83.7929 972.995 Q83.7929 964.245 86.8484 959.662 Q89.9271 955.056 95.7373 955.056 Z\" fill=\"#000000\" fill-rule=\"evenodd\" fill-opacity=\"1\" /><path clip-path=\"url(#clip070)\" d=\"M 0 0 M112.751 984.361 L117.635 984.361 L117.635 990.241 L112.751 990.241 L112.751 984.361 Z\" fill=\"#000000\" fill-rule=\"evenodd\" fill-opacity=\"1\" /><path clip-path=\"url(#clip070)\" d=\"M 0 0 M126.732 986.306 L143.052 986.306 L143.052 990.241 L121.107 990.241 L121.107 986.306 Q123.77 983.551 128.353 978.921 Q132.959 974.269 134.14 972.926 Q136.385 970.403 137.265 968.667 Q138.168 966.907 138.168 965.218 Q138.168 962.463 136.223 960.727 Q134.302 958.991 131.2 958.991 Q129.001 958.991 126.547 959.755 Q124.117 960.519 121.339 962.07 L121.339 957.347 Q124.163 956.213 126.617 955.634 Q129.07 955.056 131.107 955.056 Q136.478 955.056 139.672 957.741 Q142.867 960.426 142.867 964.917 Q142.867 967.046 142.056 968.968 Q141.269 970.866 139.163 973.458 Q138.584 974.13 135.482 977.347 Q132.381 980.542 126.732 986.306 Z\" fill=\"#000000\" fill-rule=\"evenodd\" fill-opacity=\"1\" /><path clip-path=\"url(#clip070)\" d=\"M 0 0 M148.168 955.681 L166.524 955.681 L166.524 959.616 L152.45 959.616 L152.45 968.088 Q153.468 967.741 154.487 967.579 Q155.505 967.394 156.524 967.394 Q162.311 967.394 165.691 970.565 Q169.07 973.736 169.07 979.153 Q169.07 984.731 165.598 987.833 Q162.126 990.912 155.806 990.912 Q153.63 990.912 151.362 990.542 Q149.117 990.171 146.709 989.43 L146.709 984.731 Q148.793 985.866 151.015 986.421 Q153.237 986.977 155.714 986.977 Q159.718 986.977 162.056 984.87 Q164.394 982.764 164.394 979.153 Q164.394 975.542 162.056 973.435 Q159.718 971.329 155.714 971.329 Q153.839 971.329 151.964 971.745 Q150.112 972.162 148.168 973.042 L148.168 955.681 Z\" fill=\"#000000\" fill-rule=\"evenodd\" fill-opacity=\"1\" /><path clip-path=\"url(#clip070)\" d=\"M 0 0 M94.14 759.237 Q90.529 759.237 88.7003 762.802 Q86.8947 766.344 86.8947 773.473 Q86.8947 780.58 88.7003 784.145 Q90.529 787.686 94.14 787.686 Q97.7743 787.686 99.5798 784.145 Q101.409 780.58 101.409 773.473 Q101.409 766.344 99.5798 762.802 Q97.7743 759.237 94.14 759.237 M94.14 755.534 Q99.9502 755.534 103.006 760.14 Q106.084 764.723 106.084 773.473 Q106.084 782.2 103.006 786.807 Q99.9502 791.39 94.14 791.39 Q88.3299 791.39 85.2512 786.807 Q82.1957 782.2 82.1957 773.473 Q82.1957 764.723 85.2512 760.14 Q88.3299 755.534 94.14 755.534 Z\" fill=\"#000000\" fill-rule=\"evenodd\" fill-opacity=\"1\" /><path clip-path=\"url(#clip070)\" d=\"M 0 0 M111.154 784.839 L116.038 784.839 L116.038 790.719 L111.154 790.719 L111.154 784.839 Z\" fill=\"#000000\" fill-rule=\"evenodd\" fill-opacity=\"1\" /><path clip-path=\"url(#clip070)\" d=\"M 0 0 M121.154 756.159 L139.51 756.159 L139.51 760.094 L125.436 760.094 L125.436 768.566 Q126.455 768.219 127.473 768.057 Q128.492 767.871 129.51 767.871 Q135.297 767.871 138.677 771.043 Q142.056 774.214 142.056 779.631 Q142.056 785.209 138.584 788.311 Q135.112 791.39 128.793 791.39 Q126.617 791.39 124.348 791.019 Q122.103 790.649 119.695 789.908 L119.695 785.209 Q121.779 786.344 124.001 786.899 Q126.223 787.455 128.7 787.455 Q132.705 787.455 135.043 785.348 Q137.381 783.242 137.381 779.631 Q137.381 776.02 135.043 773.913 Q132.705 771.807 128.7 771.807 Q126.825 771.807 124.95 772.223 Q123.098 772.64 121.154 773.52 L121.154 756.159 Z\" fill=\"#000000\" fill-rule=\"evenodd\" fill-opacity=\"1\" /><path clip-path=\"url(#clip070)\" d=\"M 0 0 M157.126 759.237 Q153.515 759.237 151.686 762.802 Q149.88 766.344 149.88 773.473 Q149.88 780.58 151.686 784.145 Q153.515 787.686 157.126 787.686 Q160.76 787.686 162.566 784.145 Q164.394 780.58 164.394 773.473 Q164.394 766.344 162.566 762.802 Q160.76 759.237 157.126 759.237 M157.126 755.534 Q162.936 755.534 165.992 760.14 Q169.07 764.723 169.07 773.473 Q169.07 782.2 165.992 786.807 Q162.936 791.39 157.126 791.39 Q151.316 791.39 148.237 786.807 Q145.181 782.2 145.181 773.473 Q145.181 764.723 148.237 760.14 Q151.316 755.534 157.126 755.534 Z\" fill=\"#000000\" fill-rule=\"evenodd\" fill-opacity=\"1\" /><path clip-path=\"url(#clip070)\" d=\"M 0 0 M95.0428 559.715 Q91.4317 559.715 89.603 563.28 Q87.7975 566.822 87.7975 573.951 Q87.7975 581.058 89.603 584.622 Q91.4317 588.164 95.0428 588.164 Q98.6771 588.164 100.483 584.622 Q102.311 581.058 102.311 573.951 Q102.311 566.822 100.483 563.28 Q98.6771 559.715 95.0428 559.715 M95.0428 556.011 Q100.853 556.011 103.909 560.618 Q106.987 565.201 106.987 573.951 Q106.987 582.678 103.909 587.284 Q100.853 591.868 95.0428 591.868 Q89.2327 591.868 86.154 587.284 Q83.0984 582.678 83.0984 573.951 Q83.0984 565.201 86.154 560.618 Q89.2327 556.011 95.0428 556.011 Z\" fill=\"#000000\" fill-rule=\"evenodd\" fill-opacity=\"1\" /><path clip-path=\"url(#clip070)\" d=\"M 0 0 M112.057 585.317 L116.941 585.317 L116.941 591.196 L112.057 591.196 L112.057 585.317 Z\" fill=\"#000000\" fill-rule=\"evenodd\" fill-opacity=\"1\" /><path clip-path=\"url(#clip070)\" d=\"M 0 0 M120.83 556.636 L143.052 556.636 L143.052 558.627 L130.506 591.196 L125.621 591.196 L137.427 560.572 L120.83 560.572 L120.83 556.636 Z\" fill=\"#000000\" fill-rule=\"evenodd\" fill-opacity=\"1\" /><path clip-path=\"url(#clip070)\" d=\"M 0 0 M148.168 556.636 L166.524 556.636 L166.524 560.572 L152.45 560.572 L152.45 569.044 Q153.468 568.697 154.487 568.534 Q155.505 568.349 156.524 568.349 Q162.311 568.349 165.691 571.521 Q169.07 574.692 169.07 580.109 Q169.07 585.687 165.598 588.789 Q162.126 591.868 155.806 591.868 Q153.63 591.868 151.362 591.497 Q149.117 591.127 146.709 590.386 L146.709 585.687 Q148.793 586.821 151.015 587.377 Q153.237 587.933 155.714 587.933 Q159.718 587.933 162.056 585.826 Q164.394 583.72 164.394 580.109 Q164.394 576.497 162.056 574.391 Q159.718 572.284 155.714 572.284 Q153.839 572.284 151.964 572.701 Q150.112 573.118 148.168 573.997 L148.168 556.636 Z\" fill=\"#000000\" fill-rule=\"evenodd\" fill-opacity=\"1\" /><path clip-path=\"url(#clip070)\" d=\"M 0 0 M85.1818 387.739 L92.8206 387.739 L92.8206 361.374 L84.5105 363.04 L84.5105 358.781 L92.7743 357.114 L97.4502 357.114 L97.4502 387.739 L105.089 387.739 L105.089 391.674 L85.1818 391.674 L85.1818 387.739 Z\" fill=\"#000000\" fill-rule=\"evenodd\" fill-opacity=\"1\" /><path clip-path=\"url(#clip070)\" d=\"M 0 0 M110.158 385.795 L115.043 385.795 L115.043 391.674 L110.158 391.674 L110.158 385.795 Z\" fill=\"#000000\" fill-rule=\"evenodd\" fill-opacity=\"1\" /><path clip-path=\"url(#clip070)\" d=\"M 0 0 M130.112 360.193 Q126.501 360.193 124.672 363.758 Q122.867 367.299 122.867 374.429 Q122.867 381.535 124.672 385.1 Q126.501 388.642 130.112 388.642 Q133.746 388.642 135.552 385.1 Q137.381 381.535 137.381 374.429 Q137.381 367.299 135.552 363.758 Q133.746 360.193 130.112 360.193 M130.112 356.489 Q135.922 356.489 138.978 361.096 Q142.056 365.679 142.056 374.429 Q142.056 383.156 138.978 387.762 Q135.922 392.346 130.112 392.346 Q124.302 392.346 121.223 387.762 Q118.168 383.156 118.168 374.429 Q118.168 365.679 121.223 361.096 Q124.302 356.489 130.112 356.489 Z\" fill=\"#000000\" fill-rule=\"evenodd\" fill-opacity=\"1\" /><path clip-path=\"url(#clip070)\" d=\"M 0 0 M157.126 360.193 Q153.515 360.193 151.686 363.758 Q149.88 367.299 149.88 374.429 Q149.88 381.535 151.686 385.1 Q153.515 388.642 157.126 388.642 Q160.76 388.642 162.566 385.1 Q164.394 381.535 164.394 374.429 Q164.394 367.299 162.566 363.758 Q160.76 360.193 157.126 360.193 M157.126 356.489 Q162.936 356.489 165.992 361.096 Q169.07 365.679 169.07 374.429 Q169.07 383.156 165.992 387.762 Q162.936 392.346 157.126 392.346 Q151.316 392.346 148.237 387.762 Q145.181 383.156 145.181 374.429 Q145.181 365.679 148.237 361.096 Q151.316 356.489 157.126 356.489 Z\" fill=\"#000000\" fill-rule=\"evenodd\" fill-opacity=\"1\" /><path clip-path=\"url(#clip070)\" d=\"M 0 0 M87.7743 188.217 L95.4132 188.217 L95.4132 161.851 L87.103 163.518 L87.103 159.259 L95.3669 157.592 L100.043 157.592 L100.043 188.217 L107.682 188.217 L107.682 192.152 L87.7743 192.152 L87.7743 188.217 Z\" fill=\"#000000\" fill-rule=\"evenodd\" fill-opacity=\"1\" /><path clip-path=\"url(#clip070)\" d=\"M 0 0 M112.751 186.273 L117.635 186.273 L117.635 192.152 L112.751 192.152 L112.751 186.273 Z\" fill=\"#000000\" fill-rule=\"evenodd\" fill-opacity=\"1\" /><path clip-path=\"url(#clip070)\" d=\"M 0 0 M126.732 188.217 L143.052 188.217 L143.052 192.152 L121.107 192.152 L121.107 188.217 Q123.77 185.462 128.353 180.833 Q132.959 176.18 134.14 174.837 Q136.385 172.314 137.265 170.578 Q138.168 168.819 138.168 167.129 Q138.168 164.375 136.223 162.638 Q134.302 160.902 131.2 160.902 Q129.001 160.902 126.547 161.666 Q124.117 162.43 121.339 163.981 L121.339 159.259 Q124.163 158.125 126.617 157.546 Q129.07 156.967 131.107 156.967 Q136.478 156.967 139.672 159.652 Q142.867 162.337 142.867 166.828 Q142.867 168.958 142.056 170.879 Q141.269 172.777 139.163 175.37 Q138.584 176.041 135.482 179.259 Q132.381 182.453 126.732 188.217 Z\" fill=\"#000000\" fill-rule=\"evenodd\" fill-opacity=\"1\" /><path clip-path=\"url(#clip070)\" d=\"M 0 0 M148.168 157.592 L166.524 157.592 L166.524 161.527 L152.45 161.527 L152.45 169.999 Q153.468 169.652 154.487 169.49 Q155.505 169.305 156.524 169.305 Q162.311 169.305 165.691 172.476 Q169.07 175.648 169.07 181.064 Q169.07 186.643 165.598 189.745 Q162.126 192.823 155.806 192.823 Q153.63 192.823 151.362 192.453 Q149.117 192.083 146.709 191.342 L146.709 186.643 Q148.793 187.777 151.015 188.333 Q153.237 188.888 155.714 188.888 Q159.718 188.888 162.056 186.782 Q164.394 184.675 164.394 181.064 Q164.394 177.453 162.056 175.347 Q159.718 173.24 155.714 173.24 Q153.839 173.24 151.964 173.657 Q150.112 174.074 148.168 174.953 L148.168 157.592 Z\" fill=\"#000000\" fill-rule=\"evenodd\" fill-opacity=\"1\" /><polyline clip-path=\"url(#clip072)\" style=\"stroke:#009af9; stroke-width:4; stroke-opacity:1; fill:none\" points=\"\n",
       "  265.854,87.9763 275.747,116.973 285.64,145.892 377.119,407.554 468.597,652.843 523.572,789.044 578.546,914.955 625.027,1012.4 671.507,1100.87 721.998,1186.14 \n",
       "  772.489,1259.6 819.037,1316.55 865.585,1362.99 915.489,1401.12 965.393,1427.35 994.303,1437.22 1023.21,1443.3 1052.12,1445.72 1081.03,1444.59 1132.41,1434.32 \n",
       "  1183.8,1414.32 1228.86,1389.67 1273.91,1359.27 1372.16,1277.57 1471,1182.85 1580.27,1077.16 1684.25,989.3 1738.3,952.795 1792.35,924.685 1837.85,908.597 \n",
       "  1883.35,900.252 1938.91,901.527 1994.46,916.338 2046.68,943.276 2098.9,983.245 2140.73,1024.8 2182.56,1074.83 2224.39,1133.26 2266.22,1199.89 2272.66,1210.85 \n",
       "  2279.1,1222.01 2285.53,1233.35 2291.97,1244.87 \n",
       "  \"/>\n",
       "<path clip-path=\"url(#clip070)\" d=\"\n",
       "M1991.52 216.178 L2281.17 216.178 L2281.17 95.2176 L1991.52 95.2176  Z\n",
       "  \" fill=\"#ffffff\" fill-rule=\"evenodd\" fill-opacity=\"1\"/>\n",
       "<polyline clip-path=\"url(#clip070)\" style=\"stroke:#000000; stroke-width:4; stroke-opacity:1; fill:none\" points=\"\n",
       "  1991.52,216.178 2281.17,216.178 2281.17,95.2176 1991.52,95.2176 1991.52,216.178 \n",
       "  \"/>\n",
       "<polyline clip-path=\"url(#clip070)\" style=\"stroke:#009af9; stroke-width:4; stroke-opacity:1; fill:none\" points=\"\n",
       "  2015.38,155.698 2158.56,155.698 \n",
       "  \"/>\n",
       "<path clip-path=\"url(#clip070)\" d=\"M 0 0 M2196.26 175.385 Q2194.46 180.015 2192.75 181.427 Q2191.03 182.839 2188.16 182.839 L2184.76 182.839 L2184.76 179.274 L2187.26 179.274 Q2189.02 179.274 2189.99 178.44 Q2190.96 177.607 2192.14 174.505 L2192.91 172.561 L2182.42 147.052 L2186.94 147.052 L2195.04 167.329 L2203.14 147.052 L2207.65 147.052 L2196.26 175.385 Z\" fill=\"#000000\" fill-rule=\"evenodd\" fill-opacity=\"1\" /><path clip-path=\"url(#clip070)\" d=\"M 0 0 M2213.53 169.042 L2221.17 169.042 L2221.17 142.677 L2212.86 144.343 L2212.86 140.084 L2221.13 138.418 L2225.8 138.418 L2225.8 169.042 L2233.44 169.042 L2233.44 172.978 L2213.53 172.978 L2213.53 169.042 Z\" fill=\"#000000\" fill-rule=\"evenodd\" fill-opacity=\"1\" /></svg>\n"
      ]
     },
     "execution_count": 132,
     "metadata": {},
     "output_type": "execute_result"
    }
   ],
   "source": [
    "plot(d,-3,2)"
   ]
  },
  {
   "cell_type": "code",
   "execution_count": 135,
   "metadata": {},
   "outputs": [
    {
     "name": "stdout",
     "output_type": "stream",
     "text": [
      "Results of univariate zero finding:\n",
      "\n",
      "* Converged to: -1.89549426703398\n",
      "* Algorithm: Roots.BisectionExact()\n",
      "* iterations: 49\n",
      "* function evaluations: 51\n",
      "* stopped as x_n ≈ x_{n-1} using atol=xatol, rtol=xrtol\n",
      "* stopped as |f(x_n)| ≤ max(δ, max(1,|x|)⋅ϵ) using δ = atol, ϵ = rtol\n",
      "\n",
      "Trace:\n",
      "(a_0, b_0) = (-2.0000000000000000, -1.0000000000000000)\n",
      "(a_1, b_1) = (-2.0000000000000000, -1.5000000000000000)\n",
      "(a_2, b_2) = (-2.0000000000000000, -1.7500000000000000)\n",
      "(a_3, b_3) = (-2.0000000000000000, -1.8750000000000000)\n",
      "(a_4, b_4) = (-1.9375000000000000, -1.8750000000000000)\n",
      "(a_5, b_5) = (-1.9062500000000000, -1.8750000000000000)\n",
      "(a_6, b_6) = (-1.9062500000000000, -1.8906250000000000)\n",
      "(a_7, b_7) = (-1.8984375000000000, -1.8906250000000000)\n",
      "(a_8, b_8) = (-1.8984375000000000, -1.8945312500000000)\n",
      "(a_9, b_9) = (-1.8964843750000000, -1.8945312500000000)\n",
      "(a_10, b_10) = (-1.8955078125000000, -1.8945312500000000)\n",
      "(a_11, b_11) = (-1.8955078125000000, -1.8950195312500000)\n",
      "(a_12, b_12) = (-1.8955078125000000, -1.8952636718750000)\n",
      "(a_13, b_13) = (-1.8955078125000000, -1.8953857421875000)\n",
      "(a_14, b_14) = (-1.8955078125000000, -1.8954467773437500)\n",
      "(a_15, b_15) = (-1.8955078125000000, -1.8954772949218750)\n",
      "(a_16, b_16) = (-1.8955078125000000, -1.8954925537109375)\n",
      "(a_17, b_17) = (-1.8955001831054688, -1.8954925537109375)\n",
      "(a_18, b_18) = (-1.8954963684082031, -1.8954925537109375)\n",
      "(a_19, b_19) = (-1.8954944610595703, -1.8954925537109375)\n",
      "(a_20, b_20) = (-1.8954944610595703, -1.8954935073852539)\n",
      "(a_21, b_21) = (-1.8954944610595703, -1.8954939842224121)\n",
      "(a_22, b_22) = (-1.8954944610595703, -1.8954942226409912)\n",
      "(a_23, b_23) = (-1.8954943418502808, -1.8954942226409912)\n",
      "(a_24, b_24) = (-1.8954942822456360, -1.8954942226409912)\n",
      "(a_25, b_25) = (-1.8954942822456360, -1.8954942524433136)\n",
      "(a_26, b_26) = (-1.8954942673444748, -1.8954942524433136)\n",
      "(a_27, b_27) = (-1.8954942673444748, -1.8954942598938942)\n",
      "(a_28, b_28) = (-1.8954942673444748, -1.8954942636191845)\n",
      "(a_29, b_29) = (-1.8954942673444748, -1.8954942654818296)\n",
      "(a_30, b_30) = (-1.8954942673444748, -1.8954942664131522)\n",
      "(a_31, b_31) = (-1.8954942673444748, -1.8954942668788135)\n",
      "(a_32, b_32) = (-1.8954942671116441, -1.8954942668788135)\n",
      "(a_33, b_33) = (-1.8954942671116441, -1.8954942669952288)\n",
      "(a_34, b_34) = (-1.8954942670534365, -1.8954942669952288)\n",
      "(a_35, b_35) = (-1.8954942670534365, -1.8954942670243327)\n",
      "(a_36, b_36) = (-1.8954942670388846, -1.8954942670243327)\n",
      "(a_37, b_37) = (-1.8954942670388846, -1.8954942670316086)\n",
      "(a_38, b_38) = (-1.8954942670352466, -1.8954942670316086)\n",
      "(a_39, b_39) = (-1.8954942670352466, -1.8954942670334276)\n",
      "(a_40, b_40) = (-1.8954942670343371, -1.8954942670334276)\n",
      "(a_41, b_41) = (-1.8954942670343371, -1.8954942670338824)\n",
      "(a_42, b_42) = (-1.8954942670341097, -1.8954942670338824)\n",
      "(a_43, b_43) = (-1.8954942670339960, -1.8954942670338824)\n",
      "(a_44, b_44) = (-1.8954942670339960, -1.8954942670339392)\n",
      "(a_45, b_45) = (-1.8954942670339960, -1.8954942670339676)\n",
      "(a_46, b_46) = (-1.8954942670339818, -1.8954942670339676)\n",
      "(a_47, b_47) = (-1.8954942670339818, -1.8954942670339747)\n",
      "(a_48, b_48) = (-1.8954942670339818, -1.8954942670339783)\n",
      "(a_49, b_49) = (-1.8954942670339818, -1.8954942670339801)\n",
      "\n"
     ]
    },
    {
     "data": {
      "text/plain": [
       "-1.895494267033981"
      ]
     },
     "execution_count": 135,
     "metadata": {},
     "output_type": "execute_result"
    }
   ],
   "source": [
    "x = find_zero(d, (-2, -1),verbose=true)"
   ]
  },
  {
   "cell_type": "code",
   "execution_count": 136,
   "metadata": {},
   "outputs": [
    {
     "data": {
      "text/plain": [
       "true"
      ]
     },
     "execution_count": 136,
     "metadata": {},
     "output_type": "execute_result"
    }
   ],
   "source": [
    "iszero(d(-1.895494267033981))"
   ]
  },
  {
   "cell_type": "code",
   "execution_count": 151,
   "metadata": {},
   "outputs": [
    {
     "name": "stdout",
     "output_type": "stream",
     "text": [
      "Results of univariate zero finding:\n",
      "\n",
      "* Converged to: -1.895494267033981\n",
      "* Algorithm: Roots.Halley()\n",
      "* iterations: 3\n",
      "* function evaluations: 12\n",
      "* stopped as |f(x_n)| ≤ max(δ, max(1,|x|)⋅ϵ) using δ = atol, ϵ = rtol\n",
      "\n",
      "Trace:\n",
      "x_0 = -2.0000000000000000,\t fx_0 =  0.0907025731743183\n",
      "x_1 = -1.8958799569587472,\t fx_1 =  0.0003159592245435\n",
      "x_2 = -1.8954942670568975,\t fx_2 =  0.0000000000187692\n",
      "x_3 = -1.8954942670339809,\t fx_3 =  0.0000000000000000\n",
      "\n"
     ]
    },
    {
     "data": {
      "text/plain": [
       "-1.895494267033981"
      ]
     },
     "execution_count": 151,
     "metadata": {},
     "output_type": "execute_result"
    }
   ],
   "source": [
    "x = find_zero((d, D(d), DD(d)), -2, Roots.Halley(), verbose=true)"
   ]
  },
  {
   "cell_type": "code",
   "execution_count": 138,
   "metadata": {},
   "outputs": [
    {
     "data": {
      "text/plain": [
       "true"
      ]
     },
     "execution_count": 138,
     "metadata": {},
     "output_type": "execute_result"
    }
   ],
   "source": [
    "iszero(d(-1.895494267033981))"
   ]
  },
  {
   "cell_type": "code",
   "execution_count": 139,
   "metadata": {},
   "outputs": [
    {
     "name": "stdout",
     "output_type": "stream",
     "text": [
      "Results of univariate zero finding:\n",
      "\n",
      "* Converged to: -1.895494267033981\n",
      "* Algorithm: Roots.Secant()\n",
      "* iterations: 5\n",
      "* function evaluations: 7\n",
      "* stopped as |f(x_n)| ≤ max(δ, max(1,|x|)⋅ϵ) using δ = atol, ϵ = rtol\n",
      "\n",
      "Trace:\n",
      "x_0 = -2.0000000000000000,\t fx_0 =  0.0907025731743183\n",
      "x_1 = -1.9009952966817181,\t fx_1 =  0.0045197983431743\n",
      "x_2 = -1.8958030608213483,\t fx_2 =  0.0002529542511552\n",
      "x_3 = -1.8954952459339147,\t fx_3 =  0.0000008017415487\n",
      "x_4 = -1.8954942672088371,\t fx_4 =  0.0000000001432111\n",
      "x_5 = -1.8954942670339809,\t fx_5 =  0.0000000000000000\n",
      "\n"
     ]
    },
    {
     "data": {
      "text/plain": [
       "-1.895494267033981"
      ]
     },
     "execution_count": 139,
     "metadata": {},
     "output_type": "execute_result"
    }
   ],
   "source": [
    "x = find_zero(d, -2, Order1(),  verbose=true) "
   ]
  },
  {
   "cell_type": "code",
   "execution_count": 140,
   "metadata": {},
   "outputs": [
    {
     "data": {
      "text/plain": [
       "true"
      ]
     },
     "execution_count": 140,
     "metadata": {},
     "output_type": "execute_result"
    }
   ],
   "source": [
    "iszero(d(-1.895494267033981))"
   ]
  },
  {
   "cell_type": "markdown",
   "metadata": {},
   "source": [
    "# Piąta funkcja - 2 * x - exp ( - x )"
   ]
  },
  {
   "cell_type": "code",
   "execution_count": 141,
   "metadata": {},
   "outputs": [
    {
     "data": {
      "text/plain": [
       "e (generic function with 1 method)"
      ]
     },
     "execution_count": 141,
     "metadata": {},
     "output_type": "execute_result"
    }
   ],
   "source": [
    "e(x) =  2*x - exp(-x)"
   ]
  },
  {
   "cell_type": "code",
   "execution_count": 142,
   "metadata": {},
   "outputs": [
    {
     "data": {
      "image/svg+xml": [
       "<?xml version=\"1.0\" encoding=\"utf-8\"?>\n",
       "<svg xmlns=\"http://www.w3.org/2000/svg\" xmlns:xlink=\"http://www.w3.org/1999/xlink\" width=\"600\" height=\"400\" viewBox=\"0 0 2400 1600\">\n",
       "<defs>\n",
       "  <clipPath id=\"clip110\">\n",
       "    <rect x=\"0\" y=\"0\" width=\"2400\" height=\"1600\"/>\n",
       "  </clipPath>\n",
       "</defs>\n",
       "<path clip-path=\"url(#clip110)\" d=\"\n",
       "M0 1600 L2400 1600 L2400 0 L0 0  Z\n",
       "  \" fill=\"#ffffff\" fill-rule=\"evenodd\" fill-opacity=\"1\"/>\n",
       "<defs>\n",
       "  <clipPath id=\"clip111\">\n",
       "    <rect x=\"480\" y=\"0\" width=\"1681\" height=\"1600\"/>\n",
       "  </clipPath>\n",
       "</defs>\n",
       "<path clip-path=\"url(#clip110)\" d=\"\n",
       "M143.844 1486.45 L2352.76 1486.45 L2352.76 47.2441 L143.844 47.2441  Z\n",
       "  \" fill=\"#ffffff\" fill-rule=\"evenodd\" fill-opacity=\"1\"/>\n",
       "<defs>\n",
       "  <clipPath id=\"clip112\">\n",
       "    <rect x=\"143\" y=\"47\" width=\"2210\" height=\"1440\"/>\n",
       "  </clipPath>\n",
       "</defs>\n",
       "<polyline clip-path=\"url(#clip112)\" style=\"stroke:#000000; stroke-width:2; stroke-opacity:0.1; fill:none\" points=\"\n",
       "  206.36,1486.45 206.36,47.2441 \n",
       "  \"/>\n",
       "<polyline clip-path=\"url(#clip112)\" style=\"stroke:#000000; stroke-width:2; stroke-opacity:0.1; fill:none\" points=\"\n",
       "  727.33,1486.45 727.33,47.2441 \n",
       "  \"/>\n",
       "<polyline clip-path=\"url(#clip112)\" style=\"stroke:#000000; stroke-width:2; stroke-opacity:0.1; fill:none\" points=\"\n",
       "  1248.3,1486.45 1248.3,47.2441 \n",
       "  \"/>\n",
       "<polyline clip-path=\"url(#clip112)\" style=\"stroke:#000000; stroke-width:2; stroke-opacity:0.1; fill:none\" points=\"\n",
       "  1769.27,1486.45 1769.27,47.2441 \n",
       "  \"/>\n",
       "<polyline clip-path=\"url(#clip112)\" style=\"stroke:#000000; stroke-width:2; stroke-opacity:0.1; fill:none\" points=\"\n",
       "  2290.24,1486.45 2290.24,47.2441 \n",
       "  \"/>\n",
       "<polyline clip-path=\"url(#clip110)\" style=\"stroke:#000000; stroke-width:4; stroke-opacity:1; fill:none\" points=\"\n",
       "  143.844,1486.45 2352.76,1486.45 \n",
       "  \"/>\n",
       "<polyline clip-path=\"url(#clip110)\" style=\"stroke:#000000; stroke-width:4; stroke-opacity:1; fill:none\" points=\"\n",
       "  206.36,1486.45 206.36,1469.18 \n",
       "  \"/>\n",
       "<polyline clip-path=\"url(#clip110)\" style=\"stroke:#000000; stroke-width:4; stroke-opacity:1; fill:none\" points=\"\n",
       "  727.33,1486.45 727.33,1469.18 \n",
       "  \"/>\n",
       "<polyline clip-path=\"url(#clip110)\" style=\"stroke:#000000; stroke-width:4; stroke-opacity:1; fill:none\" points=\"\n",
       "  1248.3,1486.45 1248.3,1469.18 \n",
       "  \"/>\n",
       "<polyline clip-path=\"url(#clip110)\" style=\"stroke:#000000; stroke-width:4; stroke-opacity:1; fill:none\" points=\"\n",
       "  1769.27,1486.45 1769.27,1469.18 \n",
       "  \"/>\n",
       "<polyline clip-path=\"url(#clip110)\" style=\"stroke:#000000; stroke-width:4; stroke-opacity:1; fill:none\" points=\"\n",
       "  2290.24,1486.45 2290.24,1469.18 \n",
       "  \"/>\n",
       "<path clip-path=\"url(#clip110)\" d=\"M 0 0 M178.814 1530.29 L208.49 1530.29 L208.49 1534.23 L178.814 1534.23 L178.814 1530.29 Z\" fill=\"#000000\" fill-rule=\"evenodd\" fill-opacity=\"1\" /><path clip-path=\"url(#clip110)\" d=\"M 0 0 M217.587 1543.18 L233.906 1543.18 L233.906 1547.12 L211.962 1547.12 L211.962 1543.18 Q214.624 1540.43 219.207 1535.8 Q223.814 1531.15 224.994 1529.81 Q227.24 1527.28 228.119 1525.55 Q229.022 1523.79 229.022 1522.1 Q229.022 1519.34 227.078 1517.61 Q225.156 1515.87 222.054 1515.87 Q219.855 1515.87 217.402 1516.63 Q214.971 1517.4 212.193 1518.95 L212.193 1514.23 Q215.017 1513.09 217.471 1512.51 Q219.925 1511.93 221.962 1511.93 Q227.332 1511.93 230.527 1514.62 Q233.721 1517.31 233.721 1521.8 Q233.721 1523.93 232.911 1525.85 Q232.124 1527.74 230.017 1530.34 Q229.439 1531.01 226.337 1534.23 Q223.235 1537.42 217.587 1543.18 Z\" fill=\"#000000\" fill-rule=\"evenodd\" fill-opacity=\"1\" /><path clip-path=\"url(#clip110)\" d=\"M 0 0 M699.599 1530.29 L729.274 1530.29 L729.274 1534.23 L699.599 1534.23 L699.599 1530.29 Z\" fill=\"#000000\" fill-rule=\"evenodd\" fill-opacity=\"1\" /><path clip-path=\"url(#clip110)\" d=\"M 0 0 M735.154 1543.18 L742.793 1543.18 L742.793 1516.82 L734.483 1518.49 L734.483 1514.23 L742.747 1512.56 L747.422 1512.56 L747.422 1543.18 L755.061 1543.18 L755.061 1547.12 L735.154 1547.12 L735.154 1543.18 Z\" fill=\"#000000\" fill-rule=\"evenodd\" fill-opacity=\"1\" /><path clip-path=\"url(#clip110)\" d=\"M 0 0 M1248.3 1515.64 Q1244.69 1515.64 1242.86 1519.2 Q1241.05 1522.75 1241.05 1529.87 Q1241.05 1536.98 1242.86 1540.55 Q1244.69 1544.09 1248.3 1544.09 Q1251.93 1544.09 1253.74 1540.55 Q1255.57 1536.98 1255.57 1529.87 Q1255.57 1522.75 1253.74 1519.2 Q1251.93 1515.64 1248.3 1515.64 M1248.3 1511.93 Q1254.11 1511.93 1257.17 1516.54 Q1260.24 1521.12 1260.24 1529.87 Q1260.24 1538.6 1257.17 1543.21 Q1254.11 1547.79 1248.3 1547.79 Q1242.49 1547.79 1239.41 1543.21 Q1236.36 1538.6 1236.36 1529.87 Q1236.36 1521.12 1239.41 1516.54 Q1242.49 1511.93 1248.3 1511.93 Z\" fill=\"#000000\" fill-rule=\"evenodd\" fill-opacity=\"1\" /><path clip-path=\"url(#clip110)\" d=\"M 0 0 M1759.65 1543.18 L1767.29 1543.18 L1767.29 1516.82 L1758.98 1518.49 L1758.98 1514.23 L1767.24 1512.56 L1771.92 1512.56 L1771.92 1543.18 L1779.56 1543.18 L1779.56 1547.12 L1759.65 1547.12 L1759.65 1543.18 Z\" fill=\"#000000\" fill-rule=\"evenodd\" fill-opacity=\"1\" /><path clip-path=\"url(#clip110)\" d=\"M 0 0 M2284.89 1543.18 L2301.21 1543.18 L2301.21 1547.12 L2279.27 1547.12 L2279.27 1543.18 Q2281.93 1540.43 2286.51 1535.8 Q2291.12 1531.15 2292.3 1529.81 Q2294.55 1527.28 2295.42 1525.55 Q2296.33 1523.79 2296.33 1522.1 Q2296.33 1519.34 2294.38 1517.61 Q2292.46 1515.87 2289.36 1515.87 Q2287.16 1515.87 2284.71 1516.63 Q2282.28 1517.4 2279.5 1518.95 L2279.5 1514.23 Q2282.32 1513.09 2284.78 1512.51 Q2287.23 1511.93 2289.27 1511.93 Q2294.64 1511.93 2297.83 1514.62 Q2301.03 1517.31 2301.03 1521.8 Q2301.03 1523.93 2300.22 1525.85 Q2299.43 1527.74 2297.32 1530.34 Q2296.74 1531.01 2293.64 1534.23 Q2290.54 1537.42 2284.89 1543.18 Z\" fill=\"#000000\" fill-rule=\"evenodd\" fill-opacity=\"1\" /><polyline clip-path=\"url(#clip112)\" style=\"stroke:#000000; stroke-width:2; stroke-opacity:0.1; fill:none\" points=\"\n",
       "  143.844,1233.06 2352.76,1233.06 \n",
       "  \"/>\n",
       "<polyline clip-path=\"url(#clip112)\" style=\"stroke:#000000; stroke-width:2; stroke-opacity:0.1; fill:none\" points=\"\n",
       "  143.844,966.034 2352.76,966.034 \n",
       "  \"/>\n",
       "<polyline clip-path=\"url(#clip112)\" style=\"stroke:#000000; stroke-width:2; stroke-opacity:0.1; fill:none\" points=\"\n",
       "  143.844,699.003 2352.76,699.003 \n",
       "  \"/>\n",
       "<polyline clip-path=\"url(#clip112)\" style=\"stroke:#000000; stroke-width:2; stroke-opacity:0.1; fill:none\" points=\"\n",
       "  143.844,431.972 2352.76,431.972 \n",
       "  \"/>\n",
       "<polyline clip-path=\"url(#clip112)\" style=\"stroke:#000000; stroke-width:2; stroke-opacity:0.1; fill:none\" points=\"\n",
       "  143.844,164.94 2352.76,164.94 \n",
       "  \"/>\n",
       "<polyline clip-path=\"url(#clip110)\" style=\"stroke:#000000; stroke-width:4; stroke-opacity:1; fill:none\" points=\"\n",
       "  143.844,1486.45 143.844,47.2441 \n",
       "  \"/>\n",
       "<polyline clip-path=\"url(#clip110)\" style=\"stroke:#000000; stroke-width:4; stroke-opacity:1; fill:none\" points=\"\n",
       "  143.844,1233.06 170.351,1233.06 \n",
       "  \"/>\n",
       "<polyline clip-path=\"url(#clip110)\" style=\"stroke:#000000; stroke-width:4; stroke-opacity:1; fill:none\" points=\"\n",
       "  143.844,966.034 170.351,966.034 \n",
       "  \"/>\n",
       "<polyline clip-path=\"url(#clip110)\" style=\"stroke:#000000; stroke-width:4; stroke-opacity:1; fill:none\" points=\"\n",
       "  143.844,699.003 170.351,699.003 \n",
       "  \"/>\n",
       "<polyline clip-path=\"url(#clip110)\" style=\"stroke:#000000; stroke-width:4; stroke-opacity:1; fill:none\" points=\"\n",
       "  143.844,431.972 170.351,431.972 \n",
       "  \"/>\n",
       "<polyline clip-path=\"url(#clip110)\" style=\"stroke:#000000; stroke-width:4; stroke-opacity:1; fill:none\" points=\"\n",
       "  143.844,164.94 170.351,164.94 \n",
       "  \"/>\n",
       "<path clip-path=\"url(#clip110)\" d=\"M 0 0 M51.3393 1233.52 L81.0151 1233.52 L81.0151 1237.45 L51.3393 1237.45 L51.3393 1233.52 Z\" fill=\"#000000\" fill-rule=\"evenodd\" fill-opacity=\"1\" /><path clip-path=\"url(#clip110)\" d=\"M 0 0 M86.2234 1249.63 L86.2234 1245.37 Q87.9827 1246.2 89.7882 1246.64 Q91.5938 1247.08 93.3299 1247.08 Q97.9595 1247.08 100.39 1243.98 Q102.844 1240.85 103.191 1234.51 Q101.848 1236.5 99.7882 1237.57 Q97.728 1238.63 95.228 1238.63 Q90.0428 1238.63 87.0105 1235.51 Q84.0012 1232.36 84.0012 1226.92 Q84.0012 1221.6 87.1493 1218.38 Q90.2975 1215.16 95.5289 1215.16 Q101.524 1215.16 104.672 1219.77 Q107.844 1224.35 107.844 1233.1 Q107.844 1241.27 103.955 1246.16 Q100.089 1251.02 93.5382 1251.02 Q91.7789 1251.02 89.9734 1250.67 Q88.1679 1250.32 86.2234 1249.63 M95.5289 1234.97 Q98.6771 1234.97 100.506 1232.82 Q102.358 1230.67 102.358 1226.92 Q102.358 1223.19 100.506 1221.04 Q98.6771 1218.86 95.5289 1218.86 Q92.3808 1218.86 90.529 1221.04 Q88.7003 1223.19 88.7003 1226.92 Q88.7003 1230.67 90.529 1232.82 Q92.3808 1234.97 95.5289 1234.97 Z\" fill=\"#000000\" fill-rule=\"evenodd\" fill-opacity=\"1\" /><path clip-path=\"url(#clip110)\" d=\"M 0 0 M50.9921 966.485 L80.6679 966.485 L80.6679 970.42 L50.9921 970.42 L50.9921 966.485 Z\" fill=\"#000000\" fill-rule=\"evenodd\" fill-opacity=\"1\" /><path clip-path=\"url(#clip110)\" d=\"M 0 0 M96.316 964.17 Q93.1678 964.17 91.316 966.323 Q89.4873 968.476 89.4873 972.226 Q89.4873 975.953 91.316 978.129 Q93.1678 980.281 96.316 980.281 Q99.4641 980.281 101.293 978.129 Q103.145 975.953 103.145 972.226 Q103.145 968.476 101.293 966.323 Q99.4641 964.17 96.316 964.17 M105.598 949.518 L105.598 953.777 Q103.839 952.944 102.034 952.504 Q100.251 952.064 98.4919 952.064 Q93.8623 952.064 91.4086 955.189 Q88.978 958.314 88.6308 964.633 Q89.9965 962.619 92.0567 961.555 Q94.1169 960.467 96.5937 960.467 Q101.802 960.467 104.811 963.638 Q107.844 966.786 107.844 972.226 Q107.844 977.55 104.696 980.768 Q101.547 983.985 96.316 983.985 Q90.3206 983.985 87.1493 979.402 Q83.9781 974.795 83.9781 966.069 Q83.9781 957.874 87.8669 953.013 Q91.7558 948.129 98.3067 948.129 Q100.066 948.129 101.848 948.476 Q103.654 948.823 105.598 949.518 Z\" fill=\"#000000\" fill-rule=\"evenodd\" fill-opacity=\"1\" /><path clip-path=\"url(#clip110)\" d=\"M 0 0 M51.8023 699.454 L81.4781 699.454 L81.4781 703.389 L51.8023 703.389 L51.8023 699.454 Z\" fill=\"#000000\" fill-rule=\"evenodd\" fill-opacity=\"1\" /><path clip-path=\"url(#clip110)\" d=\"M 0 0 M100.714 697.649 Q104.071 698.366 105.946 700.635 Q107.844 702.903 107.844 706.236 Q107.844 711.352 104.325 714.153 Q100.807 716.954 94.3252 716.954 Q92.1493 716.954 89.8345 716.514 Q87.5429 716.097 85.0892 715.241 L85.0892 710.727 Q87.0336 711.861 89.3484 712.44 Q91.6632 713.019 94.1863 713.019 Q98.5845 713.019 100.876 711.283 Q103.191 709.547 103.191 706.236 Q103.191 703.181 101.038 701.468 Q98.9085 699.732 95.0891 699.732 L91.0614 699.732 L91.0614 695.889 L95.2743 695.889 Q98.7234 695.889 100.552 694.524 Q102.381 693.135 102.381 690.542 Q102.381 687.88 100.483 686.468 Q98.6076 685.033 95.0891 685.033 Q93.1678 685.033 90.9688 685.449 Q88.7697 685.866 86.1308 686.746 L86.1308 682.579 Q88.7928 681.838 91.1077 681.468 Q93.4456 681.098 95.5058 681.098 Q100.83 681.098 103.932 683.528 Q107.033 685.936 107.033 690.056 Q107.033 692.926 105.39 694.917 Q103.746 696.885 100.714 697.649 Z\" fill=\"#000000\" fill-rule=\"evenodd\" fill-opacity=\"1\" /><path clip-path=\"url(#clip110)\" d=\"M 0 0 M95.8993 417.77 Q92.2882 417.77 90.4595 421.335 Q88.654 424.877 88.654 432.006 Q88.654 439.113 90.4595 442.677 Q92.2882 446.219 95.8993 446.219 Q99.5335 446.219 101.339 442.677 Q103.168 439.113 103.168 432.006 Q103.168 424.877 101.339 421.335 Q99.5335 417.77 95.8993 417.77 M95.8993 414.067 Q101.709 414.067 104.765 418.673 Q107.844 423.256 107.844 432.006 Q107.844 440.733 104.765 445.34 Q101.709 449.923 95.8993 449.923 Q90.0891 449.923 87.0105 445.34 Q83.9549 440.733 83.9549 432.006 Q83.9549 423.256 87.0105 418.673 Q90.0891 414.067 95.8993 414.067 Z\" fill=\"#000000\" fill-rule=\"evenodd\" fill-opacity=\"1\" /><path clip-path=\"url(#clip110)\" d=\"M 0 0 M100.714 163.586 Q104.071 164.304 105.946 166.572 Q107.844 168.841 107.844 172.174 Q107.844 177.29 104.325 180.091 Q100.807 182.892 94.3252 182.892 Q92.1493 182.892 89.8345 182.452 Q87.5429 182.035 85.0892 181.179 L85.0892 176.665 Q87.0336 177.799 89.3484 178.378 Q91.6632 178.957 94.1863 178.957 Q98.5845 178.957 100.876 177.22 Q103.191 175.484 103.191 172.174 Q103.191 169.119 101.038 167.406 Q98.9085 165.67 95.0891 165.67 L91.0614 165.67 L91.0614 161.827 L95.2743 161.827 Q98.7234 161.827 100.552 160.461 Q102.381 159.072 102.381 156.48 Q102.381 153.818 100.483 152.406 Q98.6076 150.971 95.0891 150.971 Q93.1678 150.971 90.9688 151.387 Q88.7697 151.804 86.1308 152.684 L86.1308 148.517 Q88.7928 147.776 91.1077 147.406 Q93.4456 147.035 95.5058 147.035 Q100.83 147.035 103.932 149.466 Q107.033 151.873 107.033 155.994 Q107.033 158.864 105.39 160.855 Q103.746 162.822 100.714 163.586 Z\" fill=\"#000000\" fill-rule=\"evenodd\" fill-opacity=\"1\" /><polyline clip-path=\"url(#clip112)\" style=\"stroke:#009af9; stroke-width:4; stroke-opacity:1; fill:none\" points=\"\n",
       "  206.36,1445.72 216.535,1429.52 226.711,1413.56 320.797,1276.91 414.883,1157.52 471.425,1092.86 527.967,1032.87 575.773,985.432 623.578,940.72 727.438,851.86 \n",
       "  823.188,778.528 925.842,707.45 1044.78,633.071 1150.47,572.797 1243.16,523.622 1344.21,473.242 1445.86,425.381 1558.25,375.155 1665.19,329.503 1776.38,283.824 \n",
       "  1869.97,246.529 1984.24,202.166 2091.66,161.421 2263.76,97.6545 2290.24,87.9763 \n",
       "  \"/>\n",
       "<path clip-path=\"url(#clip110)\" d=\"\n",
       "M1982.67 216.178 L2279.13 216.178 L2279.13 95.2176 L1982.67 95.2176  Z\n",
       "  \" fill=\"#ffffff\" fill-rule=\"evenodd\" fill-opacity=\"1\"/>\n",
       "<polyline clip-path=\"url(#clip110)\" style=\"stroke:#000000; stroke-width:4; stroke-opacity:1; fill:none\" points=\"\n",
       "  1982.67,216.178 2279.13,216.178 2279.13,95.2176 1982.67,95.2176 1982.67,216.178 \n",
       "  \"/>\n",
       "<polyline clip-path=\"url(#clip110)\" style=\"stroke:#009af9; stroke-width:4; stroke-opacity:1; fill:none\" points=\"\n",
       "  2007.22,155.698 2154.48,155.698 \n",
       "  \"/>\n",
       "<path clip-path=\"url(#clip110)\" d=\"M 0 0 M2192.86 175.385 Q2191.06 180.015 2189.34 181.427 Q2187.63 182.839 2184.76 182.839 L2181.36 182.839 L2181.36 179.274 L2183.86 179.274 Q2185.62 179.274 2186.59 178.44 Q2187.56 177.607 2188.74 174.505 L2189.51 172.561 L2179.02 147.052 L2183.53 147.052 L2191.64 167.329 L2199.74 147.052 L2204.25 147.052 L2192.86 175.385 Z\" fill=\"#000000\" fill-rule=\"evenodd\" fill-opacity=\"1\" /><path clip-path=\"url(#clip110)\" d=\"M 0 0 M2210.13 169.042 L2217.77 169.042 L2217.77 142.677 L2209.46 144.343 L2209.46 140.084 L2217.72 138.418 L2222.4 138.418 L2222.4 169.042 L2230.04 169.042 L2230.04 172.978 L2210.13 172.978 L2210.13 169.042 Z\" fill=\"#000000\" fill-rule=\"evenodd\" fill-opacity=\"1\" /></svg>\n"
      ]
     },
     "execution_count": 142,
     "metadata": {},
     "output_type": "execute_result"
    }
   ],
   "source": [
    "plot(e,-2,2)"
   ]
  },
  {
   "cell_type": "code",
   "execution_count": 144,
   "metadata": {},
   "outputs": [
    {
     "name": "stdout",
     "output_type": "stream",
     "text": [
      "Results of univariate zero finding:\n",
      "\n",
      "* Converged to: 0.3517337112491959\n",
      "* Algorithm: Roots.BisectionExact()\n",
      "* iterations: 61\n",
      "* function evaluations: 63\n",
      "* stopped as x_n ≈ x_{n-1} using atol=xatol, rtol=xrtol\n",
      "* stopped as |f(x_n)| ≤ max(δ, max(1,|x|)⋅ϵ) using δ = atol, ϵ = rtol\n",
      "\n",
      "Trace:\n",
      "(a_0, b_0) = ( 0.0000000000000000,  1.0000000000000000)\n",
      "(a_1, b_1) = ( 0.0000000000000000,  1.0000000000000000)\n",
      "(a_2, b_2) = ( 0.0000000000000000,  1.0000000000000000)\n",
      "(a_3, b_3) = ( 0.0000000000000000,  1.0000000000000000)\n",
      "(a_4, b_4) = ( 0.0000000000000000,  1.0000000000000000)\n",
      "(a_5, b_5) = ( 0.0000000002401066,  1.0000000000000000)\n",
      "(a_6, b_6) = ( 0.0000154972076416,  1.0000000000000000)\n",
      "(a_7, b_7) = ( 0.0039367675781250,  1.0000000000000000)\n",
      "(a_8, b_8) = ( 0.0627441406250000,  1.0000000000000000)\n",
      "(a_9, b_9) = ( 0.2504882812500000,  1.0000000000000000)\n",
      "(a_10, b_10) = ( 0.2504882812500000,  0.5004882812500000)\n",
      "(a_11, b_11) = ( 0.2504882812500000,  0.3753662109375000)\n",
      "(a_12, b_12) = ( 0.3129272460937500,  0.3753662109375000)\n",
      "(a_13, b_13) = ( 0.3441467285156250,  0.3753662109375000)\n",
      "(a_14, b_14) = ( 0.3441467285156250,  0.3597564697265625)\n",
      "(a_15, b_15) = ( 0.3441467285156250,  0.3519515991210938)\n",
      "(a_16, b_16) = ( 0.3480491638183594,  0.3519515991210938)\n",
      "(a_17, b_17) = ( 0.3500003814697266,  0.3519515991210938)\n",
      "(a_18, b_18) = ( 0.3509759902954102,  0.3519515991210938)\n",
      "(a_19, b_19) = ( 0.3514637947082520,  0.3519515991210938)\n",
      "(a_20, b_20) = ( 0.3517076969146729,  0.3519515991210938)\n",
      "(a_21, b_21) = ( 0.3517076969146729,  0.3518296480178833)\n",
      "(a_22, b_22) = ( 0.3517076969146729,  0.3517686724662781)\n",
      "(a_23, b_23) = ( 0.3517076969146729,  0.3517381846904755)\n",
      "(a_24, b_24) = ( 0.3517229408025742,  0.3517381846904755)\n",
      "(a_25, b_25) = ( 0.3517305627465248,  0.3517381846904755)\n",
      "(a_26, b_26) = ( 0.3517305627465248,  0.3517343737185001)\n",
      "(a_27, b_27) = ( 0.3517324682325125,  0.3517343737185001)\n",
      "(a_28, b_28) = ( 0.3517334209755063,  0.3517343737185001)\n",
      "(a_29, b_29) = ( 0.3517334209755063,  0.3517338973470032)\n",
      "(a_30, b_30) = ( 0.3517336591612548,  0.3517338973470032)\n",
      "(a_31, b_31) = ( 0.3517336591612548,  0.3517337782541290)\n",
      "(a_32, b_32) = ( 0.3517336591612548,  0.3517337187076919)\n",
      "(a_33, b_33) = ( 0.3517336889344733,  0.3517337187076919)\n",
      "(a_34, b_34) = ( 0.3517337038210826,  0.3517337187076919)\n",
      "(a_35, b_35) = ( 0.3517337038210826,  0.3517337112643872)\n",
      "(a_36, b_36) = ( 0.3517337075427349,  0.3517337112643872)\n",
      "(a_37, b_37) = ( 0.3517337094035611,  0.3517337112643872)\n",
      "(a_38, b_38) = ( 0.3517337103339742,  0.3517337112643872)\n",
      "(a_39, b_39) = ( 0.3517337107991807,  0.3517337112643872)\n",
      "(a_40, b_40) = ( 0.3517337110317840,  0.3517337112643872)\n",
      "(a_41, b_41) = ( 0.3517337111480856,  0.3517337112643872)\n",
      "(a_42, b_42) = ( 0.3517337112062364,  0.3517337112643872)\n",
      "(a_43, b_43) = ( 0.3517337112353118,  0.3517337112643872)\n",
      "(a_44, b_44) = ( 0.3517337112353118,  0.3517337112498495)\n",
      "(a_45, b_45) = ( 0.3517337112425807,  0.3517337112498495)\n",
      "(a_46, b_46) = ( 0.3517337112462151,  0.3517337112498495)\n",
      "(a_47, b_47) = ( 0.3517337112480323,  0.3517337112498495)\n",
      "(a_48, b_48) = ( 0.3517337112489409,  0.3517337112498495)\n",
      "(a_49, b_49) = ( 0.3517337112489409,  0.3517337112493952)\n",
      "(a_50, b_50) = ( 0.3517337112491681,  0.3517337112493952)\n",
      "(a_51, b_51) = ( 0.3517337112491681,  0.3517337112492817)\n",
      "(a_52, b_52) = ( 0.3517337112491681,  0.3517337112492249)\n",
      "(a_53, b_53) = ( 0.3517337112491681,  0.3517337112491964)\n",
      "(a_54, b_54) = ( 0.3517337112491822,  0.3517337112491964)\n",
      "(a_55, b_55) = ( 0.3517337112491893,  0.3517337112491964)\n",
      "(a_56, b_56) = ( 0.3517337112491929,  0.3517337112491964)\n",
      "(a_57, b_57) = ( 0.3517337112491947,  0.3517337112491964)\n",
      "(a_58, b_58) = ( 0.3517337112491956,  0.3517337112491964)\n",
      "(a_59, b_59) = ( 0.3517337112491956,  0.3517337112491960)\n",
      "(a_60, b_60) = ( 0.3517337112491958,  0.3517337112491960)\n",
      "(a_61, b_61) = ( 0.3517337112491958,  0.3517337112491959)\n",
      "\n"
     ]
    },
    {
     "data": {
      "text/plain": [
       "0.35173371124919584"
      ]
     },
     "execution_count": 144,
     "metadata": {},
     "output_type": "execute_result"
    }
   ],
   "source": [
    "x = find_zero(e, (-1, 1),verbose=true)"
   ]
  },
  {
   "cell_type": "code",
   "execution_count": 145,
   "metadata": {},
   "outputs": [
    {
     "data": {
      "text/plain": [
       "true"
      ]
     },
     "execution_count": 145,
     "metadata": {},
     "output_type": "execute_result"
    }
   ],
   "source": [
    "iszero(e(0.35173371124919584))"
   ]
  },
  {
   "cell_type": "code",
   "execution_count": 152,
   "metadata": {},
   "outputs": [
    {
     "name": "stdout",
     "output_type": "stream",
     "text": [
      "Results of univariate zero finding:\n",
      "\n",
      "* Converged to: 0.35173371124919584\n",
      "* Algorithm: Roots.Halley()\n",
      "* iterations: 3\n",
      "* function evaluations: 12\n",
      "* stopped as |f(x_n)| ≤ max(δ, max(1,|x|)⋅ϵ) using δ = atol, ϵ = rtol\n",
      "\n",
      "Trace:\n",
      "x_0 = -2.0000000000000000,\t fx_0 = -11.3890560989306504\n",
      "x_1 =  0.3207251373458870,\t fx_1 = -0.0841723954636746\n",
      "x_2 =  0.3517345043790102,\t fx_2 =  0.0000021442003936\n",
      "x_3 =  0.3517337112491958,\t fx_3 =  0.0000000000000000\n",
      "\n"
     ]
    },
    {
     "data": {
      "text/plain": [
       "0.35173371124919584"
      ]
     },
     "execution_count": 152,
     "metadata": {},
     "output_type": "execute_result"
    }
   ],
   "source": [
    "x = find_zero((e, D(e), DD(e)), -2, Roots.Halley(), verbose=true)"
   ]
  },
  {
   "cell_type": "code",
   "execution_count": 158,
   "metadata": {},
   "outputs": [
    {
     "data": {
      "text/plain": [
       "true"
      ]
     },
     "execution_count": 158,
     "metadata": {},
     "output_type": "execute_result"
    }
   ],
   "source": [
    "iszero(e(0.35173371124919584))"
   ]
  },
  {
   "cell_type": "code",
   "execution_count": 154,
   "metadata": {},
   "outputs": [
    {
     "name": "stdout",
     "output_type": "stream",
     "text": [
      "Results of univariate zero finding:\n",
      "\n",
      "* Converged to: 0.35173371124919584\n",
      "* Algorithm: Roots.Secant()\n",
      "* iterations: 8\n",
      "* function evaluations: 10\n",
      "* stopped as |f(x_n)| ≤ max(δ, max(1,|x|)⋅ϵ) using δ = atol, ϵ = rtol\n",
      "\n",
      "Trace:\n",
      "x_0 = -2.0000000000000000,\t fx_0 = -11.3890560989306504\n",
      "x_1 = -0.7869831517948389,\t fx_1 = -3.7707254341826011\n",
      "x_2 = -0.1865952606805741,\t fx_2 = -1.5783299403801831\n",
      "x_3 =  0.2456306707565764,\t fx_3 = -0.2909497234913331\n",
      "x_4 =  0.3433143337394761,\t fx_4 = -0.0227865159030187\n",
      "x_5 =  0.3516147652566965,\t fx_5 = -0.0003215715923370\n",
      "x_6 =  0.3517335807295133,\t fx_6 = -0.0000003528557156\n",
      "x_7 =  0.3517337112471760,\t fx_7 = -0.0000000000054606\n",
      "x_8 =  0.3517337112491958,\t fx_8 =  0.0000000000000000\n",
      "\n"
     ]
    },
    {
     "data": {
      "text/plain": [
       "0.35173371124919584"
      ]
     },
     "execution_count": 154,
     "metadata": {},
     "output_type": "execute_result"
    }
   ],
   "source": [
    "x = find_zero(e, -2, Order1(),  verbose=true) "
   ]
  },
  {
   "cell_type": "code",
   "execution_count": 156,
   "metadata": {},
   "outputs": [
    {
     "data": {
      "text/plain": [
       "true"
      ]
     },
     "execution_count": 156,
     "metadata": {},
     "output_type": "execute_result"
    }
   ],
   "source": [
    "iszero(e(0.35173371124919584))"
   ]
  },
  {
   "cell_type": "markdown",
   "metadata": {},
   "source": [
    "# Szósta funkcja - (x-1)^7"
   ]
  },
  {
   "cell_type": "code",
   "execution_count": 159,
   "metadata": {},
   "outputs": [
    {
     "data": {
      "text/plain": [
       "f (generic function with 1 method)"
      ]
     },
     "execution_count": 159,
     "metadata": {},
     "output_type": "execute_result"
    }
   ],
   "source": [
    "f(x) = (x-1)*(x-1)*(x-1)*(x-1)*(x-1)*(x-1)*(x-1)"
   ]
  },
  {
   "cell_type": "code",
   "execution_count": 164,
   "metadata": {},
   "outputs": [
    {
     "data": {
      "image/svg+xml": [
       "<?xml version=\"1.0\" encoding=\"utf-8\"?>\n",
       "<svg xmlns=\"http://www.w3.org/2000/svg\" xmlns:xlink=\"http://www.w3.org/1999/xlink\" width=\"600\" height=\"400\" viewBox=\"0 0 2400 1600\">\n",
       "<defs>\n",
       "  <clipPath id=\"clip270\">\n",
       "    <rect x=\"0\" y=\"0\" width=\"2400\" height=\"1600\"/>\n",
       "  </clipPath>\n",
       "</defs>\n",
       "<path clip-path=\"url(#clip270)\" d=\"\n",
       "M0 1600 L2400 1600 L2400 0 L0 0  Z\n",
       "  \" fill=\"#ffffff\" fill-rule=\"evenodd\" fill-opacity=\"1\"/>\n",
       "<defs>\n",
       "  <clipPath id=\"clip271\">\n",
       "    <rect x=\"480\" y=\"0\" width=\"1681\" height=\"1600\"/>\n",
       "  </clipPath>\n",
       "</defs>\n",
       "<path clip-path=\"url(#clip270)\" d=\"\n",
       "M196.482 1486.45 L2352.76 1486.45 L2352.76 47.2441 L196.482 47.2441  Z\n",
       "  \" fill=\"#ffffff\" fill-rule=\"evenodd\" fill-opacity=\"1\"/>\n",
       "<defs>\n",
       "  <clipPath id=\"clip272\">\n",
       "    <rect x=\"196\" y=\"47\" width=\"2157\" height=\"1440\"/>\n",
       "  </clipPath>\n",
       "</defs>\n",
       "<polyline clip-path=\"url(#clip272)\" style=\"stroke:#000000; stroke-width:2; stroke-opacity:0.1; fill:none\" points=\"\n",
       "  257.509,1486.45 257.509,47.2441 \n",
       "  \"/>\n",
       "<polyline clip-path=\"url(#clip272)\" style=\"stroke:#000000; stroke-width:2; stroke-opacity:0.1; fill:none\" points=\"\n",
       "  766.064,1486.45 766.064,47.2441 \n",
       "  \"/>\n",
       "<polyline clip-path=\"url(#clip272)\" style=\"stroke:#000000; stroke-width:2; stroke-opacity:0.1; fill:none\" points=\"\n",
       "  1274.62,1486.45 1274.62,47.2441 \n",
       "  \"/>\n",
       "<polyline clip-path=\"url(#clip272)\" style=\"stroke:#000000; stroke-width:2; stroke-opacity:0.1; fill:none\" points=\"\n",
       "  1783.17,1486.45 1783.17,47.2441 \n",
       "  \"/>\n",
       "<polyline clip-path=\"url(#clip272)\" style=\"stroke:#000000; stroke-width:2; stroke-opacity:0.1; fill:none\" points=\"\n",
       "  2291.73,1486.45 2291.73,47.2441 \n",
       "  \"/>\n",
       "<polyline clip-path=\"url(#clip270)\" style=\"stroke:#000000; stroke-width:4; stroke-opacity:1; fill:none\" points=\"\n",
       "  196.482,1486.45 2352.76,1486.45 \n",
       "  \"/>\n",
       "<polyline clip-path=\"url(#clip270)\" style=\"stroke:#000000; stroke-width:4; stroke-opacity:1; fill:none\" points=\"\n",
       "  257.509,1486.45 257.509,1469.18 \n",
       "  \"/>\n",
       "<polyline clip-path=\"url(#clip270)\" style=\"stroke:#000000; stroke-width:4; stroke-opacity:1; fill:none\" points=\"\n",
       "  766.064,1486.45 766.064,1469.18 \n",
       "  \"/>\n",
       "<polyline clip-path=\"url(#clip270)\" style=\"stroke:#000000; stroke-width:4; stroke-opacity:1; fill:none\" points=\"\n",
       "  1274.62,1486.45 1274.62,1469.18 \n",
       "  \"/>\n",
       "<polyline clip-path=\"url(#clip270)\" style=\"stroke:#000000; stroke-width:4; stroke-opacity:1; fill:none\" points=\"\n",
       "  1783.17,1486.45 1783.17,1469.18 \n",
       "  \"/>\n",
       "<polyline clip-path=\"url(#clip270)\" style=\"stroke:#000000; stroke-width:4; stroke-opacity:1; fill:none\" points=\"\n",
       "  2291.73,1486.45 2291.73,1469.18 \n",
       "  \"/>\n",
       "<path clip-path=\"url(#clip270)\" d=\"M 0 0 M229.778 1530.29 L259.453 1530.29 L259.453 1534.23 L229.778 1534.23 L229.778 1530.29 Z\" fill=\"#000000\" fill-rule=\"evenodd\" fill-opacity=\"1\" /><path clip-path=\"url(#clip270)\" d=\"M 0 0 M265.333 1543.18 L272.972 1543.18 L272.972 1516.82 L264.662 1518.49 L264.662 1514.23 L272.925 1512.56 L277.601 1512.56 L277.601 1543.18 L285.24 1543.18 L285.24 1547.12 L265.333 1547.12 L265.333 1543.18 Z\" fill=\"#000000\" fill-rule=\"evenodd\" fill-opacity=\"1\" /><path clip-path=\"url(#clip270)\" d=\"M 0 0 M766.064 1515.64 Q762.453 1515.64 760.624 1519.2 Q758.819 1522.75 758.819 1529.87 Q758.819 1536.98 760.624 1540.55 Q762.453 1544.09 766.064 1544.09 Q769.698 1544.09 771.504 1540.55 Q773.332 1536.98 773.332 1529.87 Q773.332 1522.75 771.504 1519.2 Q769.698 1515.64 766.064 1515.64 M766.064 1511.93 Q771.874 1511.93 774.93 1516.54 Q778.008 1521.12 778.008 1529.87 Q778.008 1538.6 774.93 1543.21 Q771.874 1547.79 766.064 1547.79 Q760.254 1547.79 757.175 1543.21 Q754.12 1538.6 754.12 1529.87 Q754.12 1521.12 757.175 1516.54 Q760.254 1511.93 766.064 1511.93 Z\" fill=\"#000000\" fill-rule=\"evenodd\" fill-opacity=\"1\" /><path clip-path=\"url(#clip270)\" d=\"M 0 0 M1265 1543.18 L1272.64 1543.18 L1272.64 1516.82 L1264.33 1518.49 L1264.33 1514.23 L1272.59 1512.56 L1277.27 1512.56 L1277.27 1543.18 L1284.91 1543.18 L1284.91 1547.12 L1265 1547.12 L1265 1543.18 Z\" fill=\"#000000\" fill-rule=\"evenodd\" fill-opacity=\"1\" /><path clip-path=\"url(#clip270)\" d=\"M 0 0 M1777.83 1543.18 L1794.15 1543.18 L1794.15 1547.12 L1772.2 1547.12 L1772.2 1543.18 Q1774.86 1540.43 1779.45 1535.8 Q1784.05 1531.15 1785.23 1529.81 Q1787.48 1527.28 1788.36 1525.55 Q1789.26 1523.79 1789.26 1522.1 Q1789.26 1519.34 1787.32 1517.61 Q1785.4 1515.87 1782.29 1515.87 Q1780.1 1515.87 1777.64 1516.63 Q1775.21 1517.4 1772.43 1518.95 L1772.43 1514.23 Q1775.26 1513.09 1777.71 1512.51 Q1780.16 1511.93 1782.2 1511.93 Q1787.57 1511.93 1790.77 1514.62 Q1793.96 1517.31 1793.96 1521.8 Q1793.96 1523.93 1793.15 1525.85 Q1792.36 1527.74 1790.26 1530.34 Q1789.68 1531.01 1786.58 1534.23 Q1783.48 1537.42 1777.83 1543.18 Z\" fill=\"#000000\" fill-rule=\"evenodd\" fill-opacity=\"1\" /><path clip-path=\"url(#clip270)\" d=\"M 0 0 M2295.98 1528.49 Q2299.33 1529.2 2301.21 1531.47 Q2303.11 1533.74 2303.11 1537.07 Q2303.11 1542.19 2299.59 1544.99 Q2296.07 1547.79 2289.59 1547.79 Q2287.41 1547.79 2285.1 1547.35 Q2282.81 1546.93 2280.35 1546.08 L2280.35 1541.56 Q2282.3 1542.7 2284.61 1543.28 Q2286.93 1543.86 2289.45 1543.86 Q2293.85 1543.86 2296.14 1542.12 Q2298.45 1540.38 2298.45 1537.07 Q2298.45 1534.02 2296.3 1532.31 Q2294.17 1530.57 2290.35 1530.57 L2286.32 1530.57 L2286.32 1526.73 L2290.54 1526.73 Q2293.99 1526.73 2295.81 1525.36 Q2297.64 1523.97 2297.64 1521.38 Q2297.64 1518.72 2295.75 1517.31 Q2293.87 1515.87 2290.35 1515.87 Q2288.43 1515.87 2286.23 1516.29 Q2284.03 1516.7 2281.39 1517.58 L2281.39 1513.42 Q2284.06 1512.68 2286.37 1512.31 Q2288.71 1511.93 2290.77 1511.93 Q2296.09 1511.93 2299.19 1514.37 Q2302.3 1516.77 2302.3 1520.89 Q2302.3 1523.76 2300.65 1525.75 Q2299.01 1527.72 2295.98 1528.49 Z\" fill=\"#000000\" fill-rule=\"evenodd\" fill-opacity=\"1\" /><polyline clip-path=\"url(#clip272)\" style=\"stroke:#000000; stroke-width:2; stroke-opacity:0.1; fill:none\" points=\"\n",
       "  196.482,1297.21 2352.76,1297.21 \n",
       "  \"/>\n",
       "<polyline clip-path=\"url(#clip272)\" style=\"stroke:#000000; stroke-width:2; stroke-opacity:0.1; fill:none\" points=\"\n",
       "  196.482,1032.03 2352.76,1032.03 \n",
       "  \"/>\n",
       "<polyline clip-path=\"url(#clip272)\" style=\"stroke:#000000; stroke-width:2; stroke-opacity:0.1; fill:none\" points=\"\n",
       "  196.482,766.846 2352.76,766.846 \n",
       "  \"/>\n",
       "<polyline clip-path=\"url(#clip272)\" style=\"stroke:#000000; stroke-width:2; stroke-opacity:0.1; fill:none\" points=\"\n",
       "  196.482,501.663 2352.76,501.663 \n",
       "  \"/>\n",
       "<polyline clip-path=\"url(#clip272)\" style=\"stroke:#000000; stroke-width:2; stroke-opacity:0.1; fill:none\" points=\"\n",
       "  196.482,236.479 2352.76,236.479 \n",
       "  \"/>\n",
       "<polyline clip-path=\"url(#clip270)\" style=\"stroke:#000000; stroke-width:4; stroke-opacity:1; fill:none\" points=\"\n",
       "  196.482,1486.45 196.482,47.2441 \n",
       "  \"/>\n",
       "<polyline clip-path=\"url(#clip270)\" style=\"stroke:#000000; stroke-width:4; stroke-opacity:1; fill:none\" points=\"\n",
       "  196.482,1297.21 222.358,1297.21 \n",
       "  \"/>\n",
       "<polyline clip-path=\"url(#clip270)\" style=\"stroke:#000000; stroke-width:4; stroke-opacity:1; fill:none\" points=\"\n",
       "  196.482,1032.03 222.358,1032.03 \n",
       "  \"/>\n",
       "<polyline clip-path=\"url(#clip270)\" style=\"stroke:#000000; stroke-width:4; stroke-opacity:1; fill:none\" points=\"\n",
       "  196.482,766.846 222.358,766.846 \n",
       "  \"/>\n",
       "<polyline clip-path=\"url(#clip270)\" style=\"stroke:#000000; stroke-width:4; stroke-opacity:1; fill:none\" points=\"\n",
       "  196.482,501.663 222.358,501.663 \n",
       "  \"/>\n",
       "<polyline clip-path=\"url(#clip270)\" style=\"stroke:#000000; stroke-width:4; stroke-opacity:1; fill:none\" points=\"\n",
       "  196.482,236.479 222.358,236.479 \n",
       "  \"/>\n",
       "<path clip-path=\"url(#clip270)\" d=\"M 0 0 M50.9921 1297.66 L80.6679 1297.66 L80.6679 1301.6 L50.9921 1301.6 L50.9921 1297.66 Z\" fill=\"#000000\" fill-rule=\"evenodd\" fill-opacity=\"1\" /><path clip-path=\"url(#clip270)\" d=\"M 0 0 M86.5475 1310.56 L94.1863 1310.56 L94.1863 1284.19 L85.8762 1285.86 L85.8762 1281.6 L94.14 1279.93 L98.8159 1279.93 L98.8159 1310.56 L106.455 1310.56 L106.455 1314.49 L86.5475 1314.49 L86.5475 1310.56 Z\" fill=\"#000000\" fill-rule=\"evenodd\" fill-opacity=\"1\" /><path clip-path=\"url(#clip270)\" d=\"M 0 0 M121.524 1283.01 Q117.913 1283.01 116.084 1286.58 Q114.279 1290.12 114.279 1297.25 Q114.279 1304.35 116.084 1307.92 Q117.913 1311.46 121.524 1311.46 Q125.158 1311.46 126.964 1307.92 Q128.793 1304.35 128.793 1297.25 Q128.793 1290.12 126.964 1286.58 Q125.158 1283.01 121.524 1283.01 M121.524 1279.31 Q127.334 1279.31 130.39 1283.91 Q133.469 1288.5 133.469 1297.25 Q133.469 1305.97 130.39 1310.58 Q127.334 1315.16 121.524 1315.16 Q115.714 1315.16 112.635 1310.58 Q109.58 1305.97 109.58 1297.25 Q109.58 1288.5 112.635 1283.91 Q115.714 1279.31 121.524 1279.31 Z\" fill=\"#000000\" fill-rule=\"evenodd\" fill-opacity=\"1\" /><path clip-path=\"url(#clip270)\" d=\"M 0 0 M148.538 1283.01 Q144.927 1283.01 143.098 1286.58 Q141.293 1290.12 141.293 1297.25 Q141.293 1304.35 143.098 1307.92 Q144.927 1311.46 148.538 1311.46 Q152.172 1311.46 153.978 1307.92 Q155.806 1304.35 155.806 1297.25 Q155.806 1290.12 153.978 1286.58 Q152.172 1283.01 148.538 1283.01 M148.538 1279.31 Q154.348 1279.31 157.404 1283.91 Q160.482 1288.5 160.482 1297.25 Q160.482 1305.97 157.404 1310.58 Q154.348 1315.16 148.538 1315.16 Q142.728 1315.16 139.649 1310.58 Q136.594 1305.97 136.594 1297.25 Q136.594 1288.5 139.649 1283.91 Q142.728 1279.31 148.538 1279.31 Z\" fill=\"#000000\" fill-rule=\"evenodd\" fill-opacity=\"1\" /><path clip-path=\"url(#clip270)\" d=\"M 0 0 M77.7744 1032.48 L107.45 1032.48 L107.45 1036.42 L77.7744 1036.42 L77.7744 1032.48 Z\" fill=\"#000000\" fill-rule=\"evenodd\" fill-opacity=\"1\" /><path clip-path=\"url(#clip270)\" d=\"M 0 0 M112.566 1014.75 L130.922 1014.75 L130.922 1018.68 L116.848 1018.68 L116.848 1027.16 Q117.867 1026.81 118.885 1026.65 Q119.904 1026.46 120.922 1026.46 Q126.709 1026.46 130.089 1029.63 Q133.469 1032.8 133.469 1038.22 Q133.469 1043.8 129.996 1046.9 Q126.524 1049.98 120.205 1049.98 Q118.029 1049.98 115.76 1049.61 Q113.515 1049.24 111.108 1048.5 L111.108 1043.8 Q113.191 1044.93 115.413 1045.49 Q117.635 1046.05 120.112 1046.05 Q124.117 1046.05 126.455 1043.94 Q128.793 1041.83 128.793 1038.22 Q128.793 1034.61 126.455 1032.5 Q124.117 1030.4 120.112 1030.4 Q118.237 1030.4 116.362 1030.81 Q114.51 1031.23 112.566 1032.11 L112.566 1014.75 Z\" fill=\"#000000\" fill-rule=\"evenodd\" fill-opacity=\"1\" /><path clip-path=\"url(#clip270)\" d=\"M 0 0 M148.538 1017.83 Q144.927 1017.83 143.098 1021.39 Q141.293 1024.93 141.293 1032.06 Q141.293 1039.17 143.098 1042.74 Q144.927 1046.28 148.538 1046.28 Q152.172 1046.28 153.978 1042.74 Q155.806 1039.17 155.806 1032.06 Q155.806 1024.93 153.978 1021.39 Q152.172 1017.83 148.538 1017.83 M148.538 1014.12 Q154.348 1014.12 157.404 1018.73 Q160.482 1023.31 160.482 1032.06 Q160.482 1040.79 157.404 1045.4 Q154.348 1049.98 148.538 1049.98 Q142.728 1049.98 139.649 1045.4 Q136.594 1040.79 136.594 1032.06 Q136.594 1023.31 139.649 1018.73 Q142.728 1014.12 148.538 1014.12 Z\" fill=\"#000000\" fill-rule=\"evenodd\" fill-opacity=\"1\" /><path clip-path=\"url(#clip270)\" d=\"M 0 0 M148.538 752.645 Q144.927 752.645 143.098 756.209 Q141.293 759.751 141.293 766.881 Q141.293 773.987 143.098 777.552 Q144.927 781.094 148.538 781.094 Q152.172 781.094 153.978 777.552 Q155.806 773.987 155.806 766.881 Q155.806 759.751 153.978 756.209 Q152.172 752.645 148.538 752.645 M148.538 748.941 Q154.348 748.941 157.404 753.547 Q160.482 758.131 160.482 766.881 Q160.482 775.608 157.404 780.214 Q154.348 784.797 148.538 784.797 Q142.728 784.797 139.649 780.214 Q136.594 775.608 136.594 766.881 Q136.594 758.131 139.649 753.547 Q142.728 748.941 148.538 748.941 Z\" fill=\"#000000\" fill-rule=\"evenodd\" fill-opacity=\"1\" /><path clip-path=\"url(#clip270)\" d=\"M 0 0 M112.566 484.383 L130.922 484.383 L130.922 488.318 L116.848 488.318 L116.848 496.79 Q117.867 496.443 118.885 496.281 Q119.904 496.095 120.922 496.095 Q126.709 496.095 130.089 499.267 Q133.469 502.438 133.469 507.855 Q133.469 513.433 129.996 516.535 Q126.524 519.614 120.205 519.614 Q118.029 519.614 115.76 519.243 Q113.515 518.873 111.108 518.132 L111.108 513.433 Q113.191 514.568 115.413 515.123 Q117.635 515.679 120.112 515.679 Q124.117 515.679 126.455 513.572 Q128.793 511.466 128.793 507.855 Q128.793 504.244 126.455 502.137 Q124.117 500.031 120.112 500.031 Q118.237 500.031 116.362 500.447 Q114.51 500.864 112.566 501.744 L112.566 484.383 Z\" fill=\"#000000\" fill-rule=\"evenodd\" fill-opacity=\"1\" /><path clip-path=\"url(#clip270)\" d=\"M 0 0 M148.538 487.461 Q144.927 487.461 143.098 491.026 Q141.293 494.568 141.293 501.697 Q141.293 508.804 143.098 512.368 Q144.927 515.91 148.538 515.91 Q152.172 515.91 153.978 512.368 Q155.806 508.804 155.806 501.697 Q155.806 494.568 153.978 491.026 Q152.172 487.461 148.538 487.461 M148.538 483.758 Q154.348 483.758 157.404 488.364 Q160.482 492.947 160.482 501.697 Q160.482 510.424 157.404 515.03 Q154.348 519.614 148.538 519.614 Q142.728 519.614 139.649 515.03 Q136.594 510.424 136.594 501.697 Q136.594 492.947 139.649 488.364 Q142.728 483.758 148.538 483.758 Z\" fill=\"#000000\" fill-rule=\"evenodd\" fill-opacity=\"1\" /><path clip-path=\"url(#clip270)\" d=\"M 0 0 M86.5475 249.824 L94.1863 249.824 L94.1863 223.458 L85.8762 225.125 L85.8762 220.866 L94.14 219.199 L98.8159 219.199 L98.8159 249.824 L106.455 249.824 L106.455 253.759 L86.5475 253.759 L86.5475 249.824 Z\" fill=\"#000000\" fill-rule=\"evenodd\" fill-opacity=\"1\" /><path clip-path=\"url(#clip270)\" d=\"M 0 0 M121.524 222.278 Q117.913 222.278 116.084 225.843 Q114.279 229.384 114.279 236.514 Q114.279 243.62 116.084 247.185 Q117.913 250.727 121.524 250.727 Q125.158 250.727 126.964 247.185 Q128.793 243.62 128.793 236.514 Q128.793 229.384 126.964 225.843 Q125.158 222.278 121.524 222.278 M121.524 218.574 Q127.334 218.574 130.39 223.18 Q133.469 227.764 133.469 236.514 Q133.469 245.241 130.39 249.847 Q127.334 254.43 121.524 254.43 Q115.714 254.43 112.635 249.847 Q109.58 245.241 109.58 236.514 Q109.58 227.764 112.635 223.18 Q115.714 218.574 121.524 218.574 Z\" fill=\"#000000\" fill-rule=\"evenodd\" fill-opacity=\"1\" /><path clip-path=\"url(#clip270)\" d=\"M 0 0 M148.538 222.278 Q144.927 222.278 143.098 225.843 Q141.293 229.384 141.293 236.514 Q141.293 243.62 143.098 247.185 Q144.927 250.727 148.538 250.727 Q152.172 250.727 153.978 247.185 Q155.806 243.62 155.806 236.514 Q155.806 229.384 153.978 225.843 Q152.172 222.278 148.538 222.278 M148.538 218.574 Q154.348 218.574 157.404 223.18 Q160.482 227.764 160.482 236.514 Q160.482 245.241 157.404 249.847 Q154.348 254.43 148.538 254.43 Q142.728 254.43 139.649 249.847 Q136.594 245.241 136.594 236.514 Q136.594 227.764 139.649 223.18 Q142.728 218.574 148.538 218.574 Z\" fill=\"#000000\" fill-rule=\"evenodd\" fill-opacity=\"1\" /><polyline clip-path=\"url(#clip272)\" style=\"stroke:#009af9; stroke-width:4; stroke-opacity:1; fill:none\" points=\"\n",
       "  257.509,1445.72 262.475,1422.85 267.442,1400.65 272.408,1379.09 277.375,1358.16 300.336,1269.2 323.297,1191.96 346.258,1125.13 369.219,1067.52 392.18,1018.04 \n",
       "  415.141,975.706 438.102,939.642 461.063,909.054 488.66,878.535 516.257,853.811 543.855,833.935 571.452,818.087 618.118,798.531 664.784,785.756 766.17,772.142 \n",
       "  859.638,768.124 959.846,767.031 1075.95,766.853 1179.12,766.846 1269.6,766.846 1368.24,766.846 1467.47,766.84 1577.18,766.706 1681.57,765.732 1790.11,761.015 \n",
       "  1881.48,748.572 1937.25,733.03 1993.03,707.307 2019.24,690.329 2045.46,669.36 2071.67,643.646 2097.88,612.324 2118.88,582.532 2139.88,547.945 2160.88,507.938 \n",
       "  2181.88,461.82 2202.88,408.833 2223.88,348.145 2244.88,278.845 2265.88,199.936 2272.34,173.549 2278.8,146.117 2285.27,117.604 2291.73,87.9763 \n",
       "  \"/>\n",
       "<path clip-path=\"url(#clip270)\" d=\"\n",
       "M1990.28 216.178 L2280.88 216.178 L2280.88 95.2176 L1990.28 95.2176  Z\n",
       "  \" fill=\"#ffffff\" fill-rule=\"evenodd\" fill-opacity=\"1\"/>\n",
       "<polyline clip-path=\"url(#clip270)\" style=\"stroke:#000000; stroke-width:4; stroke-opacity:1; fill:none\" points=\"\n",
       "  1990.28,216.178 2280.88,216.178 2280.88,95.2176 1990.28,95.2176 1990.28,216.178 \n",
       "  \"/>\n",
       "<polyline clip-path=\"url(#clip270)\" style=\"stroke:#009af9; stroke-width:4; stroke-opacity:1; fill:none\" points=\"\n",
       "  2014.23,155.698 2157.99,155.698 \n",
       "  \"/>\n",
       "<path clip-path=\"url(#clip270)\" d=\"M 0 0 M2195.79 175.385 Q2193.98 180.015 2192.27 181.427 Q2190.56 182.839 2187.69 182.839 L2184.28 182.839 L2184.28 179.274 L2186.78 179.274 Q2188.54 179.274 2189.51 178.44 Q2190.49 177.607 2191.67 174.505 L2192.43 172.561 L2181.94 147.052 L2186.46 147.052 L2194.56 167.329 L2202.66 147.052 L2207.18 147.052 L2195.79 175.385 Z\" fill=\"#000000\" fill-rule=\"evenodd\" fill-opacity=\"1\" /><path clip-path=\"url(#clip270)\" d=\"M 0 0 M2213.06 169.042 L2220.69 169.042 L2220.69 142.677 L2212.38 144.343 L2212.38 140.084 L2220.65 138.418 L2225.32 138.418 L2225.32 169.042 L2232.96 169.042 L2232.96 172.978 L2213.06 172.978 L2213.06 169.042 Z\" fill=\"#000000\" fill-rule=\"evenodd\" fill-opacity=\"1\" /></svg>\n"
      ]
     },
     "execution_count": 164,
     "metadata": {},
     "output_type": "execute_result"
    }
   ],
   "source": [
    "plot(f,-1,3)"
   ]
  },
  {
   "cell_type": "code",
   "execution_count": 163,
   "metadata": {},
   "outputs": [
    {
     "data": {
      "text/plain": [
       "-6.103515625e-5"
      ]
     },
     "execution_count": 163,
     "metadata": {},
     "output_type": "execute_result"
    }
   ],
   "source": [
    "f(0.75)"
   ]
  },
  {
   "cell_type": "code",
   "execution_count": 165,
   "metadata": {},
   "outputs": [
    {
     "name": "stdout",
     "output_type": "stream",
     "text": [
      "Results of univariate zero finding:\n",
      "\n",
      "* Converged to: 1.0000000000000002\n",
      "* Algorithm: Roots.BisectionExact()\n",
      "* iterations: 61\n",
      "* function evaluations: 63\n",
      "* stopped as x_n ≈ x_{n-1} using atol=xatol, rtol=xrtol\n",
      "* stopped as |f(x_n)| ≤ max(δ, max(1,|x|)⋅ϵ) using δ = atol, ϵ = rtol\n",
      "\n",
      "Trace:\n",
      "(a_0, b_0) = ( 0.0000000000000000,  3.0000000000000000)\n",
      "(a_1, b_1) = ( 0.0000000000000000,  3.0000000000000000)\n",
      "(a_2, b_2) = ( 0.0000000000000000,  3.0000000000000000)\n",
      "(a_3, b_3) = ( 0.0000000000000000,  3.0000000000000000)\n",
      "(a_4, b_4) = ( 0.0000000000000000,  3.0000000000000000)\n",
      "(a_5, b_5) = ( 0.0000000006912160,  3.0000000000000000)\n",
      "(a_6, b_6) = ( 0.0000455379486084,  3.0000000000000000)\n",
      "(a_7, b_7) = ( 0.0116882324218750,  3.0000000000000000)\n",
      "(a_8, b_8) = ( 0.1872558593750000,  3.0000000000000000)\n",
      "(a_9, b_9) = ( 0.7495117187500000,  3.0000000000000000)\n",
      "(a_10, b_10) = ( 0.7495117187500000,  1.4995117187500000)\n",
      "(a_11, b_11) = ( 0.9996337890625000,  1.4995117187500000)\n",
      "(a_12, b_12) = ( 0.9996337890625000,  1.2493896484375000)\n",
      "(a_13, b_13) = ( 0.9996337890625000,  1.1243286132812500)\n",
      "(a_14, b_14) = ( 0.9996337890625000,  1.0617980957031250)\n",
      "(a_15, b_15) = ( 0.9996337890625000,  1.0305328369140625)\n",
      "(a_16, b_16) = ( 0.9996337890625000,  1.0149002075195313)\n",
      "(a_17, b_17) = ( 0.9996337890625000,  1.0070838928222656)\n",
      "(a_18, b_18) = ( 0.9996337890625000,  1.0031757354736328)\n",
      "(a_19, b_19) = ( 0.9996337890625000,  1.0012216567993164)\n",
      "(a_20, b_20) = ( 0.9996337890625000,  1.0002446174621582)\n",
      "(a_21, b_21) = ( 0.9998780488967896,  1.0002446174621582)\n",
      "(a_22, b_22) = ( 0.9998780488967896,  1.0000003576278687)\n",
      "(a_23, b_23) = ( 0.9999391138553619,  1.0000003576278687)\n",
      "(a_24, b_24) = ( 0.9999696463346481,  1.0000003576278687)\n",
      "(a_25, b_25) = ( 0.9999849125742912,  1.0000003576278687)\n",
      "(a_26, b_26) = ( 0.9999925456941128,  1.0000003576278687)\n",
      "(a_27, b_27) = ( 0.9999963622540236,  1.0000003576278687)\n",
      "(a_28, b_28) = ( 0.9999982705339789,  1.0000003576278687)\n",
      "(a_29, b_29) = ( 0.9999992246739566,  1.0000003576278687)\n",
      "(a_30, b_30) = ( 0.9999997017439455,  1.0000003576278687)\n",
      "(a_31, b_31) = ( 0.9999999402789399,  1.0000003576278687)\n",
      "(a_32, b_32) = ( 0.9999999402789399,  1.0000001190928742)\n",
      "(a_33, b_33) = ( 0.9999999999126885,  1.0000001190928742)\n",
      "(a_34, b_34) = ( 0.9999999999126885,  1.0000000594591256)\n",
      "(a_35, b_35) = ( 0.9999999999126885,  1.0000000296422513)\n",
      "(a_36, b_36) = ( 0.9999999999126885,  1.0000000147338142)\n",
      "(a_37, b_37) = ( 0.9999999999126885,  1.0000000072795956)\n",
      "(a_38, b_38) = ( 0.9999999999126885,  1.0000000035524863)\n",
      "(a_39, b_39) = ( 0.9999999999126885,  1.0000000016889317)\n",
      "(a_40, b_40) = ( 0.9999999999126885,  1.0000000007571543)\n",
      "(a_41, b_41) = ( 0.9999999999126885,  1.0000000002912657)\n",
      "(a_42, b_42) = ( 0.9999999999126885,  1.0000000000583213)\n",
      "(a_43, b_43) = ( 0.9999999999709246,  1.0000000000583213)\n",
      "(a_44, b_44) = ( 0.9999999999709246,  1.0000000000000853)\n",
      "(a_45, b_45) = ( 0.9999999999854836,  1.0000000000000853)\n",
      "(a_46, b_46) = ( 0.9999999999927631,  1.0000000000000853)\n",
      "(a_47, b_47) = ( 0.9999999999964029,  1.0000000000000853)\n",
      "(a_48, b_48) = ( 0.9999999999982228,  1.0000000000000853)\n",
      "(a_49, b_49) = ( 0.9999999999991327,  1.0000000000000853)\n",
      "(a_50, b_50) = ( 0.9999999999995877,  1.0000000000000853)\n",
      "(a_51, b_51) = ( 0.9999999999998151,  1.0000000000000853)\n",
      "(a_52, b_52) = ( 0.9999999999999288,  1.0000000000000853)\n",
      "(a_53, b_53) = ( 0.9999999999999857,  1.0000000000000853)\n",
      "(a_54, b_54) = ( 0.9999999999999857,  1.0000000000000282)\n",
      "(a_55, b_55) = ( 0.9999999999999999,  1.0000000000000282)\n",
      "(a_56, b_56) = ( 0.9999999999999999,  1.0000000000000140)\n",
      "(a_57, b_57) = ( 0.9999999999999999,  1.0000000000000069)\n",
      "(a_58, b_58) = ( 0.9999999999999999,  1.0000000000000033)\n",
      "(a_59, b_59) = ( 0.9999999999999999,  1.0000000000000016)\n",
      "(a_60, b_60) = ( 0.9999999999999999,  1.0000000000000007)\n",
      "(a_61, b_61) = ( 0.9999999999999999,  1.0000000000000002)\n",
      "\n"
     ]
    },
    {
     "data": {
      "text/plain": [
       "1.0"
      ]
     },
     "execution_count": 165,
     "metadata": {},
     "output_type": "execute_result"
    }
   ],
   "source": [
    "x = find_zero(f, (-1, 3),verbose=true)"
   ]
  },
  {
   "cell_type": "code",
   "execution_count": 167,
   "metadata": {},
   "outputs": [
    {
     "data": {
      "text/plain": [
       "true"
      ]
     },
     "execution_count": 167,
     "metadata": {},
     "output_type": "execute_result"
    }
   ],
   "source": [
    "iszero(f(1.0))"
   ]
  },
  {
   "cell_type": "code",
   "execution_count": 172,
   "metadata": {},
   "outputs": [
    {
     "name": "stdout",
     "output_type": "stream",
     "text": [
      "Results of univariate zero finding:\n",
      "\n",
      "* Converged to: 0.993318269494921\n",
      "* Algorithm: Roots.Halley()\n",
      "* iterations: 15\n",
      "* function evaluations: 48\n",
      "* stopped as |f(x_n)| ≤ max(δ, max(1,|x|)⋅ϵ) using δ = atol, ϵ = rtol\n",
      "\n",
      "Trace:\n",
      "x_0 =  0.5000000000000000,\t fx_0 = -0.0078125000000000\n",
      "x_1 =  0.6250000000000000,\t fx_1 = -0.0010428428649902\n",
      "x_2 =  0.7187500000000000,\t fx_2 = -0.0001392027188558\n",
      "x_3 =  0.7890625000000000,\t fx_3 = -0.0000185813199547\n",
      "x_4 =  0.8417968750000000,\t fx_4 = -0.0000024803068079\n",
      "x_5 =  0.8813476562500000,\t fx_5 = -0.0000003310809930\n",
      "x_6 =  0.9110107421875000,\t fx_6 = -0.0000000441939778\n",
      "x_7 =  0.9332580566406250,\t fx_7 = -0.0000000058991839\n",
      "x_8 =  0.9499435424804688,\t fx_8 = -0.0000000007874460\n",
      "x_9 =  0.9624576568603516,\t fx_9 = -0.0000000001051114\n",
      "x_10 =  0.9718432426452637,\t fx_10 = -0.0000000000140307\n",
      "x_11 =  0.9788824319839478,\t fx_11 = -0.0000000000018729\n",
      "x_12 =  0.9841618239879608,\t fx_12 = -0.0000000000002500\n",
      "x_13 =  0.9881213679909706,\t fx_13 = -0.0000000000000334\n",
      "x_14 =  0.9910910259932280,\t fx_14 = -0.0000000000000045\n",
      "x_15 =  0.9933182694949210,\t fx_15 = -0.0000000000000006\n",
      "\n"
     ]
    },
    {
     "data": {
      "text/plain": [
       "0.993318269494921"
      ]
     },
     "execution_count": 172,
     "metadata": {},
     "output_type": "execute_result"
    }
   ],
   "source": [
    "x = find_zero((f, D(f), DD(f)), 0.5, Roots.Halley(), verbose=true)"
   ]
  },
  {
   "cell_type": "code",
   "execution_count": 173,
   "metadata": {},
   "outputs": [
    {
     "data": {
      "text/plain": [
       "false"
      ]
     },
     "execution_count": 173,
     "metadata": {},
     "output_type": "execute_result"
    }
   ],
   "source": [
    "iszero(f(0.993318269494921))"
   ]
  },
  {
   "cell_type": "code",
   "execution_count": 175,
   "metadata": {},
   "outputs": [
    {
     "name": "stdout",
     "output_type": "stream",
     "text": [
      "Results of univariate zero finding:\n",
      "\n",
      "* Converged to: 0.9932790240219055\n",
      "* Algorithm: Roots.Secant()\n",
      "* iterations: 40\n",
      "* function evaluations: 42\n",
      "* stopped as |f(x_n)| ≤ max(δ, max(1,|x|)⋅ϵ) using δ = atol, ϵ = rtol\n",
      "\n",
      "Trace:\n",
      "x_0 =  0.5000000000000000,\t fx_0 = -0.0078125000000000\n",
      "x_1 =  0.5714311666731510,\t fx_1 = -0.0026554864736298\n",
      "x_2 =  0.6082130164639654,\t fx_2 = -0.0014169353077769\n",
      "x_3 =  0.6502924259311232,\t fx_3 = -0.0006396394915962\n",
      "x_4 =  0.6849197216375301,\t fx_4 = -0.0003082822665707\n",
      "x_5 =  0.7171356517557312,\t fx_5 = -0.0001448930291823\n",
      "x_6 =  0.7457046308229266,\t fx_6 = -0.0000687652713342\n",
      "x_7 =  0.7715106397324999,\t fx_7 = -0.0000325133614431\n",
      "x_8 =  0.7946553539724680,\t fx_8 = -0.0000153951415912\n",
      "x_9 =  0.8154703777245851,\t fx_9 = -0.0000072855551379\n",
      "x_10 =  0.8341703452402188,\t fx_10 = -0.0000034485408599\n",
      "x_11 =  0.8509770593630633,\t fx_11 = -0.0000016321944730\n",
      "x_12 =  0.8660798096410798,\t fx_12 = -0.0000007725425447\n",
      "x_13 =  0.8796521832362322,\t fx_13 = -0.0000003656516292\n",
      "x_14 =  0.8918489670155599,\t fx_14 = -0.0000001730671744\n",
      "x_15 =  0.9028096798459789,\t fx_15 = -0.0000000819145574\n",
      "x_16 =  0.9126595554771316,\t fx_16 = -0.0000000387710699\n",
      "x_17 =  0.9215111861290157,\t fx_17 = -0.0000000183507730\n",
      "x_18 =  0.9294657357158997,\t fx_18 = -0.0000000086856232\n",
      "x_19 =  0.9366141216373384,\t fx_19 = -0.0000000041110011\n",
      "x_20 =  0.9430380450451569,\t fx_20 = -0.0000000019457821\n",
      "x_21 =  0.9488109277137339,\t fx_21 = -0.0000000009209601\n",
      "x_22 =  0.9539987501395939,\t fx_22 = -0.0000000004359006\n",
      "x_23 =  0.9586608060288894,\t fx_23 = -0.0000000002063165\n",
      "x_24 =  0.9628503798602618,\t fx_24 = -0.0000000000976519\n",
      "x_25 =  0.9666153559388594,\t fx_25 = -0.0000000000462197\n",
      "x_26 =  0.9699987656696055,\t fx_26 = -0.0000000000218763\n",
      "x_27 =  0.9730392793855692,\t fx_27 = -0.0000000000103543\n",
      "x_28 =  0.9757716483246891,\t fx_28 = -0.0000000000049008\n",
      "x_29 =  0.9782271018161107,\t fx_29 = -0.0000000000023196\n",
      "x_30 =  0.9804337042123603,\t fx_30 = -0.0000000000010979\n",
      "x_31 =  0.9824166756480467,\t fx_31 = -0.0000000000005196\n",
      "x_32 =  0.9841986802907624,\t fx_32 = -0.0000000000002460\n",
      "x_33 =  0.9858000853788607,\t fx_33 = -0.0000000000001164\n",
      "x_34 =  0.9872391940067026,\t fx_34 = -0.0000000000000551\n",
      "x_35 =  0.9885324543179888,\t fx_35 = -0.0000000000000261\n",
      "x_36 =  0.9896946474981214,\t fx_36 = -0.0000000000000123\n",
      "x_37 =  0.9907390567142393,\t fx_37 = -0.0000000000000058\n",
      "x_38 =  0.9916776189338073,\t fx_38 = -0.0000000000000028\n",
      "x_39 =  0.9925210613569552,\t fx_39 = -0.0000000000000013\n",
      "x_40 =  0.9932790240219055,\t fx_40 = -0.0000000000000006\n",
      "\n"
     ]
    },
    {
     "data": {
      "text/plain": [
       "0.9932790240219055"
      ]
     },
     "execution_count": 175,
     "metadata": {},
     "output_type": "execute_result"
    }
   ],
   "source": [
    "x = find_zero(f, 0.5, Order1(),  verbose=true)"
   ]
  },
  {
   "cell_type": "code",
   "execution_count": 176,
   "metadata": {},
   "outputs": [
    {
     "data": {
      "text/plain": [
       "false"
      ]
     },
     "execution_count": 176,
     "metadata": {},
     "output_type": "execute_result"
    }
   ],
   "source": [
    "iszero(f(0.9932790240219055))"
   ]
  },
  {
   "cell_type": "code",
   "execution_count": 204,
   "metadata": {},
   "outputs": [
    {
     "data": {
      "text/plain": [
       "18-element Array{Bool,1}:\n",
       " 1\n",
       " 0\n",
       " 0\n",
       " 1\n",
       " 0\n",
       " 0\n",
       " 1\n",
       " 1\n",
       " 0\n",
       " 1\n",
       " 1\n",
       " 1\n",
       " 1\n",
       " 1\n",
       " 1\n",
       " 1\n",
       " 0\n",
       " 0"
      ]
     },
     "execution_count": 204,
     "metadata": {},
     "output_type": "execute_result"
    }
   ],
   "source": [
    "Functions = [\"x^3\",\"x^3\",\"x^3\",\n",
    "    \"( x + 3 )*( x - 1 )^2\",\"( x + 3 )*( x - 1 )^2\",\"( x + 3 )*( x - 1 )^2\",\n",
    "    \" x*exp(-x)\",\" x*exp(-x)\",\" x*exp(-x)\",\n",
    "    \"sin(x)-x/2\",\"sin(x)-x/2\",\"sin(x)-x/2\",\n",
    "    \"2*x-exp(-x )\",\"2*x-exp(-x )\",\"2*x-exp(-x )\",\n",
    "    \"(x-1)^7\",\"(x-1)^7\",\"(x-1)^7\"]\n",
    "\n",
    "Types = [\"Bisection\",\"Halley\",\"Secants\",\n",
    "    \"Bisection\",\"Halley\",\"Secants\",\n",
    "    \"Bisection\",\"Halley\",\"Secants\",\n",
    "    \"Bisection\",\"Halley\",\"Secants\",\n",
    "    \"Bisection\",\"Halley\",\"Secants\",\n",
    "    \"Bisection\",\"Halley\",\"Secants\"]\n",
    "\n",
    "Iterations = [0,15,36,\n",
    "    60,17,37,\n",
    "    0,2,3,\n",
    "    49,3,5,\n",
    "    61,3,8,\n",
    "    61,15,40]\n",
    "\n",
    "FunctionCalls = [3,48,38,\n",
    "    62,54,39,\n",
    "    3,9,5,\n",
    "    51,12,7,\n",
    "    63,12,10,\n",
    "    63,48,42]\n",
    "\n",
    "IsReallyZero = [true,false,false,\n",
    "    true,false,false,\n",
    "    true,true,false,\n",
    "    true,true,true,\n",
    "    true,true,true,\n",
    "    true,false,false]"
   ]
  },
  {
   "cell_type": "code",
   "execution_count": 205,
   "metadata": {},
   "outputs": [],
   "source": [
    "using DataFrames"
   ]
  },
  {
   "cell_type": "code",
   "execution_count": 209,
   "metadata": {},
   "outputs": [
    {
     "name": "stderr",
     "output_type": "stream",
     "text": [
      "\u001b[32m\u001b[1m  Resolving\u001b[22m\u001b[39m package versions...\n",
      "\u001b[32m\u001b[1mUpdating\u001b[22m\u001b[39m `C:\\Users\\szady\\.julia\\environments\\v1.5\\Project.toml`\n",
      " \u001b[90m [276daf66] \u001b[39m\u001b[92m+ SpecialFunctions v1.3.0\u001b[39m\n",
      "\u001b[32m\u001b[1mNo Changes\u001b[22m\u001b[39m to `C:\\Users\\szady\\.julia\\environments\\v1.5\\Manifest.toml`\n"
     ]
    }
   ],
   "source": [
    "#Pkg.add(\"SpecialFunctions\")"
   ]
  },
  {
   "cell_type": "markdown",
   "metadata": {},
   "source": [
    "# Tabelka z wynikami"
   ]
  },
  {
   "cell_type": "code",
   "execution_count": 206,
   "metadata": {},
   "outputs": [
    {
     "data": {
      "text/html": [
       "<table class=\"data-frame\"><thead><tr><th></th><th>Functions</th><th>Types</th><th>Iterations</th><th>FunctionCalls</th><th>IsReallyZero</th></tr><tr><th></th><th>String</th><th>String</th><th>Int64</th><th>Int64</th><th>Bool</th></tr></thead><tbody><p>18 rows × 5 columns</p><tr><th>1</th><td>x^3</td><td>Bisection</td><td>0</td><td>3</td><td>1</td></tr><tr><th>2</th><td>x^3</td><td>Halley</td><td>15</td><td>48</td><td>0</td></tr><tr><th>3</th><td>x^3</td><td>Secants</td><td>36</td><td>38</td><td>0</td></tr><tr><th>4</th><td>( x + 3 )*( x - 1 )^2</td><td>Bisection</td><td>60</td><td>62</td><td>1</td></tr><tr><th>5</th><td>( x + 3 )*( x - 1 )^2</td><td>Halley</td><td>17</td><td>54</td><td>0</td></tr><tr><th>6</th><td>( x + 3 )*( x - 1 )^2</td><td>Secants</td><td>37</td><td>39</td><td>0</td></tr><tr><th>7</th><td> x*exp(-x)</td><td>Bisection</td><td>0</td><td>3</td><td>1</td></tr><tr><th>8</th><td> x*exp(-x)</td><td>Halley</td><td>2</td><td>9</td><td>1</td></tr><tr><th>9</th><td> x*exp(-x)</td><td>Secants</td><td>3</td><td>5</td><td>0</td></tr><tr><th>10</th><td>sin(x)-x/2</td><td>Bisection</td><td>49</td><td>51</td><td>1</td></tr><tr><th>11</th><td>sin(x)-x/2</td><td>Halley</td><td>3</td><td>12</td><td>1</td></tr><tr><th>12</th><td>sin(x)-x/2</td><td>Secants</td><td>5</td><td>7</td><td>1</td></tr><tr><th>13</th><td>2*x-exp(-x )</td><td>Bisection</td><td>61</td><td>63</td><td>1</td></tr><tr><th>14</th><td>2*x-exp(-x )</td><td>Halley</td><td>3</td><td>12</td><td>1</td></tr><tr><th>15</th><td>2*x-exp(-x )</td><td>Secants</td><td>8</td><td>10</td><td>1</td></tr><tr><th>16</th><td>(x-1)^7</td><td>Bisection</td><td>61</td><td>63</td><td>1</td></tr><tr><th>17</th><td>(x-1)^7</td><td>Halley</td><td>15</td><td>48</td><td>0</td></tr><tr><th>18</th><td>(x-1)^7</td><td>Secants</td><td>40</td><td>42</td><td>0</td></tr></tbody></table>"
      ],
      "text/latex": [
       "\\begin{tabular}{r|ccccc}\n",
       "\t& Functions & Types & Iterations & FunctionCalls & IsReallyZero\\\\\n",
       "\t\\hline\n",
       "\t& String & String & Int64 & Int64 & Bool\\\\\n",
       "\t\\hline\n",
       "\t1 & x\\^3 & Bisection & 0 & 3 & 1 \\\\\n",
       "\t2 & x\\^3 & Halley & 15 & 48 & 0 \\\\\n",
       "\t3 & x\\^3 & Secants & 36 & 38 & 0 \\\\\n",
       "\t4 & ( x + 3 )*( x - 1 )\\^2 & Bisection & 60 & 62 & 1 \\\\\n",
       "\t5 & ( x + 3 )*( x - 1 )\\^2 & Halley & 17 & 54 & 0 \\\\\n",
       "\t6 & ( x + 3 )*( x - 1 )\\^2 & Secants & 37 & 39 & 0 \\\\\n",
       "\t7 &  x*exp(-x) & Bisection & 0 & 3 & 1 \\\\\n",
       "\t8 &  x*exp(-x) & Halley & 2 & 9 & 1 \\\\\n",
       "\t9 &  x*exp(-x) & Secants & 3 & 5 & 0 \\\\\n",
       "\t10 & sin(x)-x/2 & Bisection & 49 & 51 & 1 \\\\\n",
       "\t11 & sin(x)-x/2 & Halley & 3 & 12 & 1 \\\\\n",
       "\t12 & sin(x)-x/2 & Secants & 5 & 7 & 1 \\\\\n",
       "\t13 & 2*x-exp(-x ) & Bisection & 61 & 63 & 1 \\\\\n",
       "\t14 & 2*x-exp(-x ) & Halley & 3 & 12 & 1 \\\\\n",
       "\t15 & 2*x-exp(-x ) & Secants & 8 & 10 & 1 \\\\\n",
       "\t16 & (x-1)\\^7 & Bisection & 61 & 63 & 1 \\\\\n",
       "\t17 & (x-1)\\^7 & Halley & 15 & 48 & 0 \\\\\n",
       "\t18 & (x-1)\\^7 & Secants & 40 & 42 & 0 \\\\\n",
       "\\end{tabular}\n"
      ],
      "text/plain": [
       "\u001b[1m18×5 DataFrame\u001b[0m\n",
       "\u001b[1m Row \u001b[0m│\u001b[1m Functions             \u001b[0m\u001b[1m Types     \u001b[0m\u001b[1m Iterations \u001b[0m\u001b[1m FunctionCalls \u001b[0m\u001b[1m IsReallyZe\u001b[0m ⋯\n",
       "\u001b[1m     \u001b[0m│\u001b[90m String                \u001b[0m\u001b[90m String    \u001b[0m\u001b[90m Int64      \u001b[0m\u001b[90m Int64         \u001b[0m\u001b[90m Bool      \u001b[0m ⋯\n",
       "─────┼──────────────────────────────────────────────────────────────────────────\n",
       "   1 │ x^3                    Bisection           0              3          tr ⋯\n",
       "   2 │ x^3                    Halley             15             48         fal\n",
       "   3 │ x^3                    Secants            36             38         fal\n",
       "   4 │ ( x + 3 )*( x - 1 )^2  Bisection          60             62          tr\n",
       "   5 │ ( x + 3 )*( x - 1 )^2  Halley             17             54         fal ⋯\n",
       "   6 │ ( x + 3 )*( x - 1 )^2  Secants            37             39         fal\n",
       "   7 │  x*exp(-x)             Bisection           0              3          tr\n",
       "   8 │  x*exp(-x)             Halley              2              9          tr\n",
       "   9 │  x*exp(-x)             Secants             3              5         fal ⋯\n",
       "  10 │ sin(x)-x/2             Bisection          49             51          tr\n",
       "  11 │ sin(x)-x/2             Halley              3             12          tr\n",
       "  12 │ sin(x)-x/2             Secants             5              7          tr\n",
       "  13 │ 2*x-exp(-x )           Bisection          61             63          tr ⋯\n",
       "  14 │ 2*x-exp(-x )           Halley              3             12          tr\n",
       "  15 │ 2*x-exp(-x )           Secants             8             10          tr\n",
       "  16 │ (x-1)^7                Bisection          61             63          tr\n",
       "  17 │ (x-1)^7                Halley             15             48         fal ⋯\n",
       "  18 │ (x-1)^7                Secants            40             42         fal\n",
       "\u001b[36m                                                                1 column omitted\u001b[0m"
      ]
     },
     "execution_count": 206,
     "metadata": {},
     "output_type": "execute_result"
    }
   ],
   "source": [
    "df = DataFrame(Functions = Functions ,Types = Types,Iterations = Iterations,FunctionCalls = FunctionCalls,IsReallyZero = IsReallyZero)"
   ]
  },
  {
   "cell_type": "markdown",
   "metadata": {},
   "source": [
    "### Trudna funkcja - exp ( x ) - 2 - 1 / ( 10 * x )^2 + 2 / ( 100 * x )^3.  (Podpunkt 2)"
   ]
  },
  {
   "cell_type": "code",
   "execution_count": 214,
   "metadata": {},
   "outputs": [
    {
     "data": {
      "text/plain": [
       "g (generic function with 1 method)"
      ]
     },
     "execution_count": 214,
     "metadata": {},
     "output_type": "execute_result"
    }
   ],
   "source": [
    "g(x) = exp(x) - 2 - 1 / ( 10 * x )^2 + 2 / ( 100 * x )^3. "
   ]
  },
  {
   "cell_type": "code",
   "execution_count": 221,
   "metadata": {},
   "outputs": [
    {
     "data": {
      "image/svg+xml": [
       "<?xml version=\"1.0\" encoding=\"utf-8\"?>\n",
       "<svg xmlns=\"http://www.w3.org/2000/svg\" xmlns:xlink=\"http://www.w3.org/1999/xlink\" width=\"600\" height=\"400\" viewBox=\"0 0 2400 1600\">\n",
       "<defs>\n",
       "  <clipPath id=\"clip550\">\n",
       "    <rect x=\"0\" y=\"0\" width=\"2400\" height=\"1600\"/>\n",
       "  </clipPath>\n",
       "</defs>\n",
       "<path clip-path=\"url(#clip550)\" d=\"\n",
       "M0 1600 L2400 1600 L2400 0 L0 0  Z\n",
       "  \" fill=\"#ffffff\" fill-rule=\"evenodd\" fill-opacity=\"1\"/>\n",
       "<defs>\n",
       "  <clipPath id=\"clip551\">\n",
       "    <rect x=\"480\" y=\"0\" width=\"1681\" height=\"1600\"/>\n",
       "  </clipPath>\n",
       "</defs>\n",
       "<path clip-path=\"url(#clip550)\" d=\"\n",
       "M179.908 1486.45 L2352.76 1486.45 L2352.76 47.2441 L179.908 47.2441  Z\n",
       "  \" fill=\"#ffffff\" fill-rule=\"evenodd\" fill-opacity=\"1\"/>\n",
       "<defs>\n",
       "  <clipPath id=\"clip552\">\n",
       "    <rect x=\"179\" y=\"47\" width=\"2174\" height=\"1440\"/>\n",
       "  </clipPath>\n",
       "</defs>\n",
       "<polyline clip-path=\"url(#clip552)\" style=\"stroke:#000000; stroke-width:2; stroke-opacity:0.1; fill:none\" points=\"\n",
       "  241.404,1486.45 241.404,47.2441 \n",
       "  \"/>\n",
       "<polyline clip-path=\"url(#clip552)\" style=\"stroke:#000000; stroke-width:2; stroke-opacity:0.1; fill:none\" points=\"\n",
       "  659.742,1486.45 659.742,47.2441 \n",
       "  \"/>\n",
       "<polyline clip-path=\"url(#clip552)\" style=\"stroke:#000000; stroke-width:2; stroke-opacity:0.1; fill:none\" points=\"\n",
       "  1078.08,1486.45 1078.08,47.2441 \n",
       "  \"/>\n",
       "<polyline clip-path=\"url(#clip552)\" style=\"stroke:#000000; stroke-width:2; stroke-opacity:0.1; fill:none\" points=\"\n",
       "  1496.42,1486.45 1496.42,47.2441 \n",
       "  \"/>\n",
       "<polyline clip-path=\"url(#clip552)\" style=\"stroke:#000000; stroke-width:2; stroke-opacity:0.1; fill:none\" points=\"\n",
       "  1914.76,1486.45 1914.76,47.2441 \n",
       "  \"/>\n",
       "<polyline clip-path=\"url(#clip552)\" style=\"stroke:#000000; stroke-width:2; stroke-opacity:0.1; fill:none\" points=\"\n",
       "  2333.09,1486.45 2333.09,47.2441 \n",
       "  \"/>\n",
       "<polyline clip-path=\"url(#clip550)\" style=\"stroke:#000000; stroke-width:4; stroke-opacity:1; fill:none\" points=\"\n",
       "  179.908,1486.45 2352.76,1486.45 \n",
       "  \"/>\n",
       "<polyline clip-path=\"url(#clip550)\" style=\"stroke:#000000; stroke-width:4; stroke-opacity:1; fill:none\" points=\"\n",
       "  241.404,1486.45 241.404,1469.18 \n",
       "  \"/>\n",
       "<polyline clip-path=\"url(#clip550)\" style=\"stroke:#000000; stroke-width:4; stroke-opacity:1; fill:none\" points=\"\n",
       "  659.742,1486.45 659.742,1469.18 \n",
       "  \"/>\n",
       "<polyline clip-path=\"url(#clip550)\" style=\"stroke:#000000; stroke-width:4; stroke-opacity:1; fill:none\" points=\"\n",
       "  1078.08,1486.45 1078.08,1469.18 \n",
       "  \"/>\n",
       "<polyline clip-path=\"url(#clip550)\" style=\"stroke:#000000; stroke-width:4; stroke-opacity:1; fill:none\" points=\"\n",
       "  1496.42,1486.45 1496.42,1469.18 \n",
       "  \"/>\n",
       "<polyline clip-path=\"url(#clip550)\" style=\"stroke:#000000; stroke-width:4; stroke-opacity:1; fill:none\" points=\"\n",
       "  1914.76,1486.45 1914.76,1469.18 \n",
       "  \"/>\n",
       "<polyline clip-path=\"url(#clip550)\" style=\"stroke:#000000; stroke-width:4; stroke-opacity:1; fill:none\" points=\"\n",
       "  2333.09,1486.45 2333.09,1469.18 \n",
       "  \"/>\n",
       "<path clip-path=\"url(#clip550)\" d=\"M 0 0 M213.557 1530.29 L243.233 1530.29 L243.233 1534.23 L213.557 1534.23 L213.557 1530.29 Z\" fill=\"#000000\" fill-rule=\"evenodd\" fill-opacity=\"1\" /><path clip-path=\"url(#clip550)\" d=\"M 0 0 M248.348 1512.56 L266.705 1512.56 L266.705 1516.5 L252.631 1516.5 L252.631 1524.97 Q253.649 1524.62 254.668 1524.46 Q255.686 1524.27 256.705 1524.27 Q262.492 1524.27 265.871 1527.44 Q269.251 1530.62 269.251 1536.03 Q269.251 1541.61 265.779 1544.71 Q262.307 1547.79 255.987 1547.79 Q253.811 1547.79 251.543 1547.42 Q249.297 1547.05 246.89 1546.31 L246.89 1541.61 Q248.973 1542.74 251.196 1543.3 Q253.418 1543.86 255.895 1543.86 Q259.899 1543.86 262.237 1541.75 Q264.575 1539.64 264.575 1536.03 Q264.575 1532.42 262.237 1530.31 Q259.899 1528.21 255.895 1528.21 Q254.02 1528.21 252.145 1528.62 Q250.293 1529.04 248.348 1529.92 L248.348 1512.56 Z\" fill=\"#000000\" fill-rule=\"evenodd\" fill-opacity=\"1\" /><path clip-path=\"url(#clip550)\" d=\"M 0 0 M631.154 1530.29 L660.83 1530.29 L660.83 1534.23 L631.154 1534.23 L631.154 1530.29 Z\" fill=\"#000000\" fill-rule=\"evenodd\" fill-opacity=\"1\" /><path clip-path=\"url(#clip550)\" d=\"M 0 0 M678.747 1516.63 L666.941 1535.08 L678.747 1535.08 L678.747 1516.63 M677.52 1512.56 L683.399 1512.56 L683.399 1535.08 L688.33 1535.08 L688.33 1538.97 L683.399 1538.97 L683.399 1547.12 L678.747 1547.12 L678.747 1538.97 L663.145 1538.97 L663.145 1534.46 L677.52 1512.56 Z\" fill=\"#000000\" fill-rule=\"evenodd\" fill-opacity=\"1\" /><path clip-path=\"url(#clip550)\" d=\"M 0 0 M1050.06 1530.29 L1079.74 1530.29 L1079.74 1534.23 L1050.06 1534.23 L1050.06 1530.29 Z\" fill=\"#000000\" fill-rule=\"evenodd\" fill-opacity=\"1\" /><path clip-path=\"url(#clip550)\" d=\"M 0 0 M1098.97 1528.49 Q1102.33 1529.2 1104.2 1531.47 Q1106.1 1533.74 1106.1 1537.07 Q1106.1 1542.19 1102.58 1544.99 Q1099.06 1547.79 1092.58 1547.79 Q1090.41 1547.79 1088.09 1547.35 Q1085.8 1546.93 1083.35 1546.08 L1083.35 1541.56 Q1085.29 1542.7 1087.61 1543.28 Q1089.92 1543.86 1092.44 1543.86 Q1096.84 1543.86 1099.13 1542.12 Q1101.45 1540.38 1101.45 1537.07 Q1101.45 1534.02 1099.3 1532.31 Q1097.17 1530.57 1093.35 1530.57 L1089.32 1530.57 L1089.32 1526.73 L1093.53 1526.73 Q1096.98 1526.73 1098.81 1525.36 Q1100.64 1523.97 1100.64 1521.38 Q1100.64 1518.72 1098.74 1517.31 Q1096.86 1515.87 1093.35 1515.87 Q1091.42 1515.87 1089.23 1516.29 Q1087.03 1516.7 1084.39 1517.58 L1084.39 1513.42 Q1087.05 1512.68 1089.36 1512.31 Q1091.7 1511.93 1093.76 1511.93 Q1099.09 1511.93 1102.19 1514.37 Q1105.29 1516.77 1105.29 1520.89 Q1105.29 1523.76 1103.65 1525.75 Q1102 1527.72 1098.97 1528.49 Z\" fill=\"#000000\" fill-rule=\"evenodd\" fill-opacity=\"1\" /><path clip-path=\"url(#clip550)\" d=\"M 0 0 M1468.87 1530.29 L1498.55 1530.29 L1498.55 1534.23 L1468.87 1534.23 L1468.87 1530.29 Z\" fill=\"#000000\" fill-rule=\"evenodd\" fill-opacity=\"1\" /><path clip-path=\"url(#clip550)\" d=\"M 0 0 M1507.64 1543.18 L1523.96 1543.18 L1523.96 1547.12 L1502.02 1547.12 L1502.02 1543.18 Q1504.68 1540.43 1509.27 1535.8 Q1513.87 1531.15 1515.05 1529.81 Q1517.3 1527.28 1518.18 1525.55 Q1519.08 1523.79 1519.08 1522.1 Q1519.08 1519.34 1517.14 1517.61 Q1515.21 1515.87 1512.11 1515.87 Q1509.91 1515.87 1507.46 1516.63 Q1505.03 1517.4 1502.25 1518.95 L1502.25 1514.23 Q1505.08 1513.09 1507.53 1512.51 Q1509.98 1511.93 1512.02 1511.93 Q1517.39 1511.93 1520.58 1514.62 Q1523.78 1517.31 1523.78 1521.8 Q1523.78 1523.93 1522.97 1525.85 Q1522.18 1527.74 1520.08 1530.34 Q1519.5 1531.01 1516.39 1534.23 Q1513.29 1537.42 1507.64 1543.18 Z\" fill=\"#000000\" fill-rule=\"evenodd\" fill-opacity=\"1\" /><path clip-path=\"url(#clip550)\" d=\"M 0 0 M1887.02 1530.29 L1916.7 1530.29 L1916.7 1534.23 L1887.02 1534.23 L1887.02 1530.29 Z\" fill=\"#000000\" fill-rule=\"evenodd\" fill-opacity=\"1\" /><path clip-path=\"url(#clip550)\" d=\"M 0 0 M1922.58 1543.18 L1930.22 1543.18 L1930.22 1516.82 L1921.91 1518.49 L1921.91 1514.23 L1930.17 1512.56 L1934.85 1512.56 L1934.85 1543.18 L1942.49 1543.18 L1942.49 1547.12 L1922.58 1547.12 L1922.58 1543.18 Z\" fill=\"#000000\" fill-rule=\"evenodd\" fill-opacity=\"1\" /><path clip-path=\"url(#clip550)\" d=\"M 0 0 M2333.09 1515.64 Q2329.48 1515.64 2327.65 1519.2 Q2325.85 1522.75 2325.85 1529.87 Q2325.85 1536.98 2327.65 1540.55 Q2329.48 1544.09 2333.09 1544.09 Q2336.73 1544.09 2338.53 1540.55 Q2340.36 1536.98 2340.36 1529.87 Q2340.36 1522.75 2338.53 1519.2 Q2336.73 1515.64 2333.09 1515.64 M2333.09 1511.93 Q2338.9 1511.93 2341.96 1516.54 Q2345.04 1521.12 2345.04 1529.87 Q2345.04 1538.6 2341.96 1543.21 Q2338.9 1547.79 2333.09 1547.79 Q2327.28 1547.79 2324.21 1543.21 Q2321.15 1538.6 2321.15 1529.87 Q2321.15 1521.12 2324.21 1516.54 Q2327.28 1511.93 2333.09 1511.93 Z\" fill=\"#000000\" fill-rule=\"evenodd\" fill-opacity=\"1\" /><polyline clip-path=\"url(#clip552)\" style=\"stroke:#000000; stroke-width:2; stroke-opacity:0.1; fill:none\" points=\"\n",
       "  179.908,1264.09 2352.76,1264.09 \n",
       "  \"/>\n",
       "<polyline clip-path=\"url(#clip552)\" style=\"stroke:#000000; stroke-width:2; stroke-opacity:0.1; fill:none\" points=\"\n",
       "  179.908,890.233 2352.76,890.233 \n",
       "  \"/>\n",
       "<polyline clip-path=\"url(#clip552)\" style=\"stroke:#000000; stroke-width:2; stroke-opacity:0.1; fill:none\" points=\"\n",
       "  179.908,516.375 2352.76,516.375 \n",
       "  \"/>\n",
       "<polyline clip-path=\"url(#clip552)\" style=\"stroke:#000000; stroke-width:2; stroke-opacity:0.1; fill:none\" points=\"\n",
       "  179.908,142.516 2352.76,142.516 \n",
       "  \"/>\n",
       "<polyline clip-path=\"url(#clip550)\" style=\"stroke:#000000; stroke-width:4; stroke-opacity:1; fill:none\" points=\"\n",
       "  179.908,1486.45 179.908,47.2441 \n",
       "  \"/>\n",
       "<polyline clip-path=\"url(#clip550)\" style=\"stroke:#000000; stroke-width:4; stroke-opacity:1; fill:none\" points=\"\n",
       "  179.908,1264.09 205.982,1264.09 \n",
       "  \"/>\n",
       "<polyline clip-path=\"url(#clip550)\" style=\"stroke:#000000; stroke-width:4; stroke-opacity:1; fill:none\" points=\"\n",
       "  179.908,890.233 205.982,890.233 \n",
       "  \"/>\n",
       "<polyline clip-path=\"url(#clip550)\" style=\"stroke:#000000; stroke-width:4; stroke-opacity:1; fill:none\" points=\"\n",
       "  179.908,516.375 205.982,516.375 \n",
       "  \"/>\n",
       "<polyline clip-path=\"url(#clip550)\" style=\"stroke:#000000; stroke-width:4; stroke-opacity:1; fill:none\" points=\"\n",
       "  179.908,142.516 205.982,142.516 \n",
       "  \"/>\n",
       "<path clip-path=\"url(#clip550)\" d=\"M 0 0 M51.8486 1264.54 L81.5244 1264.54 L81.5244 1268.48 L51.8486 1268.48 L51.8486 1264.54 Z\" fill=\"#000000\" fill-rule=\"evenodd\" fill-opacity=\"1\" /><path clip-path=\"url(#clip550)\" d=\"M 0 0 M90.6215 1277.44 L106.941 1277.44 L106.941 1281.37 L84.9966 1281.37 L84.9966 1277.44 Q87.6586 1274.68 92.2419 1270.05 Q96.8484 1265.4 98.0289 1264.06 Q100.274 1261.53 101.154 1259.8 Q102.057 1258.04 102.057 1256.35 Q102.057 1253.59 100.112 1251.86 Q98.1909 1250.12 95.0891 1250.12 Q92.89 1250.12 90.4364 1250.88 Q88.0058 1251.65 85.2281 1253.2 L85.2281 1248.48 Q88.0521 1247.34 90.5058 1246.76 Q92.9595 1246.19 94.9965 1246.19 Q100.367 1246.19 103.561 1248.87 Q106.756 1251.56 106.756 1256.05 Q106.756 1258.18 105.946 1260.1 Q105.159 1262 103.052 1264.59 Q102.473 1265.26 99.3715 1268.48 Q96.2697 1271.67 90.6215 1277.44 Z\" fill=\"#000000\" fill-rule=\"evenodd\" fill-opacity=\"1\" /><path clip-path=\"url(#clip550)\" d=\"M 0 0 M112.01 1275.49 L116.895 1275.49 L116.895 1281.37 L112.01 1281.37 L112.01 1275.49 Z\" fill=\"#000000\" fill-rule=\"evenodd\" fill-opacity=\"1\" /><path clip-path=\"url(#clip550)\" d=\"M 0 0 M131.964 1249.89 Q128.353 1249.89 126.524 1253.45 Q124.719 1257 124.719 1264.13 Q124.719 1271.23 126.524 1274.8 Q128.353 1278.34 131.964 1278.34 Q135.598 1278.34 137.404 1274.8 Q139.232 1271.23 139.232 1264.13 Q139.232 1257 137.404 1253.45 Q135.598 1249.89 131.964 1249.89 M131.964 1246.19 Q137.774 1246.19 140.83 1250.79 Q143.908 1255.38 143.908 1264.13 Q143.908 1272.85 140.83 1277.46 Q137.774 1282.04 131.964 1282.04 Q126.154 1282.04 123.075 1277.46 Q120.02 1272.85 120.02 1264.13 Q120.02 1255.38 123.075 1250.79 Q126.154 1246.19 131.964 1246.19 Z\" fill=\"#000000\" fill-rule=\"evenodd\" fill-opacity=\"1\" /><path clip-path=\"url(#clip550)\" d=\"M 0 0 M51.5708 890.684 L81.2466 890.684 L81.2466 894.619 L51.5708 894.619 L51.5708 890.684 Z\" fill=\"#000000\" fill-rule=\"evenodd\" fill-opacity=\"1\" /><path clip-path=\"url(#clip550)\" d=\"M 0 0 M87.1262 903.577 L94.765 903.577 L94.765 877.212 L86.4549 878.878 L86.4549 874.619 L94.7187 872.953 L99.3946 872.953 L99.3946 903.577 L107.033 903.577 L107.033 907.513 L87.1262 907.513 L87.1262 903.577 Z\" fill=\"#000000\" fill-rule=\"evenodd\" fill-opacity=\"1\" /><path clip-path=\"url(#clip550)\" d=\"M 0 0 M112.103 901.633 L116.987 901.633 L116.987 907.513 L112.103 907.513 L112.103 901.633 Z\" fill=\"#000000\" fill-rule=\"evenodd\" fill-opacity=\"1\" /><path clip-path=\"url(#clip550)\" d=\"M 0 0 M132.057 891.101 Q128.723 891.101 126.802 892.883 Q124.904 894.665 124.904 897.79 Q124.904 900.915 126.802 902.698 Q128.723 904.48 132.057 904.48 Q135.39 904.48 137.311 902.698 Q139.232 900.892 139.232 897.79 Q139.232 894.665 137.311 892.883 Q135.413 891.101 132.057 891.101 M127.381 889.11 Q124.371 888.369 122.682 886.309 Q121.015 884.249 121.015 881.286 Q121.015 877.142 123.955 874.735 Q126.918 872.328 132.057 872.328 Q137.219 872.328 140.158 874.735 Q143.098 877.142 143.098 881.286 Q143.098 884.249 141.408 886.309 Q139.742 888.369 136.756 889.11 Q140.135 889.897 142.01 892.189 Q143.908 894.48 143.908 897.79 Q143.908 902.814 140.83 905.499 Q137.774 908.184 132.057 908.184 Q126.339 908.184 123.26 905.499 Q120.205 902.814 120.205 897.79 Q120.205 894.48 122.103 892.189 Q124.001 889.897 127.381 889.11 M125.668 881.726 Q125.668 884.411 127.334 885.915 Q129.024 887.42 132.057 887.42 Q135.066 887.42 136.756 885.915 Q138.469 884.411 138.469 881.726 Q138.469 879.041 136.756 877.536 Q135.066 876.031 132.057 876.031 Q129.024 876.031 127.334 877.536 Q125.668 879.041 125.668 881.726 Z\" fill=\"#000000\" fill-rule=\"evenodd\" fill-opacity=\"1\" /><path clip-path=\"url(#clip550)\" d=\"M 0 0 M51.3162 516.826 L80.992 516.826 L80.992 520.761 L51.3162 520.761 L51.3162 516.826 Z\" fill=\"#000000\" fill-rule=\"evenodd\" fill-opacity=\"1\" /><path clip-path=\"url(#clip550)\" d=\"M 0 0 M86.8716 529.719 L94.5104 529.719 L94.5104 503.354 L86.2003 505.02 L86.2003 500.761 L94.4641 499.095 L99.14 499.095 L99.14 529.719 L106.779 529.719 L106.779 533.655 L86.8716 533.655 L86.8716 529.719 Z\" fill=\"#000000\" fill-rule=\"evenodd\" fill-opacity=\"1\" /><path clip-path=\"url(#clip550)\" d=\"M 0 0 M111.848 527.775 L116.733 527.775 L116.733 533.655 L111.848 533.655 L111.848 527.775 Z\" fill=\"#000000\" fill-rule=\"evenodd\" fill-opacity=\"1\" /><path clip-path=\"url(#clip550)\" d=\"M 0 0 M132.381 514.511 Q129.232 514.511 127.381 516.664 Q125.552 518.817 125.552 522.567 Q125.552 526.293 127.381 528.469 Q129.232 530.622 132.381 530.622 Q135.529 530.622 137.357 528.469 Q139.209 526.293 139.209 522.567 Q139.209 518.817 137.357 516.664 Q135.529 514.511 132.381 514.511 M141.663 499.858 L141.663 504.118 Q139.904 503.284 138.098 502.845 Q136.316 502.405 134.556 502.405 Q129.927 502.405 127.473 505.53 Q125.043 508.655 124.695 514.974 Q126.061 512.96 128.121 511.895 Q130.182 510.807 132.658 510.807 Q137.867 510.807 140.876 513.979 Q143.908 517.127 143.908 522.567 Q143.908 527.891 140.76 531.108 Q137.612 534.326 132.381 534.326 Q126.385 534.326 123.214 529.743 Q120.043 525.136 120.043 516.409 Q120.043 508.215 123.932 503.354 Q127.82 498.47 134.371 498.47 Q136.131 498.47 137.913 498.817 Q139.719 499.164 141.663 499.858 Z\" fill=\"#000000\" fill-rule=\"evenodd\" fill-opacity=\"1\" /><path clip-path=\"url(#clip550)\" d=\"M 0 0 M50.9921 142.968 L80.6679 142.968 L80.6679 146.903 L50.9921 146.903 L50.9921 142.968 Z\" fill=\"#000000\" fill-rule=\"evenodd\" fill-opacity=\"1\" /><path clip-path=\"url(#clip550)\" d=\"M 0 0 M86.5475 155.861 L94.1863 155.861 L94.1863 129.496 L85.8762 131.162 L85.8762 126.903 L94.14 125.236 L98.8159 125.236 L98.8159 155.861 L106.455 155.861 L106.455 159.796 L86.5475 159.796 L86.5475 155.861 Z\" fill=\"#000000\" fill-rule=\"evenodd\" fill-opacity=\"1\" /><path clip-path=\"url(#clip550)\" d=\"M 0 0 M111.524 153.917 L116.408 153.917 L116.408 159.796 L111.524 159.796 L111.524 153.917 Z\" fill=\"#000000\" fill-rule=\"evenodd\" fill-opacity=\"1\" /><path clip-path=\"url(#clip550)\" d=\"M 0 0 M134.325 129.311 L122.52 147.76 L134.325 147.76 L134.325 129.311 M133.098 125.236 L138.978 125.236 L138.978 147.76 L143.908 147.76 L143.908 151.648 L138.978 151.648 L138.978 159.796 L134.325 159.796 L134.325 151.648 L118.723 151.648 L118.723 147.135 L133.098 125.236 Z\" fill=\"#000000\" fill-rule=\"evenodd\" fill-opacity=\"1\" /><polyline clip-path=\"url(#clip552)\" style=\"stroke:#009af9; stroke-width:4; stroke-opacity:1; fill:none\" points=\"\n",
       "  241.404,1252.24 261.423,1251.64 446.523,1244.44 557.76,1238.3 651.81,1231.65 753.975,1222.52 848.161,1211.86 949.139,1197.42 1066.13,1175.68 1170.1,1150.54 \n",
       "  1261.27,1122.74 1360.68,1084.67 1460.67,1036.13 1515.95,1003.92 1571.22,967.213 1623.82,927.552 1676.41,882.679 1731.1,829.796 1785.79,769.779 1831.82,713.106 \n",
       "  1877.85,650.266 1934.06,564.494 1990.26,468.235 2043.09,368.425 2095.93,261.889 2117.09,218.833 2138.25,177.028 2159.41,138.444 2180.57,106.614 2191.15,95.1249 \n",
       "  2201.73,88.2534 2212.31,87.9763 2222.89,97.274 2228.18,106.875 2233.47,120.803 2238.76,140.107 2244.05,166.157 2249.34,200.771 2254.63,246.399 2259.92,306.412 \n",
       "  2265.21,385.544 2266.84,414.73 2268.46,446.602 2270.09,481.443 2271.72,519.575 2273.35,561.365 2274.98,607.231 2276.61,657.653 2278.23,713.184 2279.86,774.462 \n",
       "  2281.49,842.226 2283.12,917.339 2284.75,1000.81 2286.38,1093.84 2288,1197.82 2289.63,1314.44 2291.26,1445.72 \n",
       "  \"/>\n",
       "<path clip-path=\"url(#clip550)\" d=\"\n",
       "M1987.88 216.178 L2280.33 216.178 L2280.33 95.2176 L1987.88 95.2176  Z\n",
       "  \" fill=\"#ffffff\" fill-rule=\"evenodd\" fill-opacity=\"1\"/>\n",
       "<polyline clip-path=\"url(#clip550)\" style=\"stroke:#000000; stroke-width:4; stroke-opacity:1; fill:none\" points=\"\n",
       "  1987.88,216.178 2280.33,216.178 2280.33,95.2176 1987.88,95.2176 1987.88,216.178 \n",
       "  \"/>\n",
       "<polyline clip-path=\"url(#clip550)\" style=\"stroke:#009af9; stroke-width:4; stroke-opacity:1; fill:none\" points=\"\n",
       "  2012.02,155.698 2156.88,155.698 \n",
       "  \"/>\n",
       "<path clip-path=\"url(#clip550)\" d=\"M 0 0 M2194.87 175.385 Q2193.06 180.015 2191.35 181.427 Q2189.63 182.839 2186.76 182.839 L2183.36 182.839 L2183.36 179.274 L2185.86 179.274 Q2187.62 179.274 2188.59 178.44 Q2189.57 177.607 2190.75 174.505 L2191.51 172.561 L2181.02 147.052 L2185.54 147.052 L2193.64 167.329 L2201.74 147.052 L2206.26 147.052 L2194.87 175.385 Z\" fill=\"#000000\" fill-rule=\"evenodd\" fill-opacity=\"1\" /><path clip-path=\"url(#clip550)\" d=\"M 0 0 M2212.13 169.042 L2219.77 169.042 L2219.77 142.677 L2211.46 144.343 L2211.46 140.084 L2219.73 138.418 L2224.4 138.418 L2224.4 169.042 L2232.04 169.042 L2232.04 172.978 L2212.13 172.978 L2212.13 169.042 Z\" fill=\"#000000\" fill-rule=\"evenodd\" fill-opacity=\"1\" /></svg>\n"
      ]
     },
     "execution_count": 221,
     "metadata": {},
     "output_type": "execute_result"
    }
   ],
   "source": [
    "plot(g,-5,-0.1)"
   ]
  },
  {
   "cell_type": "code",
   "execution_count": 222,
   "metadata": {},
   "outputs": [
    {
     "data": {
      "image/svg+xml": [
       "<?xml version=\"1.0\" encoding=\"utf-8\"?>\n",
       "<svg xmlns=\"http://www.w3.org/2000/svg\" xmlns:xlink=\"http://www.w3.org/1999/xlink\" width=\"600\" height=\"400\" viewBox=\"0 0 2400 1600\">\n",
       "<defs>\n",
       "  <clipPath id=\"clip590\">\n",
       "    <rect x=\"0\" y=\"0\" width=\"2400\" height=\"1600\"/>\n",
       "  </clipPath>\n",
       "</defs>\n",
       "<path clip-path=\"url(#clip590)\" d=\"\n",
       "M0 1600 L2400 1600 L2400 0 L0 0  Z\n",
       "  \" fill=\"#ffffff\" fill-rule=\"evenodd\" fill-opacity=\"1\"/>\n",
       "<defs>\n",
       "  <clipPath id=\"clip591\">\n",
       "    <rect x=\"480\" y=\"0\" width=\"1681\" height=\"1600\"/>\n",
       "  </clipPath>\n",
       "</defs>\n",
       "<path clip-path=\"url(#clip590)\" d=\"\n",
       "M161.598 1486.45 L2352.76 1486.45 L2352.76 47.2441 L161.598 47.2441  Z\n",
       "  \" fill=\"#ffffff\" fill-rule=\"evenodd\" fill-opacity=\"1\"/>\n",
       "<defs>\n",
       "  <clipPath id=\"clip592\">\n",
       "    <rect x=\"161\" y=\"47\" width=\"2192\" height=\"1440\"/>\n",
       "  </clipPath>\n",
       "</defs>\n",
       "<polyline clip-path=\"url(#clip592)\" style=\"stroke:#000000; stroke-width:2; stroke-opacity:0.1; fill:none\" points=\"\n",
       "  181.426,1486.45 181.426,47.2441 \n",
       "  \"/>\n",
       "<polyline clip-path=\"url(#clip592)\" style=\"stroke:#000000; stroke-width:2; stroke-opacity:0.1; fill:none\" points=\"\n",
       "  603.289,1486.45 603.289,47.2441 \n",
       "  \"/>\n",
       "<polyline clip-path=\"url(#clip592)\" style=\"stroke:#000000; stroke-width:2; stroke-opacity:0.1; fill:none\" points=\"\n",
       "  1025.15,1486.45 1025.15,47.2441 \n",
       "  \"/>\n",
       "<polyline clip-path=\"url(#clip592)\" style=\"stroke:#000000; stroke-width:2; stroke-opacity:0.1; fill:none\" points=\"\n",
       "  1447.02,1486.45 1447.02,47.2441 \n",
       "  \"/>\n",
       "<polyline clip-path=\"url(#clip592)\" style=\"stroke:#000000; stroke-width:2; stroke-opacity:0.1; fill:none\" points=\"\n",
       "  1868.88,1486.45 1868.88,47.2441 \n",
       "  \"/>\n",
       "<polyline clip-path=\"url(#clip592)\" style=\"stroke:#000000; stroke-width:2; stroke-opacity:0.1; fill:none\" points=\"\n",
       "  2290.74,1486.45 2290.74,47.2441 \n",
       "  \"/>\n",
       "<polyline clip-path=\"url(#clip590)\" style=\"stroke:#000000; stroke-width:4; stroke-opacity:1; fill:none\" points=\"\n",
       "  161.598,1486.45 2352.76,1486.45 \n",
       "  \"/>\n",
       "<polyline clip-path=\"url(#clip590)\" style=\"stroke:#000000; stroke-width:4; stroke-opacity:1; fill:none\" points=\"\n",
       "  181.426,1486.45 181.426,1469.18 \n",
       "  \"/>\n",
       "<polyline clip-path=\"url(#clip590)\" style=\"stroke:#000000; stroke-width:4; stroke-opacity:1; fill:none\" points=\"\n",
       "  603.289,1486.45 603.289,1469.18 \n",
       "  \"/>\n",
       "<polyline clip-path=\"url(#clip590)\" style=\"stroke:#000000; stroke-width:4; stroke-opacity:1; fill:none\" points=\"\n",
       "  1025.15,1486.45 1025.15,1469.18 \n",
       "  \"/>\n",
       "<polyline clip-path=\"url(#clip590)\" style=\"stroke:#000000; stroke-width:4; stroke-opacity:1; fill:none\" points=\"\n",
       "  1447.02,1486.45 1447.02,1469.18 \n",
       "  \"/>\n",
       "<polyline clip-path=\"url(#clip590)\" style=\"stroke:#000000; stroke-width:4; stroke-opacity:1; fill:none\" points=\"\n",
       "  1868.88,1486.45 1868.88,1469.18 \n",
       "  \"/>\n",
       "<polyline clip-path=\"url(#clip590)\" style=\"stroke:#000000; stroke-width:4; stroke-opacity:1; fill:none\" points=\"\n",
       "  2290.74,1486.45 2290.74,1469.18 \n",
       "  \"/>\n",
       "<path clip-path=\"url(#clip590)\" d=\"M 0 0 M181.426 1515.64 Q177.815 1515.64 175.986 1519.2 Q174.18 1522.75 174.18 1529.87 Q174.18 1536.98 175.986 1540.55 Q177.815 1544.09 181.426 1544.09 Q185.06 1544.09 186.866 1540.55 Q188.694 1536.98 188.694 1529.87 Q188.694 1522.75 186.866 1519.2 Q185.06 1515.64 181.426 1515.64 M181.426 1511.93 Q187.236 1511.93 190.291 1516.54 Q193.37 1521.12 193.37 1529.87 Q193.37 1538.6 190.291 1543.21 Q187.236 1547.79 181.426 1547.79 Q175.616 1547.79 172.537 1543.21 Q169.481 1538.6 169.481 1529.87 Q169.481 1521.12 172.537 1516.54 Q175.616 1511.93 181.426 1511.93 Z\" fill=\"#000000\" fill-rule=\"evenodd\" fill-opacity=\"1\" /><path clip-path=\"url(#clip590)\" d=\"M 0 0 M593.671 1543.18 L601.31 1543.18 L601.31 1516.82 L593 1518.49 L593 1514.23 L601.264 1512.56 L605.939 1512.56 L605.939 1543.18 L613.578 1543.18 L613.578 1547.12 L593.671 1547.12 L593.671 1543.18 Z\" fill=\"#000000\" fill-rule=\"evenodd\" fill-opacity=\"1\" /><path clip-path=\"url(#clip590)\" d=\"M 0 0 M1019.81 1543.18 L1036.12 1543.18 L1036.12 1547.12 L1014.18 1547.12 L1014.18 1543.18 Q1016.84 1540.43 1021.43 1535.8 Q1026.03 1531.15 1027.21 1529.81 Q1029.46 1527.28 1030.34 1525.55 Q1031.24 1523.79 1031.24 1522.1 Q1031.24 1519.34 1029.3 1517.61 Q1027.37 1515.87 1024.27 1515.87 Q1022.07 1515.87 1019.62 1516.63 Q1017.19 1517.4 1014.41 1518.95 L1014.41 1514.23 Q1017.24 1513.09 1019.69 1512.51 Q1022.14 1511.93 1024.18 1511.93 Q1029.55 1511.93 1032.74 1514.62 Q1035.94 1517.31 1035.94 1521.8 Q1035.94 1523.93 1035.13 1525.85 Q1034.34 1527.74 1032.24 1530.34 Q1031.66 1531.01 1028.56 1534.23 Q1025.45 1537.42 1019.81 1543.18 Z\" fill=\"#000000\" fill-rule=\"evenodd\" fill-opacity=\"1\" /><path clip-path=\"url(#clip590)\" d=\"M 0 0 M1451.26 1528.49 Q1454.62 1529.2 1456.49 1531.47 Q1458.39 1533.74 1458.39 1537.07 Q1458.39 1542.19 1454.87 1544.99 Q1451.36 1547.79 1444.87 1547.79 Q1442.7 1547.79 1440.38 1547.35 Q1438.09 1546.93 1435.64 1546.08 L1435.64 1541.56 Q1437.58 1542.7 1439.9 1543.28 Q1442.21 1543.86 1444.74 1543.86 Q1449.13 1543.86 1451.43 1542.12 Q1453.74 1540.38 1453.74 1537.07 Q1453.74 1534.02 1451.59 1532.31 Q1449.46 1530.57 1445.64 1530.57 L1441.61 1530.57 L1441.61 1526.73 L1445.82 1526.73 Q1449.27 1526.73 1451.1 1525.36 Q1452.93 1523.97 1452.93 1521.38 Q1452.93 1518.72 1451.03 1517.31 Q1449.16 1515.87 1445.64 1515.87 Q1443.72 1515.87 1441.52 1516.29 Q1439.32 1516.7 1436.68 1517.58 L1436.68 1513.42 Q1439.34 1512.68 1441.66 1512.31 Q1443.99 1511.93 1446.05 1511.93 Q1451.38 1511.93 1454.48 1514.37 Q1457.58 1516.77 1457.58 1520.89 Q1457.58 1523.76 1455.94 1525.75 Q1454.3 1527.72 1451.26 1528.49 Z\" fill=\"#000000\" fill-rule=\"evenodd\" fill-opacity=\"1\" /><path clip-path=\"url(#clip590)\" d=\"M 0 0 M1871.89 1516.63 L1860.08 1535.08 L1871.89 1535.08 L1871.89 1516.63 M1870.66 1512.56 L1876.54 1512.56 L1876.54 1535.08 L1881.47 1535.08 L1881.47 1538.97 L1876.54 1538.97 L1876.54 1547.12 L1871.89 1547.12 L1871.89 1538.97 L1856.29 1538.97 L1856.29 1534.46 L1870.66 1512.56 Z\" fill=\"#000000\" fill-rule=\"evenodd\" fill-opacity=\"1\" /><path clip-path=\"url(#clip590)\" d=\"M 0 0 M2281.02 1512.56 L2299.38 1512.56 L2299.38 1516.5 L2285.3 1516.5 L2285.3 1524.97 Q2286.32 1524.62 2287.34 1524.46 Q2288.36 1524.27 2289.38 1524.27 Q2295.16 1524.27 2298.54 1527.44 Q2301.92 1530.62 2301.92 1536.03 Q2301.92 1541.61 2298.45 1544.71 Q2294.98 1547.79 2288.66 1547.79 Q2286.48 1547.79 2284.21 1547.42 Q2281.97 1547.05 2279.56 1546.31 L2279.56 1541.61 Q2281.64 1542.74 2283.87 1543.3 Q2286.09 1543.86 2288.57 1543.86 Q2292.57 1543.86 2294.91 1541.75 Q2297.25 1539.64 2297.25 1536.03 Q2297.25 1532.42 2294.91 1530.31 Q2292.57 1528.21 2288.57 1528.21 Q2286.69 1528.21 2284.82 1528.62 Q2282.96 1529.04 2281.02 1529.92 L2281.02 1512.56 Z\" fill=\"#000000\" fill-rule=\"evenodd\" fill-opacity=\"1\" /><polyline clip-path=\"url(#clip592)\" style=\"stroke:#000000; stroke-width:2; stroke-opacity:0.1; fill:none\" points=\"\n",
       "  161.598,1428.39 2352.76,1428.39 \n",
       "  \"/>\n",
       "<polyline clip-path=\"url(#clip592)\" style=\"stroke:#000000; stroke-width:2; stroke-opacity:0.1; fill:none\" points=\"\n",
       "  161.598,970.636 2352.76,970.636 \n",
       "  \"/>\n",
       "<polyline clip-path=\"url(#clip592)\" style=\"stroke:#000000; stroke-width:2; stroke-opacity:0.1; fill:none\" points=\"\n",
       "  161.598,512.886 2352.76,512.886 \n",
       "  \"/>\n",
       "<polyline clip-path=\"url(#clip592)\" style=\"stroke:#000000; stroke-width:2; stroke-opacity:0.1; fill:none\" points=\"\n",
       "  161.598,55.135 2352.76,55.135 \n",
       "  \"/>\n",
       "<polyline clip-path=\"url(#clip590)\" style=\"stroke:#000000; stroke-width:4; stroke-opacity:1; fill:none\" points=\"\n",
       "  161.598,1486.45 161.598,47.2441 \n",
       "  \"/>\n",
       "<polyline clip-path=\"url(#clip590)\" style=\"stroke:#000000; stroke-width:4; stroke-opacity:1; fill:none\" points=\"\n",
       "  161.598,1428.39 187.892,1428.39 \n",
       "  \"/>\n",
       "<polyline clip-path=\"url(#clip590)\" style=\"stroke:#000000; stroke-width:4; stroke-opacity:1; fill:none\" points=\"\n",
       "  161.598,970.636 187.892,970.636 \n",
       "  \"/>\n",
       "<polyline clip-path=\"url(#clip590)\" style=\"stroke:#000000; stroke-width:4; stroke-opacity:1; fill:none\" points=\"\n",
       "  161.598,512.886 187.892,512.886 \n",
       "  \"/>\n",
       "<polyline clip-path=\"url(#clip590)\" style=\"stroke:#000000; stroke-width:4; stroke-opacity:1; fill:none\" points=\"\n",
       "  161.598,55.135 187.892,55.135 \n",
       "  \"/>\n",
       "<path clip-path=\"url(#clip590)\" d=\"M 0 0 M113.654 1414.19 Q110.043 1414.19 108.214 1417.75 Q106.408 1421.29 106.408 1428.42 Q106.408 1435.53 108.214 1439.09 Q110.043 1442.63 113.654 1442.63 Q117.288 1442.63 119.094 1439.09 Q120.922 1435.53 120.922 1428.42 Q120.922 1421.29 119.094 1417.75 Q117.288 1414.19 113.654 1414.19 M113.654 1410.48 Q119.464 1410.48 122.52 1415.09 Q125.598 1419.67 125.598 1428.42 Q125.598 1437.15 122.52 1441.75 Q119.464 1446.34 113.654 1446.34 Q107.844 1446.34 104.765 1441.75 Q101.709 1437.15 101.709 1428.42 Q101.709 1419.67 104.765 1415.09 Q107.844 1410.48 113.654 1410.48 Z\" fill=\"#000000\" fill-rule=\"evenodd\" fill-opacity=\"1\" /><path clip-path=\"url(#clip590)\" d=\"M 0 0 M77.6818 953.356 L96.0382 953.356 L96.0382 957.291 L81.9642 957.291 L81.9642 965.764 Q82.9827 965.416 84.0012 965.254 Q85.0197 965.069 86.0382 965.069 Q91.8252 965.069 95.2049 968.24 Q98.5845 971.412 98.5845 976.828 Q98.5845 982.407 95.1123 985.509 Q91.6401 988.588 85.3206 988.588 Q83.1447 988.588 80.8762 988.217 Q78.6309 987.847 76.2235 987.106 L76.2235 982.407 Q78.3068 983.541 80.529 984.097 Q82.7512 984.652 85.2281 984.652 Q89.2327 984.652 91.5706 982.546 Q93.9086 980.439 93.9086 976.828 Q93.9086 973.217 91.5706 971.111 Q89.2327 969.004 85.2281 969.004 Q83.3531 969.004 81.4781 969.421 Q79.6262 969.838 77.6818 970.717 L77.6818 953.356 Z\" fill=\"#000000\" fill-rule=\"evenodd\" fill-opacity=\"1\" /><path clip-path=\"url(#clip590)\" d=\"M 0 0 M113.654 956.435 Q110.043 956.435 108.214 960 Q106.408 963.541 106.408 970.671 Q106.408 977.777 108.214 981.342 Q110.043 984.884 113.654 984.884 Q117.288 984.884 119.094 981.342 Q120.922 977.777 120.922 970.671 Q120.922 963.541 119.094 960 Q117.288 956.435 113.654 956.435 M113.654 952.731 Q119.464 952.731 122.52 957.338 Q125.598 961.921 125.598 970.671 Q125.598 979.398 122.52 984.004 Q119.464 988.588 113.654 988.588 Q107.844 988.588 104.765 984.004 Q101.709 979.398 101.709 970.671 Q101.709 961.921 104.765 957.338 Q107.844 952.731 113.654 952.731 Z\" fill=\"#000000\" fill-rule=\"evenodd\" fill-opacity=\"1\" /><path clip-path=\"url(#clip590)\" d=\"M 0 0 M51.6634 526.23 L59.3023 526.23 L59.3023 499.865 L50.9921 501.532 L50.9921 497.272 L59.256 495.606 L63.9319 495.606 L63.9319 526.23 L71.5707 526.23 L71.5707 530.166 L51.6634 530.166 L51.6634 526.23 Z\" fill=\"#000000\" fill-rule=\"evenodd\" fill-opacity=\"1\" /><path clip-path=\"url(#clip590)\" d=\"M 0 0 M86.6401 498.684 Q83.029 498.684 81.2003 502.249 Q79.3948 505.791 79.3948 512.92 Q79.3948 520.027 81.2003 523.592 Q83.029 527.133 86.6401 527.133 Q90.2743 527.133 92.0799 523.592 Q93.9086 520.027 93.9086 512.92 Q93.9086 505.791 92.0799 502.249 Q90.2743 498.684 86.6401 498.684 M86.6401 494.981 Q92.4502 494.981 95.5058 499.587 Q98.5845 504.17 98.5845 512.92 Q98.5845 521.647 95.5058 526.254 Q92.4502 530.837 86.6401 530.837 Q80.8299 530.837 77.7512 526.254 Q74.6957 521.647 74.6957 512.92 Q74.6957 504.17 77.7512 499.587 Q80.8299 494.981 86.6401 494.981 Z\" fill=\"#000000\" fill-rule=\"evenodd\" fill-opacity=\"1\" /><path clip-path=\"url(#clip590)\" d=\"M 0 0 M113.654 498.684 Q110.043 498.684 108.214 502.249 Q106.408 505.791 106.408 512.92 Q106.408 520.027 108.214 523.592 Q110.043 527.133 113.654 527.133 Q117.288 527.133 119.094 523.592 Q120.922 520.027 120.922 512.92 Q120.922 505.791 119.094 502.249 Q117.288 498.684 113.654 498.684 M113.654 494.981 Q119.464 494.981 122.52 499.587 Q125.598 504.17 125.598 512.92 Q125.598 521.647 122.52 526.254 Q119.464 530.837 113.654 530.837 Q107.844 530.837 104.765 526.254 Q101.709 521.647 101.709 512.92 Q101.709 504.17 104.765 499.587 Q107.844 494.981 113.654 494.981 Z\" fill=\"#000000\" fill-rule=\"evenodd\" fill-opacity=\"1\" /><path clip-path=\"url(#clip590)\" d=\"M 0 0 M52.6588 68.4799 L60.2976 68.4799 L60.2976 42.1143 L51.9875 43.7809 L51.9875 39.5217 L60.2513 37.855 L64.9272 37.855 L64.9272 68.4799 L72.5661 68.4799 L72.5661 72.415 L52.6588 72.415 L52.6588 68.4799 Z\" fill=\"#000000\" fill-rule=\"evenodd\" fill-opacity=\"1\" /><path clip-path=\"url(#clip590)\" d=\"M 0 0 M77.6818 37.855 L96.0382 37.855 L96.0382 41.7902 L81.9642 41.7902 L81.9642 50.2624 Q82.9827 49.9152 84.0012 49.7531 Q85.0197 49.5679 86.0382 49.5679 Q91.8252 49.5679 95.2049 52.7392 Q98.5845 55.9105 98.5845 61.3271 Q98.5845 66.9058 95.1123 70.0076 Q91.6401 73.0863 85.3206 73.0863 Q83.1447 73.0863 80.8762 72.716 Q78.6309 72.3456 76.2235 71.6049 L76.2235 66.9058 Q78.3068 68.0401 80.529 68.5956 Q82.7512 69.1512 85.2281 69.1512 Q89.2327 69.1512 91.5706 67.0447 Q93.9086 64.9382 93.9086 61.3271 Q93.9086 57.716 91.5706 55.6096 Q89.2327 53.5031 85.2281 53.5031 Q83.3531 53.5031 81.4781 53.9198 Q79.6262 54.3364 77.6818 55.2161 L77.6818 37.855 Z\" fill=\"#000000\" fill-rule=\"evenodd\" fill-opacity=\"1\" /><path clip-path=\"url(#clip590)\" d=\"M 0 0 M113.654 40.9337 Q110.043 40.9337 108.214 44.4985 Q106.408 48.0402 106.408 55.1698 Q106.408 62.2762 108.214 65.841 Q110.043 69.3827 113.654 69.3827 Q117.288 69.3827 119.094 65.841 Q120.922 62.2762 120.922 55.1698 Q120.922 48.0402 119.094 44.4985 Q117.288 40.9337 113.654 40.9337 M113.654 37.23 Q119.464 37.23 122.52 41.8365 Q125.598 46.4198 125.598 55.1698 Q125.598 63.8966 122.52 68.503 Q119.464 73.0863 113.654 73.0863 Q107.844 73.0863 104.765 68.503 Q101.709 63.8966 101.709 55.1698 Q101.709 46.4198 104.765 41.8365 Q107.844 37.23 113.654 37.23 Z\" fill=\"#000000\" fill-rule=\"evenodd\" fill-opacity=\"1\" /><polyline clip-path=\"url(#clip592)\" style=\"stroke:#009af9; stroke-width:4; stroke-opacity:1; fill:none\" points=\"\n",
       "  223.612,1445.72 243.799,1440.27 430.459,1430.44 542.634,1425.27 637.477,1419.79 740.502,1412.3 835.482,1403.58 937.311,1391.79 1055.29,1374.06 1160.14,1353.56 \n",
       "  1252.08,1330.87 1352.32,1299.8 1453.15,1260.13 1564.64,1203.69 1670.71,1134.22 1725.86,1090.58 1781.01,1040.84 1827.43,993.631 1873.85,940.927 1930.53,868.201 \n",
       "  1987.21,785.017 2040.48,695.946 2093.76,594.885 2136.44,504.202 2179.12,403.865 2221.79,292.847 2264.47,170.01 2271.04,149.978 2277.61,129.632 2284.17,108.966 \n",
       "  2290.74,87.9763 \n",
       "  \"/>\n",
       "<path clip-path=\"url(#clip590)\" d=\"\n",
       "M1985.24 216.178 L2279.72 216.178 L2279.72 95.2176 L1985.24 95.2176  Z\n",
       "  \" fill=\"#ffffff\" fill-rule=\"evenodd\" fill-opacity=\"1\"/>\n",
       "<polyline clip-path=\"url(#clip590)\" style=\"stroke:#000000; stroke-width:4; stroke-opacity:1; fill:none\" points=\"\n",
       "  1985.24,216.178 2279.72,216.178 2279.72,95.2176 1985.24,95.2176 1985.24,216.178 \n",
       "  \"/>\n",
       "<polyline clip-path=\"url(#clip590)\" style=\"stroke:#009af9; stroke-width:4; stroke-opacity:1; fill:none\" points=\"\n",
       "  2009.58,155.698 2155.66,155.698 \n",
       "  \"/>\n",
       "<path clip-path=\"url(#clip590)\" d=\"M 0 0 M2193.85 175.385 Q2192.04 180.015 2190.33 181.427 Q2188.62 182.839 2185.75 182.839 L2182.34 182.839 L2182.34 179.274 L2184.84 179.274 Q2186.6 179.274 2187.58 178.44 Q2188.55 177.607 2189.73 174.505 L2190.49 172.561 L2180.01 147.052 L2184.52 147.052 L2192.62 167.329 L2200.72 147.052 L2205.24 147.052 L2193.85 175.385 Z\" fill=\"#000000\" fill-rule=\"evenodd\" fill-opacity=\"1\" /><path clip-path=\"url(#clip590)\" d=\"M 0 0 M2211.12 169.042 L2218.76 169.042 L2218.76 142.677 L2210.45 144.343 L2210.45 140.084 L2218.71 138.418 L2223.39 138.418 L2223.39 169.042 L2231.02 169.042 L2231.02 172.978 L2211.12 172.978 L2211.12 169.042 Z\" fill=\"#000000\" fill-rule=\"evenodd\" fill-opacity=\"1\" /></svg>\n"
      ]
     },
     "execution_count": 222,
     "metadata": {},
     "output_type": "execute_result"
    }
   ],
   "source": [
    "plot(g,0.1,5)"
   ]
  },
  {
   "cell_type": "code",
   "execution_count": 229,
   "metadata": {},
   "outputs": [
    {
     "data": {
      "image/svg+xml": [
       "<?xml version=\"1.0\" encoding=\"utf-8\"?>\n",
       "<svg xmlns=\"http://www.w3.org/2000/svg\" xmlns:xlink=\"http://www.w3.org/1999/xlink\" width=\"600\" height=\"400\" viewBox=\"0 0 2400 1600\">\n",
       "<defs>\n",
       "  <clipPath id=\"clip710\">\n",
       "    <rect x=\"0\" y=\"0\" width=\"2400\" height=\"1600\"/>\n",
       "  </clipPath>\n",
       "</defs>\n",
       "<path clip-path=\"url(#clip710)\" d=\"\n",
       "M0 1600 L2400 1600 L2400 0 L0 0  Z\n",
       "  \" fill=\"#ffffff\" fill-rule=\"evenodd\" fill-opacity=\"1\"/>\n",
       "<defs>\n",
       "  <clipPath id=\"clip711\">\n",
       "    <rect x=\"480\" y=\"0\" width=\"1681\" height=\"1600\"/>\n",
       "  </clipPath>\n",
       "</defs>\n",
       "<path clip-path=\"url(#clip710)\" d=\"\n",
       "M285.926 1486.45 L2352.76 1486.45 L2352.76 47.2441 L285.926 47.2441  Z\n",
       "  \" fill=\"#ffffff\" fill-rule=\"evenodd\" fill-opacity=\"1\"/>\n",
       "<defs>\n",
       "  <clipPath id=\"clip712\">\n",
       "    <rect x=\"285\" y=\"47\" width=\"2068\" height=\"1440\"/>\n",
       "  </clipPath>\n",
       "</defs>\n",
       "<polyline clip-path=\"url(#clip712)\" style=\"stroke:#000000; stroke-width:2; stroke-opacity:0.1; fill:none\" points=\"\n",
       "  344.421,1486.45 344.421,47.2441 \n",
       "  \"/>\n",
       "<polyline clip-path=\"url(#clip712)\" style=\"stroke:#000000; stroke-width:2; stroke-opacity:0.1; fill:none\" points=\"\n",
       "  831.881,1486.45 831.881,47.2441 \n",
       "  \"/>\n",
       "<polyline clip-path=\"url(#clip712)\" style=\"stroke:#000000; stroke-width:2; stroke-opacity:0.1; fill:none\" points=\"\n",
       "  1319.34,1486.45 1319.34,47.2441 \n",
       "  \"/>\n",
       "<polyline clip-path=\"url(#clip712)\" style=\"stroke:#000000; stroke-width:2; stroke-opacity:0.1; fill:none\" points=\"\n",
       "  1806.8,1486.45 1806.8,47.2441 \n",
       "  \"/>\n",
       "<polyline clip-path=\"url(#clip712)\" style=\"stroke:#000000; stroke-width:2; stroke-opacity:0.1; fill:none\" points=\"\n",
       "  2294.26,1486.45 2294.26,47.2441 \n",
       "  \"/>\n",
       "<polyline clip-path=\"url(#clip710)\" style=\"stroke:#000000; stroke-width:4; stroke-opacity:1; fill:none\" points=\"\n",
       "  285.926,1486.45 2352.76,1486.45 \n",
       "  \"/>\n",
       "<polyline clip-path=\"url(#clip710)\" style=\"stroke:#000000; stroke-width:4; stroke-opacity:1; fill:none\" points=\"\n",
       "  344.421,1486.45 344.421,1469.18 \n",
       "  \"/>\n",
       "<polyline clip-path=\"url(#clip710)\" style=\"stroke:#000000; stroke-width:4; stroke-opacity:1; fill:none\" points=\"\n",
       "  831.881,1486.45 831.881,1469.18 \n",
       "  \"/>\n",
       "<polyline clip-path=\"url(#clip710)\" style=\"stroke:#000000; stroke-width:4; stroke-opacity:1; fill:none\" points=\"\n",
       "  1319.34,1486.45 1319.34,1469.18 \n",
       "  \"/>\n",
       "<polyline clip-path=\"url(#clip710)\" style=\"stroke:#000000; stroke-width:4; stroke-opacity:1; fill:none\" points=\"\n",
       "  1806.8,1486.45 1806.8,1469.18 \n",
       "  \"/>\n",
       "<polyline clip-path=\"url(#clip710)\" style=\"stroke:#000000; stroke-width:4; stroke-opacity:1; fill:none\" points=\"\n",
       "  2294.26,1486.45 2294.26,1469.18 \n",
       "  \"/>\n",
       "<path clip-path=\"url(#clip710)\" d=\"M 0 0 M316.875 1530.29 L346.551 1530.29 L346.551 1534.23 L316.875 1534.23 L316.875 1530.29 Z\" fill=\"#000000\" fill-rule=\"evenodd\" fill-opacity=\"1\" /><path clip-path=\"url(#clip710)\" d=\"M 0 0 M355.648 1543.18 L371.968 1543.18 L371.968 1547.12 L350.023 1547.12 L350.023 1543.18 Q352.685 1540.43 357.269 1535.8 Q361.875 1531.15 363.056 1529.81 Q365.301 1527.28 366.181 1525.55 Q367.083 1523.79 367.083 1522.1 Q367.083 1519.34 365.139 1517.61 Q363.218 1515.87 360.116 1515.87 Q357.917 1515.87 355.463 1516.63 Q353.032 1517.4 350.255 1518.95 L350.255 1514.23 Q353.079 1513.09 355.532 1512.51 Q357.986 1511.93 360.023 1511.93 Q365.394 1511.93 368.588 1514.62 Q371.782 1517.31 371.782 1521.8 Q371.782 1523.93 370.972 1525.85 Q370.185 1527.74 368.079 1530.34 Q367.5 1531.01 364.398 1534.23 Q361.296 1537.42 355.648 1543.18 Z\" fill=\"#000000\" fill-rule=\"evenodd\" fill-opacity=\"1\" /><path clip-path=\"url(#clip710)\" d=\"M 0 0 M804.15 1530.29 L833.826 1530.29 L833.826 1534.23 L804.15 1534.23 L804.15 1530.29 Z\" fill=\"#000000\" fill-rule=\"evenodd\" fill-opacity=\"1\" /><path clip-path=\"url(#clip710)\" d=\"M 0 0 M839.705 1543.18 L847.344 1543.18 L847.344 1516.82 L839.034 1518.49 L839.034 1514.23 L847.298 1512.56 L851.974 1512.56 L851.974 1543.18 L859.613 1543.18 L859.613 1547.12 L839.705 1547.12 L839.705 1543.18 Z\" fill=\"#000000\" fill-rule=\"evenodd\" fill-opacity=\"1\" /><path clip-path=\"url(#clip710)\" d=\"M 0 0 M1319.34 1515.64 Q1315.73 1515.64 1313.9 1519.2 Q1312.1 1522.75 1312.1 1529.87 Q1312.1 1536.98 1313.9 1540.55 Q1315.73 1544.09 1319.34 1544.09 Q1322.98 1544.09 1324.78 1540.55 Q1326.61 1536.98 1326.61 1529.87 Q1326.61 1522.75 1324.78 1519.2 Q1322.98 1515.64 1319.34 1515.64 M1319.34 1511.93 Q1325.15 1511.93 1328.21 1516.54 Q1331.29 1521.12 1331.29 1529.87 Q1331.29 1538.6 1328.21 1543.21 Q1325.15 1547.79 1319.34 1547.79 Q1313.53 1547.79 1310.45 1543.21 Q1307.4 1538.6 1307.4 1529.87 Q1307.4 1521.12 1310.45 1516.54 Q1313.53 1511.93 1319.34 1511.93 Z\" fill=\"#000000\" fill-rule=\"evenodd\" fill-opacity=\"1\" /><path clip-path=\"url(#clip710)\" d=\"M 0 0 M1797.18 1543.18 L1804.82 1543.18 L1804.82 1516.82 L1796.51 1518.49 L1796.51 1514.23 L1804.78 1512.56 L1809.45 1512.56 L1809.45 1543.18 L1817.09 1543.18 L1817.09 1547.12 L1797.18 1547.12 L1797.18 1543.18 Z\" fill=\"#000000\" fill-rule=\"evenodd\" fill-opacity=\"1\" /><path clip-path=\"url(#clip710)\" d=\"M 0 0 M2288.91 1543.18 L2305.23 1543.18 L2305.23 1547.12 L2283.29 1547.12 L2283.29 1543.18 Q2285.95 1540.43 2290.53 1535.8 Q2295.14 1531.15 2296.32 1529.81 Q2298.57 1527.28 2299.45 1525.55 Q2300.35 1523.79 2300.35 1522.1 Q2300.35 1519.34 2298.4 1517.61 Q2296.48 1515.87 2293.38 1515.87 Q2291.18 1515.87 2288.73 1516.63 Q2286.3 1517.4 2283.52 1518.95 L2283.52 1514.23 Q2286.34 1513.09 2288.8 1512.51 Q2291.25 1511.93 2293.29 1511.93 Q2298.66 1511.93 2301.85 1514.62 Q2305.05 1517.31 2305.05 1521.8 Q2305.05 1523.93 2304.24 1525.85 Q2303.45 1527.74 2301.34 1530.34 Q2300.77 1531.01 2297.66 1534.23 Q2294.56 1537.42 2288.91 1543.18 Z\" fill=\"#000000\" fill-rule=\"evenodd\" fill-opacity=\"1\" /><polyline clip-path=\"url(#clip712)\" style=\"stroke:#000000; stroke-width:2; stroke-opacity:0.1; fill:none\" points=\"\n",
       "  285.926,1396.85 2352.76,1396.85 \n",
       "  \"/>\n",
       "<polyline clip-path=\"url(#clip712)\" style=\"stroke:#000000; stroke-width:2; stroke-opacity:0.1; fill:none\" points=\"\n",
       "  285.926,1069.72 2352.76,1069.72 \n",
       "  \"/>\n",
       "<polyline clip-path=\"url(#clip712)\" style=\"stroke:#000000; stroke-width:2; stroke-opacity:0.1; fill:none\" points=\"\n",
       "  285.926,742.591 2352.76,742.591 \n",
       "  \"/>\n",
       "<polyline clip-path=\"url(#clip712)\" style=\"stroke:#000000; stroke-width:2; stroke-opacity:0.1; fill:none\" points=\"\n",
       "  285.926,415.46 2352.76,415.46 \n",
       "  \"/>\n",
       "<polyline clip-path=\"url(#clip712)\" style=\"stroke:#000000; stroke-width:2; stroke-opacity:0.1; fill:none\" points=\"\n",
       "  285.926,88.3287 2352.76,88.3287 \n",
       "  \"/>\n",
       "<polyline clip-path=\"url(#clip710)\" style=\"stroke:#000000; stroke-width:4; stroke-opacity:1; fill:none\" points=\"\n",
       "  285.926,1486.45 285.926,47.2441 \n",
       "  \"/>\n",
       "<polyline clip-path=\"url(#clip710)\" style=\"stroke:#000000; stroke-width:4; stroke-opacity:1; fill:none\" points=\"\n",
       "  285.926,1396.85 310.728,1396.85 \n",
       "  \"/>\n",
       "<polyline clip-path=\"url(#clip710)\" style=\"stroke:#000000; stroke-width:4; stroke-opacity:1; fill:none\" points=\"\n",
       "  285.926,1069.72 310.728,1069.72 \n",
       "  \"/>\n",
       "<polyline clip-path=\"url(#clip710)\" style=\"stroke:#000000; stroke-width:4; stroke-opacity:1; fill:none\" points=\"\n",
       "  285.926,742.591 310.728,742.591 \n",
       "  \"/>\n",
       "<polyline clip-path=\"url(#clip710)\" style=\"stroke:#000000; stroke-width:4; stroke-opacity:1; fill:none\" points=\"\n",
       "  285.926,415.46 310.728,415.46 \n",
       "  \"/>\n",
       "<polyline clip-path=\"url(#clip710)\" style=\"stroke:#000000; stroke-width:4; stroke-opacity:1; fill:none\" points=\"\n",
       "  285.926,88.3287 310.728,88.3287 \n",
       "  \"/>\n",
       "<path clip-path=\"url(#clip710)\" d=\"M 0 0 M51.3625 1403.75 L81.0383 1403.75 L81.0383 1407.69 L51.3625 1407.69 L51.3625 1403.75 Z\" fill=\"#000000\" fill-rule=\"evenodd\" fill-opacity=\"1\" /><path clip-path=\"url(#clip710)\" d=\"M 0 0 M90.1354 1416.65 L106.455 1416.65 L106.455 1420.58 L84.5105 1420.58 L84.5105 1416.65 Q87.1725 1413.89 91.7558 1409.26 Q96.3623 1404.61 97.5428 1403.27 Q99.7882 1400.74 100.668 1399.01 Q101.571 1397.25 101.571 1395.56 Q101.571 1392.8 99.6261 1391.07 Q97.7048 1389.33 94.603 1389.33 Q92.4039 1389.33 89.9503 1390.09 Q87.5197 1390.86 84.7419 1392.41 L84.7419 1387.69 Q87.566 1386.55 90.0197 1385.97 Q92.4734 1385.4 94.5104 1385.4 Q99.8808 1385.4 103.075 1388.08 Q106.27 1390.77 106.27 1395.26 Q106.27 1397.39 105.459 1399.31 Q104.672 1401.21 102.566 1403.8 Q101.987 1404.47 98.8854 1407.69 Q95.7836 1410.88 90.1354 1416.65 Z\" fill=\"#000000\" fill-rule=\"evenodd\" fill-opacity=\"1\" /><path clip-path=\"url(#clip710)\" d=\"M 0 0 M111.524 1414.7 L116.408 1414.7 L116.408 1420.58 L111.524 1420.58 L111.524 1414.7 Z\" fill=\"#000000\" fill-rule=\"evenodd\" fill-opacity=\"1\" /><path clip-path=\"url(#clip710)\" d=\"M 0 0 M131.478 1389.1 Q127.867 1389.1 126.038 1392.66 Q124.232 1396.21 124.232 1403.34 Q124.232 1410.44 126.038 1414.01 Q127.867 1417.55 131.478 1417.55 Q135.112 1417.55 136.918 1414.01 Q138.746 1410.44 138.746 1403.34 Q138.746 1396.21 136.918 1392.66 Q135.112 1389.1 131.478 1389.1 M131.478 1385.4 Q137.288 1385.4 140.343 1390 Q143.422 1394.59 143.422 1403.34 Q143.422 1412.06 140.343 1416.67 Q137.288 1421.25 131.478 1421.25 Q125.668 1421.25 122.589 1416.67 Q119.533 1412.06 119.533 1403.34 Q119.533 1394.59 122.589 1390 Q125.668 1385.4 131.478 1385.4 Z\" fill=\"#000000\" fill-rule=\"evenodd\" fill-opacity=\"1\" /><path clip-path=\"url(#clip710)\" d=\"M 0 0 M176.663 1395.12 L166.084 1405.74 L176.663 1416.32 L173.908 1419.12 L163.283 1408.5 L152.658 1419.12 L149.927 1416.32 L160.482 1405.74 L149.927 1395.12 L152.658 1392.32 L163.283 1402.94 L173.908 1392.32 L176.663 1395.12 Z\" fill=\"#000000\" fill-rule=\"evenodd\" fill-opacity=\"1\" /><path clip-path=\"url(#clip710)\" d=\"M 0 0 M182.542 1416.65 L190.181 1416.65 L190.181 1390.28 L181.871 1391.95 L181.871 1387.69 L190.135 1386.02 L194.811 1386.02 L194.811 1416.65 L202.45 1416.65 L202.45 1420.58 L182.542 1420.58 L182.542 1416.65 Z\" fill=\"#000000\" fill-rule=\"evenodd\" fill-opacity=\"1\" /><path clip-path=\"url(#clip710)\" d=\"M 0 0 M217.519 1389.1 Q213.908 1389.1 212.079 1392.66 Q210.274 1396.21 210.274 1403.34 Q210.274 1410.44 212.079 1414.01 Q213.908 1417.55 217.519 1417.55 Q221.153 1417.55 222.959 1414.01 Q224.787 1410.44 224.787 1403.34 Q224.787 1396.21 222.959 1392.66 Q221.153 1389.1 217.519 1389.1 M217.519 1385.4 Q223.329 1385.4 226.385 1390 Q229.463 1394.59 229.463 1403.34 Q229.463 1412.06 226.385 1416.67 Q223.329 1421.25 217.519 1421.25 Q211.709 1421.25 208.63 1416.67 Q205.575 1412.06 205.575 1403.34 Q205.575 1394.59 208.63 1390 Q211.709 1385.4 217.519 1385.4 Z\" fill=\"#000000\" fill-rule=\"evenodd\" fill-opacity=\"1\" /><path clip-path=\"url(#clip710)\" d=\"M 0 0 M242.14 1368.4 L232.548 1383.39 L242.14 1383.39 L242.14 1368.4 M241.143 1365.09 L245.92 1365.09 L245.92 1383.39 L249.926 1383.39 L249.926 1386.55 L245.92 1386.55 L245.92 1393.17 L242.14 1393.17 L242.14 1386.55 L229.463 1386.55 L229.463 1382.88 L241.143 1365.09 Z\" fill=\"#000000\" fill-rule=\"evenodd\" fill-opacity=\"1\" /><path clip-path=\"url(#clip710)\" d=\"M 0 0 M51.9875 1076.62 L81.6633 1076.62 L81.6633 1080.56 L51.9875 1080.56 L51.9875 1076.62 Z\" fill=\"#000000\" fill-rule=\"evenodd\" fill-opacity=\"1\" /><path clip-path=\"url(#clip710)\" d=\"M 0 0 M87.5429 1089.51 L95.1817 1089.51 L95.1817 1063.15 L86.8716 1064.82 L86.8716 1060.56 L95.1354 1058.89 L99.8113 1058.89 L99.8113 1089.51 L107.45 1089.51 L107.45 1093.45 L87.5429 1093.45 L87.5429 1089.51 Z\" fill=\"#000000\" fill-rule=\"evenodd\" fill-opacity=\"1\" /><path clip-path=\"url(#clip710)\" d=\"M 0 0 M112.52 1087.57 L117.404 1087.57 L117.404 1093.45 L112.52 1093.45 L112.52 1087.57 Z\" fill=\"#000000\" fill-rule=\"evenodd\" fill-opacity=\"1\" /><path clip-path=\"url(#clip710)\" d=\"M 0 0 M122.52 1058.89 L140.876 1058.89 L140.876 1062.82 L126.802 1062.82 L126.802 1071.3 Q127.82 1070.95 128.839 1070.79 Q129.857 1070.6 130.876 1070.6 Q136.663 1070.6 140.043 1073.77 Q143.422 1076.94 143.422 1082.36 Q143.422 1087.94 139.95 1091.04 Q136.478 1094.12 130.158 1094.12 Q127.982 1094.12 125.714 1093.75 Q123.469 1093.38 121.061 1092.64 L121.061 1087.94 Q123.145 1089.07 125.367 1089.63 Q127.589 1090.19 130.066 1090.19 Q134.07 1090.19 136.408 1088.08 Q138.746 1085.97 138.746 1082.36 Q138.746 1078.75 136.408 1076.64 Q134.07 1074.54 130.066 1074.54 Q128.191 1074.54 126.316 1074.95 Q124.464 1075.37 122.52 1076.25 L122.52 1058.89 Z\" fill=\"#000000\" fill-rule=\"evenodd\" fill-opacity=\"1\" /><path clip-path=\"url(#clip710)\" d=\"M 0 0 M176.663 1067.99 L166.084 1078.61 L176.663 1089.19 L173.908 1091.99 L163.283 1081.37 L152.658 1091.99 L149.927 1089.19 L160.482 1078.61 L149.927 1067.99 L152.658 1065.19 L163.283 1075.81 L173.908 1065.19 L176.663 1067.99 Z\" fill=\"#000000\" fill-rule=\"evenodd\" fill-opacity=\"1\" /><path clip-path=\"url(#clip710)\" d=\"M 0 0 M182.542 1089.51 L190.181 1089.51 L190.181 1063.15 L181.871 1064.82 L181.871 1060.56 L190.135 1058.89 L194.811 1058.89 L194.811 1089.51 L202.45 1089.51 L202.45 1093.45 L182.542 1093.45 L182.542 1089.51 Z\" fill=\"#000000\" fill-rule=\"evenodd\" fill-opacity=\"1\" /><path clip-path=\"url(#clip710)\" d=\"M 0 0 M217.519 1061.97 Q213.908 1061.97 212.079 1065.53 Q210.274 1069.07 210.274 1076.2 Q210.274 1083.31 212.079 1086.88 Q213.908 1090.42 217.519 1090.42 Q221.153 1090.42 222.959 1086.88 Q224.787 1083.31 224.787 1076.2 Q224.787 1069.07 222.959 1065.53 Q221.153 1061.97 217.519 1061.97 M217.519 1058.26 Q223.329 1058.26 226.385 1062.87 Q229.463 1067.45 229.463 1076.2 Q229.463 1084.93 226.385 1089.54 Q223.329 1094.12 217.519 1094.12 Q211.709 1094.12 208.63 1089.54 Q205.575 1084.93 205.575 1076.2 Q205.575 1067.45 208.63 1062.87 Q211.709 1058.26 217.519 1058.26 Z\" fill=\"#000000\" fill-rule=\"evenodd\" fill-opacity=\"1\" /><path clip-path=\"url(#clip710)\" d=\"M 0 0 M242.14 1041.27 L232.548 1056.26 L242.14 1056.26 L242.14 1041.27 M241.143 1037.96 L245.92 1037.96 L245.92 1056.26 L249.926 1056.26 L249.926 1059.42 L245.92 1059.42 L245.92 1066.04 L242.14 1066.04 L242.14 1059.42 L229.463 1059.42 L229.463 1055.75 L241.143 1037.96 Z\" fill=\"#000000\" fill-rule=\"evenodd\" fill-opacity=\"1\" /><path clip-path=\"url(#clip710)\" d=\"M 0 0 M50.9921 749.49 L80.6679 749.49 L80.6679 753.425 L50.9921 753.425 L50.9921 749.49 Z\" fill=\"#000000\" fill-rule=\"evenodd\" fill-opacity=\"1\" /><path clip-path=\"url(#clip710)\" d=\"M 0 0 M86.5475 762.383 L94.1863 762.383 L94.1863 736.018 L85.8762 737.684 L85.8762 733.425 L94.14 731.758 L98.8159 731.758 L98.8159 762.383 L106.455 762.383 L106.455 766.318 L86.5475 766.318 L86.5475 762.383 Z\" fill=\"#000000\" fill-rule=\"evenodd\" fill-opacity=\"1\" /><path clip-path=\"url(#clip710)\" d=\"M 0 0 M111.524 760.439 L116.408 760.439 L116.408 766.318 L111.524 766.318 L111.524 760.439 Z\" fill=\"#000000\" fill-rule=\"evenodd\" fill-opacity=\"1\" /><path clip-path=\"url(#clip710)\" d=\"M 0 0 M131.478 734.837 Q127.867 734.837 126.038 738.402 Q124.232 741.944 124.232 749.073 Q124.232 756.18 126.038 759.744 Q127.867 763.286 131.478 763.286 Q135.112 763.286 136.918 759.744 Q138.746 756.18 138.746 749.073 Q138.746 741.944 136.918 738.402 Q135.112 734.837 131.478 734.837 M131.478 731.133 Q137.288 731.133 140.343 735.74 Q143.422 740.323 143.422 749.073 Q143.422 757.8 140.343 762.406 Q137.288 766.99 131.478 766.99 Q125.668 766.99 122.589 762.406 Q119.533 757.8 119.533 749.073 Q119.533 740.323 122.589 735.74 Q125.668 731.133 131.478 731.133 Z\" fill=\"#000000\" fill-rule=\"evenodd\" fill-opacity=\"1\" /><path clip-path=\"url(#clip710)\" d=\"M 0 0 M176.663 740.856 L166.084 751.481 L176.663 762.059 L173.908 764.86 L163.283 754.235 L152.658 764.86 L149.927 762.059 L160.482 751.481 L149.927 740.856 L152.658 738.055 L163.283 748.68 L173.908 738.055 L176.663 740.856 Z\" fill=\"#000000\" fill-rule=\"evenodd\" fill-opacity=\"1\" /><path clip-path=\"url(#clip710)\" d=\"M 0 0 M182.542 762.383 L190.181 762.383 L190.181 736.018 L181.871 737.684 L181.871 733.425 L190.135 731.758 L194.811 731.758 L194.811 762.383 L202.45 762.383 L202.45 766.318 L182.542 766.318 L182.542 762.383 Z\" fill=\"#000000\" fill-rule=\"evenodd\" fill-opacity=\"1\" /><path clip-path=\"url(#clip710)\" d=\"M 0 0 M217.519 734.837 Q213.908 734.837 212.079 738.402 Q210.274 741.944 210.274 749.073 Q210.274 756.18 212.079 759.744 Q213.908 763.286 217.519 763.286 Q221.153 763.286 222.959 759.744 Q224.787 756.18 224.787 749.073 Q224.787 741.944 222.959 738.402 Q221.153 734.837 217.519 734.837 M217.519 731.133 Q223.329 731.133 226.385 735.74 Q229.463 740.323 229.463 749.073 Q229.463 757.8 226.385 762.406 Q223.329 766.99 217.519 766.99 Q211.709 766.99 208.63 762.406 Q205.575 757.8 205.575 749.073 Q205.575 740.323 208.63 735.74 Q211.709 731.133 217.519 731.133 Z\" fill=\"#000000\" fill-rule=\"evenodd\" fill-opacity=\"1\" /><path clip-path=\"url(#clip710)\" d=\"M 0 0 M242.14 714.138 L232.548 729.128 L242.14 729.128 L242.14 714.138 M241.143 710.828 L245.92 710.828 L245.92 729.128 L249.926 729.128 L249.926 732.288 L245.92 732.288 L245.92 738.908 L242.14 738.908 L242.14 732.288 L229.463 732.288 L229.463 728.62 L241.143 710.828 Z\" fill=\"#000000\" fill-rule=\"evenodd\" fill-opacity=\"1\" /><path clip-path=\"url(#clip710)\" d=\"M 0 0 M52.7355 422.359 L82.4112 422.359 L82.4112 426.294 L52.7355 426.294 L52.7355 422.359 Z\" fill=\"#000000\" fill-rule=\"evenodd\" fill-opacity=\"1\" /><path clip-path=\"url(#clip710)\" d=\"M 0 0 M87.5269 404.627 L105.883 404.627 L105.883 408.563 L91.8093 408.563 L91.8093 417.035 Q92.8278 416.687 93.8464 416.525 Q94.8649 416.34 95.8834 416.34 Q101.67 416.34 105.05 419.512 Q108.43 422.683 108.43 428.099 Q108.43 433.678 104.957 436.78 Q101.485 439.859 95.1658 439.859 Q92.9899 439.859 90.7214 439.488 Q88.476 439.118 86.0686 438.377 L86.0686 433.678 Q88.1519 434.812 90.3741 435.368 Q92.5964 435.923 95.0732 435.923 Q99.0778 435.923 101.416 433.817 Q103.754 431.711 103.754 428.099 Q103.754 424.488 101.416 422.382 Q99.0778 420.275 95.0732 420.275 Q93.1982 420.275 91.3232 420.692 Q89.4714 421.109 87.5269 421.988 L87.5269 404.627 Z\" fill=\"#000000\" fill-rule=\"evenodd\" fill-opacity=\"1\" /><path clip-path=\"url(#clip710)\" d=\"M 0 0 M113.499 433.308 L118.383 433.308 L118.383 439.187 L113.499 439.187 L113.499 433.308 Z\" fill=\"#000000\" fill-rule=\"evenodd\" fill-opacity=\"1\" /><path clip-path=\"url(#clip710)\" d=\"M 0 0 M133.453 407.706 Q129.842 407.706 128.013 411.271 Q126.207 414.813 126.207 421.942 Q126.207 429.049 128.013 432.613 Q129.842 436.155 133.453 436.155 Q137.087 436.155 138.892 432.613 Q140.721 429.049 140.721 421.942 Q140.721 414.813 138.892 411.271 Q137.087 407.706 133.453 407.706 M133.453 404.002 Q139.263 404.002 142.318 408.609 Q145.397 413.192 145.397 421.942 Q145.397 430.669 142.318 435.275 Q139.263 439.859 133.453 439.859 Q127.642 439.859 124.564 435.275 Q121.508 430.669 121.508 421.942 Q121.508 413.192 124.564 408.609 Q127.642 404.002 133.453 404.002 Z\" fill=\"#000000\" fill-rule=\"evenodd\" fill-opacity=\"1\" /><path clip-path=\"url(#clip710)\" d=\"M 0 0 M178.638 413.725 L168.059 424.349 L178.638 434.928 L175.883 437.729 L165.258 427.104 L154.633 437.729 L151.902 434.928 L162.457 424.349 L151.902 413.725 L154.633 410.924 L165.258 421.549 L175.883 410.924 L178.638 413.725 Z\" fill=\"#000000\" fill-rule=\"evenodd\" fill-opacity=\"1\" /><path clip-path=\"url(#clip710)\" d=\"M 0 0 M184.517 435.252 L192.156 435.252 L192.156 408.887 L183.846 410.553 L183.846 406.294 L192.11 404.627 L196.786 404.627 L196.786 435.252 L204.424 435.252 L204.424 439.187 L184.517 439.187 L184.517 435.252 Z\" fill=\"#000000\" fill-rule=\"evenodd\" fill-opacity=\"1\" /><path clip-path=\"url(#clip710)\" d=\"M 0 0 M219.494 407.706 Q215.883 407.706 214.054 411.271 Q212.248 414.813 212.248 421.942 Q212.248 429.049 214.054 432.613 Q215.883 436.155 219.494 436.155 Q223.128 436.155 224.934 432.613 Q226.762 429.049 226.762 421.942 Q226.762 414.813 224.934 411.271 Q223.128 407.706 219.494 407.706 M219.494 404.002 Q225.304 404.002 228.36 408.609 Q231.438 413.192 231.438 421.942 Q231.438 430.669 228.36 435.275 Q225.304 439.859 219.494 439.859 Q213.684 439.859 210.605 435.275 Q207.549 430.669 207.549 421.942 Q207.549 413.192 210.605 408.609 Q213.684 404.002 219.494 404.002 Z\" fill=\"#000000\" fill-rule=\"evenodd\" fill-opacity=\"1\" /><path clip-path=\"url(#clip710)\" d=\"M 0 0 M244.133 396.637 Q246.861 397.22 248.384 399.063 Q249.926 400.906 249.926 403.614 Q249.926 407.771 247.067 410.047 Q244.209 412.322 238.943 412.322 Q237.175 412.322 235.294 411.965 Q233.432 411.627 231.438 410.931 L231.438 407.263 Q233.018 408.185 234.899 408.655 Q236.78 409.125 238.83 409.125 Q242.403 409.125 244.265 407.714 Q246.146 406.304 246.146 403.614 Q246.146 401.132 244.397 399.74 Q242.666 398.329 239.563 398.329 L236.291 398.329 L236.291 395.207 L239.714 395.207 Q242.516 395.207 244.002 394.098 Q245.488 392.969 245.488 390.863 Q245.488 388.7 243.945 387.553 Q242.422 386.386 239.563 386.386 Q238.002 386.386 236.215 386.725 Q234.429 387.064 232.285 387.778 L232.285 384.393 Q234.447 383.791 236.328 383.49 Q238.228 383.189 239.902 383.189 Q244.227 383.189 246.748 385.164 Q249.268 387.12 249.268 390.468 Q249.268 392.8 247.933 394.417 Q246.597 396.016 244.133 396.637 Z\" fill=\"#000000\" fill-rule=\"evenodd\" fill-opacity=\"1\" /><path clip-path=\"url(#clip710)\" d=\"M 0 0 M237.982 74.1274 Q234.371 74.1274 232.542 77.6922 Q230.737 81.2338 230.737 88.3634 Q230.737 95.4699 232.542 99.0347 Q234.371 102.576 237.982 102.576 Q241.616 102.576 243.422 99.0347 Q245.25 95.4699 245.25 88.3634 Q245.25 81.2338 243.422 77.6922 Q241.616 74.1274 237.982 74.1274 M237.982 70.4237 Q243.792 70.4237 246.848 75.0302 Q249.926 79.6135 249.926 88.3634 Q249.926 97.0902 246.848 101.697 Q243.792 106.28 237.982 106.28 Q232.172 106.28 229.093 101.697 Q226.037 97.0902 226.037 88.3634 Q226.037 79.6135 229.093 75.0302 Q232.172 70.4237 237.982 70.4237 Z\" fill=\"#000000\" fill-rule=\"evenodd\" fill-opacity=\"1\" /><polyline clip-path=\"url(#clip712)\" style=\"stroke:#009af9; stroke-width:4; stroke-opacity:1; fill:none\" points=\"\n",
       "  344.421,88.4509 363.463,88.4505 539.532,88.4466 645.342,88.4435 734.803,88.4403 831.983,88.4361 921.574,88.4316 1017.62,88.426 1128.91,88.4196 1178.36,88.4184 \n",
       "  1227.81,88.4239 1249.49,88.4348 1271.17,88.4674 1276.59,88.4849 1282.01,88.5108 1287.43,88.5514 1292.85,88.6199 1298.27,88.7486 1303.69,89.0347 1306.4,89.331 \n",
       "  1309.11,89.8946 1310.46,90.39 1311.82,91.1787 1313.17,92.5478 1314.53,95.246 1315.27,97.991 1316.01,102.788 1316.75,112.339 1317.48,135.854 1318.22,223.59 \n",
       "  1318.96,1445.72 1319.7,966.054 1320.44,205.907 1321.18,132.035 1321.92,110.947 1322.66,102.133 1323.39,97.6314 1324.87,93.3873 1326.35,91.5151 1327.83,90.5276 \n",
       "  1329.3,89.9439 1330.78,89.5704 1332.26,89.3171 1335.21,89.0053 1338.17,88.8279 1344.08,88.6438 1349.99,88.5549 1355.9,88.5051 1361.81,88.4742 1373.62,88.4391 \n",
       "  1385.44,88.4201 1397.26,88.4084 1409.08,88.4002 1456.64,88.3811 1504.2,88.3685 1609.36,88.3428 1709.41,88.3149 1813.45,88.2799 1901.03,88.2442 2007.95,88.1912 \n",
       "  2108.46,88.1296 2269.48,88.0002 2294.26,87.9763 \n",
       "  \"/>\n",
       "<path clip-path=\"url(#clip710)\" d=\"\n",
       "M2003.2 216.178 L2283.86 216.178 L2283.86 95.2176 L2003.2 95.2176  Z\n",
       "  \" fill=\"#ffffff\" fill-rule=\"evenodd\" fill-opacity=\"1\"/>\n",
       "<polyline clip-path=\"url(#clip710)\" style=\"stroke:#000000; stroke-width:4; stroke-opacity:1; fill:none\" points=\"\n",
       "  2003.2,216.178 2283.86,216.178 2283.86,95.2176 2003.2,95.2176 2003.2,216.178 \n",
       "  \"/>\n",
       "<polyline clip-path=\"url(#clip710)\" style=\"stroke:#009af9; stroke-width:4; stroke-opacity:1; fill:none\" points=\"\n",
       "  2026.16,155.698 2163.95,155.698 \n",
       "  \"/>\n",
       "<path clip-path=\"url(#clip710)\" d=\"M 0 0 M2200.76 175.385 Q2198.95 180.015 2197.24 181.427 Q2195.52 182.839 2192.65 182.839 L2189.25 182.839 L2189.25 179.274 L2191.75 179.274 Q2193.51 179.274 2194.48 178.44 Q2195.46 177.607 2196.64 174.505 L2197.4 172.561 L2186.91 147.052 L2191.43 147.052 L2199.53 167.329 L2207.63 147.052 L2212.15 147.052 L2200.76 175.385 Z\" fill=\"#000000\" fill-rule=\"evenodd\" fill-opacity=\"1\" /><path clip-path=\"url(#clip710)\" d=\"M 0 0 M2218.02 169.042 L2225.66 169.042 L2225.66 142.677 L2217.35 144.343 L2217.35 140.084 L2225.62 138.418 L2230.29 138.418 L2230.29 169.042 L2237.93 169.042 L2237.93 172.978 L2218.02 172.978 L2218.02 169.042 Z\" fill=\"#000000\" fill-rule=\"evenodd\" fill-opacity=\"1\" /></svg>\n"
      ]
     },
     "execution_count": 229,
     "metadata": {},
     "output_type": "execute_result"
    }
   ],
   "source": [
    "plot(g,-2,2)"
   ]
  },
  {
   "cell_type": "code",
   "execution_count": 226,
   "metadata": {},
   "outputs": [
    {
     "name": "stdout",
     "output_type": "stream",
     "text": [
      "Results of univariate zero finding:\n",
      "\n",
      "* Converged to: 2.0\n",
      "* Algorithm: Roots.BisectionExact()\n",
      "* iterations: 0\n",
      "* function evaluations: 3\n",
      "* stopped as x_n ≈ x_{n-1} using atol=xatol, rtol=xrtol\n",
      "* Note: Exact zero found\n",
      "\n",
      "Trace:\n",
      "(a_0, b_0) = (-3.0000000000000000,  2.0000000000000000)\n",
      "\n"
     ]
    },
    {
     "data": {
      "text/plain": [
       "0.0"
      ]
     },
     "execution_count": 226,
     "metadata": {},
     "output_type": "execute_result"
    }
   ],
   "source": [
    "x = find_zero(g, (-3, 2),verbose=true)"
   ]
  },
  {
   "cell_type": "code",
   "execution_count": 235,
   "metadata": {},
   "outputs": [
    {
     "name": "stdout",
     "output_type": "stream",
     "text": [
      "Results of univariate zero finding:\n",
      "\n",
      "* Converged to: 0.7032048403631358\n",
      "* Algorithm: Roots.Halley()\n",
      "* iterations: 4\n",
      "* function evaluations: 15\n",
      "* stopped as |f(x_n)| ≤ max(δ, max(1,|x|)⋅ϵ) using δ = atol, ϵ = rtol\n",
      "\n",
      "Trace:\n",
      "x_0 = -1.0000000000000000,\t fx_0 = -1.6421225588285577\n",
      "x_1 =  0.5282908095093333,\t fx_1 = -0.3397860296360309\n",
      "x_2 =  0.7054913052973755,\t fx_2 =  0.0047552523775257\n",
      "x_3 =  0.7032048392952278,\t fx_3 = -0.0000000022188006\n",
      "x_4 =  0.7032048403631358,\t fx_4 =  0.0000000000000002\n",
      "\n"
     ]
    },
    {
     "data": {
      "text/plain": [
       "0.7032048403631358"
      ]
     },
     "execution_count": 235,
     "metadata": {},
     "output_type": "execute_result"
    }
   ],
   "source": [
    "x = find_zero((g, D(g), DD(g)), -1, Roots.Halley(), verbose=true)"
   ]
  },
  {
   "cell_type": "code",
   "execution_count": 238,
   "metadata": {},
   "outputs": [
    {
     "name": "stdout",
     "output_type": "stream",
     "text": [
      "Results of univariate zero finding:\n",
      "\n",
      "* Converged to: 0.7032048403631358\n",
      "* Algorithm: Roots.Secant()\n",
      "* iterations: 7\n",
      "* function evaluations: 9\n",
      "* stopped as |f(x_n)| ≤ max(δ, max(1,|x|)⋅ϵ) using δ = atol, ϵ = rtol\n",
      "\n",
      "Trace:\n",
      "x_0 =  0.2000000000000000,\t fx_0 = -1.0283472418398301\n",
      "x_1 =  0.4766201227291103,\t fx_1 = -0.4333805671525934\n",
      "x_2 =  0.6781134008815068,\t fx_2 = -0.0515830585668471\n",
      "x_3 =  0.7053363118068851,\t fx_3 =  0.0044326122046179\n",
      "x_4 =  0.7031821180687547,\t fx_4 = -0.0000472098282044\n",
      "x_5 =  0.7032048196661733,\t fx_5 = -0.0000000430022383\n",
      "x_6 =  0.7032048403633366,\t fx_6 =  0.0000000000004172\n",
      "x_7 =  0.7032048403631358,\t fx_7 =  0.0000000000000002\n",
      "\n"
     ]
    },
    {
     "data": {
      "text/plain": [
       "0.7032048403631358"
      ]
     },
     "execution_count": 238,
     "metadata": {},
     "output_type": "execute_result"
    }
   ],
   "source": [
    "x = find_zero(g, 0.2, Order1(),  verbose=true)"
   ]
  },
  {
   "cell_type": "markdown",
   "metadata": {},
   "source": [
    "### (Podpunkt 3)"
   ]
  },
  {
   "cell_type": "markdown",
   "metadata": {},
   "source": [
    "### Metoda siecznych "
   ]
  },
  {
   "cell_type": "code",
   "execution_count": 240,
   "metadata": {},
   "outputs": [
    {
     "name": "stdout",
     "output_type": "stream",
     "text": [
      "Results of univariate zero finding:\n",
      "\n",
      "* Converged to: -0.30546863861474094\n",
      "* Algorithm: Roots.Secant()\n",
      "* iterations: 16\n",
      "* function evaluations: 18\n",
      "* stopped as x_n ≈ x_{n-1} using atol=xatol, rtol=xrtol\n",
      "* Note: x_n ≈ x_{n-1}. \n",
      "\n",
      "Trace:\n",
      "x_0 = -1.0000000000000000,\t fx_0 = -1.6421225588285577\n",
      "x_1 =  3.7204470487986665,\t fx_1 =  39.2821230160329193\n",
      "x_2 = -0.8105877707040845,\t fx_2 = -1.5706265698550448\n",
      "x_3 = -0.6363874109097538,\t fx_3 = -1.4954990327483795\n",
      "x_4 =  2.8312687856052814,\t fx_4 =  14.9657272226645919\n",
      "x_5 = -0.3213515559055207,\t fx_5 = -1.3717285219963937\n",
      "x_6 = -0.0566506557736491,\t fx_6 = -4.1820238482893206\n",
      "x_7 = -0.4505542667778941,\t fx_7 = -1.4120083241900103\n",
      "x_8 = -0.6513456243813314,\t fx_8 = -1.5022344112571646\n",
      "x_9 =  2.6917638540383884,\t fx_9 =  12.7563033296358128\n",
      "x_10 = -0.2991261899382893,\t fx_10 = -1.3703701039138889\n",
      "x_11 = -0.0089923293631994,\t fx_11 = -127.4269651538968873\n",
      "x_12 = -0.3022802555269051,\t fx_12 = -1.3703826172719538\n",
      "x_13 = -0.3054686386147435,\t fx_13 = -1.3704605543147561\n",
      "x_14 =  55.7596975110477189,\t fx_14 =  1644860008188145511170048.0000000000000000\n",
      "x_15 = -0.3054686386147409,\t fx_15 = -1.3704605543147561\n",
      "x_16 = -0.3054686386147409,\t fx_16 = -1.3704605543147561\n",
      "\n"
     ]
    },
    {
     "ename": "LoadError",
     "evalue": "\u001b[91mRoots.ConvergenceFailed(\"Stopped at: xn = -0.30546863861474094. x_n ≈ x_{n-1}. \")\u001b[39m",
     "output_type": "error",
     "traceback": [
      "\u001b[91mRoots.ConvergenceFailed(\"Stopped at: xn = -0.30546863861474094. x_n ≈ x_{n-1}. \")\u001b[39m",
      "",
      "Stacktrace:",
      " [1] find_zero(::Function, ::Int64, ::Roots.Secant, ::Nothing; tracks::Roots.NullTracks, verbose::Bool, p::Nothing, kwargs::Base.Iterators.Pairs{Union{},Union{},Tuple{},NamedTuple{(),Tuple{}}}) at C:\\Users\\szady\\.julia\\packages\\Roots\\AV3zx\\src\\find_zero.jl:715",
      " [2] top-level scope at In[240]:2",
      " [3] include_string(::Function, ::Module, ::String, ::String) at .\\loading.jl:1091"
     ]
    }
   ],
   "source": [
    "g(x) = exp(x) - 2 - 1 / ( 10 * x )^2 + 2 / ( 100 * x )^3 # Funkcja dla ktorej testujemy metode siecznych\n",
    "x = find_zero(g, -1, Order1(),  verbose=true)"
   ]
  },
  {
   "cell_type": "markdown",
   "metadata": {},
   "source": [
    "Metoda siecznych ma problem z funkcjami w których wystepują potencjalne nieciągłości. Jak można zauważyć jeśli za punktem początkowym znajduje się nieciągłość, to metoda może nie zwrócić odpowiedzi. Rozwiązaniem problemu jest uruchomienie metody siecznych od innego punktu startowego."
   ]
  },
  {
   "cell_type": "markdown",
   "metadata": {},
   "source": [
    "### Metoda Halleya"
   ]
  },
  {
   "cell_type": "code",
   "execution_count": 249,
   "metadata": {},
   "outputs": [
    {
     "data": {
      "text/plain": [
       "f (generic function with 1 method)"
      ]
     },
     "execution_count": 249,
     "metadata": {},
     "output_type": "execute_result"
    }
   ],
   "source": [
    "f(x) = 3*x + 5"
   ]
  },
  {
   "cell_type": "code",
   "execution_count": 250,
   "metadata": {},
   "outputs": [
    {
     "data": {
      "image/svg+xml": [
       "<?xml version=\"1.0\" encoding=\"utf-8\"?>\n",
       "<svg xmlns=\"http://www.w3.org/2000/svg\" xmlns:xlink=\"http://www.w3.org/1999/xlink\" width=\"600\" height=\"400\" viewBox=\"0 0 2400 1600\">\n",
       "<defs>\n",
       "  <clipPath id=\"clip830\">\n",
       "    <rect x=\"0\" y=\"0\" width=\"2400\" height=\"1600\"/>\n",
       "  </clipPath>\n",
       "</defs>\n",
       "<path clip-path=\"url(#clip830)\" d=\"\n",
       "M0 1600 L2400 1600 L2400 0 L0 0  Z\n",
       "  \" fill=\"#ffffff\" fill-rule=\"evenodd\" fill-opacity=\"1\"/>\n",
       "<defs>\n",
       "  <clipPath id=\"clip831\">\n",
       "    <rect x=\"480\" y=\"0\" width=\"1681\" height=\"1600\"/>\n",
       "  </clipPath>\n",
       "</defs>\n",
       "<path clip-path=\"url(#clip830)\" d=\"\n",
       "M171.552 1486.45 L2352.76 1486.45 L2352.76 47.2441 L171.552 47.2441  Z\n",
       "  \" fill=\"#ffffff\" fill-rule=\"evenodd\" fill-opacity=\"1\"/>\n",
       "<defs>\n",
       "  <clipPath id=\"clip832\">\n",
       "    <rect x=\"171\" y=\"47\" width=\"2182\" height=\"1440\"/>\n",
       "  </clipPath>\n",
       "</defs>\n",
       "<polyline clip-path=\"url(#clip832)\" style=\"stroke:#000000; stroke-width:2; stroke-opacity:0.1; fill:none\" points=\"\n",
       "  233.284,1486.45 233.284,47.2441 \n",
       "  \"/>\n",
       "<polyline clip-path=\"url(#clip832)\" style=\"stroke:#000000; stroke-width:2; stroke-opacity:0.1; fill:none\" points=\"\n",
       "  747.719,1486.45 747.719,47.2441 \n",
       "  \"/>\n",
       "<polyline clip-path=\"url(#clip832)\" style=\"stroke:#000000; stroke-width:2; stroke-opacity:0.1; fill:none\" points=\"\n",
       "  1262.15,1486.45 1262.15,47.2441 \n",
       "  \"/>\n",
       "<polyline clip-path=\"url(#clip832)\" style=\"stroke:#000000; stroke-width:2; stroke-opacity:0.1; fill:none\" points=\"\n",
       "  1776.59,1486.45 1776.59,47.2441 \n",
       "  \"/>\n",
       "<polyline clip-path=\"url(#clip832)\" style=\"stroke:#000000; stroke-width:2; stroke-opacity:0.1; fill:none\" points=\"\n",
       "  2291.02,1486.45 2291.02,47.2441 \n",
       "  \"/>\n",
       "<polyline clip-path=\"url(#clip830)\" style=\"stroke:#000000; stroke-width:4; stroke-opacity:1; fill:none\" points=\"\n",
       "  171.552,1486.45 2352.76,1486.45 \n",
       "  \"/>\n",
       "<polyline clip-path=\"url(#clip830)\" style=\"stroke:#000000; stroke-width:4; stroke-opacity:1; fill:none\" points=\"\n",
       "  233.284,1486.45 233.284,1469.18 \n",
       "  \"/>\n",
       "<polyline clip-path=\"url(#clip830)\" style=\"stroke:#000000; stroke-width:4; stroke-opacity:1; fill:none\" points=\"\n",
       "  747.719,1486.45 747.719,1469.18 \n",
       "  \"/>\n",
       "<polyline clip-path=\"url(#clip830)\" style=\"stroke:#000000; stroke-width:4; stroke-opacity:1; fill:none\" points=\"\n",
       "  1262.15,1486.45 1262.15,1469.18 \n",
       "  \"/>\n",
       "<polyline clip-path=\"url(#clip830)\" style=\"stroke:#000000; stroke-width:4; stroke-opacity:1; fill:none\" points=\"\n",
       "  1776.59,1486.45 1776.59,1469.18 \n",
       "  \"/>\n",
       "<polyline clip-path=\"url(#clip830)\" style=\"stroke:#000000; stroke-width:4; stroke-opacity:1; fill:none\" points=\"\n",
       "  2291.02,1486.45 2291.02,1469.18 \n",
       "  \"/>\n",
       "<path clip-path=\"url(#clip830)\" d=\"M 0 0 M205.738 1530.29 L235.414 1530.29 L235.414 1534.23 L205.738 1534.23 L205.738 1530.29 Z\" fill=\"#000000\" fill-rule=\"evenodd\" fill-opacity=\"1\" /><path clip-path=\"url(#clip830)\" d=\"M 0 0 M244.511 1543.18 L260.83 1543.18 L260.83 1547.12 L238.886 1547.12 L238.886 1543.18 Q241.548 1540.43 246.131 1535.8 Q250.738 1531.15 251.918 1529.81 Q254.164 1527.28 255.043 1525.55 Q255.946 1523.79 255.946 1522.1 Q255.946 1519.34 254.002 1517.61 Q252.08 1515.87 248.978 1515.87 Q246.779 1515.87 244.326 1516.63 Q241.895 1517.4 239.117 1518.95 L239.117 1514.23 Q241.941 1513.09 244.395 1512.51 Q246.849 1511.93 248.886 1511.93 Q254.256 1511.93 257.451 1514.62 Q260.645 1517.31 260.645 1521.8 Q260.645 1523.93 259.835 1525.85 Q259.048 1527.74 256.941 1530.34 Q256.363 1531.01 253.261 1534.23 Q250.159 1537.42 244.511 1543.18 Z\" fill=\"#000000\" fill-rule=\"evenodd\" fill-opacity=\"1\" /><path clip-path=\"url(#clip830)\" d=\"M 0 0 M719.988 1530.29 L749.663 1530.29 L749.663 1534.23 L719.988 1534.23 L719.988 1530.29 Z\" fill=\"#000000\" fill-rule=\"evenodd\" fill-opacity=\"1\" /><path clip-path=\"url(#clip830)\" d=\"M 0 0 M755.543 1543.18 L763.182 1543.18 L763.182 1516.82 L754.872 1518.49 L754.872 1514.23 L763.136 1512.56 L767.811 1512.56 L767.811 1543.18 L775.45 1543.18 L775.45 1547.12 L755.543 1547.12 L755.543 1543.18 Z\" fill=\"#000000\" fill-rule=\"evenodd\" fill-opacity=\"1\" /><path clip-path=\"url(#clip830)\" d=\"M 0 0 M1262.15 1515.64 Q1258.54 1515.64 1256.71 1519.2 Q1254.91 1522.75 1254.91 1529.87 Q1254.91 1536.98 1256.71 1540.55 Q1258.54 1544.09 1262.15 1544.09 Q1265.79 1544.09 1267.59 1540.55 Q1269.42 1536.98 1269.42 1529.87 Q1269.42 1522.75 1267.59 1519.2 Q1265.79 1515.64 1262.15 1515.64 M1262.15 1511.93 Q1267.96 1511.93 1271.02 1516.54 Q1274.1 1521.12 1274.1 1529.87 Q1274.1 1538.6 1271.02 1543.21 Q1267.96 1547.79 1262.15 1547.79 Q1256.34 1547.79 1253.27 1543.21 Q1250.21 1538.6 1250.21 1529.87 Q1250.21 1521.12 1253.27 1516.54 Q1256.34 1511.93 1262.15 1511.93 Z\" fill=\"#000000\" fill-rule=\"evenodd\" fill-opacity=\"1\" /><path clip-path=\"url(#clip830)\" d=\"M 0 0 M1766.97 1543.18 L1774.61 1543.18 L1774.61 1516.82 L1766.3 1518.49 L1766.3 1514.23 L1774.56 1512.56 L1779.24 1512.56 L1779.24 1543.18 L1786.88 1543.18 L1786.88 1547.12 L1766.97 1547.12 L1766.97 1543.18 Z\" fill=\"#000000\" fill-rule=\"evenodd\" fill-opacity=\"1\" /><path clip-path=\"url(#clip830)\" d=\"M 0 0 M2285.68 1543.18 L2302 1543.18 L2302 1547.12 L2280.05 1547.12 L2280.05 1543.18 Q2282.71 1540.43 2287.3 1535.8 Q2291.9 1531.15 2293.08 1529.81 Q2295.33 1527.28 2296.21 1525.55 Q2297.11 1523.79 2297.11 1522.1 Q2297.11 1519.34 2295.17 1517.61 Q2293.25 1515.87 2290.14 1515.87 Q2287.95 1515.87 2285.49 1516.63 Q2283.06 1517.4 2280.28 1518.95 L2280.28 1514.23 Q2283.11 1513.09 2285.56 1512.51 Q2288.01 1511.93 2290.05 1511.93 Q2295.42 1511.93 2298.62 1514.62 Q2301.81 1517.31 2301.81 1521.8 Q2301.81 1523.93 2301 1525.85 Q2300.21 1527.74 2298.11 1530.34 Q2297.53 1531.01 2294.43 1534.23 Q2291.32 1537.42 2285.68 1543.18 Z\" fill=\"#000000\" fill-rule=\"evenodd\" fill-opacity=\"1\" /><polyline clip-path=\"url(#clip832)\" style=\"stroke:#000000; stroke-width:2; stroke-opacity:0.1; fill:none\" points=\"\n",
       "  171.552,1332.57 2352.76,1332.57 \n",
       "  \"/>\n",
       "<polyline clip-path=\"url(#clip832)\" style=\"stroke:#000000; stroke-width:2; stroke-opacity:0.1; fill:none\" points=\"\n",
       "  171.552,1049.71 2352.76,1049.71 \n",
       "  \"/>\n",
       "<polyline clip-path=\"url(#clip832)\" style=\"stroke:#000000; stroke-width:2; stroke-opacity:0.1; fill:none\" points=\"\n",
       "  171.552,766.846 2352.76,766.846 \n",
       "  \"/>\n",
       "<polyline clip-path=\"url(#clip832)\" style=\"stroke:#000000; stroke-width:2; stroke-opacity:0.1; fill:none\" points=\"\n",
       "  171.552,483.984 2352.76,483.984 \n",
       "  \"/>\n",
       "<polyline clip-path=\"url(#clip832)\" style=\"stroke:#000000; stroke-width:2; stroke-opacity:0.1; fill:none\" points=\"\n",
       "  171.552,201.121 2352.76,201.121 \n",
       "  \"/>\n",
       "<polyline clip-path=\"url(#clip830)\" style=\"stroke:#000000; stroke-width:4; stroke-opacity:1; fill:none\" points=\"\n",
       "  171.552,1486.45 171.552,47.2441 \n",
       "  \"/>\n",
       "<polyline clip-path=\"url(#clip830)\" style=\"stroke:#000000; stroke-width:4; stroke-opacity:1; fill:none\" points=\"\n",
       "  171.552,1332.57 197.726,1332.57 \n",
       "  \"/>\n",
       "<polyline clip-path=\"url(#clip830)\" style=\"stroke:#000000; stroke-width:4; stroke-opacity:1; fill:none\" points=\"\n",
       "  171.552,1049.71 197.726,1049.71 \n",
       "  \"/>\n",
       "<polyline clip-path=\"url(#clip830)\" style=\"stroke:#000000; stroke-width:4; stroke-opacity:1; fill:none\" points=\"\n",
       "  171.552,766.846 197.726,766.846 \n",
       "  \"/>\n",
       "<polyline clip-path=\"url(#clip830)\" style=\"stroke:#000000; stroke-width:4; stroke-opacity:1; fill:none\" points=\"\n",
       "  171.552,483.984 197.726,483.984 \n",
       "  \"/>\n",
       "<polyline clip-path=\"url(#clip830)\" style=\"stroke:#000000; stroke-width:4; stroke-opacity:1; fill:none\" points=\"\n",
       "  171.552,201.121 197.726,201.121 \n",
       "  \"/>\n",
       "<path clip-path=\"url(#clip830)\" d=\"M 0 0 M86.6401 1318.37 Q83.029 1318.37 81.2003 1321.93 Q79.3948 1325.48 79.3948 1332.61 Q79.3948 1339.71 81.2003 1343.28 Q83.029 1346.82 86.6401 1346.82 Q90.2743 1346.82 92.0799 1343.28 Q93.9086 1339.71 93.9086 1332.61 Q93.9086 1325.48 92.0799 1321.93 Q90.2743 1318.37 86.6401 1318.37 M86.6401 1314.67 Q92.4502 1314.67 95.5058 1319.27 Q98.5845 1323.86 98.5845 1332.61 Q98.5845 1341.33 95.5058 1345.94 Q92.4502 1350.52 86.6401 1350.52 Q80.8299 1350.52 77.7512 1345.94 Q74.6957 1341.33 74.6957 1332.61 Q74.6957 1323.86 77.7512 1319.27 Q80.8299 1314.67 86.6401 1314.67 Z\" fill=\"#000000\" fill-rule=\"evenodd\" fill-opacity=\"1\" /><path clip-path=\"url(#clip830)\" d=\"M 0 0 M103.654 1343.97 L108.538 1343.97 L108.538 1349.85 L103.654 1349.85 L103.654 1343.97 Z\" fill=\"#000000\" fill-rule=\"evenodd\" fill-opacity=\"1\" /><path clip-path=\"url(#clip830)\" d=\"M 0 0 M123.607 1318.37 Q119.996 1318.37 118.168 1321.93 Q116.362 1325.48 116.362 1332.61 Q116.362 1339.71 118.168 1343.28 Q119.996 1346.82 123.607 1346.82 Q127.242 1346.82 129.047 1343.28 Q130.876 1339.71 130.876 1332.61 Q130.876 1325.48 129.047 1321.93 Q127.242 1318.37 123.607 1318.37 M123.607 1314.67 Q129.418 1314.67 132.473 1319.27 Q135.552 1323.86 135.552 1332.61 Q135.552 1341.33 132.473 1345.94 Q129.418 1350.52 123.607 1350.52 Q117.797 1350.52 114.719 1345.94 Q111.663 1341.33 111.663 1332.61 Q111.663 1323.86 114.719 1319.27 Q117.797 1314.67 123.607 1314.67 Z\" fill=\"#000000\" fill-rule=\"evenodd\" fill-opacity=\"1\" /><path clip-path=\"url(#clip830)\" d=\"M 0 0 M83.2605 1063.05 L99.5798 1063.05 L99.5798 1066.99 L77.6355 1066.99 L77.6355 1063.05 Q80.2975 1060.3 84.8808 1055.67 Q89.4873 1051.02 90.6678 1049.67 Q92.9132 1047.15 93.7928 1045.41 Q94.6956 1043.66 94.6956 1041.97 Q94.6956 1039.21 92.7512 1037.47 Q90.8299 1035.74 87.728 1035.74 Q85.529 1035.74 83.0753 1036.5 Q80.6447 1037.27 77.867 1038.82 L77.867 1034.1 Q80.691 1032.96 83.1447 1032.38 Q85.5984 1031.8 87.6354 1031.8 Q93.0058 1031.8 96.2002 1034.49 Q99.3946 1037.17 99.3946 1041.66 Q99.3946 1043.79 98.5845 1045.72 Q97.7974 1047.61 95.691 1050.21 Q95.1123 1050.88 92.0104 1054.09 Q88.9086 1057.29 83.2605 1063.05 Z\" fill=\"#000000\" fill-rule=\"evenodd\" fill-opacity=\"1\" /><path clip-path=\"url(#clip830)\" d=\"M 0 0 M104.649 1061.11 L109.533 1061.11 L109.533 1066.99 L104.649 1066.99 L104.649 1061.11 Z\" fill=\"#000000\" fill-rule=\"evenodd\" fill-opacity=\"1\" /><path clip-path=\"url(#clip830)\" d=\"M 0 0 M114.649 1032.43 L133.006 1032.43 L133.006 1036.36 L118.932 1036.36 L118.932 1044.84 Q119.95 1044.49 120.969 1044.33 Q121.987 1044.14 123.006 1044.14 Q128.793 1044.14 132.172 1047.31 Q135.552 1050.48 135.552 1055.9 Q135.552 1061.48 132.08 1064.58 Q128.607 1067.66 122.288 1067.66 Q120.112 1067.66 117.844 1067.29 Q115.598 1066.92 113.191 1066.18 L113.191 1061.48 Q115.274 1062.61 117.496 1063.17 Q119.719 1063.72 122.195 1063.72 Q126.2 1063.72 128.538 1061.62 Q130.876 1059.51 130.876 1055.9 Q130.876 1052.29 128.538 1050.18 Q126.2 1048.08 122.195 1048.08 Q120.32 1048.08 118.445 1048.49 Q116.594 1048.91 114.649 1049.79 L114.649 1032.43 Z\" fill=\"#000000\" fill-rule=\"evenodd\" fill-opacity=\"1\" /><path clip-path=\"url(#clip830)\" d=\"M 0 0 M77.6818 749.566 L96.0382 749.566 L96.0382 753.501 L81.9642 753.501 L81.9642 761.973 Q82.9827 761.626 84.0012 761.464 Q85.0197 761.279 86.0382 761.279 Q91.8252 761.279 95.2049 764.45 Q98.5845 767.621 98.5845 773.038 Q98.5845 778.617 95.1123 781.719 Q91.6401 784.797 85.3206 784.797 Q83.1447 784.797 80.8762 784.427 Q78.6309 784.057 76.2235 783.316 L76.2235 778.617 Q78.3068 779.751 80.529 780.307 Q82.7512 780.862 85.2281 780.862 Q89.2327 780.862 91.5706 778.756 Q93.9086 776.649 93.9086 773.038 Q93.9086 769.427 91.5706 767.321 Q89.2327 765.214 85.2281 765.214 Q83.3531 765.214 81.4781 765.631 Q79.6262 766.047 77.6818 766.927 L77.6818 749.566 Z\" fill=\"#000000\" fill-rule=\"evenodd\" fill-opacity=\"1\" /><path clip-path=\"url(#clip830)\" d=\"M 0 0 M103.654 778.246 L108.538 778.246 L108.538 784.126 L103.654 784.126 L103.654 778.246 Z\" fill=\"#000000\" fill-rule=\"evenodd\" fill-opacity=\"1\" /><path clip-path=\"url(#clip830)\" d=\"M 0 0 M123.607 752.645 Q119.996 752.645 118.168 756.209 Q116.362 759.751 116.362 766.881 Q116.362 773.987 118.168 777.552 Q119.996 781.094 123.607 781.094 Q127.242 781.094 129.047 777.552 Q130.876 773.987 130.876 766.881 Q130.876 759.751 129.047 756.209 Q127.242 752.645 123.607 752.645 M123.607 748.941 Q129.418 748.941 132.473 753.547 Q135.552 758.131 135.552 766.881 Q135.552 775.608 132.473 780.214 Q129.418 784.797 123.607 784.797 Q117.797 784.797 114.719 780.214 Q111.663 775.608 111.663 766.881 Q111.663 758.131 114.719 753.547 Q117.797 748.941 123.607 748.941 Z\" fill=\"#000000\" fill-rule=\"evenodd\" fill-opacity=\"1\" /><path clip-path=\"url(#clip830)\" d=\"M 0 0 M77.3577 466.704 L99.5798 466.704 L99.5798 468.694 L87.0336 501.264 L82.1494 501.264 L93.9549 470.639 L77.3577 470.639 L77.3577 466.704 Z\" fill=\"#000000\" fill-rule=\"evenodd\" fill-opacity=\"1\" /><path clip-path=\"url(#clip830)\" d=\"M 0 0 M104.649 495.384 L109.533 495.384 L109.533 501.264 L104.649 501.264 L104.649 495.384 Z\" fill=\"#000000\" fill-rule=\"evenodd\" fill-opacity=\"1\" /><path clip-path=\"url(#clip830)\" d=\"M 0 0 M114.649 466.704 L133.006 466.704 L133.006 470.639 L118.932 470.639 L118.932 479.111 Q119.95 478.764 120.969 478.602 Q121.987 478.417 123.006 478.417 Q128.793 478.417 132.172 481.588 Q135.552 484.759 135.552 490.176 Q135.552 495.754 132.08 498.856 Q128.607 501.935 122.288 501.935 Q120.112 501.935 117.844 501.565 Q115.598 501.194 113.191 500.453 L113.191 495.754 Q115.274 496.889 117.496 497.444 Q119.719 498 122.195 498 Q126.2 498 128.538 495.893 Q130.876 493.787 130.876 490.176 Q130.876 486.565 128.538 484.458 Q126.2 482.352 122.195 482.352 Q120.32 482.352 118.445 482.768 Q116.594 483.185 114.649 484.065 L114.649 466.704 Z\" fill=\"#000000\" fill-rule=\"evenodd\" fill-opacity=\"1\" /><path clip-path=\"url(#clip830)\" d=\"M 0 0 M51.6634 214.466 L59.3023 214.466 L59.3023 188.1 L50.9921 189.767 L50.9921 185.508 L59.256 183.841 L63.9319 183.841 L63.9319 214.466 L71.5707 214.466 L71.5707 218.401 L51.6634 218.401 L51.6634 214.466 Z\" fill=\"#000000\" fill-rule=\"evenodd\" fill-opacity=\"1\" /><path clip-path=\"url(#clip830)\" d=\"M 0 0 M86.6401 186.92 Q83.029 186.92 81.2003 190.485 Q79.3948 194.026 79.3948 201.156 Q79.3948 208.262 81.2003 211.827 Q83.029 215.369 86.6401 215.369 Q90.2743 215.369 92.0799 211.827 Q93.9086 208.262 93.9086 201.156 Q93.9086 194.026 92.0799 190.485 Q90.2743 186.92 86.6401 186.92 M86.6401 183.216 Q92.4502 183.216 95.5058 187.823 Q98.5845 192.406 98.5845 201.156 Q98.5845 209.883 95.5058 214.489 Q92.4502 219.073 86.6401 219.073 Q80.8299 219.073 77.7512 214.489 Q74.6957 209.883 74.6957 201.156 Q74.6957 192.406 77.7512 187.823 Q80.8299 183.216 86.6401 183.216 Z\" fill=\"#000000\" fill-rule=\"evenodd\" fill-opacity=\"1\" /><path clip-path=\"url(#clip830)\" d=\"M 0 0 M103.654 212.522 L108.538 212.522 L108.538 218.401 L103.654 218.401 L103.654 212.522 Z\" fill=\"#000000\" fill-rule=\"evenodd\" fill-opacity=\"1\" /><path clip-path=\"url(#clip830)\" d=\"M 0 0 M123.607 186.92 Q119.996 186.92 118.168 190.485 Q116.362 194.026 116.362 201.156 Q116.362 208.262 118.168 211.827 Q119.996 215.369 123.607 215.369 Q127.242 215.369 129.047 211.827 Q130.876 208.262 130.876 201.156 Q130.876 194.026 129.047 190.485 Q127.242 186.92 123.607 186.92 M123.607 183.216 Q129.418 183.216 132.473 187.823 Q135.552 192.406 135.552 201.156 Q135.552 209.883 132.473 214.489 Q129.418 219.073 123.607 219.073 Q117.797 219.073 114.719 214.489 Q111.663 209.883 111.663 201.156 Q111.663 192.406 114.719 187.823 Q117.797 183.216 123.607 183.216 Z\" fill=\"#000000\" fill-rule=\"evenodd\" fill-opacity=\"1\" /><polyline clip-path=\"url(#clip832)\" style=\"stroke:#009af9; stroke-width:4; stroke-opacity:1; fill:none\" points=\"\n",
       "  233.284,1445.72 253.38,1432.46 439.192,1309.85 550.857,1236.17 645.268,1173.88 747.826,1106.21 842.375,1043.82 943.741,976.941 1061.18,899.45 1165.55,830.585 \n",
       "  1257.08,770.196 1356.86,704.357 1457.24,638.126 1568.22,564.899 1673.81,495.226 1783.61,422.781 1876.03,361.799 1988.87,287.346 2094.94,217.358 2264.87,105.232 \n",
       "  2291.02,87.9763 \n",
       "  \"/>\n",
       "<path clip-path=\"url(#clip830)\" d=\"\n",
       "M1986.67 216.178 L2280.05 216.178 L2280.05 95.2176 L1986.67 95.2176  Z\n",
       "  \" fill=\"#ffffff\" fill-rule=\"evenodd\" fill-opacity=\"1\"/>\n",
       "<polyline clip-path=\"url(#clip830)\" style=\"stroke:#000000; stroke-width:4; stroke-opacity:1; fill:none\" points=\"\n",
       "  1986.67,216.178 2280.05,216.178 2280.05,95.2176 1986.67,95.2176 1986.67,216.178 \n",
       "  \"/>\n",
       "<polyline clip-path=\"url(#clip830)\" style=\"stroke:#009af9; stroke-width:4; stroke-opacity:1; fill:none\" points=\"\n",
       "  2010.91,155.698 2156.32,155.698 \n",
       "  \"/>\n",
       "<path clip-path=\"url(#clip830)\" d=\"M 0 0 M2194.4 175.385 Q2192.6 180.015 2190.88 181.427 Q2189.17 182.839 2186.3 182.839 L2182.9 182.839 L2182.9 179.274 L2185.4 179.274 Q2187.16 179.274 2188.13 178.44 Q2189.1 177.607 2190.28 174.505 L2191.05 172.561 L2180.56 147.052 L2185.07 147.052 L2193.18 167.329 L2201.28 147.052 L2205.79 147.052 L2194.4 175.385 Z\" fill=\"#000000\" fill-rule=\"evenodd\" fill-opacity=\"1\" /><path clip-path=\"url(#clip830)\" d=\"M 0 0 M2211.67 169.042 L2219.31 169.042 L2219.31 142.677 L2211 144.343 L2211 140.084 L2219.26 138.418 L2223.94 138.418 L2223.94 169.042 L2231.58 169.042 L2231.58 172.978 L2211.67 172.978 L2211.67 169.042 Z\" fill=\"#000000\" fill-rule=\"evenodd\" fill-opacity=\"1\" /></svg>\n"
      ]
     },
     "execution_count": 250,
     "metadata": {},
     "output_type": "execute_result"
    }
   ],
   "source": [
    "plot(f,-2,2)"
   ]
  },
  {
   "cell_type": "code",
   "execution_count": 251,
   "metadata": {},
   "outputs": [
    {
     "name": "stdout",
     "output_type": "stream",
     "text": [
      "Results of univariate zero finding:\n",
      "\n",
      "* Convergence failed: NaN produced by algorithm. \n",
      "* Algorithm Roots.Halley()\n",
      "\n",
      "Trace:\n",
      "x_0 = -2.0000000000000000,\t fx_0 = -1.0000000000000000\n",
      "x_1 =                NaN,\t fx_1 =                NaN\n",
      "\n"
     ]
    },
    {
     "ename": "LoadError",
     "evalue": "\u001b[91mRoots.ConvergenceFailed(\"Stopped at: xn = NaN. NaN produced by algorithm. \")\u001b[39m",
     "output_type": "error",
     "traceback": [
      "\u001b[91mRoots.ConvergenceFailed(\"Stopped at: xn = NaN. NaN produced by algorithm. \")\u001b[39m",
      "",
      "Stacktrace:",
      " [1] find_zero(::Tuple{typeof(f),var\"#97#98\"{typeof(f)},var\"#99#100\"{typeof(f)}}, ::Int64, ::Roots.Halley, ::Nothing; tracks::Roots.NullTracks, verbose::Bool, p::Nothing, kwargs::Base.Iterators.Pairs{Union{},Union{},Tuple{},NamedTuple{(),Tuple{}}}) at C:\\Users\\szady\\.julia\\packages\\Roots\\AV3zx\\src\\find_zero.jl:715",
      " [2] top-level scope at In[251]:1",
      " [3] include_string(::Function, ::Module, ::String, ::String) at .\\loading.jl:1091"
     ]
    }
   ],
   "source": [
    "x = find_zero((f, D(f), DD(f)), -2, Roots.Halley(), verbose=true)"
   ]
  },
  {
   "cell_type": "markdown",
   "metadata": {},
   "source": [
    "Metoda Halleya jak widać nie działa poprawnie dla funkcji liniowych. Jest to spowodowane tym, że druga pochodna funkcji liniowej jest równa 0 przez to algorytm nie może poprawnie oszacować miejsca zerowego z powodu dzielenia przez zero. W tym przypadku nalezy zastosować inny algorytm w celu znalezienia rozwiązania."
   ]
  },
  {
   "cell_type": "markdown",
   "metadata": {},
   "source": [
    "### Metoda bisekcji"
   ]
  },
  {
   "cell_type": "code",
   "execution_count": 252,
   "metadata": {},
   "outputs": [
    {
     "data": {
      "text/plain": [
       "f (generic function with 1 method)"
      ]
     },
     "execution_count": 252,
     "metadata": {},
     "output_type": "execute_result"
    }
   ],
   "source": [
    "f(x) = x^2 + 3"
   ]
  },
  {
   "cell_type": "code",
   "execution_count": 253,
   "metadata": {},
   "outputs": [
    {
     "ename": "LoadError",
     "evalue": "\u001b[91mArgumentError: The interval [a,b] is not a bracketing interval.\u001b[39m\n\u001b[91mYou need f(a) and f(b) to have different signs (f(a) * f(b) < 0).\u001b[39m\n\u001b[91mConsider a different bracket or try fzero(f, c) with an initial guess c.\u001b[39m\n\n",
     "output_type": "error",
     "traceback": [
      "\u001b[91mArgumentError: The interval [a,b] is not a bracketing interval.\u001b[39m\n\u001b[91mYou need f(a) and f(b) to have different signs (f(a) * f(b) < 0).\u001b[39m\n\u001b[91mConsider a different bracket or try fzero(f, c) with an initial guess c.\u001b[39m\n\n",
      "",
      "Stacktrace:",
      " [1] init_state(::Bisection, ::Roots.DerivativeFree{typeof(f)}, ::Tuple{Float64,Float64}) at C:\\Users\\szady\\.julia\\packages\\Roots\\AV3zx\\src\\bracketing.jl:83",
      " [2] find_zero(::Function, ::Tuple{Float64,Float64}, ::Bisection; tracks::Roots.NullTracks, verbose::Bool, kwargs::Base.Iterators.Pairs{Union{},Union{},Tuple{},NamedTuple{(),Tuple{}}}) at C:\\Users\\szady\\.julia\\packages\\Roots\\AV3zx\\src\\bracketing.jl:335",
      " [3] #find_zero#6 at C:\\Users\\szady\\.julia\\packages\\Roots\\AV3zx\\src\\find_zero.jl:728 [inlined]",
      " [4] top-level scope at In[253]:1",
      " [5] include_string(::Function, ::Module, ::String, ::String) at .\\loading.jl:1091"
     ]
    }
   ],
   "source": [
    "x = find_zero(f, (-3, 2),verbose=true)"
   ]
  },
  {
   "cell_type": "markdown",
   "metadata": {},
   "source": [
    "Metoda bisekcji nie będzie działać jeśli będziemy działać na przedziale, na którym iloczyn wartości funkcji na krańcach zawsze mają taki sam znak. W takim przypadku metoda bisekcji nie będzie mogła znaleść pierwiastka. Taki przypadek może wystąpić jeśli będziemy działać na funkcji, która nigdy nie osiąga wartości 0 w jakimkolwiek punkcie lub będziemy operować na przedziale, w którym funkcja nigdy nie osiąga wartości 0. "
   ]
  },
  {
   "cell_type": "markdown",
   "metadata": {},
   "source": [
    "# Podpunkt B"
   ]
  },
  {
   "cell_type": "markdown",
   "metadata": {},
   "source": [
    "Kod wykonujący polecenie podpunktu B. Kod został napisany w Pythonie:\n",
    "\n",
    "    from PIL import Image\n",
    "\n",
    "\n",
    "def f(z):\n",
    "    return z**3 - 1.0\n",
    "\n",
    "\n",
    "def makeFractal(polynomial, border):\n",
    "    imageX = 1024\n",
    "    imageY = 1024\n",
    "\n",
    "    iterations = 66\n",
    "    epsilon = 0.00001\n",
    "    h = 0.000001\n",
    "    fractal = Image.new(\"RGB\", (imageX, imageY))\n",
    "\n",
    "    lowx = -border\n",
    "    lowy = -border\n",
    "    highx = border\n",
    "    highy = border\n",
    "\n",
    "    ratioy = (highy - lowy) / (imageY - 1)\n",
    "    ratiox = (highx - lowx) / (imageX - 1)\n",
    "\n",
    "    for i in range(imageY):\n",
    "        for j in range(imageX):\n",
    "            x = j * ratiox + lowx\n",
    "            y = i * ratioy + lowy\n",
    "            z = complex(x, y)\n",
    "            for k in range(iterations):\n",
    "                fh = complex(h, h)\n",
    "                diff = (polynomial(z + fh) - polynomial(z)) / fh\n",
    "                root = z - f(z) / diff\n",
    "                if abs(root - z) >= epsilon:\n",
    "                    z = root\n",
    "                else:\n",
    "                    break\n",
    "            fractal.putpixel((j, i), (k % 4 * 64, k % 8 * 32, k % 16 * 16))\n",
    "\n",
    "    fractal.save(\"fractal.jpg\")\n",
    "\n",
    "\n",
    "makeFractal(f, 1.0)\n"
   ]
  },
  {
   "cell_type": "code",
   "execution_count": null,
   "metadata": {},
   "outputs": [],
   "source": []
  }
 ],
 "metadata": {
  "kernelspec": {
   "display_name": "Julia 1.5.3",
   "language": "julia",
   "name": "julia-1.5"
  },
  "language_info": {
   "file_extension": ".jl",
   "mimetype": "application/julia",
   "name": "julia",
   "version": "1.5.3"
  }
 },
 "nbformat": 4,
 "nbformat_minor": 2
}

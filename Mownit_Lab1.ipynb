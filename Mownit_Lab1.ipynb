{
 "cells": [
  {
   "cell_type": "markdown",
   "metadata": {},
   "source": [
    "# MOwNiT \n",
    "## Laboratorium 1 - Arytmetyka komputerowa"
   ]
  },
  {
   "cell_type": "markdown",
   "metadata": {},
   "source": [
    "Kalkulatory IEEE-754:\n",
    "* http://babbage.cs.qc.cuny.edu/IEEE-754/\n",
    "* https://www.h-schmidt.net/FloatConverter/IEEE754.html"
   ]
  },
  {
   "cell_type": "code",
   "execution_count": 1,
   "metadata": {},
   "outputs": [
    {
     "data": {
      "text/plain": [
       "decode (generic function with 1 method)"
      ]
     },
     "execution_count": 1,
     "metadata": {},
     "output_type": "execute_result"
    }
   ],
   "source": [
    "# znak, cecha, mantysa\n",
    "# uwaga - w Julii tablice indeksujemy od 1\n",
    "# uwaga: ukryta jedynka nie jest pamiętana\n",
    "# uwaga: cecha jest pamiętana w kodzie z nadmiarem (tutaj BIAS=127)\n",
    "decode(x::Float32) = (b=bitstring(x); (b[1], b[2:9], b[10:32]))"
   ]
  },
  {
   "cell_type": "markdown",
   "metadata": {},
   "source": [
    "## Trochę teorii IEEE-754"
   ]
  },
  {
   "cell_type": "markdown",
   "metadata": {},
   "source": [
    "Liczby zmienno przecinkowe są zapisywane w standardzie jako:\n",
    "\n",
    "$L = (-1)^{znak} * mantysa * 2^{cecha}$ \n",
    "\n",
    "* znak - 0 oznacza liczbę dodatnią, 1 ujemną\n",
    "* mantysa - wpływa na precyzje\n",
    "* cecha - wpływa na zakres, składająca się z samych 0 albo 1 ma specjalne znaczenie"
   ]
  },
  {
   "cell_type": "markdown",
   "metadata": {},
   "source": [
    "| Nazwa     | Liczba bitów | Bity znaku | Bity cechy | Bity mantysy | Bias  | Dokładność (cyfry znaczące) | Uwagi                                 |\n",
    "|-----------|--------------|------------|------------|--------------|-------|-----------------------------|---------------------------------------|\n",
    "| half      | 16           | 1          | 5          | 10           | 15    | 4                           |                                       |\n",
    "| single    | 32           | 1          | 8          | 23           | 127   | 7                           |                                       |\n",
    "| double    | 64           | 1          | 11         | 52           | 1023  | 16                          |                                       |\n",
    "| quadruple | 128          | 1          | 15         | 112          | 16383 | 34                          | Wprowadzone w 2008, niezbyt popularne |"
   ]
  },
  {
   "cell_type": "markdown",
   "metadata": {},
   "source": [
    "### Liczby znormalizowane"
   ]
  },
  {
   "cell_type": "markdown",
   "metadata": {},
   "source": [
    "Mantysa ma wartość z przedziału [1,2) - zawsze pierwszy bit ma wartość 1, więc nie trzeba go zapisywać (jest on tam \"domyślnie\")\n",
    "$L = (-1)^{znak} * 1.mantysa * 2^{cecha-bias}$"
   ]
  },
  {
   "cell_type": "code",
   "execution_count": 2,
   "metadata": {},
   "outputs": [
    {
     "data": {
      "text/plain": [
       "('0', \"10000000\", \"01000000000000000000000\")"
      ]
     },
     "execution_count": 2,
     "metadata": {},
     "output_type": "execute_result"
    }
   ],
   "source": [
    "decode(Float32(2.5))"
   ]
  },
  {
   "cell_type": "code",
   "execution_count": 3,
   "metadata": {},
   "outputs": [
    {
     "data": {
      "text/plain": [
       "(1, 1.25)"
      ]
     },
     "execution_count": 3,
     "metadata": {},
     "output_type": "execute_result"
    }
   ],
   "source": [
    "cecha = 2^7-127\n",
    "mantysa = 2^-2 + 1\n",
    "cecha, mantysa"
   ]
  },
  {
   "cell_type": "code",
   "execution_count": 4,
   "metadata": {},
   "outputs": [
    {
     "data": {
      "text/plain": [
       "2.5"
      ]
     },
     "execution_count": 4,
     "metadata": {},
     "output_type": "execute_result"
    }
   ],
   "source": [
    "L = 1 * mantysa * 2^cecha"
   ]
  },
  {
   "cell_type": "markdown",
   "metadata": {},
   "source": [
    "### Liczba 0"
   ]
  },
  {
   "cell_type": "markdown",
   "metadata": {},
   "source": [
    "Jeżeli zarówno mantysa jak i cecha zawierają same 0, to liczba reprezentuje wartość 0.\n",
    "\n",
    "Ze względu na bit znaku, istnieją dwie reprezentacje 0: +0 oraz -0."
   ]
  },
  {
   "cell_type": "code",
   "execution_count": 5,
   "metadata": {},
   "outputs": [
    {
     "data": {
      "text/plain": [
       "('1', \"00000000\", \"00000000000000000000000\")"
      ]
     },
     "execution_count": 5,
     "metadata": {},
     "output_type": "execute_result"
    }
   ],
   "source": [
    "decode(Float32(-0.0))"
   ]
  },
  {
   "cell_type": "code",
   "execution_count": 6,
   "metadata": {},
   "outputs": [
    {
     "data": {
      "text/plain": [
       "('0', \"00000000\", \"00000000000000000000000\")"
      ]
     },
     "execution_count": 6,
     "metadata": {},
     "output_type": "execute_result"
    }
   ],
   "source": [
    "decode(Float32(+0.0))"
   ]
  },
  {
   "cell_type": "code",
   "execution_count": 7,
   "metadata": {},
   "outputs": [
    {
     "data": {
      "text/plain": [
       "true"
      ]
     },
     "execution_count": 7,
     "metadata": {},
     "output_type": "execute_result"
    }
   ],
   "source": [
    "Float32(-0.0) == Float32(0.0)"
   ]
  },
  {
   "cell_type": "markdown",
   "metadata": {},
   "source": [
    "### Liczby zdenormalizowane\n",
    "\n",
    "Jeżeli cecha składa się z samych 0 to liczba jest *zdenormalizowana* i mantysa nie ma \"domyślnego\" bitu. Pozwala to na reprezentacje liczb bliskich 0, które bez denormalizacji byłyby 0.\n",
    "\n",
    "$L = (-1)^{znak} * 0.mantysa * 2^{-bias+1}$\n",
    "\n",
    "Uwaga: 0 nie jest zdenormalizowane, pomimo, że jego cecha ma same 0!"
   ]
  },
  {
   "cell_type": "code",
   "execution_count": 8,
   "metadata": {},
   "outputs": [
    {
     "data": {
      "text/plain": [
       "(('0', \"00000000\", \"00000000000001011001010\"), true)"
      ]
     },
     "execution_count": 8,
     "metadata": {},
     "output_type": "execute_result"
    }
   ],
   "source": [
    "L = Float32(1e-42)\n",
    "decode(Float32(L)), issubnormal(L)"
   ]
  },
  {
   "cell_type": "markdown",
   "metadata": {},
   "source": [
    "### Wartości specjalne"
   ]
  },
  {
   "cell_type": "markdown",
   "metadata": {},
   "source": [
    "####  Nieskończoność\n",
    "\n",
    "Reprezentowana jest przez cechę z 1 i mantysę z 0. W zależności od znaku można wyróżnić $-\\infty$ oraz $+\\infty$."
   ]
  },
  {
   "cell_type": "code",
   "execution_count": 9,
   "metadata": {},
   "outputs": [
    {
     "data": {
      "text/plain": [
       "('0', \"11111111\", \"00000000000000000000000\")"
      ]
     },
     "execution_count": 9,
     "metadata": {},
     "output_type": "execute_result"
    }
   ],
   "source": [
    "decode(Inf32)"
   ]
  },
  {
   "cell_type": "code",
   "execution_count": 10,
   "metadata": {},
   "outputs": [
    {
     "data": {
      "text/plain": [
       "('1', \"11111111\", \"00000000000000000000000\")"
      ]
     },
     "execution_count": 10,
     "metadata": {},
     "output_type": "execute_result"
    }
   ],
   "source": [
    "decode(-Inf32)"
   ]
  },
  {
   "cell_type": "markdown",
   "metadata": {},
   "source": [
    "#### NaN\n",
    "\n",
    "Reprezentowana jest przez cechę z 1 i mantysę różną od 0. W zależności od znaku można wyróżnić $-\\infty$ oraz $+\\infty$.\n",
    "\n",
    "NaNami są np 0/0, $\\infty - \\infty$"
   ]
  },
  {
   "cell_type": "code",
   "execution_count": 11,
   "metadata": {},
   "outputs": [
    {
     "data": {
      "text/plain": [
       "NaN32"
      ]
     },
     "execution_count": 11,
     "metadata": {},
     "output_type": "execute_result"
    }
   ],
   "source": [
    "Float32(0)/Float32(0)"
   ]
  },
  {
   "cell_type": "code",
   "execution_count": 12,
   "metadata": {},
   "outputs": [
    {
     "data": {
      "text/plain": [
       "NaN32"
      ]
     },
     "execution_count": 12,
     "metadata": {},
     "output_type": "execute_result"
    }
   ],
   "source": [
    "Inf32 - Inf32"
   ]
  },
  {
   "cell_type": "code",
   "execution_count": 13,
   "metadata": {},
   "outputs": [
    {
     "data": {
      "text/plain": [
       "('0', \"11111111\", \"10000000000000000000000\")"
      ]
     },
     "execution_count": 13,
     "metadata": {},
     "output_type": "execute_result"
    }
   ],
   "source": [
    "decode(NaN32)"
   ]
  },
  {
   "cell_type": "markdown",
   "metadata": {},
   "source": [
    "### Praktyczne wskazówki"
   ]
  },
  {
   "cell_type": "markdown",
   "metadata": {},
   "source": [
    "Kolejność działań ma znaczenie:"
   ]
  },
  {
   "cell_type": "code",
   "execution_count": 14,
   "metadata": {},
   "outputs": [
    {
     "data": {
      "text/plain": [
       "5.9604645f-8"
      ]
     },
     "execution_count": 14,
     "metadata": {},
     "output_type": "execute_result"
    }
   ],
   "source": [
    "e = eps(Float32)/2"
   ]
  },
  {
   "cell_type": "code",
   "execution_count": 15,
   "metadata": {},
   "outputs": [
    {
     "data": {
      "text/plain": [
       "1.0f0"
      ]
     },
     "execution_count": 15,
     "metadata": {},
     "output_type": "execute_result"
    }
   ],
   "source": [
    "(Float32(1.0) + e) + e "
   ]
  },
  {
   "cell_type": "code",
   "execution_count": 16,
   "metadata": {},
   "outputs": [
    {
     "data": {
      "text/plain": [
       "1.0000001f0"
      ]
     },
     "execution_count": 16,
     "metadata": {},
     "output_type": "execute_result"
    }
   ],
   "source": [
    "Float32(1.0) + (e + e)"
   ]
  },
  {
   "cell_type": "markdown",
   "metadata": {},
   "source": [
    "Sumujemy od najmniejszych"
   ]
  },
  {
   "cell_type": "markdown",
   "metadata": {},
   "source": [
    "Nie powinno się porównywać floatów bezpośrednio. Większość języków posiada funkcje do porówywania liczb zmiennoprzecinkowych z tolerancją, np. `isapprox` w Julii, `numpy.isclose` w Pythonie."
   ]
  },
  {
   "cell_type": "code",
   "execution_count": 17,
   "metadata": {},
   "outputs": [
    {
     "data": {
      "text/plain": [
       "false"
      ]
     },
     "execution_count": 17,
     "metadata": {},
     "output_type": "execute_result"
    }
   ],
   "source": [
    "0.1 + 0.2 == 0.3 "
   ]
  },
  {
   "cell_type": "code",
   "execution_count": 18,
   "metadata": {},
   "outputs": [
    {
     "data": {
      "text/plain": [
       "true"
      ]
     },
     "execution_count": 18,
     "metadata": {},
     "output_type": "execute_result"
    }
   ],
   "source": [
    "isapprox(0.1 + 0.2, 0.3)"
   ]
  },
  {
   "cell_type": "markdown",
   "metadata": {},
   "source": [
    "## Przykłady"
   ]
  },
  {
   "cell_type": "code",
   "execution_count": 19,
   "metadata": {},
   "outputs": [
    {
     "data": {
      "text/plain": [
       "\"00111101110011001100110011001101\""
      ]
     },
     "execution_count": 19,
     "metadata": {},
     "output_type": "execute_result"
    }
   ],
   "source": [
    "bitstring(Float32(.1))"
   ]
  },
  {
   "cell_type": "code",
   "execution_count": 20,
   "metadata": {
    "scrolled": true
   },
   "outputs": [
    {
     "data": {
      "text/plain": [
       "\"00111111100000000000000000000000\""
      ]
     },
     "execution_count": 20,
     "metadata": {},
     "output_type": "execute_result"
    }
   ],
   "source": [
    "bitstring(Float32(1.0))"
   ]
  },
  {
   "cell_type": "code",
   "execution_count": 21,
   "metadata": {},
   "outputs": [
    {
     "data": {
      "text/plain": [
       "\"0011111111110000000000000000000000000000000000000000000000000000\""
      ]
     },
     "execution_count": 21,
     "metadata": {},
     "output_type": "execute_result"
    }
   ],
   "source": [
    "bitstring(Float64(1.0))"
   ]
  },
  {
   "cell_type": "code",
   "execution_count": 22,
   "metadata": {},
   "outputs": [
    {
     "data": {
      "text/plain": [
       "\"0011111111110000000000000000000000000000000000000000000000000000\""
      ]
     },
     "execution_count": 22,
     "metadata": {},
     "output_type": "execute_result"
    }
   ],
   "source": [
    "# domyślnie Float64\n",
    "bitstring(1.0)"
   ]
  },
  {
   "cell_type": "code",
   "execution_count": 23,
   "metadata": {},
   "outputs": [
    {
     "data": {
      "text/plain": [
       "\"0011110000000000\""
      ]
     },
     "execution_count": 23,
     "metadata": {},
     "output_type": "execute_result"
    }
   ],
   "source": [
    "# Float16\n",
    "bitstring(Float16(1.0))"
   ]
  },
  {
   "cell_type": "code",
   "execution_count": 24,
   "metadata": {},
   "outputs": [
    {
     "name": "stdout",
     "output_type": "stream",
     "text": [
      "1.2*2^0\n"
     ]
    }
   ],
   "source": [
    "println(significand(Float32(1.2)), \"*2^\", exponent(Float32(1.20)))"
   ]
  },
  {
   "cell_type": "code",
   "execution_count": 25,
   "metadata": {},
   "outputs": [
    {
     "data": {
      "text/plain": [
       "10-element Array{String,1}:\n",
       " \"00111111100000000000000000000000\"\n",
       " \"00111111100000000000000000000001\"\n",
       " \"00111111100000000000000000000010\"\n",
       " \"00111111100000000000000000000011\"\n",
       " \"00111111100000000000000000000100\"\n",
       " \"00111111100000000000000000000101\"\n",
       " \"00111111100000000000000000000110\"\n",
       " \"00111111100000000000000000000111\"\n",
       " \"00111111100000000000000000001000\"\n",
       " \"00111111100000000000000000001001\""
      ]
     },
     "execution_count": 25,
     "metadata": {},
     "output_type": "execute_result"
    }
   ],
   "source": [
    "# co ile liczby sa reprezentowane \n",
    "c=Float32[]\n",
    "a=Float32(1.0)\n",
    "r=1:10\n",
    "for i=r\n",
    "    push!(c, a)\n",
    "    a=nextfloat(a)\n",
    "end\n",
    "map(x-> bitstring(x),c)"
   ]
  },
  {
   "cell_type": "code",
   "execution_count": 26,
   "metadata": {},
   "outputs": [
    {
     "data": {
      "text/plain": [
       "1.1920929f-7"
      ]
     },
     "execution_count": 26,
     "metadata": {},
     "output_type": "execute_result"
    }
   ],
   "source": [
    "# Maszynowe epsilon mówi, jaki jest odstęp między kolejnymi liczbami zmiennoprzecinkowymi reprezentowanymi w komputerze\n",
    "eps(Float32(1))"
   ]
  },
  {
   "cell_type": "code",
   "execution_count": 27,
   "metadata": {},
   "outputs": [
    {
     "data": {
      "text/plain": [
       "4.7683716f-7"
      ]
     },
     "execution_count": 27,
     "metadata": {},
     "output_type": "execute_result"
    }
   ],
   "source": [
    "eps(Float32(4))"
   ]
  },
  {
   "cell_type": "code",
   "execution_count": 28,
   "metadata": {
    "nbgrader": {
     "grade": true,
     "grade_id": "cell-510e2987d5b4ebfc",
     "locked": false,
     "points": 2,
     "schema_version": 1,
     "solution": true
    }
   },
   "outputs": [
    {
     "name": "stdout",
     "output_type": "stream",
     "text": [
      "5.0e-34('0', \"00010000\", \"01001100010011101001100\")  false\n",
      "2.5e-34('0', \"00001111\", \"01001100010011101001100\")  false\n",
      "1.25e-34('0', \"00001110\", \"01001100010011101001100\")  false\n",
      "6.25e-35('0', \"00001101\", \"01001100010011101001100\")  false\n",
      "3.125e-35('0', \"00001100\", \"01001100010011101001100\")  false\n",
      "1.5625e-35('0', \"00001011\", \"01001100010011101001100\")  false\n",
      "7.8125e-36('0', \"00001010\", \"01001100010011101001100\")  false\n",
      "3.90625e-36('0', \"00001001\", \"01001100010011101001100\")  false\n",
      "1.953125e-36('0', \"00001000\", \"01001100010011101001100\")  false\n",
      "9.765625e-37('0', \"00000111\", \"01001100010011101001100\")  false\n",
      "4.8828126e-37('0', \"00000110\", \"01001100010011101001100\")  false\n",
      "2.4414063e-37('0', \"00000101\", \"01001100010011101001100\")  false\n",
      "1.2207032e-37('0', \"00000100\", \"01001100010011101001100\")  false\n",
      "6.103516e-38('0', \"00000011\", \"01001100010011101001100\")  false\n",
      "3.051758e-38('0', \"00000010\", \"01001100010011101001100\")  false\n",
      "1.525879e-38('0', \"00000001\", \"01001100010011101001100\")  false\n",
      "7.629395e-39('0', \"00000000\", \"10100110001001110100110\")  true\n",
      "3.814697e-39('0', \"00000000\", \"01010011000100111010011\")  true\n",
      "1.90735e-39('0', \"00000000\", \"00101001100010011101010\")  true\n",
      "9.53675e-40('0', \"00000000\", \"00010100110001001110101\")  true\n",
      "4.76837e-40('0', \"00000000\", \"00001010011000100111010\")  true\n",
      "2.38418e-40('0', \"00000000\", \"00000101001100010011101\")  true\n",
      "1.19208e-40('0', \"00000000\", \"00000010100110001001110\")  true\n",
      "5.9604e-41('0', \"00000000\", \"00000001010011000100111\")  true\n",
      "2.9803e-41('0', \"00000000\", \"00000000101001100010100\")  true\n",
      "1.4901e-41('0', \"00000000\", \"00000000010100110001010\")  true\n",
      "7.451e-42('0', \"00000000\", \"00000000001010011000101\")  true\n",
      "3.725e-42('0', \"00000000\", \"00000000000101001100010\")  true\n",
      "1.862e-42('0', \"00000000\", \"00000000000010100110001\")  true\n",
      "9.3e-43('0', \"00000000\", \"00000000000001010011000\")  true\n",
      "4.65e-43('0', \"00000000\", \"00000000000000101001100\")  true\n",
      "2.33e-43('0', \"00000000\", \"00000000000000010100110\")  true\n",
      "1.16e-43('0', \"00000000\", \"00000000000000001010011\")  true\n",
      "5.9e-44('0', \"00000000\", \"00000000000000000101010\")  true\n",
      "3.0e-44('0', \"00000000\", \"00000000000000000010101\")  true\n",
      "1.4e-44('0', \"00000000\", \"00000000000000000001010\")  true\n",
      "7.0e-45('0', \"00000000\", \"00000000000000000000101\")  true\n",
      "3.0e-45('0', \"00000000\", \"00000000000000000000010\")  true\n",
      "1.0e-45('0', \"00000000\", \"00000000000000000000001\")  true\n",
      "0.0('0', \"00000000\", \"00000000000000000000000\")  false\n"
     ]
    }
   ],
   "source": [
    "# Badanie postaci zdenormalizowanej. Co się dzieje, jak liczby są coraz mniejsze?\n",
    "a = Float32(1e-33)\n",
    "while a > 0\n",
    "    a = a/Float32(2.0)\n",
    "    println(a, decode(a), \"  \", issubnormal(a))\n",
    "end"
   ]
  },
  {
   "cell_type": "code",
   "execution_count": 29,
   "metadata": {},
   "outputs": [],
   "source": [
    "# Rysowanie wykresów\n",
    "using Pkg\n",
    "#Pkg.add(\"Plots\")\n",
    "# http://docs.juliaplots.org/latest/tutorial/\n",
    "using Plots"
   ]
  },
  {
   "cell_type": "code",
   "execution_count": 30,
   "metadata": {},
   "outputs": [
    {
     "data": {
      "image/svg+xml": "<?xml version=\"1.0\" encoding=\"utf-8\"?>\n<svg xmlns=\"http://www.w3.org/2000/svg\" xmlns:xlink=\"http://www.w3.org/1999/xlink\" width=\"600\" height=\"400\" viewBox=\"0 0 2400 1600\">\n<defs>\n  <clipPath id=\"clip250\">\n    <rect x=\"0\" y=\"0\" width=\"2400\" height=\"1600\"/>\n  </clipPath>\n</defs>\n<path clip-path=\"url(#clip250)\" d=\"\nM0 1600 L2400 1600 L2400 0 L0 0  Z\n  \" fill=\"#ffffff\" fill-rule=\"evenodd\" fill-opacity=\"1\"/>\n<defs>\n  <clipPath id=\"clip251\">\n    <rect x=\"480\" y=\"0\" width=\"1681\" height=\"1600\"/>\n  </clipPath>\n</defs>\n<path clip-path=\"url(#clip250)\" d=\"\nM112.177 1486.45 L2352.76 1486.45 L2352.76 47.2441 L112.177 47.2441  Z\n  \" fill=\"#ffffff\" fill-rule=\"evenodd\" fill-opacity=\"1\"/>\n<defs>\n  <clipPath id=\"clip252\">\n    <rect x=\"112\" y=\"47\" width=\"2242\" height=\"1440\"/>\n  </clipPath>\n</defs>\n<polyline clip-path=\"url(#clip252)\" style=\"stroke:#000000; stroke-width:2; stroke-opacity:0.1; fill:none\" points=\"\n  175.59,1486.45 175.59,47.2441 \n  \"/>\n<polyline clip-path=\"url(#clip252)\" style=\"stroke:#000000; stroke-width:2; stroke-opacity:0.1; fill:none\" points=\"\n  704.028,1486.45 704.028,47.2441 \n  \"/>\n<polyline clip-path=\"url(#clip252)\" style=\"stroke:#000000; stroke-width:2; stroke-opacity:0.1; fill:none\" points=\"\n  1232.47,1486.45 1232.47,47.2441 \n  \"/>\n<polyline clip-path=\"url(#clip252)\" style=\"stroke:#000000; stroke-width:2; stroke-opacity:0.1; fill:none\" points=\"\n  1760.9,1486.45 1760.9,47.2441 \n  \"/>\n<polyline clip-path=\"url(#clip252)\" style=\"stroke:#000000; stroke-width:2; stroke-opacity:0.1; fill:none\" points=\"\n  2289.34,1486.45 2289.34,47.2441 \n  \"/>\n<polyline clip-path=\"url(#clip250)\" style=\"stroke:#000000; stroke-width:4; stroke-opacity:1; fill:none\" points=\"\n  112.177,1486.45 2352.76,1486.45 \n  \"/>\n<polyline clip-path=\"url(#clip250)\" style=\"stroke:#000000; stroke-width:4; stroke-opacity:1; fill:none\" points=\"\n  175.59,1486.45 175.59,1469.18 \n  \"/>\n<polyline clip-path=\"url(#clip250)\" style=\"stroke:#000000; stroke-width:4; stroke-opacity:1; fill:none\" points=\"\n  704.028,1486.45 704.028,1469.18 \n  \"/>\n<polyline clip-path=\"url(#clip250)\" style=\"stroke:#000000; stroke-width:4; stroke-opacity:1; fill:none\" points=\"\n  1232.47,1486.45 1232.47,1469.18 \n  \"/>\n<polyline clip-path=\"url(#clip250)\" style=\"stroke:#000000; stroke-width:4; stroke-opacity:1; fill:none\" points=\"\n  1760.9,1486.45 1760.9,1469.18 \n  \"/>\n<polyline clip-path=\"url(#clip250)\" style=\"stroke:#000000; stroke-width:4; stroke-opacity:1; fill:none\" points=\"\n  2289.34,1486.45 2289.34,1469.18 \n  \"/>\n<path clip-path=\"url(#clip250)\" d=\"M 0 0 M165.972 1543.18 L173.611 1543.18 L173.611 1516.82 L165.3 1518.49 L165.3 1514.23 L173.564 1512.56 L178.24 1512.56 L178.24 1543.18 L185.879 1543.18 L185.879 1547.12 L165.972 1547.12 L165.972 1543.18 Z\" fill=\"#000000\" fill-rule=\"evenodd\" fill-opacity=\"1\" /><path clip-path=\"url(#clip250)\" d=\"M 0 0 M698.681 1543.18 L715 1543.18 L715 1547.12 L693.056 1547.12 L693.056 1543.18 Q695.718 1540.43 700.301 1535.8 Q704.908 1531.15 706.088 1529.81 Q708.334 1527.28 709.213 1525.55 Q710.116 1523.79 710.116 1522.1 Q710.116 1519.34 708.172 1517.61 Q706.25 1515.87 703.149 1515.87 Q700.949 1515.87 698.496 1516.63 Q696.065 1517.4 693.287 1518.95 L693.287 1514.23 Q696.112 1513.09 698.565 1512.51 Q701.019 1511.93 703.056 1511.93 Q708.426 1511.93 711.621 1514.62 Q714.815 1517.31 714.815 1521.8 Q714.815 1523.93 714.005 1525.85 Q713.218 1527.74 711.111 1530.34 Q710.533 1531.01 707.431 1534.23 Q704.329 1537.42 698.681 1543.18 Z\" fill=\"#000000\" fill-rule=\"evenodd\" fill-opacity=\"1\" /><path clip-path=\"url(#clip250)\" d=\"M 0 0 M1236.71 1528.49 Q1240.07 1529.2 1241.95 1531.47 Q1243.84 1533.74 1243.84 1537.07 Q1243.84 1542.19 1240.33 1544.99 Q1236.81 1547.79 1230.33 1547.79 Q1228.15 1547.79 1225.83 1547.35 Q1223.54 1546.93 1221.09 1546.08 L1221.09 1541.56 Q1223.03 1542.7 1225.35 1543.28 Q1227.66 1543.86 1230.19 1543.86 Q1234.58 1543.86 1236.88 1542.12 Q1239.19 1540.38 1239.19 1537.07 Q1239.19 1534.02 1237.04 1532.31 Q1234.91 1530.57 1231.09 1530.57 L1227.06 1530.57 L1227.06 1526.73 L1231.27 1526.73 Q1234.72 1526.73 1236.55 1525.36 Q1238.38 1523.97 1238.38 1521.38 Q1238.38 1518.72 1236.48 1517.31 Q1234.61 1515.87 1231.09 1515.87 Q1229.17 1515.87 1226.97 1516.29 Q1224.77 1516.7 1222.13 1517.58 L1222.13 1513.42 Q1224.79 1512.68 1227.11 1512.31 Q1229.45 1511.93 1231.51 1511.93 Q1236.83 1511.93 1239.93 1514.37 Q1243.03 1516.77 1243.03 1520.89 Q1243.03 1523.76 1241.39 1525.75 Q1239.75 1527.72 1236.71 1528.49 Z\" fill=\"#000000\" fill-rule=\"evenodd\" fill-opacity=\"1\" /><path clip-path=\"url(#clip250)\" d=\"M 0 0 M1763.91 1516.63 L1752.11 1535.08 L1763.91 1535.08 L1763.91 1516.63 M1762.69 1512.56 L1768.57 1512.56 L1768.57 1535.08 L1773.5 1535.08 L1773.5 1538.97 L1768.57 1538.97 L1768.57 1547.12 L1763.91 1547.12 L1763.91 1538.97 L1748.31 1538.97 L1748.31 1534.46 L1762.69 1512.56 Z\" fill=\"#000000\" fill-rule=\"evenodd\" fill-opacity=\"1\" /><path clip-path=\"url(#clip250)\" d=\"M 0 0 M2279.62 1512.56 L2297.98 1512.56 L2297.98 1516.5 L2283.9 1516.5 L2283.9 1524.97 Q2284.92 1524.62 2285.94 1524.46 Q2286.96 1524.27 2287.98 1524.27 Q2293.76 1524.27 2297.14 1527.44 Q2300.52 1530.62 2300.52 1536.03 Q2300.52 1541.61 2297.05 1544.71 Q2293.58 1547.79 2287.26 1547.79 Q2285.08 1547.79 2282.82 1547.42 Q2280.57 1547.05 2278.16 1546.31 L2278.16 1541.61 Q2280.25 1542.74 2282.47 1543.3 Q2284.69 1543.86 2287.17 1543.86 Q2291.17 1543.86 2293.51 1541.75 Q2295.85 1539.64 2295.85 1536.03 Q2295.85 1532.42 2293.51 1530.31 Q2291.17 1528.21 2287.17 1528.21 Q2285.29 1528.21 2283.42 1528.62 Q2281.57 1529.04 2279.62 1529.92 L2279.62 1512.56 Z\" fill=\"#000000\" fill-rule=\"evenodd\" fill-opacity=\"1\" /><polyline clip-path=\"url(#clip252)\" style=\"stroke:#000000; stroke-width:2; stroke-opacity:0.1; fill:none\" points=\"\n  112.177,1445.72 2352.76,1445.72 \n  \"/>\n<polyline clip-path=\"url(#clip252)\" style=\"stroke:#000000; stroke-width:2; stroke-opacity:0.1; fill:none\" points=\"\n  112.177,993.136 2352.76,993.136 \n  \"/>\n<polyline clip-path=\"url(#clip252)\" style=\"stroke:#000000; stroke-width:2; stroke-opacity:0.1; fill:none\" points=\"\n  112.177,540.556 2352.76,540.556 \n  \"/>\n<polyline clip-path=\"url(#clip252)\" style=\"stroke:#000000; stroke-width:2; stroke-opacity:0.1; fill:none\" points=\"\n  112.177,87.9763 2352.76,87.9763 \n  \"/>\n<polyline clip-path=\"url(#clip250)\" style=\"stroke:#000000; stroke-width:4; stroke-opacity:1; fill:none\" points=\"\n  112.177,1486.45 112.177,47.2441 \n  \"/>\n<polyline clip-path=\"url(#clip250)\" style=\"stroke:#000000; stroke-width:4; stroke-opacity:1; fill:none\" points=\"\n  112.177,1445.72 139.064,1445.72 \n  \"/>\n<polyline clip-path=\"url(#clip250)\" style=\"stroke:#000000; stroke-width:4; stroke-opacity:1; fill:none\" points=\"\n  112.177,993.136 139.064,993.136 \n  \"/>\n<polyline clip-path=\"url(#clip250)\" style=\"stroke:#000000; stroke-width:4; stroke-opacity:1; fill:none\" points=\"\n  112.177,540.556 139.064,540.556 \n  \"/>\n<polyline clip-path=\"url(#clip250)\" style=\"stroke:#000000; stroke-width:4; stroke-opacity:1; fill:none\" points=\"\n  112.177,87.9763 139.064,87.9763 \n  \"/>\n<path clip-path=\"url(#clip250)\" d=\"M 0 0 M59.8578 1459.06 L76.1772 1459.06 L76.1772 1463 L54.2328 1463 L54.2328 1459.06 Q56.8949 1456.31 61.4782 1451.68 Q66.0846 1447.02 67.2652 1445.68 Q69.5105 1443.16 70.3902 1441.42 Q71.2929 1439.66 71.2929 1437.97 Q71.2929 1435.22 69.3485 1433.48 Q67.4272 1431.75 64.3254 1431.75 Q62.1263 1431.75 59.6726 1432.51 Q57.2421 1433.27 54.4643 1434.82 L54.4643 1430.1 Q57.2884 1428.97 59.7421 1428.39 Q62.1958 1427.81 64.2328 1427.81 Q69.6031 1427.81 72.7976 1430.5 Q75.992 1433.18 75.992 1437.67 Q75.992 1439.8 75.1818 1441.72 Q74.3948 1443.62 72.2883 1446.21 Q71.7096 1446.88 68.6078 1450.1 Q65.5059 1453.3 59.8578 1459.06 Z\" fill=\"#000000\" fill-rule=\"evenodd\" fill-opacity=\"1\" /><path clip-path=\"url(#clip250)\" d=\"M 0 0 M69.0476 991.782 Q72.404 992.499 74.279 994.768 Q76.1772 997.036 76.1772 1000.37 Q76.1772 1005.49 72.6587 1008.29 Q69.1402 1011.09 62.6587 1011.09 Q60.4828 1011.09 58.168 1010.65 Q55.8764 1010.23 53.4227 1009.37 L53.4227 1004.86 Q55.3671 1005.99 57.6819 1006.57 Q59.9967 1007.15 62.5198 1007.15 Q66.918 1007.15 69.2096 1005.42 Q71.5244 1003.68 71.5244 1000.37 Q71.5244 997.314 69.3717 995.601 Q67.242 993.865 63.4226 993.865 L59.3949 993.865 L59.3949 990.022 L63.6078 990.022 Q67.0569 990.022 68.8855 988.657 Q70.7142 987.268 70.7142 984.675 Q70.7142 982.013 68.8161 980.601 Q66.9411 979.166 63.4226 979.166 Q61.5013 979.166 59.3023 979.583 Q57.1032 979.999 54.4643 980.879 L54.4643 976.712 Q57.1264 975.972 59.4412 975.601 Q61.7791 975.231 63.8393 975.231 Q69.1633 975.231 72.2652 977.661 Q75.367 980.069 75.367 984.189 Q75.367 987.06 73.7235 989.05 Q72.08 991.018 69.0476 991.782 Z\" fill=\"#000000\" fill-rule=\"evenodd\" fill-opacity=\"1\" /><path clip-path=\"url(#clip250)\" d=\"M 0 0 M66.5939 527.35 L54.7884 545.799 L66.5939 545.799 L66.5939 527.35 M65.367 523.276 L71.2466 523.276 L71.2466 545.799 L76.1772 545.799 L76.1772 549.688 L71.2466 549.688 L71.2466 557.836 L66.5939 557.836 L66.5939 549.688 L50.9921 549.688 L50.9921 545.174 L65.367 523.276 Z\" fill=\"#000000\" fill-rule=\"evenodd\" fill-opacity=\"1\" /><path clip-path=\"url(#clip250)\" d=\"M 0 0 M55.2745 70.6963 L73.6309 70.6963 L73.6309 74.6314 L59.5569 74.6314 L59.5569 83.1036 Q60.5754 82.7564 61.5939 82.5944 Q62.6124 82.4092 63.6309 82.4092 Q69.418 82.4092 72.7976 85.5805 Q76.1772 88.7517 76.1772 94.1684 Q76.1772 99.747 72.705 102.849 Q69.2328 105.928 62.9134 105.928 Q60.7374 105.928 58.4689 105.557 Q56.2236 105.187 53.8162 104.446 L53.8162 99.747 Q55.8995 100.881 58.1217 101.437 Q60.3439 101.992 62.8208 101.992 Q66.8254 101.992 69.1633 99.8859 Q71.5013 97.7795 71.5013 94.1684 Q71.5013 90.5573 69.1633 88.4508 Q66.8254 86.3443 62.8208 86.3443 Q60.9458 86.3443 59.0708 86.761 Q57.2189 87.1777 55.2745 88.0573 L55.2745 70.6963 Z\" fill=\"#000000\" fill-rule=\"evenodd\" fill-opacity=\"1\" /><circle clip-path=\"url(#clip252)\" cx=\"175.59\" cy=\"1445.72\" r=\"14\" fill=\"#009af9\" fill-rule=\"evenodd\" fill-opacity=\"1\" stroke=\"#000000\" stroke-opacity=\"1\" stroke-width=\"3.2\"/>\n<circle clip-path=\"url(#clip252)\" cx=\"704.028\" cy=\"1445.72\" r=\"14\" fill=\"#009af9\" fill-rule=\"evenodd\" fill-opacity=\"1\" stroke=\"#000000\" stroke-opacity=\"1\" stroke-width=\"3.2\"/>\n<circle clip-path=\"url(#clip252)\" cx=\"1232.47\" cy=\"993.136\" r=\"14\" fill=\"#009af9\" fill-rule=\"evenodd\" fill-opacity=\"1\" stroke=\"#000000\" stroke-opacity=\"1\" stroke-width=\"3.2\"/>\n<circle clip-path=\"url(#clip252)\" cx=\"1760.9\" cy=\"993.136\" r=\"14\" fill=\"#009af9\" fill-rule=\"evenodd\" fill-opacity=\"1\" stroke=\"#000000\" stroke-opacity=\"1\" stroke-width=\"3.2\"/>\n<circle clip-path=\"url(#clip252)\" cx=\"2289.34\" cy=\"87.9763\" r=\"14\" fill=\"#009af9\" fill-rule=\"evenodd\" fill-opacity=\"1\" stroke=\"#000000\" stroke-opacity=\"1\" stroke-width=\"3.2\"/>\n<path clip-path=\"url(#clip250)\" d=\"\nM1978.1 216.178 L2278.07 216.178 L2278.07 95.2176 L1978.1 95.2176  Z\n  \" fill=\"#ffffff\" fill-rule=\"evenodd\" fill-opacity=\"1\"/>\n<polyline clip-path=\"url(#clip250)\" style=\"stroke:#000000; stroke-width:4; stroke-opacity:1; fill:none\" points=\"\n  1978.1,216.178 2278.07,216.178 2278.07,95.2176 1978.1,95.2176 1978.1,216.178 \n  \"/>\n<circle clip-path=\"url(#clip250)\" cx=\"2077.68\" cy=\"155.698\" r=\"23\" fill=\"#009af9\" fill-rule=\"evenodd\" fill-opacity=\"1\" stroke=\"#000000\" stroke-opacity=\"1\" stroke-width=\"5.12\"/>\n<path clip-path=\"url(#clip250)\" d=\"M 0 0 M2191.1 175.385 Q2189.3 180.015 2187.59 181.427 Q2185.87 182.839 2183 182.839 L2179.6 182.839 L2179.6 179.274 L2182.1 179.274 Q2183.86 179.274 2184.83 178.44 Q2185.8 177.607 2186.98 174.505 L2187.75 172.561 L2177.26 147.052 L2181.77 147.052 L2189.88 167.329 L2197.98 147.052 L2202.49 147.052 L2191.1 175.385 Z\" fill=\"#000000\" fill-rule=\"evenodd\" fill-opacity=\"1\" /><path clip-path=\"url(#clip250)\" d=\"M 0 0 M2208.37 169.042 L2216.01 169.042 L2216.01 142.677 L2207.7 144.343 L2207.7 140.084 L2215.96 138.418 L2220.64 138.418 L2220.64 169.042 L2228.28 169.042 L2228.28 172.978 L2208.37 172.978 L2208.37 169.042 Z\" fill=\"#000000\" fill-rule=\"evenodd\" fill-opacity=\"1\" /></svg>\n"
     },
     "execution_count": 30,
     "metadata": {},
     "output_type": "execute_result"
    }
   ],
   "source": [
    "scatter(1:1:5, [2,2,3,3,5])"
   ]
  },
  {
   "cell_type": "markdown",
   "metadata": {},
   "source": [
    "# Zadania"
   ]
  },
  {
   "cell_type": "markdown",
   "metadata": {},
   "source": [
    "<b> Zadanie 1 </b>  Porównać w języku Julia reprezentację bitową liczby 1/3 dla Float16, Float32, Float64 oraz liczby, \n",
    "która jest inicjalizowana jako Float16, a potem rzutowana na Float64."
   ]
  },
  {
   "cell_type": "markdown",
   "metadata": {},
   "source": [
    "<b>Zadanie 2</b> Zbadać, jak zmienia się odległość między kolejnymi liczbami zminnoprzecinkowymi \n",
    "reprezentowanymi w komputerze za pomocą języka Julia. \n",
    "Narysować wykres używając Plots zależności odległości od wartości liczby dla zakresu  od 1.0 do 1000000.0."
   ]
  },
  {
   "cell_type": "markdown",
   "metadata": {},
   "source": [
    "<b>Zadanie 3</b> Jedną z bibliotek numerycznych, jaką będziemy używać na zajęciach jest <a href=\"http://home.agh.edu.pl/~kzajac/dydakt/mownit/lab1/gsl.html\">GSL</a> (język C). Korzystając ze <a href=\"https://www.gnu.org/software/gsl/doc/html/ieee754.html\"> wsparcia dla wyświetlania reprezentacji liczb zmiennoprzecinkowych</a> zobaczyć jak zmienia się cecha i mantysa dla coraz mniejszych liczb. Zaobserwować, kiedy matysa przestaje być znormalizowana i dlaczego?"
   ]
  },
  {
   "cell_type": "markdown",
   "metadata": {},
   "source": [
    "<b>Zadanie 4</b> Na przykładzie wybranego algorytmu niestabilnego numerycznie: \n",
    "1. Pokazać, że działa źle.\n",
    "2. Pokazać które konkretnie działania powodują zwiększenie błędu (np. dzielenie przez małą liczbę, cancellation).\n",
    "3. Zademonstować wersję stabilną.\n",
    "\n",
    "Wszystkie punkty przedstawić w postaci notatnika Julii."
   ]
  },
  {
   "cell_type": "markdown",
   "metadata": {},
   "source": [
    "## Zadanie 1"
   ]
  },
  {
   "cell_type": "code",
   "execution_count": 31,
   "metadata": {},
   "outputs": [
    {
     "name": "stdout",
     "output_type": "stream",
     "text": [
      "0.3333\n",
      "0011010101010101\n",
      "------------------------------------------------\n",
      "0.33333334\n",
      "00111110101010101010101010101011\n",
      "------------------------------------------------\n",
      "0.3333333333333333\n",
      "0011111111010101010101010101010101010101010101010101010101010101\n",
      "------------------------------------------------\n",
      "0.333251953125\n",
      "0011111111010101010101000000000000000000000000000000000000000000\n"
     ]
    }
   ],
   "source": [
    "println(Float16(1/3)) #Reprezentacja 1/3 dla Float16\n",
    "println(bitstring(Float16(1/3)))\n",
    "println(\"------------------------------------------------\")\n",
    "println(Float32(1/3)) #Reprezentacja 1/3 dla Float32\n",
    "println(bitstring(Float32(1/3)))\n",
    "println(\"------------------------------------------------\")\n",
    "println(Float64(1/3))\n",
    "println(bitstring(Float64(1/3))) #Reprezentacja 1/3 dla Float64\n",
    "println(\"------------------------------------------------\")\n",
    "println(Float64(Float16(1/3)))\n",
    "println(bitstring(Float64(Float16(1/3)))) #Reprezentacja 1/3 dla Float64 po wczesniejszym rzutowaniu na Float16"
   ]
  },
  {
   "cell_type": "markdown",
   "metadata": {},
   "source": [
    "## Zadanie 2"
   ]
  },
  {
   "cell_type": "code",
   "execution_count": 46,
   "metadata": {},
   "outputs": [
    {
     "name": "stdout",
     "output_type": "stream",
     "text": [
      "1.0e6 ('0', \"10010010\", \"11101000010010000000000\")\n"
     ]
    }
   ],
   "source": [
    "a = Float32(1e6)\n",
    "A = [eps(Float32(a))]\n",
    "X = [a]\n",
    "println(a,\" \", decode(a))\n",
    "while a > 1\n",
    "    a = a/Float32(1.05) #W celu wyznaczenia kolejnych wartości otrzymaną wartość dzielimy jeszcze przez 2.\n",
    "    push!(A, eps(Float32(a)))\n",
    "    push!(X, a)\n",
    "end"
   ]
  },
  {
   "cell_type": "code",
   "execution_count": 47,
   "metadata": {},
   "outputs": [
    {
     "data": {
      "image/svg+xml": "<?xml version=\"1.0\" encoding=\"utf-8\"?>\n<svg xmlns=\"http://www.w3.org/2000/svg\" xmlns:xlink=\"http://www.w3.org/1999/xlink\" width=\"600\" height=\"400\" viewBox=\"0 0 2400 1600\">\n<defs>\n  <clipPath id=\"clip570\">\n    <rect x=\"0\" y=\"0\" width=\"2400\" height=\"1600\"/>\n  </clipPath>\n</defs>\n<path clip-path=\"url(#clip570)\" d=\"\nM0 1600 L2400 1600 L2400 0 L0 0  Z\n  \" fill=\"#ffffff\" fill-rule=\"evenodd\" fill-opacity=\"1\"/>\n<defs>\n  <clipPath id=\"clip571\">\n    <rect x=\"480\" y=\"0\" width=\"1681\" height=\"1600\"/>\n  </clipPath>\n</defs>\n<path clip-path=\"url(#clip570)\" d=\"\nM175.348 1474.16 L2352.76 1474.16 L2352.76 47.2441 L175.348 47.2441  Z\n  \" fill=\"#ffffff\" fill-rule=\"evenodd\" fill-opacity=\"1\"/>\n<defs>\n  <clipPath id=\"clip572\">\n    <rect x=\"175\" y=\"47\" width=\"2178\" height=\"1428\"/>\n  </clipPath>\n</defs>\n<polyline clip-path=\"url(#clip572)\" style=\"stroke:#000000; stroke-width:2; stroke-opacity:0.1; fill:none\" points=\"\n  236.971,1474.16 236.971,47.2441 \n  \"/>\n<polyline clip-path=\"url(#clip572)\" style=\"stroke:#000000; stroke-width:2; stroke-opacity:0.1; fill:none\" points=\"\n  750.511,1474.16 750.511,47.2441 \n  \"/>\n<polyline clip-path=\"url(#clip572)\" style=\"stroke:#000000; stroke-width:2; stroke-opacity:0.1; fill:none\" points=\"\n  1264.05,1474.16 1264.05,47.2441 \n  \"/>\n<polyline clip-path=\"url(#clip572)\" style=\"stroke:#000000; stroke-width:2; stroke-opacity:0.1; fill:none\" points=\"\n  1777.59,1474.16 1777.59,47.2441 \n  \"/>\n<polyline clip-path=\"url(#clip572)\" style=\"stroke:#000000; stroke-width:2; stroke-opacity:0.1; fill:none\" points=\"\n  2291.13,1474.16 2291.13,47.2441 \n  \"/>\n<polyline clip-path=\"url(#clip570)\" style=\"stroke:#000000; stroke-width:4; stroke-opacity:1; fill:none\" points=\"\n  175.348,1474.16 2352.76,1474.16 \n  \"/>\n<polyline clip-path=\"url(#clip570)\" style=\"stroke:#000000; stroke-width:4; stroke-opacity:1; fill:none\" points=\"\n  236.971,1474.16 236.971,1457.04 \n  \"/>\n<polyline clip-path=\"url(#clip570)\" style=\"stroke:#000000; stroke-width:4; stroke-opacity:1; fill:none\" points=\"\n  750.511,1474.16 750.511,1457.04 \n  \"/>\n<polyline clip-path=\"url(#clip570)\" style=\"stroke:#000000; stroke-width:4; stroke-opacity:1; fill:none\" points=\"\n  1264.05,1474.16 1264.05,1457.04 \n  \"/>\n<polyline clip-path=\"url(#clip570)\" style=\"stroke:#000000; stroke-width:4; stroke-opacity:1; fill:none\" points=\"\n  1777.59,1474.16 1777.59,1457.04 \n  \"/>\n<polyline clip-path=\"url(#clip570)\" style=\"stroke:#000000; stroke-width:4; stroke-opacity:1; fill:none\" points=\"\n  2291.13,1474.16 2291.13,1457.04 \n  \"/>\n<path clip-path=\"url(#clip570)\" d=\"M 0 0 M236.971 1503.36 Q233.36 1503.36 231.531 1506.92 Q229.726 1510.46 229.726 1517.59 Q229.726 1524.7 231.531 1528.26 Q233.36 1531.8 236.971 1531.8 Q240.605 1531.8 242.411 1528.26 Q244.239 1524.7 244.239 1517.59 Q244.239 1510.46 242.411 1506.92 Q240.605 1503.36 236.971 1503.36 M236.971 1499.65 Q242.781 1499.65 245.837 1504.26 Q248.915 1508.84 248.915 1517.59 Q248.915 1526.32 245.837 1530.92 Q242.781 1535.51 236.971 1535.51 Q231.161 1535.51 228.082 1530.92 Q225.027 1526.32 225.027 1517.59 Q225.027 1508.84 228.082 1504.26 Q231.161 1499.65 236.971 1499.65 Z\" fill=\"#000000\" fill-rule=\"evenodd\" fill-opacity=\"1\" /><path clip-path=\"url(#clip570)\" d=\"M 0 0 M675.073 1552.44 L691.392 1552.44 L691.392 1556.37 L669.448 1556.37 L669.448 1552.44 Q672.11 1549.68 676.693 1545.05 Q681.3 1540.4 682.48 1539.06 Q684.726 1536.53 685.605 1534.8 Q686.508 1533.04 686.508 1531.35 Q686.508 1528.59 684.564 1526.86 Q682.642 1525.12 679.541 1525.12 Q677.342 1525.12 674.888 1525.89 Q672.457 1526.65 669.68 1528.2 L669.68 1523.48 Q672.504 1522.34 674.957 1521.77 Q677.411 1521.19 679.448 1521.19 Q684.818 1521.19 688.013 1523.87 Q691.207 1526.56 691.207 1531.05 Q691.207 1533.18 690.397 1535.1 Q689.61 1537 687.503 1539.59 Q686.925 1540.26 683.823 1543.48 Q680.721 1546.67 675.073 1552.44 Z\" fill=\"#000000\" fill-rule=\"evenodd\" fill-opacity=\"1\" /><path clip-path=\"url(#clip570)\" d=\"M 0 0 M696.462 1550.49 L701.346 1550.49 L701.346 1556.37 L696.462 1556.37 L696.462 1550.49 Z\" fill=\"#000000\" fill-rule=\"evenodd\" fill-opacity=\"1\" /><path clip-path=\"url(#clip570)\" d=\"M 0 0 M706.462 1521.81 L724.818 1521.81 L724.818 1525.75 L710.744 1525.75 L710.744 1534.22 Q711.763 1533.87 712.781 1533.71 Q713.8 1533.52 714.818 1533.52 Q720.605 1533.52 723.985 1536.7 Q727.364 1539.87 727.364 1545.28 Q727.364 1550.86 723.892 1553.96 Q720.42 1557.04 714.101 1557.04 Q711.925 1557.04 709.656 1556.67 Q707.411 1556.3 705.003 1555.56 L705.003 1550.86 Q707.087 1552 709.309 1552.55 Q711.531 1553.11 714.008 1553.11 Q718.013 1553.11 720.351 1551 Q722.688 1548.9 722.688 1545.28 Q722.688 1541.67 720.351 1539.57 Q718.013 1537.46 714.008 1537.46 Q712.133 1537.46 710.258 1537.88 Q708.406 1538.29 706.462 1539.17 L706.462 1521.81 Z\" fill=\"#000000\" fill-rule=\"evenodd\" fill-opacity=\"1\" /><path clip-path=\"url(#clip570)\" d=\"M 0 0 M760.605 1530.91 L750.026 1541.53 L760.605 1552.11 L757.85 1554.91 L747.225 1544.29 L736.6 1554.91 L733.869 1552.11 L744.424 1541.53 L733.869 1530.91 L736.6 1528.11 L747.225 1538.73 L757.85 1528.11 L760.605 1530.91 Z\" fill=\"#000000\" fill-rule=\"evenodd\" fill-opacity=\"1\" /><path clip-path=\"url(#clip570)\" d=\"M 0 0 M766.485 1552.44 L774.123 1552.44 L774.123 1526.07 L765.813 1527.74 L765.813 1523.48 L774.077 1521.81 L778.753 1521.81 L778.753 1552.44 L786.392 1552.44 L786.392 1556.37 L766.485 1556.37 L766.485 1552.44 Z\" fill=\"#000000\" fill-rule=\"evenodd\" fill-opacity=\"1\" /><path clip-path=\"url(#clip570)\" d=\"M 0 0 M801.461 1524.89 Q797.85 1524.89 796.021 1528.46 Q794.216 1532 794.216 1539.13 Q794.216 1546.23 796.021 1549.8 Q797.85 1553.34 801.461 1553.34 Q805.095 1553.34 806.901 1549.8 Q808.73 1546.23 808.73 1539.13 Q808.73 1532 806.901 1528.46 Q805.095 1524.89 801.461 1524.89 M801.461 1521.19 Q807.271 1521.19 810.327 1525.79 Q813.406 1530.38 813.406 1539.13 Q813.406 1547.85 810.327 1552.46 Q807.271 1557.04 801.461 1557.04 Q795.651 1557.04 792.572 1552.46 Q789.517 1547.85 789.517 1539.13 Q789.517 1530.38 792.572 1525.79 Q795.651 1521.19 801.461 1521.19 Z\" fill=\"#000000\" fill-rule=\"evenodd\" fill-opacity=\"1\" /><path clip-path=\"url(#clip570)\" d=\"M 0 0 M814.59 1500.88 L829.505 1500.88 L829.505 1504.08 L818.07 1504.08 L818.07 1510.96 Q818.897 1510.68 819.725 1510.55 Q820.553 1510.4 821.38 1510.4 Q826.082 1510.4 828.828 1512.97 Q831.574 1515.55 831.574 1519.95 Q831.574 1524.49 828.753 1527.01 Q825.932 1529.51 820.797 1529.51 Q819.029 1529.51 817.186 1529.21 Q815.362 1528.91 813.406 1528.3 L813.406 1524.49 Q815.098 1525.41 816.904 1525.86 Q818.709 1526.31 820.722 1526.31 Q823.976 1526.31 825.875 1524.6 Q827.775 1522.89 827.775 1519.95 Q827.775 1517.02 825.875 1515.31 Q823.976 1513.6 820.722 1513.6 Q819.198 1513.6 817.675 1513.93 Q816.17 1514.27 814.59 1514.99 L814.59 1500.88 Z\" fill=\"#000000\" fill-rule=\"evenodd\" fill-opacity=\"1\" /><path clip-path=\"url(#clip570)\" d=\"M 0 0 M1183.74 1521.81 L1202.1 1521.81 L1202.1 1525.75 L1188.02 1525.75 L1188.02 1534.22 Q1189.04 1533.87 1190.06 1533.71 Q1191.08 1533.52 1192.1 1533.52 Q1197.88 1533.52 1201.26 1536.7 Q1204.64 1539.87 1204.64 1545.28 Q1204.64 1550.86 1201.17 1553.96 Q1197.7 1557.04 1191.38 1557.04 Q1189.2 1557.04 1186.93 1556.67 Q1184.69 1556.3 1182.28 1555.56 L1182.28 1550.86 Q1184.37 1552 1186.59 1552.55 Q1188.81 1553.11 1191.29 1553.11 Q1195.29 1553.11 1197.63 1551 Q1199.97 1548.9 1199.97 1545.28 Q1199.97 1541.67 1197.63 1539.57 Q1195.29 1537.46 1191.29 1537.46 Q1189.41 1537.46 1187.54 1537.88 Q1185.68 1538.29 1183.74 1539.17 L1183.74 1521.81 Z\" fill=\"#000000\" fill-rule=\"evenodd\" fill-opacity=\"1\" /><path clip-path=\"url(#clip570)\" d=\"M 0 0 M1209.71 1550.49 L1214.6 1550.49 L1214.6 1556.37 L1209.71 1556.37 L1209.71 1550.49 Z\" fill=\"#000000\" fill-rule=\"evenodd\" fill-opacity=\"1\" /><path clip-path=\"url(#clip570)\" d=\"M 0 0 M1229.67 1524.89 Q1226.05 1524.89 1224.23 1528.46 Q1222.42 1532 1222.42 1539.13 Q1222.42 1546.23 1224.23 1549.8 Q1226.05 1553.34 1229.67 1553.34 Q1233.3 1553.34 1235.11 1549.8 Q1236.93 1546.23 1236.93 1539.13 Q1236.93 1532 1235.11 1528.46 Q1233.3 1524.89 1229.67 1524.89 M1229.67 1521.19 Q1235.48 1521.19 1238.53 1525.79 Q1241.61 1530.38 1241.61 1539.13 Q1241.61 1547.85 1238.53 1552.46 Q1235.48 1557.04 1229.67 1557.04 Q1223.86 1557.04 1220.78 1552.46 Q1217.72 1547.85 1217.72 1539.13 Q1217.72 1530.38 1220.78 1525.79 Q1223.86 1521.19 1229.67 1521.19 Z\" fill=\"#000000\" fill-rule=\"evenodd\" fill-opacity=\"1\" /><path clip-path=\"url(#clip570)\" d=\"M 0 0 M1274.85 1530.91 L1264.27 1541.53 L1274.85 1552.11 L1272.1 1554.91 L1261.47 1544.29 L1250.85 1554.91 L1248.12 1552.11 L1258.67 1541.53 L1248.12 1530.91 L1250.85 1528.11 L1261.47 1538.73 L1272.1 1528.11 L1274.85 1530.91 Z\" fill=\"#000000\" fill-rule=\"evenodd\" fill-opacity=\"1\" /><path clip-path=\"url(#clip570)\" d=\"M 0 0 M1280.73 1552.44 L1288.37 1552.44 L1288.37 1526.07 L1280.06 1527.74 L1280.06 1523.48 L1288.32 1521.81 L1293 1521.81 L1293 1552.44 L1300.64 1552.44 L1300.64 1556.37 L1280.73 1556.37 L1280.73 1552.44 Z\" fill=\"#000000\" fill-rule=\"evenodd\" fill-opacity=\"1\" /><path clip-path=\"url(#clip570)\" d=\"M 0 0 M1315.71 1524.89 Q1312.1 1524.89 1310.27 1528.46 Q1308.46 1532 1308.46 1539.13 Q1308.46 1546.23 1310.27 1549.8 Q1312.1 1553.34 1315.71 1553.34 Q1319.34 1553.34 1321.15 1549.8 Q1322.98 1546.23 1322.98 1539.13 Q1322.98 1532 1321.15 1528.46 Q1319.34 1524.89 1315.71 1524.89 M1315.71 1521.19 Q1321.52 1521.19 1324.57 1525.79 Q1327.65 1530.38 1327.65 1539.13 Q1327.65 1547.85 1324.57 1552.46 Q1321.52 1557.04 1315.71 1557.04 Q1309.9 1557.04 1306.82 1552.46 Q1303.76 1547.85 1303.76 1539.13 Q1303.76 1530.38 1306.82 1525.79 Q1309.9 1521.19 1315.71 1521.19 Z\" fill=\"#000000\" fill-rule=\"evenodd\" fill-opacity=\"1\" /><path clip-path=\"url(#clip570)\" d=\"M 0 0 M1328.84 1500.88 L1343.75 1500.88 L1343.75 1504.08 L1332.32 1504.08 L1332.32 1510.96 Q1333.14 1510.68 1333.97 1510.55 Q1334.8 1510.4 1335.63 1510.4 Q1340.33 1510.4 1343.07 1512.97 Q1345.82 1515.55 1345.82 1519.95 Q1345.82 1524.49 1343 1527.01 Q1340.18 1529.51 1335.04 1529.51 Q1333.28 1529.51 1331.43 1529.21 Q1329.61 1528.91 1327.65 1528.3 L1327.65 1524.49 Q1329.34 1525.41 1331.15 1525.86 Q1332.96 1526.31 1334.97 1526.31 Q1338.22 1526.31 1340.12 1524.6 Q1342.02 1522.89 1342.02 1519.95 Q1342.02 1517.02 1340.12 1515.31 Q1338.22 1513.6 1334.97 1513.6 Q1333.44 1513.6 1331.92 1513.93 Q1330.42 1514.27 1328.84 1514.99 L1328.84 1500.88 Z\" fill=\"#000000\" fill-rule=\"evenodd\" fill-opacity=\"1\" /><path clip-path=\"url(#clip570)\" d=\"M 0 0 M1696.39 1521.81 L1718.61 1521.81 L1718.61 1523.8 L1706.07 1556.37 L1701.18 1556.37 L1712.99 1525.75 L1696.39 1525.75 L1696.39 1521.81 Z\" fill=\"#000000\" fill-rule=\"evenodd\" fill-opacity=\"1\" /><path clip-path=\"url(#clip570)\" d=\"M 0 0 M1723.68 1550.49 L1728.57 1550.49 L1728.57 1556.37 L1723.68 1556.37 L1723.68 1550.49 Z\" fill=\"#000000\" fill-rule=\"evenodd\" fill-opacity=\"1\" /><path clip-path=\"url(#clip570)\" d=\"M 0 0 M1733.68 1521.81 L1752.04 1521.81 L1752.04 1525.75 L1737.96 1525.75 L1737.96 1534.22 Q1738.98 1533.87 1740 1533.71 Q1741.02 1533.52 1742.04 1533.52 Q1747.82 1533.52 1751.2 1536.7 Q1754.58 1539.87 1754.58 1545.28 Q1754.58 1550.86 1751.11 1553.96 Q1747.64 1557.04 1741.32 1557.04 Q1739.14 1557.04 1736.88 1556.67 Q1734.63 1556.3 1732.22 1555.56 L1732.22 1550.86 Q1734.31 1552 1736.53 1552.55 Q1738.75 1553.11 1741.23 1553.11 Q1745.23 1553.11 1747.57 1551 Q1749.91 1548.9 1749.91 1545.28 Q1749.91 1541.67 1747.57 1539.57 Q1745.23 1537.46 1741.23 1537.46 Q1739.35 1537.46 1737.48 1537.88 Q1735.63 1538.29 1733.68 1539.17 L1733.68 1521.81 Z\" fill=\"#000000\" fill-rule=\"evenodd\" fill-opacity=\"1\" /><path clip-path=\"url(#clip570)\" d=\"M 0 0 M1787.82 1530.91 L1777.25 1541.53 L1787.82 1552.11 L1785.07 1554.91 L1774.44 1544.29 L1763.82 1554.91 L1761.09 1552.11 L1771.64 1541.53 L1761.09 1530.91 L1763.82 1528.11 L1774.44 1538.73 L1785.07 1528.11 L1787.82 1530.91 Z\" fill=\"#000000\" fill-rule=\"evenodd\" fill-opacity=\"1\" /><path clip-path=\"url(#clip570)\" d=\"M 0 0 M1793.7 1552.44 L1801.34 1552.44 L1801.34 1526.07 L1793.03 1527.74 L1793.03 1523.48 L1801.3 1521.81 L1805.97 1521.81 L1805.97 1552.44 L1813.61 1552.44 L1813.61 1556.37 L1793.7 1556.37 L1793.7 1552.44 Z\" fill=\"#000000\" fill-rule=\"evenodd\" fill-opacity=\"1\" /><path clip-path=\"url(#clip570)\" d=\"M 0 0 M1828.68 1524.89 Q1825.07 1524.89 1823.24 1528.46 Q1821.43 1532 1821.43 1539.13 Q1821.43 1546.23 1823.24 1549.8 Q1825.07 1553.34 1828.68 1553.34 Q1832.31 1553.34 1834.12 1549.8 Q1835.95 1546.23 1835.95 1539.13 Q1835.95 1532 1834.12 1528.46 Q1832.31 1524.89 1828.68 1524.89 M1828.68 1521.19 Q1834.49 1521.19 1837.55 1525.79 Q1840.62 1530.38 1840.62 1539.13 Q1840.62 1547.85 1837.55 1552.46 Q1834.49 1557.04 1828.68 1557.04 Q1822.87 1557.04 1819.79 1552.46 Q1816.74 1547.85 1816.74 1539.13 Q1816.74 1530.38 1819.79 1525.79 Q1822.87 1521.19 1828.68 1521.19 Z\" fill=\"#000000\" fill-rule=\"evenodd\" fill-opacity=\"1\" /><path clip-path=\"url(#clip570)\" d=\"M 0 0 M1841.81 1500.88 L1856.72 1500.88 L1856.72 1504.08 L1845.29 1504.08 L1845.29 1510.96 Q1846.12 1510.68 1846.94 1510.55 Q1847.77 1510.4 1848.6 1510.4 Q1853.3 1510.4 1856.05 1512.97 Q1858.79 1515.55 1858.79 1519.95 Q1858.79 1524.49 1855.97 1527.01 Q1853.15 1529.51 1848.02 1529.51 Q1846.25 1529.51 1844.4 1529.21 Q1842.58 1528.91 1840.62 1528.3 L1840.62 1524.49 Q1842.32 1525.41 1844.12 1525.86 Q1845.93 1526.31 1847.94 1526.31 Q1851.19 1526.31 1853.09 1524.6 Q1854.99 1522.89 1854.99 1519.95 Q1854.99 1517.02 1853.09 1515.31 Q1851.19 1513.6 1847.94 1513.6 Q1846.42 1513.6 1844.89 1513.93 Q1843.39 1514.27 1841.81 1514.99 L1841.81 1500.88 Z\" fill=\"#000000\" fill-rule=\"evenodd\" fill-opacity=\"1\" /><path clip-path=\"url(#clip570)\" d=\"M 0 0 M2210.31 1552.44 L2217.95 1552.44 L2217.95 1526.07 L2209.64 1527.74 L2209.64 1523.48 L2217.91 1521.81 L2222.58 1521.81 L2222.58 1552.44 L2230.22 1552.44 L2230.22 1556.37 L2210.31 1556.37 L2210.31 1552.44 Z\" fill=\"#000000\" fill-rule=\"evenodd\" fill-opacity=\"1\" /><path clip-path=\"url(#clip570)\" d=\"M 0 0 M2235.29 1550.49 L2240.17 1550.49 L2240.17 1556.37 L2235.29 1556.37 L2235.29 1550.49 Z\" fill=\"#000000\" fill-rule=\"evenodd\" fill-opacity=\"1\" /><path clip-path=\"url(#clip570)\" d=\"M 0 0 M2255.24 1524.89 Q2251.63 1524.89 2249.8 1528.46 Q2248 1532 2248 1539.13 Q2248 1546.23 2249.8 1549.8 Q2251.63 1553.34 2255.24 1553.34 Q2258.88 1553.34 2260.68 1549.8 Q2262.51 1546.23 2262.51 1539.13 Q2262.51 1532 2260.68 1528.46 Q2258.88 1524.89 2255.24 1524.89 M2255.24 1521.19 Q2261.05 1521.19 2264.11 1525.79 Q2267.19 1530.38 2267.19 1539.13 Q2267.19 1547.85 2264.11 1552.46 Q2261.05 1557.04 2255.24 1557.04 Q2249.43 1557.04 2246.35 1552.46 Q2243.3 1547.85 2243.3 1539.13 Q2243.3 1530.38 2246.35 1525.79 Q2249.43 1521.19 2255.24 1521.19 Z\" fill=\"#000000\" fill-rule=\"evenodd\" fill-opacity=\"1\" /><path clip-path=\"url(#clip570)\" d=\"M 0 0 M2300.43 1530.91 L2289.85 1541.53 L2300.43 1552.11 L2297.67 1554.91 L2287.05 1544.29 L2276.42 1554.91 L2273.69 1552.11 L2284.25 1541.53 L2273.69 1530.91 L2276.42 1528.11 L2287.05 1538.73 L2297.67 1528.11 L2300.43 1530.91 Z\" fill=\"#000000\" fill-rule=\"evenodd\" fill-opacity=\"1\" /><path clip-path=\"url(#clip570)\" d=\"M 0 0 M2306.31 1552.44 L2313.95 1552.44 L2313.95 1526.07 L2305.64 1527.74 L2305.64 1523.48 L2313.9 1521.81 L2318.58 1521.81 L2318.58 1552.44 L2326.22 1552.44 L2326.22 1556.37 L2306.31 1556.37 L2306.31 1552.44 Z\" fill=\"#000000\" fill-rule=\"evenodd\" fill-opacity=\"1\" /><path clip-path=\"url(#clip570)\" d=\"M 0 0 M2341.28 1524.89 Q2337.67 1524.89 2335.85 1528.46 Q2334.04 1532 2334.04 1539.13 Q2334.04 1546.23 2335.85 1549.8 Q2337.67 1553.34 2341.28 1553.34 Q2344.92 1553.34 2346.72 1549.8 Q2348.55 1546.23 2348.55 1539.13 Q2348.55 1532 2346.72 1528.46 Q2344.92 1524.89 2341.28 1524.89 M2341.28 1521.19 Q2347.1 1521.19 2350.15 1525.79 Q2353.23 1530.38 2353.23 1539.13 Q2353.23 1547.85 2350.15 1552.46 Q2347.1 1557.04 2341.28 1557.04 Q2335.47 1557.04 2332.4 1552.46 Q2329.34 1547.85 2329.34 1539.13 Q2329.34 1530.38 2332.4 1525.79 Q2335.47 1521.19 2341.28 1521.19 Z\" fill=\"#000000\" fill-rule=\"evenodd\" fill-opacity=\"1\" /><path clip-path=\"url(#clip570)\" d=\"M 0 0 M2363.25 1513.41 Q2360.7 1513.41 2359.19 1515.16 Q2357.71 1516.91 2357.71 1519.95 Q2357.71 1522.98 2359.19 1524.75 Q2360.7 1526.5 2363.25 1526.5 Q2365.81 1526.5 2367.3 1524.75 Q2368.8 1522.98 2368.8 1519.95 Q2368.8 1516.91 2367.3 1515.16 Q2365.81 1513.41 2363.25 1513.41 M2370.8 1501.5 L2370.8 1504.96 Q2369.37 1504.29 2367.9 1503.93 Q2366.45 1503.57 2365.02 1503.57 Q2361.26 1503.57 2359.27 1506.11 Q2357.29 1508.65 2357.01 1513.78 Q2358.12 1512.15 2359.79 1511.28 Q2361.47 1510.4 2363.48 1510.4 Q2367.71 1510.4 2370.16 1512.97 Q2372.62 1515.53 2372.62 1519.95 Q2372.62 1524.28 2370.06 1526.89 Q2367.5 1529.51 2363.25 1529.51 Q2358.38 1529.51 2355.81 1525.78 Q2353.23 1522.04 2353.23 1514.95 Q2353.23 1508.29 2356.39 1504.34 Q2359.55 1500.37 2364.87 1500.37 Q2366.3 1500.37 2367.75 1500.66 Q2369.22 1500.94 2370.8 1501.5 Z\" fill=\"#000000\" fill-rule=\"evenodd\" fill-opacity=\"1\" /><polyline clip-path=\"url(#clip572)\" style=\"stroke:#000000; stroke-width:2; stroke-opacity:0.1; fill:none\" points=\"\n  175.348,1433.78 2352.76,1433.78 \n  \"/>\n<polyline clip-path=\"url(#clip572)\" style=\"stroke:#000000; stroke-width:2; stroke-opacity:0.1; fill:none\" points=\"\n  175.348,1218.4 2352.76,1218.4 \n  \"/>\n<polyline clip-path=\"url(#clip572)\" style=\"stroke:#000000; stroke-width:2; stroke-opacity:0.1; fill:none\" points=\"\n  175.348,1003.01 2352.76,1003.01 \n  \"/>\n<polyline clip-path=\"url(#clip572)\" style=\"stroke:#000000; stroke-width:2; stroke-opacity:0.1; fill:none\" points=\"\n  175.348,787.628 2352.76,787.628 \n  \"/>\n<polyline clip-path=\"url(#clip572)\" style=\"stroke:#000000; stroke-width:2; stroke-opacity:0.1; fill:none\" points=\"\n  175.348,572.244 2352.76,572.244 \n  \"/>\n<polyline clip-path=\"url(#clip572)\" style=\"stroke:#000000; stroke-width:2; stroke-opacity:0.1; fill:none\" points=\"\n  175.348,356.859 2352.76,356.859 \n  \"/>\n<polyline clip-path=\"url(#clip572)\" style=\"stroke:#000000; stroke-width:2; stroke-opacity:0.1; fill:none\" points=\"\n  175.348,141.475 2352.76,141.475 \n  \"/>\n<polyline clip-path=\"url(#clip570)\" style=\"stroke:#000000; stroke-width:4; stroke-opacity:1; fill:none\" points=\"\n  175.348,1474.16 175.348,47.2441 \n  \"/>\n<polyline clip-path=\"url(#clip570)\" style=\"stroke:#000000; stroke-width:4; stroke-opacity:1; fill:none\" points=\"\n  175.348,1433.78 201.477,1433.78 \n  \"/>\n<polyline clip-path=\"url(#clip570)\" style=\"stroke:#000000; stroke-width:4; stroke-opacity:1; fill:none\" points=\"\n  175.348,1218.4 201.477,1218.4 \n  \"/>\n<polyline clip-path=\"url(#clip570)\" style=\"stroke:#000000; stroke-width:4; stroke-opacity:1; fill:none\" points=\"\n  175.348,1003.01 201.477,1003.01 \n  \"/>\n<polyline clip-path=\"url(#clip570)\" style=\"stroke:#000000; stroke-width:4; stroke-opacity:1; fill:none\" points=\"\n  175.348,787.628 201.477,787.628 \n  \"/>\n<polyline clip-path=\"url(#clip570)\" style=\"stroke:#000000; stroke-width:4; stroke-opacity:1; fill:none\" points=\"\n  175.348,572.244 201.477,572.244 \n  \"/>\n<polyline clip-path=\"url(#clip570)\" style=\"stroke:#000000; stroke-width:4; stroke-opacity:1; fill:none\" points=\"\n  175.348,356.859 201.477,356.859 \n  \"/>\n<polyline clip-path=\"url(#clip570)\" style=\"stroke:#000000; stroke-width:4; stroke-opacity:1; fill:none\" points=\"\n  175.348,141.475 201.477,141.475 \n  \"/>\n<path clip-path=\"url(#clip570)\" d=\"M 0 0 M63.4226 1419.58 Q59.8115 1419.58 57.9828 1423.14 Q56.1773 1426.69 56.1773 1433.82 Q56.1773 1440.92 57.9828 1444.49 Q59.8115 1448.03 63.4226 1448.03 Q67.0569 1448.03 68.8624 1444.49 Q70.6911 1440.92 70.6911 1433.82 Q70.6911 1426.69 68.8624 1423.14 Q67.0569 1419.58 63.4226 1419.58 M63.4226 1415.88 Q69.2328 1415.88 72.2883 1420.48 Q75.367 1425.07 75.367 1433.82 Q75.367 1442.54 72.2883 1447.15 Q69.2328 1451.73 63.4226 1451.73 Q57.6125 1451.73 54.5338 1447.15 Q51.4782 1442.54 51.4782 1433.82 Q51.4782 1425.07 54.5338 1420.48 Q57.6125 1415.88 63.4226 1415.88 Z\" fill=\"#000000\" fill-rule=\"evenodd\" fill-opacity=\"1\" /><path clip-path=\"url(#clip570)\" d=\"M 0 0 M80.4364 1445.18 L85.3206 1445.18 L85.3206 1451.06 L80.4364 1451.06 L80.4364 1445.18 Z\" fill=\"#000000\" fill-rule=\"evenodd\" fill-opacity=\"1\" /><path clip-path=\"url(#clip570)\" d=\"M 0 0 M100.39 1419.58 Q96.7789 1419.58 94.9502 1423.14 Q93.1447 1426.69 93.1447 1433.82 Q93.1447 1440.92 94.9502 1444.49 Q96.7789 1448.03 100.39 1448.03 Q104.024 1448.03 105.83 1444.49 Q107.658 1440.92 107.658 1433.82 Q107.658 1426.69 105.83 1423.14 Q104.024 1419.58 100.39 1419.58 M100.39 1415.88 Q106.2 1415.88 109.256 1420.48 Q112.334 1425.07 112.334 1433.82 Q112.334 1442.54 109.256 1447.15 Q106.2 1451.73 100.39 1451.73 Q94.5799 1451.73 91.5012 1447.15 Q88.4456 1442.54 88.4456 1433.82 Q88.4456 1425.07 91.5012 1420.48 Q94.5799 1415.88 100.39 1415.88 Z\" fill=\"#000000\" fill-rule=\"evenodd\" fill-opacity=\"1\" /><path clip-path=\"url(#clip570)\" d=\"M 0 0 M127.404 1419.58 Q123.793 1419.58 121.964 1423.14 Q120.158 1426.69 120.158 1433.82 Q120.158 1440.92 121.964 1444.49 Q123.793 1448.03 127.404 1448.03 Q131.038 1448.03 132.844 1444.49 Q134.672 1440.92 134.672 1433.82 Q134.672 1426.69 132.844 1423.14 Q131.038 1419.58 127.404 1419.58 M127.404 1415.88 Q133.214 1415.88 136.269 1420.48 Q139.348 1425.07 139.348 1433.82 Q139.348 1442.54 136.269 1447.15 Q133.214 1451.73 127.404 1451.73 Q121.594 1451.73 118.515 1447.15 Q115.459 1442.54 115.459 1433.82 Q115.459 1425.07 118.515 1420.48 Q121.594 1415.88 127.404 1415.88 Z\" fill=\"#000000\" fill-rule=\"evenodd\" fill-opacity=\"1\" /><path clip-path=\"url(#clip570)\" d=\"M 0 0 M64.6495 1204.2 Q61.0384 1204.2 59.2097 1207.76 Q57.4041 1211.3 57.4041 1218.43 Q57.4041 1225.54 59.2097 1229.1 Q61.0384 1232.64 64.6495 1232.64 Q68.2837 1232.64 70.0892 1229.1 Q71.9179 1225.54 71.9179 1218.43 Q71.9179 1211.3 70.0892 1207.76 Q68.2837 1204.2 64.6495 1204.2 M64.6495 1200.49 Q70.4596 1200.49 73.5152 1205.1 Q76.5938 1209.68 76.5938 1218.43 Q76.5938 1227.16 73.5152 1231.76 Q70.4596 1236.35 64.6495 1236.35 Q58.8393 1236.35 55.7606 1231.76 Q52.7051 1227.16 52.7051 1218.43 Q52.7051 1209.68 55.7606 1205.1 Q58.8393 1200.49 64.6495 1200.49 Z\" fill=\"#000000\" fill-rule=\"evenodd\" fill-opacity=\"1\" /><path clip-path=\"url(#clip570)\" d=\"M 0 0 M81.6633 1229.8 L86.5475 1229.8 L86.5475 1235.68 L81.6633 1235.68 L81.6633 1229.8 Z\" fill=\"#000000\" fill-rule=\"evenodd\" fill-opacity=\"1\" /><path clip-path=\"url(#clip570)\" d=\"M 0 0 M101.617 1204.2 Q98.0058 1204.2 96.1771 1207.76 Q94.3715 1211.3 94.3715 1218.43 Q94.3715 1225.54 96.1771 1229.1 Q98.0058 1232.64 101.617 1232.64 Q105.251 1232.64 107.057 1229.1 Q108.885 1225.54 108.885 1218.43 Q108.885 1211.3 107.057 1207.76 Q105.251 1204.2 101.617 1204.2 M101.617 1200.49 Q107.427 1200.49 110.483 1205.1 Q113.561 1209.68 113.561 1218.43 Q113.561 1227.16 110.483 1231.76 Q107.427 1236.35 101.617 1236.35 Q95.8067 1236.35 92.728 1231.76 Q89.6725 1227.16 89.6725 1218.43 Q89.6725 1209.68 92.728 1205.1 Q95.8067 1200.49 101.617 1200.49 Z\" fill=\"#000000\" fill-rule=\"evenodd\" fill-opacity=\"1\" /><path clip-path=\"url(#clip570)\" d=\"M 0 0 M119.441 1231.74 L127.08 1231.74 L127.08 1205.38 L118.77 1207.04 L118.77 1202.78 L127.033 1201.12 L131.709 1201.12 L131.709 1231.74 L139.348 1231.74 L139.348 1235.68 L119.441 1235.68 L119.441 1231.74 Z\" fill=\"#000000\" fill-rule=\"evenodd\" fill-opacity=\"1\" /><path clip-path=\"url(#clip570)\" d=\"M 0 0 M65.0198 988.811 Q61.4087 988.811 59.58 992.376 Q57.7745 995.918 57.7745 1003.05 Q57.7745 1010.15 59.58 1013.72 Q61.4087 1017.26 65.0198 1017.26 Q68.6541 1017.26 70.4596 1013.72 Q72.2883 1010.15 72.2883 1003.05 Q72.2883 995.918 70.4596 992.376 Q68.6541 988.811 65.0198 988.811 M65.0198 985.108 Q70.83 985.108 73.8855 989.714 Q76.9642 994.297 76.9642 1003.05 Q76.9642 1011.77 73.8855 1016.38 Q70.83 1020.96 65.0198 1020.96 Q59.2097 1020.96 56.131 1016.38 Q53.0754 1011.77 53.0754 1003.05 Q53.0754 994.297 56.131 989.714 Q59.2097 985.108 65.0198 985.108 Z\" fill=\"#000000\" fill-rule=\"evenodd\" fill-opacity=\"1\" /><path clip-path=\"url(#clip570)\" d=\"M 0 0 M82.0336 1014.41 L86.9179 1014.41 L86.9179 1020.29 L82.0336 1020.29 L82.0336 1014.41 Z\" fill=\"#000000\" fill-rule=\"evenodd\" fill-opacity=\"1\" /><path clip-path=\"url(#clip570)\" d=\"M 0 0 M101.987 988.811 Q98.3761 988.811 96.5474 992.376 Q94.7419 995.918 94.7419 1003.05 Q94.7419 1010.15 96.5474 1013.72 Q98.3761 1017.26 101.987 1017.26 Q105.621 1017.26 107.427 1013.72 Q109.256 1010.15 109.256 1003.05 Q109.256 995.918 107.427 992.376 Q105.621 988.811 101.987 988.811 M101.987 985.108 Q107.797 985.108 110.853 989.714 Q113.932 994.297 113.932 1003.05 Q113.932 1011.77 110.853 1016.38 Q107.797 1020.96 101.987 1020.96 Q96.1771 1020.96 93.0984 1016.38 Q90.0428 1011.77 90.0428 1003.05 Q90.0428 994.297 93.0984 989.714 Q96.1771 985.108 101.987 985.108 Z\" fill=\"#000000\" fill-rule=\"evenodd\" fill-opacity=\"1\" /><path clip-path=\"url(#clip570)\" d=\"M 0 0 M123.029 1016.36 L139.348 1016.36 L139.348 1020.29 L117.404 1020.29 L117.404 1016.36 Q120.066 1013.6 124.649 1008.97 Q129.256 1004.32 130.436 1002.98 Q132.682 1000.45 133.561 998.719 Q134.464 996.959 134.464 995.27 Q134.464 992.515 132.519 990.779 Q130.598 989.043 127.496 989.043 Q125.297 989.043 122.844 989.807 Q120.413 990.57 117.635 992.121 L117.635 987.399 Q120.459 986.265 122.913 985.686 Q125.367 985.108 127.404 985.108 Q132.774 985.108 135.969 987.793 Q139.163 990.478 139.163 994.969 Q139.163 997.098 138.353 999.019 Q137.566 1000.92 135.459 1003.51 Q134.881 1004.18 131.779 1007.4 Q128.677 1010.59 123.029 1016.36 Z\" fill=\"#000000\" fill-rule=\"evenodd\" fill-opacity=\"1\" /><path clip-path=\"url(#clip570)\" d=\"M 0 0 M64.0708 773.427 Q60.4597 773.427 58.631 776.992 Q56.8254 780.533 56.8254 787.663 Q56.8254 794.769 58.631 798.334 Q60.4597 801.876 64.0708 801.876 Q67.705 801.876 69.5105 798.334 Q71.3392 794.769 71.3392 787.663 Q71.3392 780.533 69.5105 776.992 Q67.705 773.427 64.0708 773.427 M64.0708 769.723 Q69.8809 769.723 72.9365 774.33 Q76.0151 778.913 76.0151 787.663 Q76.0151 796.39 72.9365 800.996 Q69.8809 805.579 64.0708 805.579 Q58.2606 805.579 55.1819 800.996 Q52.1264 796.39 52.1264 787.663 Q52.1264 778.913 55.1819 774.33 Q58.2606 769.723 64.0708 769.723 Z\" fill=\"#000000\" fill-rule=\"evenodd\" fill-opacity=\"1\" /><path clip-path=\"url(#clip570)\" d=\"M 0 0 M81.0846 799.028 L85.9688 799.028 L85.9688 804.908 L81.0846 804.908 L81.0846 799.028 Z\" fill=\"#000000\" fill-rule=\"evenodd\" fill-opacity=\"1\" /><path clip-path=\"url(#clip570)\" d=\"M 0 0 M101.038 773.427 Q97.4271 773.427 95.5984 776.992 Q93.7928 780.533 93.7928 787.663 Q93.7928 794.769 95.5984 798.334 Q97.4271 801.876 101.038 801.876 Q104.672 801.876 106.478 798.334 Q108.307 794.769 108.307 787.663 Q108.307 780.533 106.478 776.992 Q104.672 773.427 101.038 773.427 M101.038 769.723 Q106.848 769.723 109.904 774.33 Q112.983 778.913 112.983 787.663 Q112.983 796.39 109.904 800.996 Q106.848 805.579 101.038 805.579 Q95.228 805.579 92.1493 800.996 Q89.0938 796.39 89.0938 787.663 Q89.0938 778.913 92.1493 774.33 Q95.228 769.723 101.038 769.723 Z\" fill=\"#000000\" fill-rule=\"evenodd\" fill-opacity=\"1\" /><path clip-path=\"url(#clip570)\" d=\"M 0 0 M132.219 786.274 Q135.575 786.992 137.45 789.26 Q139.348 791.529 139.348 794.862 Q139.348 799.978 135.83 802.778 Q132.311 805.579 125.83 805.579 Q123.654 805.579 121.339 805.14 Q119.047 804.723 116.594 803.866 L116.594 799.353 Q118.538 800.487 120.853 801.066 Q123.168 801.644 125.691 801.644 Q130.089 801.644 132.381 799.908 Q134.695 798.172 134.695 794.862 Q134.695 791.806 132.543 790.093 Q130.413 788.357 126.594 788.357 L122.566 788.357 L122.566 784.515 L126.779 784.515 Q130.228 784.515 132.057 783.149 Q133.885 781.76 133.885 779.167 Q133.885 776.505 131.987 775.093 Q130.112 773.658 126.594 773.658 Q124.672 773.658 122.473 774.075 Q120.274 774.492 117.635 775.371 L117.635 771.205 Q120.297 770.464 122.612 770.093 Q124.95 769.723 127.01 769.723 Q132.334 769.723 135.436 772.154 Q138.538 774.561 138.538 778.681 Q138.538 781.552 136.894 783.542 Q135.251 785.51 132.219 786.274 Z\" fill=\"#000000\" fill-rule=\"evenodd\" fill-opacity=\"1\" /><path clip-path=\"url(#clip570)\" d=\"M 0 0 M62.9365 558.042 Q59.3254 558.042 57.4967 561.607 Q55.6912 565.149 55.6912 572.278 Q55.6912 579.385 57.4967 582.95 Q59.3254 586.491 62.9365 586.491 Q66.5707 586.491 68.3763 582.95 Q70.205 579.385 70.205 572.278 Q70.205 565.149 68.3763 561.607 Q66.5707 558.042 62.9365 558.042 M62.9365 554.339 Q68.7467 554.339 71.8022 558.945 Q74.8809 563.528 74.8809 572.278 Q74.8809 581.005 71.8022 585.612 Q68.7467 590.195 62.9365 590.195 Q57.1264 590.195 54.0477 585.612 Q50.9921 581.005 50.9921 572.278 Q50.9921 563.528 54.0477 558.945 Q57.1264 554.339 62.9365 554.339 Z\" fill=\"#000000\" fill-rule=\"evenodd\" fill-opacity=\"1\" /><path clip-path=\"url(#clip570)\" d=\"M 0 0 M79.9503 583.644 L84.8345 583.644 L84.8345 589.524 L79.9503 589.524 L79.9503 583.644 Z\" fill=\"#000000\" fill-rule=\"evenodd\" fill-opacity=\"1\" /><path clip-path=\"url(#clip570)\" d=\"M 0 0 M99.9039 558.042 Q96.2928 558.042 94.4641 561.607 Q92.6586 565.149 92.6586 572.278 Q92.6586 579.385 94.4641 582.95 Q96.2928 586.491 99.9039 586.491 Q103.538 586.491 105.344 582.95 Q107.172 579.385 107.172 572.278 Q107.172 565.149 105.344 561.607 Q103.538 558.042 99.9039 558.042 M99.9039 554.339 Q105.714 554.339 108.77 558.945 Q111.848 563.528 111.848 572.278 Q111.848 581.005 108.77 585.612 Q105.714 590.195 99.9039 590.195 Q94.0937 590.195 91.0151 585.612 Q87.9595 581.005 87.9595 572.278 Q87.9595 563.528 91.0151 558.945 Q94.0937 554.339 99.9039 554.339 Z\" fill=\"#000000\" fill-rule=\"evenodd\" fill-opacity=\"1\" /><path clip-path=\"url(#clip570)\" d=\"M 0 0 M129.765 559.038 L117.959 577.487 L129.765 577.487 L129.765 559.038 M128.538 554.964 L134.418 554.964 L134.418 577.487 L139.348 577.487 L139.348 581.376 L134.418 581.376 L134.418 589.524 L129.765 589.524 L129.765 581.376 L114.163 581.376 L114.163 576.862 L128.538 554.964 Z\" fill=\"#000000\" fill-rule=\"evenodd\" fill-opacity=\"1\" /><path clip-path=\"url(#clip570)\" d=\"M 0 0 M64.418 342.658 Q60.8069 342.658 58.9782 346.223 Q57.1726 349.764 57.1726 356.894 Q57.1726 364 58.9782 367.565 Q60.8069 371.107 64.418 371.107 Q68.0522 371.107 69.8578 367.565 Q71.6865 364 71.6865 356.894 Q71.6865 349.764 69.8578 346.223 Q68.0522 342.658 64.418 342.658 M64.418 338.954 Q70.2281 338.954 73.2837 343.561 Q76.3624 348.144 76.3624 356.894 Q76.3624 365.621 73.2837 370.227 Q70.2281 374.81 64.418 374.81 Q58.6078 374.81 55.5291 370.227 Q52.4736 365.621 52.4736 356.894 Q52.4736 348.144 55.5291 343.561 Q58.6078 338.954 64.418 338.954 Z\" fill=\"#000000\" fill-rule=\"evenodd\" fill-opacity=\"1\" /><path clip-path=\"url(#clip570)\" d=\"M 0 0 M81.4318 368.26 L86.316 368.26 L86.316 374.139 L81.4318 374.139 L81.4318 368.26 Z\" fill=\"#000000\" fill-rule=\"evenodd\" fill-opacity=\"1\" /><path clip-path=\"url(#clip570)\" d=\"M 0 0 M101.385 342.658 Q97.7743 342.658 95.9456 346.223 Q94.14 349.764 94.14 356.894 Q94.14 364 95.9456 367.565 Q97.7743 371.107 101.385 371.107 Q105.02 371.107 106.825 367.565 Q108.654 364 108.654 356.894 Q108.654 349.764 106.825 346.223 Q105.02 342.658 101.385 342.658 M101.385 338.954 Q107.196 338.954 110.251 343.561 Q113.33 348.144 113.33 356.894 Q113.33 365.621 110.251 370.227 Q107.196 374.81 101.385 374.81 Q95.5752 374.81 92.4965 370.227 Q89.441 365.621 89.441 356.894 Q89.441 348.144 92.4965 343.561 Q95.5752 338.954 101.385 338.954 Z\" fill=\"#000000\" fill-rule=\"evenodd\" fill-opacity=\"1\" /><path clip-path=\"url(#clip570)\" d=\"M 0 0 M118.445 339.579 L136.802 339.579 L136.802 343.514 L122.728 343.514 L122.728 351.987 Q123.746 351.639 124.765 351.477 Q125.783 351.292 126.802 351.292 Q132.589 351.292 135.969 354.463 Q139.348 357.635 139.348 363.051 Q139.348 368.63 135.876 371.732 Q132.404 374.81 126.084 374.81 Q123.908 374.81 121.64 374.44 Q119.395 374.07 116.987 373.329 L116.987 368.63 Q119.07 369.764 121.293 370.32 Q123.515 370.875 125.992 370.875 Q129.996 370.875 132.334 368.769 Q134.672 366.662 134.672 363.051 Q134.672 359.44 132.334 357.334 Q129.996 355.227 125.992 355.227 Q124.117 355.227 122.242 355.644 Q120.39 356.061 118.445 356.94 L118.445 339.579 Z\" fill=\"#000000\" fill-rule=\"evenodd\" fill-opacity=\"1\" /><path clip-path=\"url(#clip570)\" d=\"M 0 0 M63.2606 127.273 Q59.6495 127.273 57.8208 130.838 Q56.0152 134.38 56.0152 141.509 Q56.0152 148.616 57.8208 152.181 Q59.6495 155.722 63.2606 155.722 Q66.8948 155.722 68.7004 152.181 Q70.5291 148.616 70.5291 141.509 Q70.5291 134.38 68.7004 130.838 Q66.8948 127.273 63.2606 127.273 M63.2606 123.57 Q69.0707 123.57 72.1263 128.176 Q75.205 132.76 75.205 141.509 Q75.205 150.236 72.1263 154.843 Q69.0707 159.426 63.2606 159.426 Q57.4504 159.426 54.3717 154.843 Q51.3162 150.236 51.3162 141.509 Q51.3162 132.76 54.3717 128.176 Q57.4504 123.57 63.2606 123.57 Z\" fill=\"#000000\" fill-rule=\"evenodd\" fill-opacity=\"1\" /><path clip-path=\"url(#clip570)\" d=\"M 0 0 M80.2744 152.875 L85.1586 152.875 L85.1586 158.755 L80.2744 158.755 L80.2744 152.875 Z\" fill=\"#000000\" fill-rule=\"evenodd\" fill-opacity=\"1\" /><path clip-path=\"url(#clip570)\" d=\"M 0 0 M100.228 127.273 Q96.6169 127.273 94.7882 130.838 Q92.9826 134.38 92.9826 141.509 Q92.9826 148.616 94.7882 152.181 Q96.6169 155.722 100.228 155.722 Q103.862 155.722 105.668 152.181 Q107.496 148.616 107.496 141.509 Q107.496 134.38 105.668 130.838 Q103.862 127.273 100.228 127.273 M100.228 123.57 Q106.038 123.57 109.094 128.176 Q112.172 132.76 112.172 141.509 Q112.172 150.236 109.094 154.843 Q106.038 159.426 100.228 159.426 Q94.4178 159.426 91.3391 154.843 Q88.2836 150.236 88.2836 141.509 Q88.2836 132.76 91.3391 128.176 Q94.4178 123.57 100.228 123.57 Z\" fill=\"#000000\" fill-rule=\"evenodd\" fill-opacity=\"1\" /><path clip-path=\"url(#clip570)\" d=\"M 0 0 M127.82 139.611 Q124.672 139.611 122.82 141.764 Q120.992 143.917 120.992 147.667 Q120.992 151.394 122.82 153.57 Q124.672 155.722 127.82 155.722 Q130.969 155.722 132.797 153.57 Q134.649 151.394 134.649 147.667 Q134.649 143.917 132.797 141.764 Q130.969 139.611 127.82 139.611 M137.103 124.959 L137.103 129.218 Q135.344 128.385 133.538 127.945 Q131.756 127.505 129.996 127.505 Q125.367 127.505 122.913 130.63 Q120.482 133.755 120.135 140.074 Q121.501 138.06 123.561 136.996 Q125.621 135.908 128.098 135.908 Q133.306 135.908 136.316 139.079 Q139.348 142.227 139.348 147.667 Q139.348 152.991 136.2 156.208 Q133.052 159.426 127.82 159.426 Q121.825 159.426 118.654 154.843 Q115.483 150.236 115.483 141.509 Q115.483 133.315 119.371 128.454 Q123.26 123.57 129.811 123.57 Q131.57 123.57 133.353 123.917 Q135.158 124.264 137.103 124.959 Z\" fill=\"#000000\" fill-rule=\"evenodd\" fill-opacity=\"1\" /><circle clip-path=\"url(#clip572)\" cx=\"2291.13\" cy=\"87.6286\" r=\"14\" fill=\"#009af9\" fill-rule=\"evenodd\" fill-opacity=\"1\" stroke=\"#000000\" stroke-opacity=\"1\" stroke-width=\"3.2\"/>\n<circle clip-path=\"url(#clip572)\" cx=\"2193.31\" cy=\"87.6286\" r=\"14\" fill=\"#009af9\" fill-rule=\"evenodd\" fill-opacity=\"1\" stroke=\"#000000\" stroke-opacity=\"1\" stroke-width=\"3.2\"/>\n<circle clip-path=\"url(#clip572)\" cx=\"2100.15\" cy=\"87.6286\" r=\"14\" fill=\"#009af9\" fill-rule=\"evenodd\" fill-opacity=\"1\" stroke=\"#000000\" stroke-opacity=\"1\" stroke-width=\"3.2\"/>\n<circle clip-path=\"url(#clip572)\" cx=\"2011.43\" cy=\"87.6286\" r=\"14\" fill=\"#009af9\" fill-rule=\"evenodd\" fill-opacity=\"1\" stroke=\"#000000\" stroke-opacity=\"1\" stroke-width=\"3.2\"/>\n<circle clip-path=\"url(#clip572)\" cx=\"1926.93\" cy=\"87.6286\" r=\"14\" fill=\"#009af9\" fill-rule=\"evenodd\" fill-opacity=\"1\" stroke=\"#000000\" stroke-opacity=\"1\" stroke-width=\"3.2\"/>\n<circle clip-path=\"url(#clip572)\" cx=\"1846.46\" cy=\"87.6286\" r=\"14\" fill=\"#009af9\" fill-rule=\"evenodd\" fill-opacity=\"1\" stroke=\"#000000\" stroke-opacity=\"1\" stroke-width=\"3.2\"/>\n<circle clip-path=\"url(#clip572)\" cx=\"1769.82\" cy=\"87.6286\" r=\"14\" fill=\"#009af9\" fill-rule=\"evenodd\" fill-opacity=\"1\" stroke=\"#000000\" stroke-opacity=\"1\" stroke-width=\"3.2\"/>\n<circle clip-path=\"url(#clip572)\" cx=\"1696.82\" cy=\"87.6286\" r=\"14\" fill=\"#009af9\" fill-rule=\"evenodd\" fill-opacity=\"1\" stroke=\"#000000\" stroke-opacity=\"1\" stroke-width=\"3.2\"/>\n<circle clip-path=\"url(#clip572)\" cx=\"1627.31\" cy=\"87.6286\" r=\"14\" fill=\"#009af9\" fill-rule=\"evenodd\" fill-opacity=\"1\" stroke=\"#000000\" stroke-opacity=\"1\" stroke-width=\"3.2\"/>\n<circle clip-path=\"url(#clip572)\" cx=\"1561.1\" cy=\"87.6286\" r=\"14\" fill=\"#009af9\" fill-rule=\"evenodd\" fill-opacity=\"1\" stroke=\"#000000\" stroke-opacity=\"1\" stroke-width=\"3.2\"/>\n<circle clip-path=\"url(#clip572)\" cx=\"1498.05\" cy=\"87.6286\" r=\"14\" fill=\"#009af9\" fill-rule=\"evenodd\" fill-opacity=\"1\" stroke=\"#000000\" stroke-opacity=\"1\" stroke-width=\"3.2\"/>\n<circle clip-path=\"url(#clip572)\" cx=\"1438\" cy=\"87.6286\" r=\"14\" fill=\"#009af9\" fill-rule=\"evenodd\" fill-opacity=\"1\" stroke=\"#000000\" stroke-opacity=\"1\" stroke-width=\"3.2\"/>\n<circle clip-path=\"url(#clip572)\" cx=\"1380.8\" cy=\"87.6286\" r=\"14\" fill=\"#009af9\" fill-rule=\"evenodd\" fill-opacity=\"1\" stroke=\"#000000\" stroke-opacity=\"1\" stroke-width=\"3.2\"/>\n<circle clip-path=\"url(#clip572)\" cx=\"1326.34\" cy=\"87.6286\" r=\"14\" fill=\"#009af9\" fill-rule=\"evenodd\" fill-opacity=\"1\" stroke=\"#000000\" stroke-opacity=\"1\" stroke-width=\"3.2\"/>\n<circle clip-path=\"url(#clip572)\" cx=\"1274.46\" cy=\"760.705\" r=\"14\" fill=\"#009af9\" fill-rule=\"evenodd\" fill-opacity=\"1\" stroke=\"#000000\" stroke-opacity=\"1\" stroke-width=\"3.2\"/>\n<circle clip-path=\"url(#clip572)\" cx=\"1225.06\" cy=\"760.705\" r=\"14\" fill=\"#009af9\" fill-rule=\"evenodd\" fill-opacity=\"1\" stroke=\"#000000\" stroke-opacity=\"1\" stroke-width=\"3.2\"/>\n<circle clip-path=\"url(#clip572)\" cx=\"1178.01\" cy=\"760.705\" r=\"14\" fill=\"#009af9\" fill-rule=\"evenodd\" fill-opacity=\"1\" stroke=\"#000000\" stroke-opacity=\"1\" stroke-width=\"3.2\"/>\n<circle clip-path=\"url(#clip572)\" cx=\"1133.19\" cy=\"760.705\" r=\"14\" fill=\"#009af9\" fill-rule=\"evenodd\" fill-opacity=\"1\" stroke=\"#000000\" stroke-opacity=\"1\" stroke-width=\"3.2\"/>\n<circle clip-path=\"url(#clip572)\" cx=\"1090.52\" cy=\"760.705\" r=\"14\" fill=\"#009af9\" fill-rule=\"evenodd\" fill-opacity=\"1\" stroke=\"#000000\" stroke-opacity=\"1\" stroke-width=\"3.2\"/>\n<circle clip-path=\"url(#clip572)\" cx=\"1049.87\" cy=\"760.705\" r=\"14\" fill=\"#009af9\" fill-rule=\"evenodd\" fill-opacity=\"1\" stroke=\"#000000\" stroke-opacity=\"1\" stroke-width=\"3.2\"/>\n<circle clip-path=\"url(#clip572)\" cx=\"1011.16\" cy=\"760.705\" r=\"14\" fill=\"#009af9\" fill-rule=\"evenodd\" fill-opacity=\"1\" stroke=\"#000000\" stroke-opacity=\"1\" stroke-width=\"3.2\"/>\n<circle clip-path=\"url(#clip572)\" cx=\"974.297\" cy=\"760.705\" r=\"14\" fill=\"#009af9\" fill-rule=\"evenodd\" fill-opacity=\"1\" stroke=\"#000000\" stroke-opacity=\"1\" stroke-width=\"3.2\"/>\n<circle clip-path=\"url(#clip572)\" cx=\"939.186\" cy=\"760.705\" r=\"14\" fill=\"#009af9\" fill-rule=\"evenodd\" fill-opacity=\"1\" stroke=\"#000000\" stroke-opacity=\"1\" stroke-width=\"3.2\"/>\n<circle clip-path=\"url(#clip572)\" cx=\"905.747\" cy=\"760.705\" r=\"14\" fill=\"#009af9\" fill-rule=\"evenodd\" fill-opacity=\"1\" stroke=\"#000000\" stroke-opacity=\"1\" stroke-width=\"3.2\"/>\n<circle clip-path=\"url(#clip572)\" cx=\"873.901\" cy=\"760.705\" r=\"14\" fill=\"#009af9\" fill-rule=\"evenodd\" fill-opacity=\"1\" stroke=\"#000000\" stroke-opacity=\"1\" stroke-width=\"3.2\"/>\n<circle clip-path=\"url(#clip572)\" cx=\"843.571\" cy=\"760.705\" r=\"14\" fill=\"#009af9\" fill-rule=\"evenodd\" fill-opacity=\"1\" stroke=\"#000000\" stroke-opacity=\"1\" stroke-width=\"3.2\"/>\n<circle clip-path=\"url(#clip572)\" cx=\"814.685\" cy=\"760.705\" r=\"14\" fill=\"#009af9\" fill-rule=\"evenodd\" fill-opacity=\"1\" stroke=\"#000000\" stroke-opacity=\"1\" stroke-width=\"3.2\"/>\n<circle clip-path=\"url(#clip572)\" cx=\"787.175\" cy=\"760.705\" r=\"14\" fill=\"#009af9\" fill-rule=\"evenodd\" fill-opacity=\"1\" stroke=\"#000000\" stroke-opacity=\"1\" stroke-width=\"3.2\"/>\n<circle clip-path=\"url(#clip572)\" cx=\"760.975\" cy=\"1097.24\" r=\"14\" fill=\"#009af9\" fill-rule=\"evenodd\" fill-opacity=\"1\" stroke=\"#000000\" stroke-opacity=\"1\" stroke-width=\"3.2\"/>\n<circle clip-path=\"url(#clip572)\" cx=\"736.022\" cy=\"1097.24\" r=\"14\" fill=\"#009af9\" fill-rule=\"evenodd\" fill-opacity=\"1\" stroke=\"#000000\" stroke-opacity=\"1\" stroke-width=\"3.2\"/>\n<circle clip-path=\"url(#clip572)\" cx=\"712.258\" cy=\"1097.24\" r=\"14\" fill=\"#009af9\" fill-rule=\"evenodd\" fill-opacity=\"1\" stroke=\"#000000\" stroke-opacity=\"1\" stroke-width=\"3.2\"/>\n<circle clip-path=\"url(#clip572)\" cx=\"689.625\" cy=\"1097.24\" r=\"14\" fill=\"#009af9\" fill-rule=\"evenodd\" fill-opacity=\"1\" stroke=\"#000000\" stroke-opacity=\"1\" stroke-width=\"3.2\"/>\n<circle clip-path=\"url(#clip572)\" cx=\"668.07\" cy=\"1097.24\" r=\"14\" fill=\"#009af9\" fill-rule=\"evenodd\" fill-opacity=\"1\" stroke=\"#000000\" stroke-opacity=\"1\" stroke-width=\"3.2\"/>\n<circle clip-path=\"url(#clip572)\" cx=\"647.542\" cy=\"1097.24\" r=\"14\" fill=\"#009af9\" fill-rule=\"evenodd\" fill-opacity=\"1\" stroke=\"#000000\" stroke-opacity=\"1\" stroke-width=\"3.2\"/>\n<circle clip-path=\"url(#clip572)\" cx=\"627.991\" cy=\"1097.24\" r=\"14\" fill=\"#009af9\" fill-rule=\"evenodd\" fill-opacity=\"1\" stroke=\"#000000\" stroke-opacity=\"1\" stroke-width=\"3.2\"/>\n<circle clip-path=\"url(#clip572)\" cx=\"609.371\" cy=\"1097.24\" r=\"14\" fill=\"#009af9\" fill-rule=\"evenodd\" fill-opacity=\"1\" stroke=\"#000000\" stroke-opacity=\"1\" stroke-width=\"3.2\"/>\n<circle clip-path=\"url(#clip572)\" cx=\"591.638\" cy=\"1097.24\" r=\"14\" fill=\"#009af9\" fill-rule=\"evenodd\" fill-opacity=\"1\" stroke=\"#000000\" stroke-opacity=\"1\" stroke-width=\"3.2\"/>\n<circle clip-path=\"url(#clip572)\" cx=\"574.749\" cy=\"1097.24\" r=\"14\" fill=\"#009af9\" fill-rule=\"evenodd\" fill-opacity=\"1\" stroke=\"#000000\" stroke-opacity=\"1\" stroke-width=\"3.2\"/>\n<circle clip-path=\"url(#clip572)\" cx=\"558.664\" cy=\"1097.24\" r=\"14\" fill=\"#009af9\" fill-rule=\"evenodd\" fill-opacity=\"1\" stroke=\"#000000\" stroke-opacity=\"1\" stroke-width=\"3.2\"/>\n<circle clip-path=\"url(#clip572)\" cx=\"543.345\" cy=\"1097.24\" r=\"14\" fill=\"#009af9\" fill-rule=\"evenodd\" fill-opacity=\"1\" stroke=\"#000000\" stroke-opacity=\"1\" stroke-width=\"3.2\"/>\n<circle clip-path=\"url(#clip572)\" cx=\"528.756\" cy=\"1097.24\" r=\"14\" fill=\"#009af9\" fill-rule=\"evenodd\" fill-opacity=\"1\" stroke=\"#000000\" stroke-opacity=\"1\" stroke-width=\"3.2\"/>\n<circle clip-path=\"url(#clip572)\" cx=\"514.861\" cy=\"1097.24\" r=\"14\" fill=\"#009af9\" fill-rule=\"evenodd\" fill-opacity=\"1\" stroke=\"#000000\" stroke-opacity=\"1\" stroke-width=\"3.2\"/>\n<circle clip-path=\"url(#clip572)\" cx=\"501.629\" cy=\"1265.51\" r=\"14\" fill=\"#009af9\" fill-rule=\"evenodd\" fill-opacity=\"1\" stroke=\"#000000\" stroke-opacity=\"1\" stroke-width=\"3.2\"/>\n<circle clip-path=\"url(#clip572)\" cx=\"489.026\" cy=\"1265.51\" r=\"14\" fill=\"#009af9\" fill-rule=\"evenodd\" fill-opacity=\"1\" stroke=\"#000000\" stroke-opacity=\"1\" stroke-width=\"3.2\"/>\n<circle clip-path=\"url(#clip572)\" cx=\"477.023\" cy=\"1265.51\" r=\"14\" fill=\"#009af9\" fill-rule=\"evenodd\" fill-opacity=\"1\" stroke=\"#000000\" stroke-opacity=\"1\" stroke-width=\"3.2\"/>\n<circle clip-path=\"url(#clip572)\" cx=\"465.592\" cy=\"1265.51\" r=\"14\" fill=\"#009af9\" fill-rule=\"evenodd\" fill-opacity=\"1\" stroke=\"#000000\" stroke-opacity=\"1\" stroke-width=\"3.2\"/>\n<circle clip-path=\"url(#clip572)\" cx=\"454.706\" cy=\"1265.51\" r=\"14\" fill=\"#009af9\" fill-rule=\"evenodd\" fill-opacity=\"1\" stroke=\"#000000\" stroke-opacity=\"1\" stroke-width=\"3.2\"/>\n<circle clip-path=\"url(#clip572)\" cx=\"444.337\" cy=\"1265.51\" r=\"14\" fill=\"#009af9\" fill-rule=\"evenodd\" fill-opacity=\"1\" stroke=\"#000000\" stroke-opacity=\"1\" stroke-width=\"3.2\"/>\n<circle clip-path=\"url(#clip572)\" cx=\"434.463\" cy=\"1265.51\" r=\"14\" fill=\"#009af9\" fill-rule=\"evenodd\" fill-opacity=\"1\" stroke=\"#000000\" stroke-opacity=\"1\" stroke-width=\"3.2\"/>\n<circle clip-path=\"url(#clip572)\" cx=\"425.058\" cy=\"1265.51\" r=\"14\" fill=\"#009af9\" fill-rule=\"evenodd\" fill-opacity=\"1\" stroke=\"#000000\" stroke-opacity=\"1\" stroke-width=\"3.2\"/>\n<circle clip-path=\"url(#clip572)\" cx=\"416.102\" cy=\"1265.51\" r=\"14\" fill=\"#009af9\" fill-rule=\"evenodd\" fill-opacity=\"1\" stroke=\"#000000\" stroke-opacity=\"1\" stroke-width=\"3.2\"/>\n<circle clip-path=\"url(#clip572)\" cx=\"407.572\" cy=\"1265.51\" r=\"14\" fill=\"#009af9\" fill-rule=\"evenodd\" fill-opacity=\"1\" stroke=\"#000000\" stroke-opacity=\"1\" stroke-width=\"3.2\"/>\n<circle clip-path=\"url(#clip572)\" cx=\"399.448\" cy=\"1265.51\" r=\"14\" fill=\"#009af9\" fill-rule=\"evenodd\" fill-opacity=\"1\" stroke=\"#000000\" stroke-opacity=\"1\" stroke-width=\"3.2\"/>\n<circle clip-path=\"url(#clip572)\" cx=\"391.711\" cy=\"1265.51\" r=\"14\" fill=\"#009af9\" fill-rule=\"evenodd\" fill-opacity=\"1\" stroke=\"#000000\" stroke-opacity=\"1\" stroke-width=\"3.2\"/>\n<circle clip-path=\"url(#clip572)\" cx=\"384.342\" cy=\"1265.51\" r=\"14\" fill=\"#009af9\" fill-rule=\"evenodd\" fill-opacity=\"1\" stroke=\"#000000\" stroke-opacity=\"1\" stroke-width=\"3.2\"/>\n<circle clip-path=\"url(#clip572)\" cx=\"377.325\" cy=\"1265.51\" r=\"14\" fill=\"#009af9\" fill-rule=\"evenodd\" fill-opacity=\"1\" stroke=\"#000000\" stroke-opacity=\"1\" stroke-width=\"3.2\"/>\n<circle clip-path=\"url(#clip572)\" cx=\"370.641\" cy=\"1349.65\" r=\"14\" fill=\"#009af9\" fill-rule=\"evenodd\" fill-opacity=\"1\" stroke=\"#000000\" stroke-opacity=\"1\" stroke-width=\"3.2\"/>\n<circle clip-path=\"url(#clip572)\" cx=\"364.276\" cy=\"1349.65\" r=\"14\" fill=\"#009af9\" fill-rule=\"evenodd\" fill-opacity=\"1\" stroke=\"#000000\" stroke-opacity=\"1\" stroke-width=\"3.2\"/>\n<circle clip-path=\"url(#clip572)\" cx=\"358.214\" cy=\"1349.65\" r=\"14\" fill=\"#009af9\" fill-rule=\"evenodd\" fill-opacity=\"1\" stroke=\"#000000\" stroke-opacity=\"1\" stroke-width=\"3.2\"/>\n<circle clip-path=\"url(#clip572)\" cx=\"352.44\" cy=\"1349.65\" r=\"14\" fill=\"#009af9\" fill-rule=\"evenodd\" fill-opacity=\"1\" stroke=\"#000000\" stroke-opacity=\"1\" stroke-width=\"3.2\"/>\n<circle clip-path=\"url(#clip572)\" cx=\"346.942\" cy=\"1349.65\" r=\"14\" fill=\"#009af9\" fill-rule=\"evenodd\" fill-opacity=\"1\" stroke=\"#000000\" stroke-opacity=\"1\" stroke-width=\"3.2\"/>\n<circle clip-path=\"url(#clip572)\" cx=\"341.705\" cy=\"1349.65\" r=\"14\" fill=\"#009af9\" fill-rule=\"evenodd\" fill-opacity=\"1\" stroke=\"#000000\" stroke-opacity=\"1\" stroke-width=\"3.2\"/>\n<circle clip-path=\"url(#clip572)\" cx=\"336.718\" cy=\"1349.65\" r=\"14\" fill=\"#009af9\" fill-rule=\"evenodd\" fill-opacity=\"1\" stroke=\"#000000\" stroke-opacity=\"1\" stroke-width=\"3.2\"/>\n<circle clip-path=\"url(#clip572)\" cx=\"331.968\" cy=\"1349.65\" r=\"14\" fill=\"#009af9\" fill-rule=\"evenodd\" fill-opacity=\"1\" stroke=\"#000000\" stroke-opacity=\"1\" stroke-width=\"3.2\"/>\n<circle clip-path=\"url(#clip572)\" cx=\"327.444\" cy=\"1349.65\" r=\"14\" fill=\"#009af9\" fill-rule=\"evenodd\" fill-opacity=\"1\" stroke=\"#000000\" stroke-opacity=\"1\" stroke-width=\"3.2\"/>\n<circle clip-path=\"url(#clip572)\" cx=\"323.136\" cy=\"1349.65\" r=\"14\" fill=\"#009af9\" fill-rule=\"evenodd\" fill-opacity=\"1\" stroke=\"#000000\" stroke-opacity=\"1\" stroke-width=\"3.2\"/>\n<circle clip-path=\"url(#clip572)\" cx=\"319.033\" cy=\"1349.65\" r=\"14\" fill=\"#009af9\" fill-rule=\"evenodd\" fill-opacity=\"1\" stroke=\"#000000\" stroke-opacity=\"1\" stroke-width=\"3.2\"/>\n<circle clip-path=\"url(#clip572)\" cx=\"315.125\" cy=\"1349.65\" r=\"14\" fill=\"#009af9\" fill-rule=\"evenodd\" fill-opacity=\"1\" stroke=\"#000000\" stroke-opacity=\"1\" stroke-width=\"3.2\"/>\n<circle clip-path=\"url(#clip572)\" cx=\"311.404\" cy=\"1349.65\" r=\"14\" fill=\"#009af9\" fill-rule=\"evenodd\" fill-opacity=\"1\" stroke=\"#000000\" stroke-opacity=\"1\" stroke-width=\"3.2\"/>\n<circle clip-path=\"url(#clip572)\" cx=\"307.859\" cy=\"1349.65\" r=\"14\" fill=\"#009af9\" fill-rule=\"evenodd\" fill-opacity=\"1\" stroke=\"#000000\" stroke-opacity=\"1\" stroke-width=\"3.2\"/>\n<circle clip-path=\"url(#clip572)\" cx=\"304.483\" cy=\"1349.65\" r=\"14\" fill=\"#009af9\" fill-rule=\"evenodd\" fill-opacity=\"1\" stroke=\"#000000\" stroke-opacity=\"1\" stroke-width=\"3.2\"/>\n<circle clip-path=\"url(#clip572)\" cx=\"301.269\" cy=\"1391.71\" r=\"14\" fill=\"#009af9\" fill-rule=\"evenodd\" fill-opacity=\"1\" stroke=\"#000000\" stroke-opacity=\"1\" stroke-width=\"3.2\"/>\n<circle clip-path=\"url(#clip572)\" cx=\"298.207\" cy=\"1391.71\" r=\"14\" fill=\"#009af9\" fill-rule=\"evenodd\" fill-opacity=\"1\" stroke=\"#000000\" stroke-opacity=\"1\" stroke-width=\"3.2\"/>\n<circle clip-path=\"url(#clip572)\" cx=\"295.291\" cy=\"1391.71\" r=\"14\" fill=\"#009af9\" fill-rule=\"evenodd\" fill-opacity=\"1\" stroke=\"#000000\" stroke-opacity=\"1\" stroke-width=\"3.2\"/>\n<circle clip-path=\"url(#clip572)\" cx=\"292.514\" cy=\"1391.71\" r=\"14\" fill=\"#009af9\" fill-rule=\"evenodd\" fill-opacity=\"1\" stroke=\"#000000\" stroke-opacity=\"1\" stroke-width=\"3.2\"/>\n<circle clip-path=\"url(#clip572)\" cx=\"289.869\" cy=\"1391.71\" r=\"14\" fill=\"#009af9\" fill-rule=\"evenodd\" fill-opacity=\"1\" stroke=\"#000000\" stroke-opacity=\"1\" stroke-width=\"3.2\"/>\n<circle clip-path=\"url(#clip572)\" cx=\"287.35\" cy=\"1391.71\" r=\"14\" fill=\"#009af9\" fill-rule=\"evenodd\" fill-opacity=\"1\" stroke=\"#000000\" stroke-opacity=\"1\" stroke-width=\"3.2\"/>\n<circle clip-path=\"url(#clip572)\" cx=\"284.951\" cy=\"1391.71\" r=\"14\" fill=\"#009af9\" fill-rule=\"evenodd\" fill-opacity=\"1\" stroke=\"#000000\" stroke-opacity=\"1\" stroke-width=\"3.2\"/>\n<circle clip-path=\"url(#clip572)\" cx=\"282.666\" cy=\"1391.71\" r=\"14\" fill=\"#009af9\" fill-rule=\"evenodd\" fill-opacity=\"1\" stroke=\"#000000\" stroke-opacity=\"1\" stroke-width=\"3.2\"/>\n<circle clip-path=\"url(#clip572)\" cx=\"280.49\" cy=\"1391.71\" r=\"14\" fill=\"#009af9\" fill-rule=\"evenodd\" fill-opacity=\"1\" stroke=\"#000000\" stroke-opacity=\"1\" stroke-width=\"3.2\"/>\n<circle clip-path=\"url(#clip572)\" cx=\"278.418\" cy=\"1391.71\" r=\"14\" fill=\"#009af9\" fill-rule=\"evenodd\" fill-opacity=\"1\" stroke=\"#000000\" stroke-opacity=\"1\" stroke-width=\"3.2\"/>\n<circle clip-path=\"url(#clip572)\" cx=\"276.444\" cy=\"1391.71\" r=\"14\" fill=\"#009af9\" fill-rule=\"evenodd\" fill-opacity=\"1\" stroke=\"#000000\" stroke-opacity=\"1\" stroke-width=\"3.2\"/>\n<circle clip-path=\"url(#clip572)\" cx=\"274.564\" cy=\"1391.71\" r=\"14\" fill=\"#009af9\" fill-rule=\"evenodd\" fill-opacity=\"1\" stroke=\"#000000\" stroke-opacity=\"1\" stroke-width=\"3.2\"/>\n<circle clip-path=\"url(#clip572)\" cx=\"272.774\" cy=\"1391.71\" r=\"14\" fill=\"#009af9\" fill-rule=\"evenodd\" fill-opacity=\"1\" stroke=\"#000000\" stroke-opacity=\"1\" stroke-width=\"3.2\"/>\n<circle clip-path=\"url(#clip572)\" cx=\"271.069\" cy=\"1391.71\" r=\"14\" fill=\"#009af9\" fill-rule=\"evenodd\" fill-opacity=\"1\" stroke=\"#000000\" stroke-opacity=\"1\" stroke-width=\"3.2\"/>\n<circle clip-path=\"url(#clip572)\" cx=\"269.446\" cy=\"1412.75\" r=\"14\" fill=\"#009af9\" fill-rule=\"evenodd\" fill-opacity=\"1\" stroke=\"#000000\" stroke-opacity=\"1\" stroke-width=\"3.2\"/>\n<circle clip-path=\"url(#clip572)\" cx=\"267.899\" cy=\"1412.75\" r=\"14\" fill=\"#009af9\" fill-rule=\"evenodd\" fill-opacity=\"1\" stroke=\"#000000\" stroke-opacity=\"1\" stroke-width=\"3.2\"/>\n<circle clip-path=\"url(#clip572)\" cx=\"266.426\" cy=\"1412.75\" r=\"14\" fill=\"#009af9\" fill-rule=\"evenodd\" fill-opacity=\"1\" stroke=\"#000000\" stroke-opacity=\"1\" stroke-width=\"3.2\"/>\n<circle clip-path=\"url(#clip572)\" cx=\"265.024\" cy=\"1412.75\" r=\"14\" fill=\"#009af9\" fill-rule=\"evenodd\" fill-opacity=\"1\" stroke=\"#000000\" stroke-opacity=\"1\" stroke-width=\"3.2\"/>\n<circle clip-path=\"url(#clip572)\" cx=\"263.688\" cy=\"1412.75\" r=\"14\" fill=\"#009af9\" fill-rule=\"evenodd\" fill-opacity=\"1\" stroke=\"#000000\" stroke-opacity=\"1\" stroke-width=\"3.2\"/>\n<circle clip-path=\"url(#clip572)\" cx=\"262.416\" cy=\"1412.75\" r=\"14\" fill=\"#009af9\" fill-rule=\"evenodd\" fill-opacity=\"1\" stroke=\"#000000\" stroke-opacity=\"1\" stroke-width=\"3.2\"/>\n<circle clip-path=\"url(#clip572)\" cx=\"261.204\" cy=\"1412.75\" r=\"14\" fill=\"#009af9\" fill-rule=\"evenodd\" fill-opacity=\"1\" stroke=\"#000000\" stroke-opacity=\"1\" stroke-width=\"3.2\"/>\n<circle clip-path=\"url(#clip572)\" cx=\"260.05\" cy=\"1412.75\" r=\"14\" fill=\"#009af9\" fill-rule=\"evenodd\" fill-opacity=\"1\" stroke=\"#000000\" stroke-opacity=\"1\" stroke-width=\"3.2\"/>\n<circle clip-path=\"url(#clip572)\" cx=\"258.951\" cy=\"1412.75\" r=\"14\" fill=\"#009af9\" fill-rule=\"evenodd\" fill-opacity=\"1\" stroke=\"#000000\" stroke-opacity=\"1\" stroke-width=\"3.2\"/>\n<circle clip-path=\"url(#clip572)\" cx=\"257.904\" cy=\"1412.75\" r=\"14\" fill=\"#009af9\" fill-rule=\"evenodd\" fill-opacity=\"1\" stroke=\"#000000\" stroke-opacity=\"1\" stroke-width=\"3.2\"/>\n<circle clip-path=\"url(#clip572)\" cx=\"256.908\" cy=\"1412.75\" r=\"14\" fill=\"#009af9\" fill-rule=\"evenodd\" fill-opacity=\"1\" stroke=\"#000000\" stroke-opacity=\"1\" stroke-width=\"3.2\"/>\n<circle clip-path=\"url(#clip572)\" cx=\"255.958\" cy=\"1412.75\" r=\"14\" fill=\"#009af9\" fill-rule=\"evenodd\" fill-opacity=\"1\" stroke=\"#000000\" stroke-opacity=\"1\" stroke-width=\"3.2\"/>\n<circle clip-path=\"url(#clip572)\" cx=\"255.054\" cy=\"1412.75\" r=\"14\" fill=\"#009af9\" fill-rule=\"evenodd\" fill-opacity=\"1\" stroke=\"#000000\" stroke-opacity=\"1\" stroke-width=\"3.2\"/>\n<circle clip-path=\"url(#clip572)\" cx=\"254.193\" cy=\"1412.75\" r=\"14\" fill=\"#009af9\" fill-rule=\"evenodd\" fill-opacity=\"1\" stroke=\"#000000\" stroke-opacity=\"1\" stroke-width=\"3.2\"/>\n<circle clip-path=\"url(#clip572)\" cx=\"253.373\" cy=\"1423.26\" r=\"14\" fill=\"#009af9\" fill-rule=\"evenodd\" fill-opacity=\"1\" stroke=\"#000000\" stroke-opacity=\"1\" stroke-width=\"3.2\"/>\n<circle clip-path=\"url(#clip572)\" cx=\"252.592\" cy=\"1423.26\" r=\"14\" fill=\"#009af9\" fill-rule=\"evenodd\" fill-opacity=\"1\" stroke=\"#000000\" stroke-opacity=\"1\" stroke-width=\"3.2\"/>\n<circle clip-path=\"url(#clip572)\" cx=\"251.848\" cy=\"1423.26\" r=\"14\" fill=\"#009af9\" fill-rule=\"evenodd\" fill-opacity=\"1\" stroke=\"#000000\" stroke-opacity=\"1\" stroke-width=\"3.2\"/>\n<circle clip-path=\"url(#clip572)\" cx=\"251.14\" cy=\"1423.26\" r=\"14\" fill=\"#009af9\" fill-rule=\"evenodd\" fill-opacity=\"1\" stroke=\"#000000\" stroke-opacity=\"1\" stroke-width=\"3.2\"/>\n<circle clip-path=\"url(#clip572)\" cx=\"250.465\" cy=\"1423.26\" r=\"14\" fill=\"#009af9\" fill-rule=\"evenodd\" fill-opacity=\"1\" stroke=\"#000000\" stroke-opacity=\"1\" stroke-width=\"3.2\"/>\n<circle clip-path=\"url(#clip572)\" cx=\"249.822\" cy=\"1423.26\" r=\"14\" fill=\"#009af9\" fill-rule=\"evenodd\" fill-opacity=\"1\" stroke=\"#000000\" stroke-opacity=\"1\" stroke-width=\"3.2\"/>\n<circle clip-path=\"url(#clip572)\" cx=\"249.21\" cy=\"1423.26\" r=\"14\" fill=\"#009af9\" fill-rule=\"evenodd\" fill-opacity=\"1\" stroke=\"#000000\" stroke-opacity=\"1\" stroke-width=\"3.2\"/>\n<circle clip-path=\"url(#clip572)\" cx=\"248.627\" cy=\"1423.26\" r=\"14\" fill=\"#009af9\" fill-rule=\"evenodd\" fill-opacity=\"1\" stroke=\"#000000\" stroke-opacity=\"1\" stroke-width=\"3.2\"/>\n<circle clip-path=\"url(#clip572)\" cx=\"248.072\" cy=\"1423.26\" r=\"14\" fill=\"#009af9\" fill-rule=\"evenodd\" fill-opacity=\"1\" stroke=\"#000000\" stroke-opacity=\"1\" stroke-width=\"3.2\"/>\n<circle clip-path=\"url(#clip572)\" cx=\"247.544\" cy=\"1423.26\" r=\"14\" fill=\"#009af9\" fill-rule=\"evenodd\" fill-opacity=\"1\" stroke=\"#000000\" stroke-opacity=\"1\" stroke-width=\"3.2\"/>\n<circle clip-path=\"url(#clip572)\" cx=\"247.04\" cy=\"1423.26\" r=\"14\" fill=\"#009af9\" fill-rule=\"evenodd\" fill-opacity=\"1\" stroke=\"#000000\" stroke-opacity=\"1\" stroke-width=\"3.2\"/>\n<circle clip-path=\"url(#clip572)\" cx=\"246.561\" cy=\"1423.26\" r=\"14\" fill=\"#009af9\" fill-rule=\"evenodd\" fill-opacity=\"1\" stroke=\"#000000\" stroke-opacity=\"1\" stroke-width=\"3.2\"/>\n<circle clip-path=\"url(#clip572)\" cx=\"246.104\" cy=\"1423.26\" r=\"14\" fill=\"#009af9\" fill-rule=\"evenodd\" fill-opacity=\"1\" stroke=\"#000000\" stroke-opacity=\"1\" stroke-width=\"3.2\"/>\n<circle clip-path=\"url(#clip572)\" cx=\"245.669\" cy=\"1423.26\" r=\"14\" fill=\"#009af9\" fill-rule=\"evenodd\" fill-opacity=\"1\" stroke=\"#000000\" stroke-opacity=\"1\" stroke-width=\"3.2\"/>\n<circle clip-path=\"url(#clip572)\" cx=\"245.255\" cy=\"1428.52\" r=\"14\" fill=\"#009af9\" fill-rule=\"evenodd\" fill-opacity=\"1\" stroke=\"#000000\" stroke-opacity=\"1\" stroke-width=\"3.2\"/>\n<circle clip-path=\"url(#clip572)\" cx=\"244.861\" cy=\"1428.52\" r=\"14\" fill=\"#009af9\" fill-rule=\"evenodd\" fill-opacity=\"1\" stroke=\"#000000\" stroke-opacity=\"1\" stroke-width=\"3.2\"/>\n<circle clip-path=\"url(#clip572)\" cx=\"244.485\" cy=\"1428.52\" r=\"14\" fill=\"#009af9\" fill-rule=\"evenodd\" fill-opacity=\"1\" stroke=\"#000000\" stroke-opacity=\"1\" stroke-width=\"3.2\"/>\n<circle clip-path=\"url(#clip572)\" cx=\"244.127\" cy=\"1428.52\" r=\"14\" fill=\"#009af9\" fill-rule=\"evenodd\" fill-opacity=\"1\" stroke=\"#000000\" stroke-opacity=\"1\" stroke-width=\"3.2\"/>\n<circle clip-path=\"url(#clip572)\" cx=\"243.786\" cy=\"1428.52\" r=\"14\" fill=\"#009af9\" fill-rule=\"evenodd\" fill-opacity=\"1\" stroke=\"#000000\" stroke-opacity=\"1\" stroke-width=\"3.2\"/>\n<circle clip-path=\"url(#clip572)\" cx=\"243.462\" cy=\"1428.52\" r=\"14\" fill=\"#009af9\" fill-rule=\"evenodd\" fill-opacity=\"1\" stroke=\"#000000\" stroke-opacity=\"1\" stroke-width=\"3.2\"/>\n<circle clip-path=\"url(#clip572)\" cx=\"243.153\" cy=\"1428.52\" r=\"14\" fill=\"#009af9\" fill-rule=\"evenodd\" fill-opacity=\"1\" stroke=\"#000000\" stroke-opacity=\"1\" stroke-width=\"3.2\"/>\n<circle clip-path=\"url(#clip572)\" cx=\"242.858\" cy=\"1428.52\" r=\"14\" fill=\"#009af9\" fill-rule=\"evenodd\" fill-opacity=\"1\" stroke=\"#000000\" stroke-opacity=\"1\" stroke-width=\"3.2\"/>\n<circle clip-path=\"url(#clip572)\" cx=\"242.578\" cy=\"1428.52\" r=\"14\" fill=\"#009af9\" fill-rule=\"evenodd\" fill-opacity=\"1\" stroke=\"#000000\" stroke-opacity=\"1\" stroke-width=\"3.2\"/>\n<circle clip-path=\"url(#clip572)\" cx=\"242.311\" cy=\"1428.52\" r=\"14\" fill=\"#009af9\" fill-rule=\"evenodd\" fill-opacity=\"1\" stroke=\"#000000\" stroke-opacity=\"1\" stroke-width=\"3.2\"/>\n<circle clip-path=\"url(#clip572)\" cx=\"242.057\" cy=\"1428.52\" r=\"14\" fill=\"#009af9\" fill-rule=\"evenodd\" fill-opacity=\"1\" stroke=\"#000000\" stroke-opacity=\"1\" stroke-width=\"3.2\"/>\n<circle clip-path=\"url(#clip572)\" cx=\"241.814\" cy=\"1428.52\" r=\"14\" fill=\"#009af9\" fill-rule=\"evenodd\" fill-opacity=\"1\" stroke=\"#000000\" stroke-opacity=\"1\" stroke-width=\"3.2\"/>\n<circle clip-path=\"url(#clip572)\" cx=\"241.584\" cy=\"1428.52\" r=\"14\" fill=\"#009af9\" fill-rule=\"evenodd\" fill-opacity=\"1\" stroke=\"#000000\" stroke-opacity=\"1\" stroke-width=\"3.2\"/>\n<circle clip-path=\"url(#clip572)\" cx=\"241.364\" cy=\"1428.52\" r=\"14\" fill=\"#009af9\" fill-rule=\"evenodd\" fill-opacity=\"1\" stroke=\"#000000\" stroke-opacity=\"1\" stroke-width=\"3.2\"/>\n<circle clip-path=\"url(#clip572)\" cx=\"241.155\" cy=\"1431.15\" r=\"14\" fill=\"#009af9\" fill-rule=\"evenodd\" fill-opacity=\"1\" stroke=\"#000000\" stroke-opacity=\"1\" stroke-width=\"3.2\"/>\n<circle clip-path=\"url(#clip572)\" cx=\"240.956\" cy=\"1431.15\" r=\"14\" fill=\"#009af9\" fill-rule=\"evenodd\" fill-opacity=\"1\" stroke=\"#000000\" stroke-opacity=\"1\" stroke-width=\"3.2\"/>\n<circle clip-path=\"url(#clip572)\" cx=\"240.766\" cy=\"1431.15\" r=\"14\" fill=\"#009af9\" fill-rule=\"evenodd\" fill-opacity=\"1\" stroke=\"#000000\" stroke-opacity=\"1\" stroke-width=\"3.2\"/>\n<circle clip-path=\"url(#clip572)\" cx=\"240.585\" cy=\"1431.15\" r=\"14\" fill=\"#009af9\" fill-rule=\"evenodd\" fill-opacity=\"1\" stroke=\"#000000\" stroke-opacity=\"1\" stroke-width=\"3.2\"/>\n<circle clip-path=\"url(#clip572)\" cx=\"240.413\" cy=\"1431.15\" r=\"14\" fill=\"#009af9\" fill-rule=\"evenodd\" fill-opacity=\"1\" stroke=\"#000000\" stroke-opacity=\"1\" stroke-width=\"3.2\"/>\n<circle clip-path=\"url(#clip572)\" cx=\"240.249\" cy=\"1431.15\" r=\"14\" fill=\"#009af9\" fill-rule=\"evenodd\" fill-opacity=\"1\" stroke=\"#000000\" stroke-opacity=\"1\" stroke-width=\"3.2\"/>\n<circle clip-path=\"url(#clip572)\" cx=\"240.093\" cy=\"1431.15\" r=\"14\" fill=\"#009af9\" fill-rule=\"evenodd\" fill-opacity=\"1\" stroke=\"#000000\" stroke-opacity=\"1\" stroke-width=\"3.2\"/>\n<circle clip-path=\"url(#clip572)\" cx=\"239.944\" cy=\"1431.15\" r=\"14\" fill=\"#009af9\" fill-rule=\"evenodd\" fill-opacity=\"1\" stroke=\"#000000\" stroke-opacity=\"1\" stroke-width=\"3.2\"/>\n<circle clip-path=\"url(#clip572)\" cx=\"239.803\" cy=\"1431.15\" r=\"14\" fill=\"#009af9\" fill-rule=\"evenodd\" fill-opacity=\"1\" stroke=\"#000000\" stroke-opacity=\"1\" stroke-width=\"3.2\"/>\n<circle clip-path=\"url(#clip572)\" cx=\"239.668\" cy=\"1431.15\" r=\"14\" fill=\"#009af9\" fill-rule=\"evenodd\" fill-opacity=\"1\" stroke=\"#000000\" stroke-opacity=\"1\" stroke-width=\"3.2\"/>\n<circle clip-path=\"url(#clip572)\" cx=\"239.54\" cy=\"1431.15\" r=\"14\" fill=\"#009af9\" fill-rule=\"evenodd\" fill-opacity=\"1\" stroke=\"#000000\" stroke-opacity=\"1\" stroke-width=\"3.2\"/>\n<circle clip-path=\"url(#clip572)\" cx=\"239.417\" cy=\"1431.15\" r=\"14\" fill=\"#009af9\" fill-rule=\"evenodd\" fill-opacity=\"1\" stroke=\"#000000\" stroke-opacity=\"1\" stroke-width=\"3.2\"/>\n<circle clip-path=\"url(#clip572)\" cx=\"239.301\" cy=\"1431.15\" r=\"14\" fill=\"#009af9\" fill-rule=\"evenodd\" fill-opacity=\"1\" stroke=\"#000000\" stroke-opacity=\"1\" stroke-width=\"3.2\"/>\n<circle clip-path=\"url(#clip572)\" cx=\"239.19\" cy=\"1431.15\" r=\"14\" fill=\"#009af9\" fill-rule=\"evenodd\" fill-opacity=\"1\" stroke=\"#000000\" stroke-opacity=\"1\" stroke-width=\"3.2\"/>\n<circle clip-path=\"url(#clip572)\" cx=\"239.084\" cy=\"1431.15\" r=\"14\" fill=\"#009af9\" fill-rule=\"evenodd\" fill-opacity=\"1\" stroke=\"#000000\" stroke-opacity=\"1\" stroke-width=\"3.2\"/>\n<circle clip-path=\"url(#clip572)\" cx=\"238.984\" cy=\"1432.47\" r=\"14\" fill=\"#009af9\" fill-rule=\"evenodd\" fill-opacity=\"1\" stroke=\"#000000\" stroke-opacity=\"1\" stroke-width=\"3.2\"/>\n<circle clip-path=\"url(#clip572)\" cx=\"238.888\" cy=\"1432.47\" r=\"14\" fill=\"#009af9\" fill-rule=\"evenodd\" fill-opacity=\"1\" stroke=\"#000000\" stroke-opacity=\"1\" stroke-width=\"3.2\"/>\n<circle clip-path=\"url(#clip572)\" cx=\"238.796\" cy=\"1432.47\" r=\"14\" fill=\"#009af9\" fill-rule=\"evenodd\" fill-opacity=\"1\" stroke=\"#000000\" stroke-opacity=\"1\" stroke-width=\"3.2\"/>\n<circle clip-path=\"url(#clip572)\" cx=\"238.709\" cy=\"1432.47\" r=\"14\" fill=\"#009af9\" fill-rule=\"evenodd\" fill-opacity=\"1\" stroke=\"#000000\" stroke-opacity=\"1\" stroke-width=\"3.2\"/>\n<circle clip-path=\"url(#clip572)\" cx=\"238.627\" cy=\"1432.47\" r=\"14\" fill=\"#009af9\" fill-rule=\"evenodd\" fill-opacity=\"1\" stroke=\"#000000\" stroke-opacity=\"1\" stroke-width=\"3.2\"/>\n<circle clip-path=\"url(#clip572)\" cx=\"238.548\" cy=\"1432.47\" r=\"14\" fill=\"#009af9\" fill-rule=\"evenodd\" fill-opacity=\"1\" stroke=\"#000000\" stroke-opacity=\"1\" stroke-width=\"3.2\"/>\n<circle clip-path=\"url(#clip572)\" cx=\"238.473\" cy=\"1432.47\" r=\"14\" fill=\"#009af9\" fill-rule=\"evenodd\" fill-opacity=\"1\" stroke=\"#000000\" stroke-opacity=\"1\" stroke-width=\"3.2\"/>\n<circle clip-path=\"url(#clip572)\" cx=\"238.401\" cy=\"1432.47\" r=\"14\" fill=\"#009af9\" fill-rule=\"evenodd\" fill-opacity=\"1\" stroke=\"#000000\" stroke-opacity=\"1\" stroke-width=\"3.2\"/>\n<circle clip-path=\"url(#clip572)\" cx=\"238.333\" cy=\"1432.47\" r=\"14\" fill=\"#009af9\" fill-rule=\"evenodd\" fill-opacity=\"1\" stroke=\"#000000\" stroke-opacity=\"1\" stroke-width=\"3.2\"/>\n<circle clip-path=\"url(#clip572)\" cx=\"238.268\" cy=\"1432.47\" r=\"14\" fill=\"#009af9\" fill-rule=\"evenodd\" fill-opacity=\"1\" stroke=\"#000000\" stroke-opacity=\"1\" stroke-width=\"3.2\"/>\n<circle clip-path=\"url(#clip572)\" cx=\"238.206\" cy=\"1432.47\" r=\"14\" fill=\"#009af9\" fill-rule=\"evenodd\" fill-opacity=\"1\" stroke=\"#000000\" stroke-opacity=\"1\" stroke-width=\"3.2\"/>\n<circle clip-path=\"url(#clip572)\" cx=\"238.148\" cy=\"1432.47\" r=\"14\" fill=\"#009af9\" fill-rule=\"evenodd\" fill-opacity=\"1\" stroke=\"#000000\" stroke-opacity=\"1\" stroke-width=\"3.2\"/>\n<circle clip-path=\"url(#clip572)\" cx=\"238.092\" cy=\"1432.47\" r=\"14\" fill=\"#009af9\" fill-rule=\"evenodd\" fill-opacity=\"1\" stroke=\"#000000\" stroke-opacity=\"1\" stroke-width=\"3.2\"/>\n<circle clip-path=\"url(#clip572)\" cx=\"238.038\" cy=\"1432.47\" r=\"14\" fill=\"#009af9\" fill-rule=\"evenodd\" fill-opacity=\"1\" stroke=\"#000000\" stroke-opacity=\"1\" stroke-width=\"3.2\"/>\n<circle clip-path=\"url(#clip572)\" cx=\"237.987\" cy=\"1433.12\" r=\"14\" fill=\"#009af9\" fill-rule=\"evenodd\" fill-opacity=\"1\" stroke=\"#000000\" stroke-opacity=\"1\" stroke-width=\"3.2\"/>\n<circle clip-path=\"url(#clip572)\" cx=\"237.939\" cy=\"1433.12\" r=\"14\" fill=\"#009af9\" fill-rule=\"evenodd\" fill-opacity=\"1\" stroke=\"#000000\" stroke-opacity=\"1\" stroke-width=\"3.2\"/>\n<circle clip-path=\"url(#clip572)\" cx=\"237.893\" cy=\"1433.12\" r=\"14\" fill=\"#009af9\" fill-rule=\"evenodd\" fill-opacity=\"1\" stroke=\"#000000\" stroke-opacity=\"1\" stroke-width=\"3.2\"/>\n<circle clip-path=\"url(#clip572)\" cx=\"237.849\" cy=\"1433.12\" r=\"14\" fill=\"#009af9\" fill-rule=\"evenodd\" fill-opacity=\"1\" stroke=\"#000000\" stroke-opacity=\"1\" stroke-width=\"3.2\"/>\n<circle clip-path=\"url(#clip572)\" cx=\"237.807\" cy=\"1433.12\" r=\"14\" fill=\"#009af9\" fill-rule=\"evenodd\" fill-opacity=\"1\" stroke=\"#000000\" stroke-opacity=\"1\" stroke-width=\"3.2\"/>\n<circle clip-path=\"url(#clip572)\" cx=\"237.767\" cy=\"1433.12\" r=\"14\" fill=\"#009af9\" fill-rule=\"evenodd\" fill-opacity=\"1\" stroke=\"#000000\" stroke-opacity=\"1\" stroke-width=\"3.2\"/>\n<circle clip-path=\"url(#clip572)\" cx=\"237.729\" cy=\"1433.12\" r=\"14\" fill=\"#009af9\" fill-rule=\"evenodd\" fill-opacity=\"1\" stroke=\"#000000\" stroke-opacity=\"1\" stroke-width=\"3.2\"/>\n<circle clip-path=\"url(#clip572)\" cx=\"237.693\" cy=\"1433.12\" r=\"14\" fill=\"#009af9\" fill-rule=\"evenodd\" fill-opacity=\"1\" stroke=\"#000000\" stroke-opacity=\"1\" stroke-width=\"3.2\"/>\n<circle clip-path=\"url(#clip572)\" cx=\"237.659\" cy=\"1433.12\" r=\"14\" fill=\"#009af9\" fill-rule=\"evenodd\" fill-opacity=\"1\" stroke=\"#000000\" stroke-opacity=\"1\" stroke-width=\"3.2\"/>\n<circle clip-path=\"url(#clip572)\" cx=\"237.626\" cy=\"1433.12\" r=\"14\" fill=\"#009af9\" fill-rule=\"evenodd\" fill-opacity=\"1\" stroke=\"#000000\" stroke-opacity=\"1\" stroke-width=\"3.2\"/>\n<circle clip-path=\"url(#clip572)\" cx=\"237.595\" cy=\"1433.12\" r=\"14\" fill=\"#009af9\" fill-rule=\"evenodd\" fill-opacity=\"1\" stroke=\"#000000\" stroke-opacity=\"1\" stroke-width=\"3.2\"/>\n<circle clip-path=\"url(#clip572)\" cx=\"237.565\" cy=\"1433.12\" r=\"14\" fill=\"#009af9\" fill-rule=\"evenodd\" fill-opacity=\"1\" stroke=\"#000000\" stroke-opacity=\"1\" stroke-width=\"3.2\"/>\n<circle clip-path=\"url(#clip572)\" cx=\"237.537\" cy=\"1433.12\" r=\"14\" fill=\"#009af9\" fill-rule=\"evenodd\" fill-opacity=\"1\" stroke=\"#000000\" stroke-opacity=\"1\" stroke-width=\"3.2\"/>\n<circle clip-path=\"url(#clip572)\" cx=\"237.51\" cy=\"1433.12\" r=\"14\" fill=\"#009af9\" fill-rule=\"evenodd\" fill-opacity=\"1\" stroke=\"#000000\" stroke-opacity=\"1\" stroke-width=\"3.2\"/>\n<circle clip-path=\"url(#clip572)\" cx=\"237.484\" cy=\"1433.45\" r=\"14\" fill=\"#009af9\" fill-rule=\"evenodd\" fill-opacity=\"1\" stroke=\"#000000\" stroke-opacity=\"1\" stroke-width=\"3.2\"/>\n<circle clip-path=\"url(#clip572)\" cx=\"237.46\" cy=\"1433.45\" r=\"14\" fill=\"#009af9\" fill-rule=\"evenodd\" fill-opacity=\"1\" stroke=\"#000000\" stroke-opacity=\"1\" stroke-width=\"3.2\"/>\n<circle clip-path=\"url(#clip572)\" cx=\"237.437\" cy=\"1433.45\" r=\"14\" fill=\"#009af9\" fill-rule=\"evenodd\" fill-opacity=\"1\" stroke=\"#000000\" stroke-opacity=\"1\" stroke-width=\"3.2\"/>\n<circle clip-path=\"url(#clip572)\" cx=\"237.414\" cy=\"1433.45\" r=\"14\" fill=\"#009af9\" fill-rule=\"evenodd\" fill-opacity=\"1\" stroke=\"#000000\" stroke-opacity=\"1\" stroke-width=\"3.2\"/>\n<circle clip-path=\"url(#clip572)\" cx=\"237.393\" cy=\"1433.45\" r=\"14\" fill=\"#009af9\" fill-rule=\"evenodd\" fill-opacity=\"1\" stroke=\"#000000\" stroke-opacity=\"1\" stroke-width=\"3.2\"/>\n<circle clip-path=\"url(#clip572)\" cx=\"237.373\" cy=\"1433.45\" r=\"14\" fill=\"#009af9\" fill-rule=\"evenodd\" fill-opacity=\"1\" stroke=\"#000000\" stroke-opacity=\"1\" stroke-width=\"3.2\"/>\n<circle clip-path=\"url(#clip572)\" cx=\"237.354\" cy=\"1433.45\" r=\"14\" fill=\"#009af9\" fill-rule=\"evenodd\" fill-opacity=\"1\" stroke=\"#000000\" stroke-opacity=\"1\" stroke-width=\"3.2\"/>\n<circle clip-path=\"url(#clip572)\" cx=\"237.336\" cy=\"1433.45\" r=\"14\" fill=\"#009af9\" fill-rule=\"evenodd\" fill-opacity=\"1\" stroke=\"#000000\" stroke-opacity=\"1\" stroke-width=\"3.2\"/>\n<circle clip-path=\"url(#clip572)\" cx=\"237.318\" cy=\"1433.45\" r=\"14\" fill=\"#009af9\" fill-rule=\"evenodd\" fill-opacity=\"1\" stroke=\"#000000\" stroke-opacity=\"1\" stroke-width=\"3.2\"/>\n<circle clip-path=\"url(#clip572)\" cx=\"237.302\" cy=\"1433.45\" r=\"14\" fill=\"#009af9\" fill-rule=\"evenodd\" fill-opacity=\"1\" stroke=\"#000000\" stroke-opacity=\"1\" stroke-width=\"3.2\"/>\n<circle clip-path=\"url(#clip572)\" cx=\"237.286\" cy=\"1433.45\" r=\"14\" fill=\"#009af9\" fill-rule=\"evenodd\" fill-opacity=\"1\" stroke=\"#000000\" stroke-opacity=\"1\" stroke-width=\"3.2\"/>\n<circle clip-path=\"url(#clip572)\" cx=\"237.271\" cy=\"1433.45\" r=\"14\" fill=\"#009af9\" fill-rule=\"evenodd\" fill-opacity=\"1\" stroke=\"#000000\" stroke-opacity=\"1\" stroke-width=\"3.2\"/>\n<circle clip-path=\"url(#clip572)\" cx=\"237.257\" cy=\"1433.45\" r=\"14\" fill=\"#009af9\" fill-rule=\"evenodd\" fill-opacity=\"1\" stroke=\"#000000\" stroke-opacity=\"1\" stroke-width=\"3.2\"/>\n<circle clip-path=\"url(#clip572)\" cx=\"237.243\" cy=\"1433.45\" r=\"14\" fill=\"#009af9\" fill-rule=\"evenodd\" fill-opacity=\"1\" stroke=\"#000000\" stroke-opacity=\"1\" stroke-width=\"3.2\"/>\n<circle clip-path=\"url(#clip572)\" cx=\"237.23\" cy=\"1433.62\" r=\"14\" fill=\"#009af9\" fill-rule=\"evenodd\" fill-opacity=\"1\" stroke=\"#000000\" stroke-opacity=\"1\" stroke-width=\"3.2\"/>\n<circle clip-path=\"url(#clip572)\" cx=\"237.218\" cy=\"1433.62\" r=\"14\" fill=\"#009af9\" fill-rule=\"evenodd\" fill-opacity=\"1\" stroke=\"#000000\" stroke-opacity=\"1\" stroke-width=\"3.2\"/>\n<circle clip-path=\"url(#clip572)\" cx=\"237.206\" cy=\"1433.62\" r=\"14\" fill=\"#009af9\" fill-rule=\"evenodd\" fill-opacity=\"1\" stroke=\"#000000\" stroke-opacity=\"1\" stroke-width=\"3.2\"/>\n<circle clip-path=\"url(#clip572)\" cx=\"237.195\" cy=\"1433.62\" r=\"14\" fill=\"#009af9\" fill-rule=\"evenodd\" fill-opacity=\"1\" stroke=\"#000000\" stroke-opacity=\"1\" stroke-width=\"3.2\"/>\n<circle clip-path=\"url(#clip572)\" cx=\"237.184\" cy=\"1433.62\" r=\"14\" fill=\"#009af9\" fill-rule=\"evenodd\" fill-opacity=\"1\" stroke=\"#000000\" stroke-opacity=\"1\" stroke-width=\"3.2\"/>\n<circle clip-path=\"url(#clip572)\" cx=\"237.174\" cy=\"1433.62\" r=\"14\" fill=\"#009af9\" fill-rule=\"evenodd\" fill-opacity=\"1\" stroke=\"#000000\" stroke-opacity=\"1\" stroke-width=\"3.2\"/>\n<circle clip-path=\"url(#clip572)\" cx=\"237.164\" cy=\"1433.62\" r=\"14\" fill=\"#009af9\" fill-rule=\"evenodd\" fill-opacity=\"1\" stroke=\"#000000\" stroke-opacity=\"1\" stroke-width=\"3.2\"/>\n<circle clip-path=\"url(#clip572)\" cx=\"237.155\" cy=\"1433.62\" r=\"14\" fill=\"#009af9\" fill-rule=\"evenodd\" fill-opacity=\"1\" stroke=\"#000000\" stroke-opacity=\"1\" stroke-width=\"3.2\"/>\n<circle clip-path=\"url(#clip572)\" cx=\"237.146\" cy=\"1433.62\" r=\"14\" fill=\"#009af9\" fill-rule=\"evenodd\" fill-opacity=\"1\" stroke=\"#000000\" stroke-opacity=\"1\" stroke-width=\"3.2\"/>\n<circle clip-path=\"url(#clip572)\" cx=\"237.138\" cy=\"1433.62\" r=\"14\" fill=\"#009af9\" fill-rule=\"evenodd\" fill-opacity=\"1\" stroke=\"#000000\" stroke-opacity=\"1\" stroke-width=\"3.2\"/>\n<circle clip-path=\"url(#clip572)\" cx=\"237.13\" cy=\"1433.62\" r=\"14\" fill=\"#009af9\" fill-rule=\"evenodd\" fill-opacity=\"1\" stroke=\"#000000\" stroke-opacity=\"1\" stroke-width=\"3.2\"/>\n<circle clip-path=\"url(#clip572)\" cx=\"237.123\" cy=\"1433.62\" r=\"14\" fill=\"#009af9\" fill-rule=\"evenodd\" fill-opacity=\"1\" stroke=\"#000000\" stroke-opacity=\"1\" stroke-width=\"3.2\"/>\n<circle clip-path=\"url(#clip572)\" cx=\"237.115\" cy=\"1433.62\" r=\"14\" fill=\"#009af9\" fill-rule=\"evenodd\" fill-opacity=\"1\" stroke=\"#000000\" stroke-opacity=\"1\" stroke-width=\"3.2\"/>\n<circle clip-path=\"url(#clip572)\" cx=\"237.108\" cy=\"1433.62\" r=\"14\" fill=\"#009af9\" fill-rule=\"evenodd\" fill-opacity=\"1\" stroke=\"#000000\" stroke-opacity=\"1\" stroke-width=\"3.2\"/>\n<circle clip-path=\"url(#clip572)\" cx=\"237.102\" cy=\"1433.7\" r=\"14\" fill=\"#009af9\" fill-rule=\"evenodd\" fill-opacity=\"1\" stroke=\"#000000\" stroke-opacity=\"1\" stroke-width=\"3.2\"/>\n<circle clip-path=\"url(#clip572)\" cx=\"237.096\" cy=\"1433.7\" r=\"14\" fill=\"#009af9\" fill-rule=\"evenodd\" fill-opacity=\"1\" stroke=\"#000000\" stroke-opacity=\"1\" stroke-width=\"3.2\"/>\n<circle clip-path=\"url(#clip572)\" cx=\"237.09\" cy=\"1433.7\" r=\"14\" fill=\"#009af9\" fill-rule=\"evenodd\" fill-opacity=\"1\" stroke=\"#000000\" stroke-opacity=\"1\" stroke-width=\"3.2\"/>\n<circle clip-path=\"url(#clip572)\" cx=\"237.084\" cy=\"1433.7\" r=\"14\" fill=\"#009af9\" fill-rule=\"evenodd\" fill-opacity=\"1\" stroke=\"#000000\" stroke-opacity=\"1\" stroke-width=\"3.2\"/>\n<circle clip-path=\"url(#clip572)\" cx=\"237.079\" cy=\"1433.7\" r=\"14\" fill=\"#009af9\" fill-rule=\"evenodd\" fill-opacity=\"1\" stroke=\"#000000\" stroke-opacity=\"1\" stroke-width=\"3.2\"/>\n<circle clip-path=\"url(#clip572)\" cx=\"237.074\" cy=\"1433.7\" r=\"14\" fill=\"#009af9\" fill-rule=\"evenodd\" fill-opacity=\"1\" stroke=\"#000000\" stroke-opacity=\"1\" stroke-width=\"3.2\"/>\n<circle clip-path=\"url(#clip572)\" cx=\"237.069\" cy=\"1433.7\" r=\"14\" fill=\"#009af9\" fill-rule=\"evenodd\" fill-opacity=\"1\" stroke=\"#000000\" stroke-opacity=\"1\" stroke-width=\"3.2\"/>\n<circle clip-path=\"url(#clip572)\" cx=\"237.064\" cy=\"1433.7\" r=\"14\" fill=\"#009af9\" fill-rule=\"evenodd\" fill-opacity=\"1\" stroke=\"#000000\" stroke-opacity=\"1\" stroke-width=\"3.2\"/>\n<circle clip-path=\"url(#clip572)\" cx=\"237.06\" cy=\"1433.7\" r=\"14\" fill=\"#009af9\" fill-rule=\"evenodd\" fill-opacity=\"1\" stroke=\"#000000\" stroke-opacity=\"1\" stroke-width=\"3.2\"/>\n<circle clip-path=\"url(#clip572)\" cx=\"237.055\" cy=\"1433.7\" r=\"14\" fill=\"#009af9\" fill-rule=\"evenodd\" fill-opacity=\"1\" stroke=\"#000000\" stroke-opacity=\"1\" stroke-width=\"3.2\"/>\n<circle clip-path=\"url(#clip572)\" cx=\"237.051\" cy=\"1433.7\" r=\"14\" fill=\"#009af9\" fill-rule=\"evenodd\" fill-opacity=\"1\" stroke=\"#000000\" stroke-opacity=\"1\" stroke-width=\"3.2\"/>\n<circle clip-path=\"url(#clip572)\" cx=\"237.047\" cy=\"1433.7\" r=\"14\" fill=\"#009af9\" fill-rule=\"evenodd\" fill-opacity=\"1\" stroke=\"#000000\" stroke-opacity=\"1\" stroke-width=\"3.2\"/>\n<circle clip-path=\"url(#clip572)\" cx=\"237.044\" cy=\"1433.7\" r=\"14\" fill=\"#009af9\" fill-rule=\"evenodd\" fill-opacity=\"1\" stroke=\"#000000\" stroke-opacity=\"1\" stroke-width=\"3.2\"/>\n<circle clip-path=\"url(#clip572)\" cx=\"237.04\" cy=\"1433.7\" r=\"14\" fill=\"#009af9\" fill-rule=\"evenodd\" fill-opacity=\"1\" stroke=\"#000000\" stroke-opacity=\"1\" stroke-width=\"3.2\"/>\n<circle clip-path=\"url(#clip572)\" cx=\"237.037\" cy=\"1433.7\" r=\"14\" fill=\"#009af9\" fill-rule=\"evenodd\" fill-opacity=\"1\" stroke=\"#000000\" stroke-opacity=\"1\" stroke-width=\"3.2\"/>\n<circle clip-path=\"url(#clip572)\" cx=\"237.034\" cy=\"1433.74\" r=\"14\" fill=\"#009af9\" fill-rule=\"evenodd\" fill-opacity=\"1\" stroke=\"#000000\" stroke-opacity=\"1\" stroke-width=\"3.2\"/>\n<circle clip-path=\"url(#clip572)\" cx=\"237.031\" cy=\"1433.74\" r=\"14\" fill=\"#009af9\" fill-rule=\"evenodd\" fill-opacity=\"1\" stroke=\"#000000\" stroke-opacity=\"1\" stroke-width=\"3.2\"/>\n<circle clip-path=\"url(#clip572)\" cx=\"237.028\" cy=\"1433.74\" r=\"14\" fill=\"#009af9\" fill-rule=\"evenodd\" fill-opacity=\"1\" stroke=\"#000000\" stroke-opacity=\"1\" stroke-width=\"3.2\"/>\n<circle clip-path=\"url(#clip572)\" cx=\"237.025\" cy=\"1433.74\" r=\"14\" fill=\"#009af9\" fill-rule=\"evenodd\" fill-opacity=\"1\" stroke=\"#000000\" stroke-opacity=\"1\" stroke-width=\"3.2\"/>\n<circle clip-path=\"url(#clip572)\" cx=\"237.023\" cy=\"1433.74\" r=\"14\" fill=\"#009af9\" fill-rule=\"evenodd\" fill-opacity=\"1\" stroke=\"#000000\" stroke-opacity=\"1\" stroke-width=\"3.2\"/>\n<circle clip-path=\"url(#clip572)\" cx=\"237.02\" cy=\"1433.74\" r=\"14\" fill=\"#009af9\" fill-rule=\"evenodd\" fill-opacity=\"1\" stroke=\"#000000\" stroke-opacity=\"1\" stroke-width=\"3.2\"/>\n<circle clip-path=\"url(#clip572)\" cx=\"237.018\" cy=\"1433.74\" r=\"14\" fill=\"#009af9\" fill-rule=\"evenodd\" fill-opacity=\"1\" stroke=\"#000000\" stroke-opacity=\"1\" stroke-width=\"3.2\"/>\n<circle clip-path=\"url(#clip572)\" cx=\"237.016\" cy=\"1433.74\" r=\"14\" fill=\"#009af9\" fill-rule=\"evenodd\" fill-opacity=\"1\" stroke=\"#000000\" stroke-opacity=\"1\" stroke-width=\"3.2\"/>\n<circle clip-path=\"url(#clip572)\" cx=\"237.014\" cy=\"1433.74\" r=\"14\" fill=\"#009af9\" fill-rule=\"evenodd\" fill-opacity=\"1\" stroke=\"#000000\" stroke-opacity=\"1\" stroke-width=\"3.2\"/>\n<circle clip-path=\"url(#clip572)\" cx=\"237.012\" cy=\"1433.74\" r=\"14\" fill=\"#009af9\" fill-rule=\"evenodd\" fill-opacity=\"1\" stroke=\"#000000\" stroke-opacity=\"1\" stroke-width=\"3.2\"/>\n<circle clip-path=\"url(#clip572)\" cx=\"237.01\" cy=\"1433.74\" r=\"14\" fill=\"#009af9\" fill-rule=\"evenodd\" fill-opacity=\"1\" stroke=\"#000000\" stroke-opacity=\"1\" stroke-width=\"3.2\"/>\n<circle clip-path=\"url(#clip572)\" cx=\"237.008\" cy=\"1433.74\" r=\"14\" fill=\"#009af9\" fill-rule=\"evenodd\" fill-opacity=\"1\" stroke=\"#000000\" stroke-opacity=\"1\" stroke-width=\"3.2\"/>\n<circle clip-path=\"url(#clip572)\" cx=\"237.006\" cy=\"1433.74\" r=\"14\" fill=\"#009af9\" fill-rule=\"evenodd\" fill-opacity=\"1\" stroke=\"#000000\" stroke-opacity=\"1\" stroke-width=\"3.2\"/>\n<circle clip-path=\"url(#clip572)\" cx=\"237.004\" cy=\"1433.74\" r=\"14\" fill=\"#009af9\" fill-rule=\"evenodd\" fill-opacity=\"1\" stroke=\"#000000\" stroke-opacity=\"1\" stroke-width=\"3.2\"/>\n<circle clip-path=\"url(#clip572)\" cx=\"237.003\" cy=\"1433.76\" r=\"14\" fill=\"#009af9\" fill-rule=\"evenodd\" fill-opacity=\"1\" stroke=\"#000000\" stroke-opacity=\"1\" stroke-width=\"3.2\"/>\n<circle clip-path=\"url(#clip572)\" cx=\"237.001\" cy=\"1433.76\" r=\"14\" fill=\"#009af9\" fill-rule=\"evenodd\" fill-opacity=\"1\" stroke=\"#000000\" stroke-opacity=\"1\" stroke-width=\"3.2\"/>\n<circle clip-path=\"url(#clip572)\" cx=\"237\" cy=\"1433.76\" r=\"14\" fill=\"#009af9\" fill-rule=\"evenodd\" fill-opacity=\"1\" stroke=\"#000000\" stroke-opacity=\"1\" stroke-width=\"3.2\"/>\n<circle clip-path=\"url(#clip572)\" cx=\"236.998\" cy=\"1433.76\" r=\"14\" fill=\"#009af9\" fill-rule=\"evenodd\" fill-opacity=\"1\" stroke=\"#000000\" stroke-opacity=\"1\" stroke-width=\"3.2\"/>\n<circle clip-path=\"url(#clip572)\" cx=\"236.997\" cy=\"1433.76\" r=\"14\" fill=\"#009af9\" fill-rule=\"evenodd\" fill-opacity=\"1\" stroke=\"#000000\" stroke-opacity=\"1\" stroke-width=\"3.2\"/>\n<circle clip-path=\"url(#clip572)\" cx=\"236.996\" cy=\"1433.76\" r=\"14\" fill=\"#009af9\" fill-rule=\"evenodd\" fill-opacity=\"1\" stroke=\"#000000\" stroke-opacity=\"1\" stroke-width=\"3.2\"/>\n<circle clip-path=\"url(#clip572)\" cx=\"236.995\" cy=\"1433.76\" r=\"14\" fill=\"#009af9\" fill-rule=\"evenodd\" fill-opacity=\"1\" stroke=\"#000000\" stroke-opacity=\"1\" stroke-width=\"3.2\"/>\n<circle clip-path=\"url(#clip572)\" cx=\"236.994\" cy=\"1433.76\" r=\"14\" fill=\"#009af9\" fill-rule=\"evenodd\" fill-opacity=\"1\" stroke=\"#000000\" stroke-opacity=\"1\" stroke-width=\"3.2\"/>\n<circle clip-path=\"url(#clip572)\" cx=\"236.992\" cy=\"1433.76\" r=\"14\" fill=\"#009af9\" fill-rule=\"evenodd\" fill-opacity=\"1\" stroke=\"#000000\" stroke-opacity=\"1\" stroke-width=\"3.2\"/>\n<circle clip-path=\"url(#clip572)\" cx=\"236.991\" cy=\"1433.76\" r=\"14\" fill=\"#009af9\" fill-rule=\"evenodd\" fill-opacity=\"1\" stroke=\"#000000\" stroke-opacity=\"1\" stroke-width=\"3.2\"/>\n<circle clip-path=\"url(#clip572)\" cx=\"236.99\" cy=\"1433.76\" r=\"14\" fill=\"#009af9\" fill-rule=\"evenodd\" fill-opacity=\"1\" stroke=\"#000000\" stroke-opacity=\"1\" stroke-width=\"3.2\"/>\n<circle clip-path=\"url(#clip572)\" cx=\"236.99\" cy=\"1433.76\" r=\"14\" fill=\"#009af9\" fill-rule=\"evenodd\" fill-opacity=\"1\" stroke=\"#000000\" stroke-opacity=\"1\" stroke-width=\"3.2\"/>\n<circle clip-path=\"url(#clip572)\" cx=\"236.989\" cy=\"1433.76\" r=\"14\" fill=\"#009af9\" fill-rule=\"evenodd\" fill-opacity=\"1\" stroke=\"#000000\" stroke-opacity=\"1\" stroke-width=\"3.2\"/>\n<circle clip-path=\"url(#clip572)\" cx=\"236.988\" cy=\"1433.76\" r=\"14\" fill=\"#009af9\" fill-rule=\"evenodd\" fill-opacity=\"1\" stroke=\"#000000\" stroke-opacity=\"1\" stroke-width=\"3.2\"/>\n<circle clip-path=\"url(#clip572)\" cx=\"236.987\" cy=\"1433.77\" r=\"14\" fill=\"#009af9\" fill-rule=\"evenodd\" fill-opacity=\"1\" stroke=\"#000000\" stroke-opacity=\"1\" stroke-width=\"3.2\"/>\n<circle clip-path=\"url(#clip572)\" cx=\"236.986\" cy=\"1433.77\" r=\"14\" fill=\"#009af9\" fill-rule=\"evenodd\" fill-opacity=\"1\" stroke=\"#000000\" stroke-opacity=\"1\" stroke-width=\"3.2\"/>\n<circle clip-path=\"url(#clip572)\" cx=\"236.985\" cy=\"1433.77\" r=\"14\" fill=\"#009af9\" fill-rule=\"evenodd\" fill-opacity=\"1\" stroke=\"#000000\" stroke-opacity=\"1\" stroke-width=\"3.2\"/>\n<circle clip-path=\"url(#clip572)\" cx=\"236.985\" cy=\"1433.77\" r=\"14\" fill=\"#009af9\" fill-rule=\"evenodd\" fill-opacity=\"1\" stroke=\"#000000\" stroke-opacity=\"1\" stroke-width=\"3.2\"/>\n<circle clip-path=\"url(#clip572)\" cx=\"236.984\" cy=\"1433.77\" r=\"14\" fill=\"#009af9\" fill-rule=\"evenodd\" fill-opacity=\"1\" stroke=\"#000000\" stroke-opacity=\"1\" stroke-width=\"3.2\"/>\n<circle clip-path=\"url(#clip572)\" cx=\"236.984\" cy=\"1433.77\" r=\"14\" fill=\"#009af9\" fill-rule=\"evenodd\" fill-opacity=\"1\" stroke=\"#000000\" stroke-opacity=\"1\" stroke-width=\"3.2\"/>\n<circle clip-path=\"url(#clip572)\" cx=\"236.983\" cy=\"1433.77\" r=\"14\" fill=\"#009af9\" fill-rule=\"evenodd\" fill-opacity=\"1\" stroke=\"#000000\" stroke-opacity=\"1\" stroke-width=\"3.2\"/>\n<circle clip-path=\"url(#clip572)\" cx=\"236.982\" cy=\"1433.77\" r=\"14\" fill=\"#009af9\" fill-rule=\"evenodd\" fill-opacity=\"1\" stroke=\"#000000\" stroke-opacity=\"1\" stroke-width=\"3.2\"/>\n<circle clip-path=\"url(#clip572)\" cx=\"236.982\" cy=\"1433.77\" r=\"14\" fill=\"#009af9\" fill-rule=\"evenodd\" fill-opacity=\"1\" stroke=\"#000000\" stroke-opacity=\"1\" stroke-width=\"3.2\"/>\n<circle clip-path=\"url(#clip572)\" cx=\"236.981\" cy=\"1433.77\" r=\"14\" fill=\"#009af9\" fill-rule=\"evenodd\" fill-opacity=\"1\" stroke=\"#000000\" stroke-opacity=\"1\" stroke-width=\"3.2\"/>\n<circle clip-path=\"url(#clip572)\" cx=\"236.981\" cy=\"1433.77\" r=\"14\" fill=\"#009af9\" fill-rule=\"evenodd\" fill-opacity=\"1\" stroke=\"#000000\" stroke-opacity=\"1\" stroke-width=\"3.2\"/>\n<circle clip-path=\"url(#clip572)\" cx=\"236.98\" cy=\"1433.77\" r=\"14\" fill=\"#009af9\" fill-rule=\"evenodd\" fill-opacity=\"1\" stroke=\"#000000\" stroke-opacity=\"1\" stroke-width=\"3.2\"/>\n<circle clip-path=\"url(#clip572)\" cx=\"236.98\" cy=\"1433.77\" r=\"14\" fill=\"#009af9\" fill-rule=\"evenodd\" fill-opacity=\"1\" stroke=\"#000000\" stroke-opacity=\"1\" stroke-width=\"3.2\"/>\n<circle clip-path=\"url(#clip572)\" cx=\"236.979\" cy=\"1433.77\" r=\"14\" fill=\"#009af9\" fill-rule=\"evenodd\" fill-opacity=\"1\" stroke=\"#000000\" stroke-opacity=\"1\" stroke-width=\"3.2\"/>\n<circle clip-path=\"url(#clip572)\" cx=\"236.979\" cy=\"1433.78\" r=\"14\" fill=\"#009af9\" fill-rule=\"evenodd\" fill-opacity=\"1\" stroke=\"#000000\" stroke-opacity=\"1\" stroke-width=\"3.2\"/>\n<circle clip-path=\"url(#clip572)\" cx=\"236.979\" cy=\"1433.78\" r=\"14\" fill=\"#009af9\" fill-rule=\"evenodd\" fill-opacity=\"1\" stroke=\"#000000\" stroke-opacity=\"1\" stroke-width=\"3.2\"/>\n<circle clip-path=\"url(#clip572)\" cx=\"236.978\" cy=\"1433.78\" r=\"14\" fill=\"#009af9\" fill-rule=\"evenodd\" fill-opacity=\"1\" stroke=\"#000000\" stroke-opacity=\"1\" stroke-width=\"3.2\"/>\n<circle clip-path=\"url(#clip572)\" cx=\"236.978\" cy=\"1433.78\" r=\"14\" fill=\"#009af9\" fill-rule=\"evenodd\" fill-opacity=\"1\" stroke=\"#000000\" stroke-opacity=\"1\" stroke-width=\"3.2\"/>\n<circle clip-path=\"url(#clip572)\" cx=\"236.978\" cy=\"1433.78\" r=\"14\" fill=\"#009af9\" fill-rule=\"evenodd\" fill-opacity=\"1\" stroke=\"#000000\" stroke-opacity=\"1\" stroke-width=\"3.2\"/>\n<circle clip-path=\"url(#clip572)\" cx=\"236.977\" cy=\"1433.78\" r=\"14\" fill=\"#009af9\" fill-rule=\"evenodd\" fill-opacity=\"1\" stroke=\"#000000\" stroke-opacity=\"1\" stroke-width=\"3.2\"/>\n<circle clip-path=\"url(#clip572)\" cx=\"236.977\" cy=\"1433.78\" r=\"14\" fill=\"#009af9\" fill-rule=\"evenodd\" fill-opacity=\"1\" stroke=\"#000000\" stroke-opacity=\"1\" stroke-width=\"3.2\"/>\n<circle clip-path=\"url(#clip572)\" cx=\"236.977\" cy=\"1433.78\" r=\"14\" fill=\"#009af9\" fill-rule=\"evenodd\" fill-opacity=\"1\" stroke=\"#000000\" stroke-opacity=\"1\" stroke-width=\"3.2\"/>\n<circle clip-path=\"url(#clip572)\" cx=\"236.976\" cy=\"1433.78\" r=\"14\" fill=\"#009af9\" fill-rule=\"evenodd\" fill-opacity=\"1\" stroke=\"#000000\" stroke-opacity=\"1\" stroke-width=\"3.2\"/>\n<circle clip-path=\"url(#clip572)\" cx=\"236.976\" cy=\"1433.78\" r=\"14\" fill=\"#009af9\" fill-rule=\"evenodd\" fill-opacity=\"1\" stroke=\"#000000\" stroke-opacity=\"1\" stroke-width=\"3.2\"/>\n<circle clip-path=\"url(#clip572)\" cx=\"236.976\" cy=\"1433.78\" r=\"14\" fill=\"#009af9\" fill-rule=\"evenodd\" fill-opacity=\"1\" stroke=\"#000000\" stroke-opacity=\"1\" stroke-width=\"3.2\"/>\n<circle clip-path=\"url(#clip572)\" cx=\"236.976\" cy=\"1433.78\" r=\"14\" fill=\"#009af9\" fill-rule=\"evenodd\" fill-opacity=\"1\" stroke=\"#000000\" stroke-opacity=\"1\" stroke-width=\"3.2\"/>\n<circle clip-path=\"url(#clip572)\" cx=\"236.975\" cy=\"1433.78\" r=\"14\" fill=\"#009af9\" fill-rule=\"evenodd\" fill-opacity=\"1\" stroke=\"#000000\" stroke-opacity=\"1\" stroke-width=\"3.2\"/>\n<circle clip-path=\"url(#clip572)\" cx=\"236.975\" cy=\"1433.78\" r=\"14\" fill=\"#009af9\" fill-rule=\"evenodd\" fill-opacity=\"1\" stroke=\"#000000\" stroke-opacity=\"1\" stroke-width=\"3.2\"/>\n<circle clip-path=\"url(#clip572)\" cx=\"236.975\" cy=\"1433.78\" r=\"14\" fill=\"#009af9\" fill-rule=\"evenodd\" fill-opacity=\"1\" stroke=\"#000000\" stroke-opacity=\"1\" stroke-width=\"3.2\"/>\n<circle clip-path=\"url(#clip572)\" cx=\"236.975\" cy=\"1433.78\" r=\"14\" fill=\"#009af9\" fill-rule=\"evenodd\" fill-opacity=\"1\" stroke=\"#000000\" stroke-opacity=\"1\" stroke-width=\"3.2\"/>\n<circle clip-path=\"url(#clip572)\" cx=\"236.975\" cy=\"1433.78\" r=\"14\" fill=\"#009af9\" fill-rule=\"evenodd\" fill-opacity=\"1\" stroke=\"#000000\" stroke-opacity=\"1\" stroke-width=\"3.2\"/>\n<circle clip-path=\"url(#clip572)\" cx=\"236.974\" cy=\"1433.78\" r=\"14\" fill=\"#009af9\" fill-rule=\"evenodd\" fill-opacity=\"1\" stroke=\"#000000\" stroke-opacity=\"1\" stroke-width=\"3.2\"/>\n<circle clip-path=\"url(#clip572)\" cx=\"236.974\" cy=\"1433.78\" r=\"14\" fill=\"#009af9\" fill-rule=\"evenodd\" fill-opacity=\"1\" stroke=\"#000000\" stroke-opacity=\"1\" stroke-width=\"3.2\"/>\n<circle clip-path=\"url(#clip572)\" cx=\"236.974\" cy=\"1433.78\" r=\"14\" fill=\"#009af9\" fill-rule=\"evenodd\" fill-opacity=\"1\" stroke=\"#000000\" stroke-opacity=\"1\" stroke-width=\"3.2\"/>\n<circle clip-path=\"url(#clip572)\" cx=\"236.974\" cy=\"1433.78\" r=\"14\" fill=\"#009af9\" fill-rule=\"evenodd\" fill-opacity=\"1\" stroke=\"#000000\" stroke-opacity=\"1\" stroke-width=\"3.2\"/>\n<circle clip-path=\"url(#clip572)\" cx=\"236.974\" cy=\"1433.78\" r=\"14\" fill=\"#009af9\" fill-rule=\"evenodd\" fill-opacity=\"1\" stroke=\"#000000\" stroke-opacity=\"1\" stroke-width=\"3.2\"/>\n<circle clip-path=\"url(#clip572)\" cx=\"236.974\" cy=\"1433.78\" r=\"14\" fill=\"#009af9\" fill-rule=\"evenodd\" fill-opacity=\"1\" stroke=\"#000000\" stroke-opacity=\"1\" stroke-width=\"3.2\"/>\n<circle clip-path=\"url(#clip572)\" cx=\"236.974\" cy=\"1433.78\" r=\"14\" fill=\"#009af9\" fill-rule=\"evenodd\" fill-opacity=\"1\" stroke=\"#000000\" stroke-opacity=\"1\" stroke-width=\"3.2\"/>\n<circle clip-path=\"url(#clip572)\" cx=\"236.973\" cy=\"1433.78\" r=\"14\" fill=\"#009af9\" fill-rule=\"evenodd\" fill-opacity=\"1\" stroke=\"#000000\" stroke-opacity=\"1\" stroke-width=\"3.2\"/>\n<circle clip-path=\"url(#clip572)\" cx=\"236.973\" cy=\"1433.78\" r=\"14\" fill=\"#009af9\" fill-rule=\"evenodd\" fill-opacity=\"1\" stroke=\"#000000\" stroke-opacity=\"1\" stroke-width=\"3.2\"/>\n<circle clip-path=\"url(#clip572)\" cx=\"236.973\" cy=\"1433.78\" r=\"14\" fill=\"#009af9\" fill-rule=\"evenodd\" fill-opacity=\"1\" stroke=\"#000000\" stroke-opacity=\"1\" stroke-width=\"3.2\"/>\n<circle clip-path=\"url(#clip572)\" cx=\"236.973\" cy=\"1433.78\" r=\"14\" fill=\"#009af9\" fill-rule=\"evenodd\" fill-opacity=\"1\" stroke=\"#000000\" stroke-opacity=\"1\" stroke-width=\"3.2\"/>\n<circle clip-path=\"url(#clip572)\" cx=\"236.973\" cy=\"1433.78\" r=\"14\" fill=\"#009af9\" fill-rule=\"evenodd\" fill-opacity=\"1\" stroke=\"#000000\" stroke-opacity=\"1\" stroke-width=\"3.2\"/>\n<circle clip-path=\"url(#clip572)\" cx=\"236.973\" cy=\"1433.78\" r=\"14\" fill=\"#009af9\" fill-rule=\"evenodd\" fill-opacity=\"1\" stroke=\"#000000\" stroke-opacity=\"1\" stroke-width=\"3.2\"/>\n<path clip-path=\"url(#clip570)\" d=\"\nM1987.22 215.768 L2280.18 215.768 L2280.18 94.8081 L1987.22 94.8081  Z\n  \" fill=\"#ffffff\" fill-rule=\"evenodd\" fill-opacity=\"1\"/>\n<polyline clip-path=\"url(#clip570)\" style=\"stroke:#000000; stroke-width:4; stroke-opacity:1; fill:none\" points=\"\n  1987.22,215.768 2280.18,215.768 2280.18,94.8081 1987.22,94.8081 1987.22,215.768 \n  \"/>\n<circle clip-path=\"url(#clip570)\" cx=\"2084\" cy=\"155.288\" r=\"23\" fill=\"#009af9\" fill-rule=\"evenodd\" fill-opacity=\"1\" stroke=\"#000000\" stroke-opacity=\"1\" stroke-width=\"5.12\"/>\n<path clip-path=\"url(#clip570)\" d=\"M 0 0 M2194.61 174.976 Q2192.81 179.605 2191.09 181.017 Q2189.38 182.429 2186.51 182.429 L2183.11 182.429 L2183.11 178.864 L2185.61 178.864 Q2187.37 178.864 2188.34 178.031 Q2189.31 177.198 2190.49 174.096 L2191.26 172.151 L2180.77 146.642 L2185.28 146.642 L2193.39 166.92 L2201.49 146.642 L2206 146.642 L2194.61 174.976 Z\" fill=\"#000000\" fill-rule=\"evenodd\" fill-opacity=\"1\" /><path clip-path=\"url(#clip570)\" d=\"M 0 0 M2211.88 168.633 L2219.52 168.633 L2219.52 142.267 L2211.21 143.934 L2211.21 139.675 L2219.47 138.008 L2224.15 138.008 L2224.15 168.633 L2231.79 168.633 L2231.79 172.568 L2211.88 172.568 L2211.88 168.633 Z\" fill=\"#000000\" fill-rule=\"evenodd\" fill-opacity=\"1\" /></svg>\n"
     },
     "execution_count": 47,
     "metadata": {},
     "output_type": "execute_result"
    }
   ],
   "source": [
    "#println(A)\n",
    "scatter(X,A)"
   ]
  },
  {
   "cell_type": "markdown",
   "metadata": {},
   "source": [
    "Jak można zauważyć na wykresie, odstępy kolejnych wartości zmiennoprzecinkowych tworzą pewne poziomy, na których znajduje się stała liczba elementów (w powyższym przypadku 14). \n",
    "Im mniejsze liczby tym odstępy między poziomami maleją między sobą. Czyli jak widzimy im większa wartośc liczby, tym większe odstępy między liczbami co możemy również zobaczyć na wykresie. Im większe liczby tym lepiej widać ta różnicę wartości odstępu."
   ]
  },
  {
   "cell_type": "markdown",
   "metadata": {},
   "source": [
    "## Zadanie 3"
   ]
  },
  {
   "cell_type": "markdown",
   "metadata": {},
   "source": [
    "### Pierwsza wersja\n",
    "\n",
    "#include <stdio.h>\n",
    "#include <gsl/gsl_math.h>\n",
    "#include <gsl/gsl_ieee_utils.h>\n",
    "\n",
    "int main(void)\n",
    "{\n",
    "    \n",
    "    float x = 2e-33;\n",
    "    \n",
    "    while (x > 0){\n",
    "        x = x / 2.0;\n",
    "        printf(\" x =\"); gsl_ieee_printf_float(&x);\n",
    "        printf(\"\\n\");\n",
    "    }\n",
    "\n",
    "    return 0;\n",
    "}"
   ]
  },
  {
   "cell_type": "markdown",
   "metadata": {},
   "source": [
    "### Wyniki   \n",
    "   \n",
    "    x = 1.01001100010011101001100*2^-110\n",
    "    x = 1.01001100010011101001100*2^-111\n",
    "    x = 1.01001100010011101001100*2^-112\n",
    "    x = 1.01001100010011101001100*2^-113\n",
    "    x = 1.01001100010011101001100*2^-114\n",
    "    x = 1.01001100010011101001100*2^-115\n",
    "    x = 1.01001100010011101001100*2^-116\n",
    "    x = 1.01001100010011101001100*2^-117\n",
    "    x = 1.01001100010011101001100*2^-118\n",
    "    x = 1.01001100010011101001100*2^-119\n",
    "    x = 1.01001100010011101001100*2^-120\n",
    "    x = 1.01001100010011101001100*2^-121\n",
    "    x = 1.01001100010011101001100*2^-122\n",
    "    x = 1.01001100010011101001100*2^-123\n",
    "    x = 1.01001100010011101001100*2^-124\n",
    "    x = 1.01001100010011101001100*2^-125\n",
    "    x = 1.01001100010011101001100*2^-126\n",
    "    x = 0.10100110001001110100110*2^-126\n",
    "    x = 0.01010011000100111010011*2^-126\n",
    "    x = 0.00101001100010011101010*2^-126\n",
    "    x = 0.00010100110001001110101*2^-126\n",
    "    x = 0.00001010011000100111010*2^-126\n",
    "    x = 0.00000101001100010011101*2^-126\n",
    "    x = 0.00000010100110001001110*2^-126\n",
    "    x = 0.00000001010011000100111*2^-126\n",
    "    x = 0.00000000101001100010100*2^-126\n",
    "    x = 0.00000000010100110001010*2^-126\n",
    "    x = 0.00000000001010011000101*2^-126\n",
    "    x = 0.00000000000101001100010*2^-126\n",
    "    x = 0.00000000000010100110001*2^-126\n",
    "    x = 0.00000000000001010011000*2^-126\n",
    "    x = 0.00000000000000101001100*2^-126\n",
    "    x = 0.00000000000000010100110*2^-126\n",
    "    x = 0.00000000000000001010011*2^-126\n",
    "    x = 0.00000000000000000101010*2^-126\n",
    "    x = 0.00000000000000000010101*2^-126\n",
    "    x = 0.00000000000000000001010*2^-126\n",
    "    x = 0.00000000000000000000101*2^-126\n",
    "    x = 0.00000000000000000000010*2^-126\n",
    "    x = 0.00000000000000000000001*2^-126\n",
    "    x = 0"
   ]
  },
  {
   "cell_type": "markdown",
   "metadata": {},
   "source": [
    "### Druga wersja\n",
    "\n",
    "#include <stdio.h>\n",
    "#include <gsl/gsl_math.h>\n",
    "#include <gsl/gsl_ieee_utils.h>\n",
    "\n",
    "int main(void)\n",
    "{\n",
    "\n",
    "    float x = 1e-26;\n",
    "    while (x > 0){\n",
    "        x = x / 2.0;\n",
    "        printf(\" x =\"); gsl_ieee_printf_float(&x);\n",
    "        printf(\"\\n\");\n",
    "    }\n",
    "\n",
    "    return 0;\n",
    "}"
   ]
  },
  {
   "cell_type": "markdown",
   "metadata": {},
   "source": [
    "### Wyniki    \n",
    "    \n",
    "    x = 1.10001100001001000000110*2^-88\n",
    "    x = 1.10001100001001000000110*2^-89\n",
    "    x = 1.10001100001001000000110*2^-90\n",
    "    x = 1.10001100001001000000110*2^-91\n",
    "    x = 1.10001100001001000000110*2^-92\n",
    "    x = 1.10001100001001000000110*2^-93\n",
    "    x = 1.10001100001001000000110*2^-94\n",
    "    x = 1.10001100001001000000110*2^-95\n",
    "    x = 1.10001100001001000000110*2^-96\n",
    "    x = 1.10001100001001000000110*2^-97\n",
    "    x = 1.10001100001001000000110*2^-98\n",
    "    x = 1.10001100001001000000110*2^-99\n",
    "    x = 1.10001100001001000000110*2^-100\n",
    "    x = 1.10001100001001000000110*2^-101\n",
    "    x = 1.10001100001001000000110*2^-102\n",
    "    x = 1.10001100001001000000110*2^-103\n",
    "    x = 1.10001100001001000000110*2^-104\n",
    "    x = 1.10001100001001000000110*2^-105\n",
    "    x = 1.10001100001001000000110*2^-106\n",
    "    x = 1.10001100001001000000110*2^-107\n",
    "    x = 1.10001100001001000000110*2^-108\n",
    "    x = 1.10001100001001000000110*2^-109\n",
    "    x = 1.10001100001001000000110*2^-110\n",
    "    x = 1.10001100001001000000110*2^-111\n",
    "    x = 1.10001100001001000000110*2^-112\n",
    "    x = 1.10001100001001000000110*2^-113\n",
    "    x = 1.10001100001001000000110*2^-114\n",
    "    x = 1.10001100001001000000110*2^-115\n",
    "    x = 1.10001100001001000000110*2^-116\n",
    "    x = 1.10001100001001000000110*2^-117\n",
    "    x = 1.10001100001001000000110*2^-118\n",
    "    x = 1.10001100001001000000110*2^-119\n",
    "    x = 1.10001100001001000000110*2^-120\n",
    "    x = 1.10001100001001000000110*2^-121\n",
    "    x = 1.10001100001001000000110*2^-122\n",
    "    x = 1.10001100001001000000110*2^-123\n",
    "    x = 1.10001100001001000000110*2^-124\n",
    "    x = 1.10001100001001000000110*2^-125\n",
    "    x = 1.10001100001001000000110*2^-126\n",
    "    x = 0.11000110000100100000011*2^-126\n",
    "    x = 0.01100011000010010000010*2^-126\n",
    "    x = 0.00110001100001001000001*2^-126\n",
    "    x = 0.00011000110000100100000*2^-126\n",
    "    x = 0.00001100011000010010000*2^-126\n",
    "    x = 0.00000110001100001001000*2^-126\n",
    "    x = 0.00000011000110000100100*2^-126\n",
    "    x = 0.00000001100011000010010*2^-126\n",
    "    x = 0.00000000110001100001001*2^-126\n",
    "    x = 0.00000000011000110000100*2^-126\n",
    "    x = 0.00000000001100011000010*2^-126\n",
    "    x = 0.00000000000110001100001*2^-126\n",
    "    x = 0.00000000000011000110000*2^-126\n",
    "    x = 0.00000000000001100011000*2^-126\n",
    "    x = 0.00000000000000110001100*2^-126\n",
    "    x = 0.00000000000000011000110*2^-126\n",
    "    x = 0.00000000000000001100011*2^-126\n",
    "    x = 0.00000000000000000110010*2^-126\n",
    "    x = 0.00000000000000000011001*2^-126\n",
    "    x = 0.00000000000000000001100*2^-126\n",
    "    x = 0.00000000000000000000110*2^-126\n",
    "    x = 0.00000000000000000000011*2^-126\n",
    "    x = 0.00000000000000000000010*2^-126\n",
    "    x = 0.00000000000000000000001*2^-126\n",
    "    x = 0"
   ]
  },
  {
   "cell_type": "markdown",
   "metadata": {},
   "source": [
    "Mantysa przestaje być znormalizowana, gdy program dochodzi do takiego momentu, że cecha liczby wynosi -126 (Póki cecha jest większa od wartości -126 kolejne liczby zmiennoprzecinkowe posiadają zmniejszają cechę do momentu uzyskania wartości -126). Wtedy kolejne wartości zmiennoprzecinkowe nie posiadają mantysy znormalizowanej. Jest to spowodowane tym, że sama cecha ma również na swoje wartości i po osiągnięciu limitu wartości cechy program wykorzystuję operacje na mantysie w celu przedstawienia coraz to mniejszych liczb zmiennopozycyjnych."
   ]
  },
  {
   "cell_type": "markdown",
   "metadata": {},
   "source": [
    "## Zadanie 4"
   ]
  },
  {
   "cell_type": "markdown",
   "metadata": {},
   "source": [
    "Wybranym algorytmem niestabilnym numerycznie jest algorytm wyliczania wartości wyrazu a(n) poprzez równanie rekurencyjne zadanie poniższym wzorem :\n",
    "\n",
    "    a(n) = 1 - n*a(n-1)\n",
    "    a(1) = 1/e  e - Liczba Eulera\n"
   ]
  },
  {
   "cell_type": "markdown",
   "metadata": {},
   "source": [
    "#### Podpunk a)\n",
    "\n",
    "Złe działanie algorytmu przejawia się tym, że dla pewnych wartości n wyraz a(n) osiąga wartości ujemne co jest błędne, ponieważ jeśli potraktujemy wyraz a(n) jako wartość całki na przedziale [0,1] z funkcji x^n * e^x-1, to jej wartość będzie określona rekurencyjnie i wynosiła 1 - n*a(n-1). \n",
    "\n",
    "Po wyliczeniu wartości a(18) na przykład na kartce papieru możemy zobaczyć, że wartość wyrazu a(18) jest dodatnia. Jednak wykorzystując algorytm niestabilny w celu wyliczenia wartości wyrazu osiągamy wartość ujemną co potwierdza fakt, że obecnie użyty algorytm jest niestabilny numerycznie."
   ]
  },
  {
   "cell_type": "code",
   "execution_count": 108,
   "metadata": {},
   "outputs": [
    {
     "data": {
      "text/plain": [
       "recursiv (generic function with 1 method)"
      ]
     },
     "execution_count": 108,
     "metadata": {},
     "output_type": "execute_result"
    }
   ],
   "source": [
    "recursiv(n) = n<=1 ? (1.0/exp(1)) : (1.0 - n*recursiv(n-1)) #Algorytm niestabilny numerycznie to wyliczenia wartości a(n)"
   ]
  },
  {
   "cell_type": "code",
   "execution_count": 109,
   "metadata": {},
   "outputs": [
    {
     "data": {
      "text/plain": [
       "-0.029453670751536265"
      ]
     },
     "execution_count": 109,
     "metadata": {},
     "output_type": "execute_result"
    }
   ],
   "source": [
    "recursiv(18) # Ujemna wartość, a powinna być dodatnia. Akumulacja błędów spowodowała przekłamanie wyniku w znaczący sposób"
   ]
  },
  {
   "cell_type": "markdown",
   "metadata": {},
   "source": [
    "#### Podpunk b)\n",
    "\n",
    "Jedynym miejscem, które wpływa na akumulację błędów i zakłamywanie wyników jest miejsce wywoływania rekurencji n*recursiv(n-1)co powoduje występowanie catastrophic cancellation czyli między innymi odejmowanie bliskich liczb oraz ich normalizacja co powoduje dalsze problemy z wartościami mantysy."
   ]
  },
  {
   "cell_type": "markdown",
   "metadata": {},
   "source": [
    "#### Podpunkt C)\n",
    "\n",
    "Algorytm stabilny wykorzystuje przekształenie wzoru:\n",
    "\n",
    "    a(n) = 1 - n*a(n-1) \n",
    "    \n",
    "    do postaci \n",
    "    \n",
    "    a(n-1) = (1 - a(n))/n\n",
    "\n",
    "Dodatkowo całkę po obszarze [0,1] określoną wzorem (x^n) * e^(x-1) można ograniczyć od góry wartością całki po obszarze [0,1] z funkcji x^n, której wartość to 1/(n+1). Zatem wyrażenie 1 - a(n) możemy zastąpić wyrażeniem 1/(n+1) powodując przy tym błąd równy 1/(n+1), który jest minimalizowany wraz z kolejnymi wartościami a(n).\n",
    "\n",
    "Poniżej znajduje się wersja algorytmu stabilnego wysnaczania wartości a(n) oraz testowe wyznaczenie wartości a(18) w celu porównania wyników z algorytmem niestabilnym."
   ]
  },
  {
   "cell_type": "code",
   "execution_count": 110,
   "metadata": {},
   "outputs": [
    {
     "data": {
      "text/plain": [
       "stablealgorigth (generic function with 1 method)"
      ]
     },
     "execution_count": 110,
     "metadata": {},
     "output_type": "execute_result"
    }
   ],
   "source": [
    "stablealgorigth(n) = 1/((n+1)*(n+2)) #Algorytm stabilny"
   ]
  },
  {
   "cell_type": "code",
   "execution_count": 111,
   "metadata": {},
   "outputs": [
    {
     "data": {
      "text/plain": [
       "0.002631578947368421"
      ]
     },
     "execution_count": 111,
     "metadata": {},
     "output_type": "execute_result"
    }
   ],
   "source": [
    "stablealgorigth(18) #Wartość otrzymana dla algorytmu stabilnego. Jak widać, algorytm stabilny znacznie zminimalizował błędy obliczeń w porównianiu z algorytmem niestabilnym."
   ]
  },
  {
   "cell_type": "code",
   "execution_count": null,
   "metadata": {},
   "outputs": [],
   "source": []
  }
 ],
 "metadata": {
  "kernelspec": {
   "display_name": "Julia 1.5.3",
   "language": "julia",
   "name": "julia-1.5"
  },
  "language_info": {
   "file_extension": ".jl",
   "mimetype": "application/julia",
   "name": "julia",
   "version": "1.5.3"
  }
 },
 "nbformat": 4,
 "nbformat_minor": 2
}

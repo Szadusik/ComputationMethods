{
 "cells": [
  {
   "cell_type": "markdown",
   "metadata": {},
   "source": [
    "# MOwNiT \n",
    "## Laboratorium\n",
    "## Wybrane zagadnienia algebry liniowej, faktoryzacja\n",
    "### Algebra liniowa w Julii\n",
    "https://docs.julialang.org/en/v1.2/stdlib/LinearAlgebra/index.html"
   ]
  },
  {
   "cell_type": "code",
   "execution_count": 1,
   "metadata": {},
   "outputs": [],
   "source": [
    "using(LinearAlgebra)"
   ]
  },
  {
   "cell_type": "code",
   "execution_count": 2,
   "metadata": {
    "scrolled": true
   },
   "outputs": [
    {
     "data": {
      "text/html": [
       "# 11 methods for generic function <b>factorize</b>:<ul><li> factorize(A::<b>StridedArray{T, 2}</b>)<i> where T</i> in LinearAlgebra at <a href=\"file://C:/buildbot/worker/package_win64/build/usr/share/julia/stdlib/v1.5/LinearAlgebra/src/dense.jl\" target=\"_blank\">C:\\Users\\TadeuszSatlawa\\AppData\\Local\\Programs\\Julia 1.5.3\\share\\julia\\stdlib\\v1.5\\LinearAlgebra\\src\\dense.jl:1207</a></li> <li> factorize(A::<b>Adjoint</b>) in LinearAlgebra at <a href=\"file://C:/buildbot/worker/package_win64/build/usr/share/julia/stdlib/v1.5/LinearAlgebra/src/dense.jl\" target=\"_blank\">C:\\Users\\TadeuszSatlawa\\AppData\\Local\\Programs\\Julia 1.5.3\\share\\julia\\stdlib\\v1.5\\LinearAlgebra\\src\\dense.jl:1283</a></li> <li> factorize(A::<b>Transpose</b>) in LinearAlgebra at <a href=\"file://C:/buildbot/worker/package_win64/build/usr/share/julia/stdlib/v1.5/LinearAlgebra/src/dense.jl\" target=\"_blank\">C:\\Users\\TadeuszSatlawa\\AppData\\Local\\Programs\\Julia 1.5.3\\share\\julia\\stdlib\\v1.5\\LinearAlgebra\\src\\dense.jl:1284</a></li> <li> factorize(A::<b>LinearAlgebra.AbstractTriangular</b>) in LinearAlgebra at <a href=\"file://C:/buildbot/worker/package_win64/build/usr/share/julia/stdlib/v1.5/LinearAlgebra/src/triangular.jl\" target=\"_blank\">C:\\Users\\TadeuszSatlawa\\AppData\\Local\\Programs\\Julia 1.5.3\\share\\julia\\stdlib\\v1.5\\LinearAlgebra\\src\\triangular.jl:2676</a></li> <li> factorize(A::<b>Union{Hermitian{Complex{Float64},var\"#s828\"}, Hermitian{Float64,var\"#s828\"}, Symmetric{Float64,var\"#s828\"}} where var\"#s828\"<:SparseArrays.AbstractSparseMatrixCSC</b>) in SparseArrays at <a href=\"file://C:/buildbot/worker/package_win64/build/usr/share/julia/stdlib/v1.5/SparseArrays/src/linalg.jl\" target=\"_blank\">C:\\Users\\TadeuszSatlawa\\AppData\\Local\\Programs\\Julia 1.5.3\\share\\julia\\stdlib\\v1.5\\SparseArrays\\src\\linalg.jl:1538</a></li> <li> factorize(A::<b>Union{Hermitian{T,S}, Symmetric{T,S}} where S where T</b>) in LinearAlgebra at <a href=\"file://C:/buildbot/worker/package_win64/build/usr/share/julia/stdlib/v1.5/LinearAlgebra/src/symmetric.jl\" target=\"_blank\">C:\\Users\\TadeuszSatlawa\\AppData\\Local\\Programs\\Julia 1.5.3\\share\\julia\\stdlib\\v1.5\\LinearAlgebra\\src\\symmetric.jl:634</a></li> <li> factorize(A::<b>Tridiagonal</b>) in LinearAlgebra at <a href=\"file://C:/buildbot/worker/package_win64/build/usr/share/julia/stdlib/v1.5/LinearAlgebra/src/lu.jl\" target=\"_blank\">C:\\Users\\TadeuszSatlawa\\AppData\\Local\\Programs\\Julia 1.5.3\\share\\julia\\stdlib\\v1.5\\LinearAlgebra\\src\\lu.jl:555</a></li> <li> factorize(D::<b>Diagonal</b>) in LinearAlgebra at <a href=\"file://C:/buildbot/worker/package_win64/build/usr/share/julia/stdlib/v1.5/LinearAlgebra/src/diagonal.jl\" target=\"_blank\">C:\\Users\\TadeuszSatlawa\\AppData\\Local\\Programs\\Julia 1.5.3\\share\\julia\\stdlib\\v1.5\\LinearAlgebra\\src\\diagonal.jl:121</a></li> <li> factorize(A::<b>Bidiagonal</b>) in LinearAlgebra at <a href=\"file://C:/buildbot/worker/package_win64/build/usr/share/julia/stdlib/v1.5/LinearAlgebra/src/bidiag.jl\" target=\"_blank\">C:\\Users\\TadeuszSatlawa\\AppData\\Local\\Programs\\Julia 1.5.3\\share\\julia\\stdlib\\v1.5\\LinearAlgebra\\src\\bidiag.jl:875</a></li> <li> factorize(S::<b>SymTridiagonal</b>) in LinearAlgebra at <a href=\"file://C:/buildbot/worker/package_win64/build/usr/share/julia/stdlib/v1.5/LinearAlgebra/src/ldlt.jl\" target=\"_blank\">C:\\Users\\TadeuszSatlawa\\AppData\\Local\\Programs\\Julia 1.5.3\\share\\julia\\stdlib\\v1.5\\LinearAlgebra\\src\\ldlt.jl:166</a></li> <li> factorize(A::<b>SparseArrays.AbstractSparseMatrixCSC</b>) in SparseArrays at <a href=\"file://C:/buildbot/worker/package_win64/build/usr/share/julia/stdlib/v1.5/SparseArrays/src/linalg.jl\" target=\"_blank\">C:\\Users\\TadeuszSatlawa\\AppData\\Local\\Programs\\Julia 1.5.3\\share\\julia\\stdlib\\v1.5\\SparseArrays\\src\\linalg.jl:1508</a></li> </ul>"
      ],
      "text/plain": [
       "# 11 methods for generic function \"factorize\":\n",
       "[1] factorize(A::StridedArray{T, 2}) where T in LinearAlgebra at C:\\Users\\TadeuszSatlawa\\AppData\\Local\\Programs\\Julia 1.5.3\\share\\julia\\stdlib\\v1.5\\LinearAlgebra\\src\\dense.jl:1207\n",
       "[2] factorize(A::Adjoint) in LinearAlgebra at C:\\Users\\TadeuszSatlawa\\AppData\\Local\\Programs\\Julia 1.5.3\\share\\julia\\stdlib\\v1.5\\LinearAlgebra\\src\\dense.jl:1283\n",
       "[3] factorize(A::Transpose) in LinearAlgebra at C:\\Users\\TadeuszSatlawa\\AppData\\Local\\Programs\\Julia 1.5.3\\share\\julia\\stdlib\\v1.5\\LinearAlgebra\\src\\dense.jl:1284\n",
       "[4] factorize(A::LinearAlgebra.AbstractTriangular) in LinearAlgebra at C:\\Users\\TadeuszSatlawa\\AppData\\Local\\Programs\\Julia 1.5.3\\share\\julia\\stdlib\\v1.5\\LinearAlgebra\\src\\triangular.jl:2676\n",
       "[5] factorize(A::Union{Hermitian{Complex{Float64},var\"#s828\"}, Hermitian{Float64,var\"#s828\"}, Symmetric{Float64,var\"#s828\"}} where var\"#s828\"<:SparseArrays.AbstractSparseMatrixCSC) in SparseArrays at C:\\Users\\TadeuszSatlawa\\AppData\\Local\\Programs\\Julia 1.5.3\\share\\julia\\stdlib\\v1.5\\SparseArrays\\src\\linalg.jl:1538\n",
       "[6] factorize(A::Union{Hermitian{T,S}, Symmetric{T,S}} where S where T) in LinearAlgebra at C:\\Users\\TadeuszSatlawa\\AppData\\Local\\Programs\\Julia 1.5.3\\share\\julia\\stdlib\\v1.5\\LinearAlgebra\\src\\symmetric.jl:634\n",
       "[7] factorize(A::Tridiagonal) in LinearAlgebra at C:\\Users\\TadeuszSatlawa\\AppData\\Local\\Programs\\Julia 1.5.3\\share\\julia\\stdlib\\v1.5\\LinearAlgebra\\src\\lu.jl:555\n",
       "[8] factorize(D::Diagonal) in LinearAlgebra at C:\\Users\\TadeuszSatlawa\\AppData\\Local\\Programs\\Julia 1.5.3\\share\\julia\\stdlib\\v1.5\\LinearAlgebra\\src\\diagonal.jl:121\n",
       "[9] factorize(A::Bidiagonal) in LinearAlgebra at C:\\Users\\TadeuszSatlawa\\AppData\\Local\\Programs\\Julia 1.5.3\\share\\julia\\stdlib\\v1.5\\LinearAlgebra\\src\\bidiag.jl:875\n",
       "[10] factorize(S::SymTridiagonal) in LinearAlgebra at C:\\Users\\TadeuszSatlawa\\AppData\\Local\\Programs\\Julia 1.5.3\\share\\julia\\stdlib\\v1.5\\LinearAlgebra\\src\\ldlt.jl:166\n",
       "[11] factorize(A::SparseArrays.AbstractSparseMatrixCSC) in SparseArrays at C:\\Users\\TadeuszSatlawa\\AppData\\Local\\Programs\\Julia 1.5.3\\share\\julia\\stdlib\\v1.5\\SparseArrays\\src\\linalg.jl:1508"
      ]
     },
     "execution_count": 2,
     "metadata": {},
     "output_type": "execute_result"
    }
   ],
   "source": [
    "methods(factorize)"
   ]
  },
  {
   "cell_type": "code",
   "execution_count": 3,
   "metadata": {},
   "outputs": [
    {
     "data": {
      "text/plain": [
       "1×3 Array{Int64,2}:\n",
       " 1  2  2"
      ]
     },
     "execution_count": 3,
     "metadata": {},
     "output_type": "execute_result"
    }
   ],
   "source": [
    "# wiersze vs kolumny\n",
    "x1 = [1 2 2]"
   ]
  },
  {
   "cell_type": "code",
   "execution_count": 4,
   "metadata": {},
   "outputs": [
    {
     "data": {
      "text/plain": [
       "3-element Array{Int64,1}:\n",
       " 1\n",
       " 2\n",
       " 3"
      ]
     },
     "execution_count": 4,
     "metadata": {},
     "output_type": "execute_result"
    }
   ],
   "source": [
    "y1 = [1 ;2 ;3]"
   ]
  },
  {
   "cell_type": "code",
   "execution_count": 5,
   "metadata": {},
   "outputs": [
    {
     "data": {
      "text/plain": [
       "3×1 Transpose{Int64,Array{Int64,2}}:\n",
       " 1\n",
       " 2\n",
       " 2"
      ]
     },
     "execution_count": 5,
     "metadata": {},
     "output_type": "execute_result"
    }
   ],
   "source": [
    "transpose(x1)"
   ]
  },
  {
   "cell_type": "code",
   "execution_count": 6,
   "metadata": {},
   "outputs": [
    {
     "data": {
      "text/plain": [
       "11"
      ]
     },
     "execution_count": 6,
     "metadata": {},
     "output_type": "execute_result"
    }
   ],
   "source": [
    "# iloczyn skalarny\n",
    "dot(x1, y1)"
   ]
  },
  {
   "cell_type": "markdown",
   "metadata": {},
   "source": [
    " Długość wektora liczymy jako pierwiastek z jego iloczynu skalarnego \n",
    "$$ \\lVert\\mathbf{v}\\rVert = \\sqrt{\\mathbf{v}\\cdot \\mathbf{v}}=\\sqrt{\\sum_{i=1}^nv_i^2}$$\n",
    "\n"
   ]
  },
  {
   "cell_type": "markdown",
   "metadata": {},
   "source": [
    "#### Przykładowe dane"
   ]
  },
  {
   "cell_type": "code",
   "execution_count": 7,
   "metadata": {},
   "outputs": [
    {
     "data": {
      "text/plain": [
       "3×3 Array{Float64,2}:\n",
       " 0.426808  0.87078   0.744177\n",
       " 0.116261  0.861701  0.454764\n",
       " 0.515208  0.434804  0.731423"
      ]
     },
     "execution_count": 7,
     "metadata": {},
     "output_type": "execute_result"
    }
   ],
   "source": [
    "# losujemy macierz 3x3\n",
    "A = rand(3,3)"
   ]
  },
  {
   "cell_type": "code",
   "execution_count": 8,
   "metadata": {},
   "outputs": [
    {
     "data": {
      "text/plain": [
       "3-element Array{Float64,1}:\n",
       " 0.8820355543540461\n",
       " 0.4044150789954668\n",
       " 0.7235163896359369"
      ]
     },
     "execution_count": 8,
     "metadata": {},
     "output_type": "execute_result"
    }
   ],
   "source": [
    "# losujemy wektor x\n",
    "x = rand(3)"
   ]
  },
  {
   "cell_type": "code",
   "execution_count": 9,
   "metadata": {},
   "outputs": [
    {
     "data": {
      "text/plain": [
       "3-element Array{Float64,1}:\n",
       " 1.2670410920157829\n",
       " 0.7800602545631814\n",
       " 1.1594692797627135"
      ]
     },
     "execution_count": 9,
     "metadata": {},
     "output_type": "execute_result"
    }
   ],
   "source": [
    "# wyliczamy b\n",
    "b = A*x"
   ]
  },
  {
   "cell_type": "markdown",
   "metadata": {},
   "source": [
    "### Sposoby rozwiązania Ax=b"
   ]
  },
  {
   "cell_type": "code",
   "execution_count": 10,
   "metadata": {},
   "outputs": [
    {
     "data": {
      "text/plain": [
       "3-element Array{Float64,1}:\n",
       " 0.8820355543540419\n",
       " 0.4044150789954646\n",
       " 0.7235163896359431"
      ]
     },
     "execution_count": 10,
     "metadata": {},
     "output_type": "execute_result"
    }
   ],
   "source": [
    "# mozemy policzyc odwrotność macierzy i wymnożyć\n",
    "# uwaga: nieefektywne!\n",
    "inv(A) * b"
   ]
  },
  {
   "cell_type": "code",
   "execution_count": 11,
   "metadata": {},
   "outputs": [
    {
     "data": {
      "text/plain": [
       "3-element Array{Float64,1}:\n",
       " 0.8820355543540427\n",
       " 0.40441507899546547\n",
       " 0.7235163896359402"
      ]
     },
     "execution_count": 11,
     "metadata": {},
     "output_type": "execute_result"
    }
   ],
   "source": [
    "# najlepiej używać zoptymalizowanego operatora \"\\\"\"\n",
    "x = A\\b"
   ]
  },
  {
   "cell_type": "markdown",
   "metadata": {},
   "source": [
    " operator \"\\\\\" wybiera odpowiednią faktoryzację:\n",
    "- https://docs.julialang.org/en/v1.2/stdlib/LinearAlgebra/#LinearAlgebra.factorize\n",
    "- https://docs.julialang.org/en/v1.2/stdlib/LinearAlgebra/#man-linalg-factorizations-1\n",
    " \n"
   ]
  },
  {
   "cell_type": "markdown",
   "metadata": {},
   "source": [
    "### Faktoryzacja LU"
   ]
  },
  {
   "cell_type": "code",
   "execution_count": 12,
   "metadata": {},
   "outputs": [
    {
     "data": {
      "text/plain": [
       "LU{Float64,Array{Float64,2}}\n",
       "L factor:\n",
       "3×3 Array{Float64,2}:\n",
       " 1.0       0.0       0.0\n",
       " 0.225658  1.0       0.0\n",
       " 0.828419  0.668663  1.0\n",
       "U factor:\n",
       "3×3 Array{Float64,2}:\n",
       " 0.515208  0.434804   0.731423\n",
       " 0.0       0.763584   0.289713\n",
       " 0.0       0.0       -0.0554673"
      ]
     },
     "execution_count": 12,
     "metadata": {},
     "output_type": "execute_result"
    }
   ],
   "source": [
    "# W przypadku ogólnej macierzy kwadratowej jest to faktoryzacja LU z pivotem\n",
    "Af = factorize(A)"
   ]
  },
  {
   "cell_type": "code",
   "execution_count": 13,
   "metadata": {},
   "outputs": [
    {
     "data": {
      "text/plain": [
       "3×3 Array{Float64,2}:\n",
       " 1.0       0.0       0.0\n",
       " 0.225658  1.0       0.0\n",
       " 0.828419  0.668663  1.0"
      ]
     },
     "execution_count": 13,
     "metadata": {},
     "output_type": "execute_result"
    }
   ],
   "source": [
    "# Macierz L\n",
    "Af.L"
   ]
  },
  {
   "cell_type": "code",
   "execution_count": 14,
   "metadata": {},
   "outputs": [
    {
     "data": {
      "text/plain": [
       "3×3 Array{Float64,2}:\n",
       " 0.515208  0.434804   0.731423\n",
       " 0.0       0.763584   0.289713\n",
       " 0.0       0.0       -0.0554673"
      ]
     },
     "execution_count": 14,
     "metadata": {},
     "output_type": "execute_result"
    }
   ],
   "source": [
    "# Macierz U\n",
    "Af.U"
   ]
  },
  {
   "cell_type": "code",
   "execution_count": 15,
   "metadata": {},
   "outputs": [
    {
     "data": {
      "text/plain": [
       "3-element Array{Int64,1}:\n",
       " 3\n",
       " 2\n",
       " 1"
      ]
     },
     "execution_count": 15,
     "metadata": {},
     "output_type": "execute_result"
    }
   ],
   "source": [
    "# wektor permutacji wierszy \n",
    "Af.p"
   ]
  },
  {
   "cell_type": "code",
   "execution_count": 16,
   "metadata": {},
   "outputs": [
    {
     "data": {
      "text/plain": [
       "3×3 Array{Float64,2}:\n",
       " 0.0  0.0  0.0\n",
       " 0.0  0.0  0.0\n",
       " 0.0  0.0  0.0"
      ]
     },
     "execution_count": 16,
     "metadata": {},
     "output_type": "execute_result"
    }
   ],
   "source": [
    "# sprawdzenie czy dostaniemy pierwotna macierz\n",
    "Af.P * A - Af.L*Af.U"
   ]
  },
  {
   "cell_type": "code",
   "execution_count": 17,
   "metadata": {
    "scrolled": true
   },
   "outputs": [
    {
     "data": {
      "text/plain": [
       "LU{Float64,Array{Float64,2}}\n",
       "L factor:\n",
       "3×3 Array{Float64,2}:\n",
       " 1.0       0.0       0.0\n",
       " 0.225658  1.0       0.0\n",
       " 0.828419  0.668663  1.0\n",
       "U factor:\n",
       "3×3 Array{Float64,2}:\n",
       " 0.515208  0.434804   0.731423\n",
       " 0.0       0.763584   0.289713\n",
       " 0.0       0.0       -0.0554673"
      ]
     },
     "execution_count": 17,
     "metadata": {},
     "output_type": "execute_result"
    }
   ],
   "source": [
    "# mozemy zamienic macierz A na postać zfaktoryzowaną\n",
    "A = factorize(A)"
   ]
  },
  {
   "cell_type": "code",
   "execution_count": 18,
   "metadata": {},
   "outputs": [
    {
     "data": {
      "text/plain": [
       "3-element Array{Float64,1}:\n",
       " 0.8820355543540427\n",
       " 0.40441507899546547\n",
       " 0.7235163896359402"
      ]
     },
     "execution_count": 18,
     "metadata": {},
     "output_type": "execute_result"
    }
   ],
   "source": [
    "# i działać na niej operatorem \\\n",
    "# operator ten będzie wykorzytywał raz utworzony wynik faktoryzacji\n",
    "A\\b"
   ]
  },
  {
   "cell_type": "code",
   "execution_count": 19,
   "metadata": {},
   "outputs": [
    {
     "data": {
      "text/plain": [
       "3-element Array{Float64,1}:\n",
       "  8.146754007861663\n",
       "  4.109285185656289\n",
       " -8.14676332319351"
      ]
     },
     "execution_count": 19,
     "metadata": {},
     "output_type": "execute_result"
    }
   ],
   "source": [
    "# dla różnych prawych stron równania z tą samą macierzą\n",
    "c = rand(3);\n",
    "A\\c"
   ]
  },
  {
   "cell_type": "markdown",
   "metadata": {},
   "source": [
    "### Faktoryzacja QR\n"
   ]
  },
  {
   "cell_type": "code",
   "execution_count": 20,
   "metadata": {},
   "outputs": [
    {
     "data": {
      "text/plain": [
       "10×5 Array{Float64,2}:\n",
       " 0.527932   0.545465   0.953677   0.657313   0.209823\n",
       " 0.215046   0.157795   0.478875   0.0743982  0.868885\n",
       " 0.0532183  0.203356   0.796062   0.0650214  0.75715\n",
       " 0.244892   0.247211   0.912153   0.186526   0.231066\n",
       " 0.920043   0.0562453  0.814678   0.233052   0.00247366\n",
       " 0.240763   0.860322   0.112277   0.820414   0.979739\n",
       " 0.870474   0.275154   0.932202   0.203896   0.613602\n",
       " 0.473385   0.0151019  0.0736561  0.424002   0.980705\n",
       " 0.461177   0.586773   0.330404   0.255356   0.313383\n",
       " 0.724831   0.313144   0.125675   0.501665   0.745885"
      ]
     },
     "execution_count": 20,
     "metadata": {},
     "output_type": "execute_result"
    }
   ],
   "source": [
    "B = rand(10, 5)"
   ]
  },
  {
   "cell_type": "code",
   "execution_count": 21,
   "metadata": {},
   "outputs": [
    {
     "data": {
      "text/plain": [
       "QRPivoted{Float64,Array{Float64,2}}\n",
       "Q factor:\n",
       "10×10 LinearAlgebra.QRPackedQ{Float64,Array{Float64,2}}:\n",
       " -0.100276     0.486044     0.00102614  …  -0.0826574  -0.0156237  -0.0988664\n",
       " -0.415246     0.00343135  -0.241036       -0.561658   -0.134926   -0.409364\n",
       " -0.361847     0.222294    -0.523406        0.473486   -0.239155    0.436671\n",
       " -0.110428     0.455307    -0.259913       -0.2658      0.58175     0.139082\n",
       " -0.00118218   0.470912     0.502255        0.171345   -0.351022   -0.122647\n",
       " -0.468223    -0.243762    -0.0671429   …   0.0341807  -0.322248   -0.13596\n",
       " -0.293244     0.346358     0.242962       -0.0106217  -0.120531   -0.106898\n",
       " -0.468685    -0.266427     0.177756        0.364325    0.406597   -0.275044\n",
       " -0.149768     0.0925372    0.210537        0.297835    0.421566   -0.109391\n",
       " -0.356463    -0.162305     0.456805       -0.36165     0.0359966   0.692857\n",
       "R factor:\n",
       "5×5 Array{Float64,2}:\n",
       " -2.09246  -1.13896  -1.10693   -0.911262   -1.00093\n",
       "  0.0       1.72714   0.855642   0.334948    0.228743\n",
       "  0.0       0.0       1.02697    0.0984391   0.370028\n",
       "  0.0       0.0       0.0        0.856876    0.575146\n",
       "  0.0       0.0       0.0        0.0         0.469404\n",
       "permutation:\n",
       "5-element Array{Int64,1}:\n",
       " 5\n",
       " 3\n",
       " 1\n",
       " 2\n",
       " 4"
      ]
     },
     "execution_count": 21,
     "metadata": {},
     "output_type": "execute_result"
    }
   ],
   "source": [
    "# W przypadku ogólnej macierzy prostokątnej wybierana jest faktoryzacja QR z pivotem\n",
    "qrf = factorize(B)"
   ]
  },
  {
   "cell_type": "markdown",
   "metadata": {},
   "source": [
    "- $Q$ to macierz  ortogonalna mxm, co oznacza, że  $Q^T*Q=Q*Q^T=I$ czyli $Q^{-1}=Q^T$ (odwracanie takich macierzy jest szybkie i nie generuje dodatkowych błędów !)\n",
    "- $R$ to macierz postaci $\\begin{pmatrix} Rfactor \\\\ 0 \\end{pmatrix} $ , gdzie $Rfactor$ jest macierzą trójkątną górną, a 0 to macierz zer o wymierze nx(m-n)"
   ]
  },
  {
   "cell_type": "code",
   "execution_count": 22,
   "metadata": {},
   "outputs": [
    {
     "data": {
      "text/plain": [
       "10×10 Array{Float64,2}:\n",
       "  1.0           4.16334e-17  -5.55112e-17  …   6.245e-17     0.0\n",
       "  4.16334e-17   1.0          -1.38778e-16      2.77556e-17  -8.32667e-17\n",
       " -5.55112e-17  -1.38778e-16   1.0             -4.85723e-17  -1.11022e-16\n",
       " -5.38848e-17  -6.4239e-17   -9.56266e-17      1.12242e-16  -7.15573e-17\n",
       "  1.12757e-16  -1.04951e-16  -1.31839e-16     -1.29671e-16  -4.85723e-17\n",
       " -6.93889e-17   3.81639e-17   4.16334e-17  …   2.77556e-17   0.0\n",
       " -2.77556e-17   8.67362e-18   9.71445e-17     -2.60209e-17  -9.71445e-17\n",
       " -1.11022e-16   1.249e-16     2.77556e-17      1.14492e-16   0.0\n",
       "  6.245e-17     2.77556e-17  -4.85723e-17      1.0           3.46945e-18\n",
       "  0.0          -8.32667e-17  -1.11022e-16      3.46945e-18   1.0"
      ]
     },
     "execution_count": 22,
     "metadata": {},
     "output_type": "execute_result"
    }
   ],
   "source": [
    "# sprawdzenie macierzy Q\n",
    "transpose(qrf.Q)*qrf.Q"
   ]
  },
  {
   "cell_type": "code",
   "execution_count": 23,
   "metadata": {
    "scrolled": true
   },
   "outputs": [
    {
     "data": {
      "text/plain": [
       "true"
      ]
     },
     "execution_count": 23,
     "metadata": {},
     "output_type": "execute_result"
    }
   ],
   "source": [
    "isapprox(transpose(qrf.Q)*qrf.Q, I)"
   ]
  },
  {
   "cell_type": "code",
   "execution_count": 24,
   "metadata": {},
   "outputs": [
    {
     "data": {
      "text/plain": [
       "5×5 Array{Float64,2}:\n",
       " -2.09246  -1.13896  -1.10693   -0.911262   -1.00093\n",
       "  0.0       1.72714   0.855642   0.334948    0.228743\n",
       "  0.0       0.0       1.02697    0.0984391   0.370028\n",
       "  0.0       0.0       0.0        0.856876    0.575146\n",
       "  0.0       0.0       0.0        0.0         0.469404"
      ]
     },
     "execution_count": 24,
     "metadata": {},
     "output_type": "execute_result"
    }
   ],
   "source": [
    "qrf.R"
   ]
  },
  {
   "cell_type": "markdown",
   "metadata": {},
   "source": [
    "### Zastosowanie faktoryzacji do metody najmniejszych kwadratów\n",
    "\n",
    "Jednym z zastosowań faktoryzacji QR jest użycie jej do metody najmniejszych kwadratów.\n",
    "\n",
    "Przykład:\n",
    "\n",
    "Obliczmy dopasowanie wielomianu $$f(x)=wsp_2*x^2+wsp_1*x+wsp_0$$ do punktów (1,1) (2,2) (3,4) (4, 4) (5,3) (6,0)\n",
    "\n",
    "- Budujemy układ równań wg wzoru $$wsp_2x_i^2+wsp_1x_i+wsp_0=y_i$$:\n",
    "$$wsp_2*1^2+wsp_1*1+wsp_0=1$$\n",
    "$$wsp_2*2^2+wsp_1*2+wsp_0=2$$\n",
    "$$wsp_2*3^2+wsp_1*3+wsp_0=4$$\n",
    "$$wsp_2*4^2+wsp_1*4+wsp_0=4$$\n",
    "$$wsp_2*5^2+wsp_1*5+wsp_0=3$$\n",
    "$$wsp_2*6^2+wsp_1*6+wsp_0=0$$\n",
    "\n",
    "- Układ ten  nie ma dokładnego rozwiązania. Możemy jednak znaleźć najlepsze przybliżenie, czyli takie $wsp_i$, które minimalizują odległość:\n",
    "\n",
    "$$\\sqrt{\\sum_{i=1}^{6}{(y_i-f(x_i))^2}}=\\lVert y-A*wsp\\rVert$$\n",
    "\n",
    "\n",
    "\n"
   ]
  },
  {
   "cell_type": "markdown",
   "metadata": {},
   "source": [
    "Jak użyć do tej mimalizacji faktoryzacji QR:\n",
    "\n",
    "#### 1. Tworzymy macierz A na postawie $(x_i,y_i)$"
   ]
  },
  {
   "cell_type": "code",
   "execution_count": 25,
   "metadata": {},
   "outputs": [
    {
     "data": {
      "text/plain": [
       "6×3 Array{Float64,2}:\n",
       " 0.0  0.0  0.0\n",
       " 0.0  0.0  0.0\n",
       " 0.0  0.0  0.0\n",
       " 0.0  0.0  0.0\n",
       " 0.0  0.0  0.0\n",
       " 0.0  0.0  0.0"
      ]
     },
     "execution_count": 25,
     "metadata": {},
     "output_type": "execute_result"
    }
   ],
   "source": [
    "A = zeros(6,3) "
   ]
  },
  {
   "cell_type": "markdown",
   "metadata": {},
   "source": [
    " punkty $(x_i,y_i)$\n"
   ]
  },
  {
   "cell_type": "code",
   "execution_count": 26,
   "metadata": {},
   "outputs": [
    {
     "data": {
      "text/plain": [
       "6-element Array{Int64,1}:\n",
       " 1\n",
       " 2\n",
       " 4\n",
       " 4\n",
       " 3\n",
       " 0"
      ]
     },
     "execution_count": 26,
     "metadata": {},
     "output_type": "execute_result"
    }
   ],
   "source": [
    "x=[1; 2; 3; 4; 5; 6]\n",
    "y=[1; 2; 4; 4; 3; 0]"
   ]
  },
  {
   "cell_type": "code",
   "execution_count": 27,
   "metadata": {},
   "outputs": [
    {
     "data": {
      "text/plain": [
       "6-element Array{Int64,1}:\n",
       "  1\n",
       "  4\n",
       "  9\n",
       " 16\n",
       " 25\n",
       " 36"
      ]
     },
     "execution_count": 27,
     "metadata": {},
     "output_type": "execute_result"
    }
   ],
   "source": [
    "A[:,1] = x.^2"
   ]
  },
  {
   "cell_type": "code",
   "execution_count": 28,
   "metadata": {},
   "outputs": [
    {
     "data": {
      "text/plain": [
       "6-element Array{Int64,1}:\n",
       " 1\n",
       " 2\n",
       " 3\n",
       " 4\n",
       " 5\n",
       " 6"
      ]
     },
     "execution_count": 28,
     "metadata": {},
     "output_type": "execute_result"
    }
   ],
   "source": [
    "A[:,2] = x"
   ]
  },
  {
   "cell_type": "code",
   "execution_count": 29,
   "metadata": {},
   "outputs": [
    {
     "data": {
      "text/plain": [
       "6-element Array{Float64,1}:\n",
       " 1.0\n",
       " 1.0\n",
       " 1.0\n",
       " 1.0\n",
       " 1.0\n",
       " 1.0"
      ]
     },
     "execution_count": 29,
     "metadata": {},
     "output_type": "execute_result"
    }
   ],
   "source": [
    "A[:,3] = ones(6)"
   ]
  },
  {
   "cell_type": "code",
   "execution_count": 30,
   "metadata": {},
   "outputs": [
    {
     "data": {
      "text/plain": [
       "6×3 Array{Float64,2}:\n",
       "  1.0  1.0  1.0\n",
       "  4.0  2.0  1.0\n",
       "  9.0  3.0  1.0\n",
       " 16.0  4.0  1.0\n",
       " 25.0  5.0  1.0\n",
       " 36.0  6.0  1.0"
      ]
     },
     "execution_count": 30,
     "metadata": {},
     "output_type": "execute_result"
    }
   ],
   "source": [
    "A"
   ]
  },
  {
   "cell_type": "markdown",
   "metadata": {},
   "source": [
    "#### 2. Dokonujemy faktoryzacji QR macierzy A "
   ]
  },
  {
   "cell_type": "code",
   "execution_count": 31,
   "metadata": {},
   "outputs": [
    {
     "data": {
      "text/plain": [
       "QRPivoted{Float64,Array{Float64,2}}\n",
       "Q factor:\n",
       "6×6 LinearAlgebra.QRPackedQ{Float64,Array{Float64,2}}:\n",
       " -0.0209657  -0.343313    0.838525   0.112335    -0.0400677  -0.405397\n",
       " -0.0838628  -0.521522    0.167705  -0.00636667   0.34634     0.756879\n",
       " -0.188691   -0.534625   -0.223607  -0.612934    -0.487947   -0.121617\n",
       " -0.335451   -0.382624   -0.33541    0.753648    -0.213523   -0.122449\n",
       " -0.524142   -0.0655178  -0.167705  -0.204705     0.705864   -0.390779\n",
       " -0.754765    0.416693    0.279508  -0.0419783   -0.310667    0.283364\n",
       "R factor:\n",
       "3×3 Array{Float64,2}:\n",
       " -47.697  -9.24587  -1.90788\n",
       "   0.0    -2.34816  -1.43091\n",
       "   0.0     0.0       0.559017\n",
       "permutation:\n",
       "3-element Array{Int64,1}:\n",
       " 1\n",
       " 2\n",
       " 3"
      ]
     },
     "execution_count": 31,
     "metadata": {},
     "output_type": "execute_result"
    }
   ],
   "source": [
    "AF = factorize(A)"
   ]
  },
  {
   "cell_type": "code",
   "execution_count": 32,
   "metadata": {},
   "outputs": [
    {
     "data": {
      "text/plain": [
       "6×6 Array{Float64,2}:\n",
       "  1.0           0.0           1.11022e-16  …   8.32667e-17   0.0\n",
       "  0.0           1.0           9.71445e-17     -5.55112e-17  -1.249e-16\n",
       "  1.11022e-16   9.71445e-17   1.0             -4.16334e-17   0.0\n",
       " -9.71445e-17   3.46945e-17   2.60209e-17     -9.88792e-17  -2.08167e-17\n",
       "  8.32667e-17  -5.55112e-17  -4.16334e-17      1.0           0.0\n",
       "  0.0          -1.249e-16     0.0          …   0.0           1.0"
      ]
     },
     "execution_count": 32,
     "metadata": {},
     "output_type": "execute_result"
    }
   ],
   "source": [
    "# można przetestować ortogonalność:\n",
    "Transpose(AF.Q)*AF.Q"
   ]
  },
  {
   "cell_type": "markdown",
   "metadata": {},
   "source": [
    "Mamy równanie:\n",
    "$$A*wsp=y$$\n",
    "Dla $A=QR$:\n",
    "$$QR*wsp =y$$\n",
    "Możemy obydwie strony wymnożyć z lewej przez $Q^T$:\n",
    "$$R*wsp =Q^T y$$\n",
    "$$\\begin{pmatrix} Rfactor \\\\ 0 \\end{pmatrix} wsp= Q^T y$$\n",
    "\n",
    "Poszukiwanym rozwiązaniem jest rozwiązanie równania będącego górną niezerową częścią:\n",
    "$$Rfactor * wsp= Q^T y[1:n]$$\n",
    "$$wsp=Rfactor \\setminus Q^T y[1:n]$$"
   ]
  },
  {
   "cell_type": "code",
   "execution_count": 33,
   "metadata": {},
   "outputs": [
    {
     "data": {
      "text/plain": [
       "3-element Array{Float64,1}:\n",
       " -0.5714285714285725\n",
       "  3.9428571428571515\n",
       " -2.8000000000000163"
      ]
     },
     "execution_count": 33,
     "metadata": {},
     "output_type": "execute_result"
    }
   ],
   "source": [
    "# implementacja powyższego (uwaga: w tym przykladzie nie jest potrzebna permutacja,\n",
    "# bo wektor permutacji wynosi[1 2 3])\n",
    "AF.R\\((Transpose(AF.Q)*y)[1:3])"
   ]
  },
  {
   "cell_type": "markdown",
   "metadata": {},
   "source": [
    "Więcej informacji:\n",
    "- http://www.math.uconn.edu/~leykekhman/courses/MATH3795/Lectures/Lecture_8_Linear_least_squares_orthogonal_matrices.pdf\n",
    "- http://www.seas.ucla.edu/~vandenbe/133A/lectures/qr.pdf"
   ]
  },
  {
   "cell_type": "markdown",
   "metadata": {},
   "source": [
    "W praktyce używamy tego algorytmu poprzez operator \"\\\\\", za którym jest on \"schowany\"."
   ]
  },
  {
   "cell_type": "code",
   "execution_count": 34,
   "metadata": {},
   "outputs": [
    {
     "data": {
      "text/plain": [
       "3-element Array{Float64,1}:\n",
       " -0.5714285714285726\n",
       "  3.942857142857151\n",
       " -2.8000000000000145"
      ]
     },
     "execution_count": 34,
     "metadata": {},
     "output_type": "execute_result"
    }
   ],
   "source": [
    "A \\ y"
   ]
  },
  {
   "cell_type": "code",
   "execution_count": 35,
   "metadata": {},
   "outputs": [
    {
     "data": {
      "text/html": [
       "&#45;2.8 &#43; 3.9428571428571417&#8729;x &#45; 0.5714285714285711&#8729;x<sup>2</sup>"
      ],
      "text/latex": [
       "$-2.8 + 3.9428571428571417\\cdot x - 0.5714285714285711\\cdot x^{2}$"
      ],
      "text/plain": [
       "Polynomial(-2.8 + 3.9428571428571417*x - 0.5714285714285711*x^2)"
      ]
     },
     "execution_count": 35,
     "metadata": {},
     "output_type": "execute_result"
    }
   ],
   "source": [
    "# sprawdzamy czy dostaliśmy dobre wspólczynniki\n",
    "using Polynomials\n",
    "fit(x,y, 2)"
   ]
  },
  {
   "cell_type": "code",
   "execution_count": 36,
   "metadata": {},
   "outputs": [
    {
     "data": {
      "text/plain": [
       "Polynomials"
      ]
     },
     "execution_count": 36,
     "metadata": {},
     "output_type": "execute_result"
    }
   ],
   "source": [
    "@which fit"
   ]
  },
  {
   "cell_type": "markdown",
   "metadata": {},
   "source": [
    "Funkcja <a href=\"https://github.com/JuliaMath/Polynomials.jl/blob/master/src/common.jl#L142\">\n",
    "fit</a>  z pakietu Polynomials używa własnie tej metody\n"
   ]
  },
  {
   "cell_type": "markdown",
   "metadata": {},
   "source": [
    "### Zadania"
   ]
  },
  {
   "cell_type": "markdown",
   "metadata": {},
   "source": [
    "#### Zadanie 1 (1pkt)\n",
    "Ustal losowe (referencyjne) x rozmiaru 1000 oraz losowe A rozmiaru 1000x1000, policz b=A*x.\n",
    "Nastepnie rozwiąż równanie Ax=b trzema metodami:\n",
    "- inv()\n",
    "- \\\n",
    "- factorize()\n",
    "\n",
    "Porównaj jakość wyniku (zmierzoną jako długość różnicy wektorów wyniku oraz referencyjnego x) oraz czas wykonania (@time). UWAGA: pierwsze wykonanie funkcji w Julii zawiera czas kompilacji tej funkcji, dlatego czas mierzymy  od drugiego wywołania !\n",
    "\n",
    "#### Zadanie 2 (1pkt)\n",
    "Policz współczynniki wielomianu aproksymującego dowolne dane z poprzednich laboratoriów tworząc wprost układ równań i rozwiązujac go (metoda z użyciem faktoryzacji QR zaprezentowana na tym laboratorium).\n",
    "Porównaj wyniki z tymi otrzymanymi poprzednio.\n",
    "\n",
    "#### Zadanie 3 (2 pkt)\n",
    "\n",
    "Znajdź i zaprezentuj działanie innego zastosowania wybranej faktoryzacji. Przykładowe (ale nie jedyne!) tematy:\n",
    "\n",
    "-    tworzenie pseudoinversji macierzy (http://buzzard.ups.edu/courses/2014spring/420projects/math420-UPS-spring-2014-macausland-pseudo-inverse-present.pdf).\n",
    "\n",
    "-   uzycie faktoryzacji QR do znajdowania wartości własnych (https://en.wikipedia.org/wiki/QR_algorithm)\n",
    "\n",
    "-  zastosowanie faktoryzacji SVD - przykład zastosowania w uczeniu maszynowym https://blog.statsbot.co/singular-value-decomposition-tutorial-52c695315254\n",
    "\n",
    "\n"
   ]
  },
  {
   "cell_type": "markdown",
   "metadata": {},
   "source": [
    "# Zadanie 1\n"
   ]
  },
  {
   "cell_type": "code",
   "execution_count": 2,
   "metadata": {},
   "outputs": [
    {
     "data": {
      "text/plain": [
       "1000-element Array{Float64,1}:\n",
       " 0.02873531678644281\n",
       " 0.17878932527165414\n",
       " 0.43920741248075834\n",
       " 0.16781233781504512\n",
       " 0.35704673249315877\n",
       " 0.06764394155967457\n",
       " 0.3845596809167837\n",
       " 0.4281643751896853\n",
       " 0.23594226298879595\n",
       " 0.21265088712748037\n",
       " 0.8134097371056099\n",
       " 0.2975341754723737\n",
       " 0.8081546417293832\n",
       " ⋮\n",
       " 0.3949407151179749\n",
       " 0.11512223151319279\n",
       " 0.9360805543946229\n",
       " 0.4292495555320144\n",
       " 0.7819461920107287\n",
       " 0.5567872811478214\n",
       " 0.061983507131893045\n",
       " 0.2147000687762164\n",
       " 0.6931951765766826\n",
       " 0.08412198590832509\n",
       " 0.818483894117676\n",
       " 0.6562362823923487"
      ]
     },
     "execution_count": 2,
     "metadata": {},
     "output_type": "execute_result"
    }
   ],
   "source": [
    "x = rand(1000)"
   ]
  },
  {
   "cell_type": "code",
   "execution_count": 3,
   "metadata": {},
   "outputs": [
    {
     "data": {
      "text/plain": [
       "1000×1000 Array{Float64,2}:\n",
       " 0.181968   0.243417   0.564827   …  0.946917  0.548422   0.576005\n",
       " 0.892764   0.416575   0.920988      0.836842  0.246884   0.996058\n",
       " 0.92438    0.7496     0.323851      0.675069  0.398826   0.302901\n",
       " 0.0348572  0.270153   0.464207      0.630177  0.769529   0.375465\n",
       " 0.325619   0.196901   0.277644      0.531458  0.282947   0.326796\n",
       " 0.976714   0.722402   0.766368   …  0.651291  0.53185    0.03728\n",
       " 0.288807   0.850341   0.83519       0.119738  0.763848   0.382343\n",
       " 0.79119    0.784428   0.384667      0.301243  0.791511   0.953877\n",
       " 0.508909   0.162818   0.314299      0.293969  0.0651354  0.994902\n",
       " 0.399933   0.0111849  0.0546137     0.708298  0.275189   0.416359\n",
       " 0.643604   0.857695   0.0489328  …  0.712795  0.0202004  0.326943\n",
       " 0.690092   0.0362815  0.011996      0.898158  0.718939   0.239266\n",
       " 0.843742   0.349534   0.252425      0.81286   0.961962   0.0691796\n",
       " ⋮                                ⋱                       \n",
       " 0.739317   0.216464   0.359247      0.414392  0.356644   0.587142\n",
       " 0.42806    0.593511   0.243412      0.11971   0.594781   0.742831\n",
       " 0.756825   0.241961   0.890049   …  0.552514  0.420717   0.288929\n",
       " 0.277301   0.0571781  0.546987      0.919112  0.366237   0.413714\n",
       " 0.869576   0.187803   0.0307362     0.842641  0.504111   0.581915\n",
       " 0.989662   0.978056   0.369026      0.661147  0.457072   0.256034\n",
       " 0.975639   0.320353   0.402322      0.441718  0.914577   0.150787\n",
       " 0.044721   0.798202   0.806415   …  0.896409  0.156784   0.804997\n",
       " 0.21226    0.329031   0.287493      0.55296   0.803142   0.966455\n",
       " 0.68328    0.80942    0.677769      0.456428  0.891372   0.299775\n",
       " 0.855176   0.644496   0.714392      0.681096  0.232661   0.195592\n",
       " 0.624638   0.252826   0.437298      0.888845  0.724565   0.407843"
      ]
     },
     "execution_count": 3,
     "metadata": {},
     "output_type": "execute_result"
    }
   ],
   "source": [
    "A = rand(1000,1000)"
   ]
  },
  {
   "cell_type": "code",
   "execution_count": 4,
   "metadata": {},
   "outputs": [
    {
     "data": {
      "text/plain": [
       "1000-element Array{Float64,1}:\n",
       " 250.16963382133844\n",
       " 247.78566117240445\n",
       " 252.64226378133375\n",
       " 254.96451083571742\n",
       " 248.12808331684815\n",
       " 253.60439153380003\n",
       " 249.49119830528102\n",
       " 242.67513325341127\n",
       " 238.61295530062955\n",
       " 247.1487776580648\n",
       " 260.6010050271384\n",
       " 246.45838937054296\n",
       " 253.60491195720675\n",
       "   ⋮\n",
       " 260.8574923293116\n",
       " 243.64168191966027\n",
       " 254.80034158577698\n",
       " 252.9750886981187\n",
       " 253.0932602780477\n",
       " 250.96373068119965\n",
       " 247.37493909055578\n",
       " 247.17905231249844\n",
       " 247.0825489241583\n",
       " 244.49248201299145\n",
       " 254.45829243554417\n",
       " 255.86138210304634"
      ]
     },
     "execution_count": 4,
     "metadata": {},
     "output_type": "execute_result"
    }
   ],
   "source": [
    "b = A*x"
   ]
  },
  {
   "cell_type": "code",
   "execution_count": 19,
   "metadata": {},
   "outputs": [
    {
     "name": "stdout",
     "output_type": "stream",
     "text": [
      "  0.015469 seconds (5 allocations: 7.645 MiB)\n",
      "  0.031148 seconds (104 allocations: 15.293 MiB)\n",
      "  0.072111 seconds (212 allocations: 23.431 MiB)\n"
     ]
    },
    {
     "data": {
      "text/plain": [
       "1-element Array{Tuple{Array{Float64,1},Tuple{Array{Float64,1},Array{Float64,1}}},1}:\n",
       " ([0.028735316787006582, 0.1787893252659103, 0.4392074124806129, 0.16781233781823346, 0.35704673249625785, 0.0676439415593535, 0.3845596809147196, 0.4281643751906472, 0.2359422629891199, 0.2126508871277828  …  0.9360805543936976, 0.42924955553119304, 0.7819461920113291, 0.5567872811474199, 0.06198350713242462, 0.21470006877626702, 0.6931951765753723, 0.08412198590887954, 0.8184838941159249, 0.6562362823918466], ([0.02873531678776399, 0.17878932526996572, 0.439207412481014, 0.1678123378165385, 0.35704673249344326, 0.06764394155944727, 0.38455968091851617, 0.4281643751893478, 0.2359422629886036, 0.21265088712786046  …  0.9360805543960458, 0.4292495555320157, 0.7819461920110619, 0.5567872811476393, 0.061983507131857726, 0.2147000687757044, 0.6931951765763134, 0.08412198590888566, 0.8184838941169279, 0.6562362823923673], [0.02873531678776399, 0.17878932526996572, 0.439207412481014, 0.1678123378165385, 0.35704673249344326, 0.06764394155944727, 0.38455968091851617, 0.4281643751893478, 0.2359422629886036, 0.21265088712786046  …  0.9360805543960458, 0.4292495555320157, 0.7819461920110619, 0.5567872811476393, 0.061983507131857726, 0.2147000687757044, 0.6931951765763134, 0.08412198590888566, 0.8184838941169279, 0.6562362823923673]))"
      ]
     },
     "execution_count": 19,
     "metadata": {},
     "output_type": "execute_result"
    }
   ],
   "source": [
    "values = [inv(A) * b,A\\b,factorize(A)\\b]"
   ]
  },
  {
   "cell_type": "code",
   "execution_count": 29,
   "metadata": {},
   "outputs": [
    {
     "name": "stdout",
     "output_type": "stream",
     "text": [
      "  0.068613 seconds (6 allocations: 8.133 MiB)\n"
     ]
    },
    {
     "data": {
      "text/plain": [
       "1000-element Array{Float64,1}:\n",
       " 0.028735316787006582\n",
       " 0.1787893252659103\n",
       " 0.4392074124806129\n",
       " 0.16781233781823346\n",
       " 0.35704673249625785\n",
       " 0.0676439415593535\n",
       " 0.3845596809147196\n",
       " 0.4281643751906472\n",
       " 0.2359422629891199\n",
       " 0.2126508871277828\n",
       " 0.8134097371054025\n",
       " 0.29753417547127015\n",
       " 0.8081546417295868\n",
       " ⋮\n",
       " 0.3949407151186861\n",
       " 0.11512223151126477\n",
       " 0.9360805543936976\n",
       " 0.42924955553119304\n",
       " 0.7819461920113291\n",
       " 0.5567872811474199\n",
       " 0.06198350713242462\n",
       " 0.21470006877626702\n",
       " 0.6931951765753723\n",
       " 0.08412198590887954\n",
       " 0.8184838941159249\n",
       " 0.6562362823918466"
      ]
     },
     "execution_count": 29,
     "metadata": {},
     "output_type": "execute_result"
    }
   ],
   "source": [
    "firstime = @time inv(A) * b"
   ]
  },
  {
   "cell_type": "code",
   "execution_count": 30,
   "metadata": {},
   "outputs": [
    {
     "name": "stdout",
     "output_type": "stream",
     "text": [
      "  0.039513 seconds (4 allocations: 7.645 MiB, 22.00% gc time)\n"
     ]
    },
    {
     "data": {
      "text/plain": [
       "1000-element Array{Float64,1}:\n",
       " 0.02873531678776399\n",
       " 0.17878932526996572\n",
       " 0.439207412481014\n",
       " 0.1678123378165385\n",
       " 0.35704673249344326\n",
       " 0.06764394155944727\n",
       " 0.38455968091851617\n",
       " 0.4281643751893478\n",
       " 0.2359422629886036\n",
       " 0.21265088712786046\n",
       " 0.8134097371049949\n",
       " 0.29753417547073074\n",
       " 0.8081546417303288\n",
       " ⋮\n",
       " 0.39494071511835777\n",
       " 0.1151222315123564\n",
       " 0.9360805543960458\n",
       " 0.4292495555320157\n",
       " 0.7819461920110619\n",
       " 0.5567872811476393\n",
       " 0.061983507131857726\n",
       " 0.2147000687757044\n",
       " 0.6931951765763134\n",
       " 0.08412198590888566\n",
       " 0.8184838941169279\n",
       " 0.6562362823923673"
      ]
     },
     "execution_count": 30,
     "metadata": {},
     "output_type": "execute_result"
    }
   ],
   "source": [
    "secondtime = @time A\\b"
   ]
  },
  {
   "cell_type": "code",
   "execution_count": 31,
   "metadata": {},
   "outputs": [
    {
     "name": "stdout",
     "output_type": "stream",
     "text": [
      "  0.029077 seconds (5 allocations: 7.645 MiB)\n"
     ]
    },
    {
     "data": {
      "text/plain": [
       "1000-element Array{Float64,1}:\n",
       " 0.02873531678776399\n",
       " 0.17878932526996572\n",
       " 0.439207412481014\n",
       " 0.1678123378165385\n",
       " 0.35704673249344326\n",
       " 0.06764394155944727\n",
       " 0.38455968091851617\n",
       " 0.4281643751893478\n",
       " 0.2359422629886036\n",
       " 0.21265088712786046\n",
       " 0.8134097371049949\n",
       " 0.29753417547073074\n",
       " 0.8081546417303288\n",
       " ⋮\n",
       " 0.39494071511835777\n",
       " 0.1151222315123564\n",
       " 0.9360805543960458\n",
       " 0.4292495555320157\n",
       " 0.7819461920110619\n",
       " 0.5567872811476393\n",
       " 0.061983507131857726\n",
       " 0.2147000687757044\n",
       " 0.6931951765763134\n",
       " 0.08412198590888566\n",
       " 0.8184838941169279\n",
       " 0.6562362823923673"
      ]
     },
     "execution_count": 31,
     "metadata": {},
     "output_type": "execute_result"
    }
   ],
   "source": [
    "thirdtime = @time factorize(A)\\b"
   ]
  },
  {
   "cell_type": "code",
   "execution_count": 32,
   "metadata": {},
   "outputs": [
    {
     "data": {
      "text/plain": [
       "3-element Array{Array{Float64,1},1}:\n",
       " [0.028735316787006582, 0.1787893252659103, 0.4392074124806129, 0.16781233781823346, 0.35704673249625785, 0.0676439415593535, 0.3845596809147196, 0.4281643751906472, 0.2359422629891199, 0.2126508871277828  …  0.9360805543936976, 0.42924955553119304, 0.7819461920113291, 0.5567872811474199, 0.06198350713242462, 0.21470006877626702, 0.6931951765753723, 0.08412198590887954, 0.8184838941159249, 0.6562362823918466]\n",
       " [0.02873531678776399, 0.17878932526996572, 0.439207412481014, 0.1678123378165385, 0.35704673249344326, 0.06764394155944727, 0.38455968091851617, 0.4281643751893478, 0.2359422629886036, 0.21265088712786046  …  0.9360805543960458, 0.4292495555320157, 0.7819461920110619, 0.5567872811476393, 0.061983507131857726, 0.2147000687757044, 0.6931951765763134, 0.08412198590888566, 0.8184838941169279, 0.6562362823923673]\n",
       " [0.02873531678776399, 0.17878932526996572, 0.439207412481014, 0.1678123378165385, 0.35704673249344326, 0.06764394155944727, 0.38455968091851617, 0.4281643751893478, 0.2359422629886036, 0.21265088712786046  …  0.9360805543960458, 0.4292495555320157, 0.7819461920110619, 0.5567872811476393, 0.061983507131857726, 0.2147000687757044, 0.6931951765763134, 0.08412198590888566, 0.8184838941169279, 0.6562362823923673]"
      ]
     },
     "execution_count": 32,
     "metadata": {},
     "output_type": "execute_result"
    }
   ],
   "source": [
    "times = [firstime,secondtime,thirdtime]"
   ]
  },
  {
   "cell_type": "code",
   "execution_count": 34,
   "metadata": {},
   "outputs": [
    {
     "data": {
      "text/plain": [
       "3-element Array{Float64,1}:\n",
       " 18.382432997228815\n",
       " 18.38243299722869\n",
       " 18.38243299722869"
      ]
     },
     "execution_count": 34,
     "metadata": {},
     "output_type": "execute_result"
    }
   ],
   "source": [
    "errorvalues = [sqrt(dot(values[1],x)),sqrt(dot(values[2],x)),sqrt(dot(values[3],x))]"
   ]
  },
  {
   "cell_type": "markdown",
   "metadata": {},
   "source": [
    "# Zadanie 2\n"
   ]
  },
  {
   "cell_type": "code",
   "execution_count": 46,
   "metadata": {},
   "outputs": [
    {
     "data": {
      "text/plain": [
       "11-element Array{Float64,1}:\n",
       "     1.0\n",
       "     2.718281828459045\n",
       "     7.38905609893065\n",
       "    20.085536923187668\n",
       "    54.598150033144236\n",
       "   148.4131591025766\n",
       "   403.4287934927351\n",
       "  1096.6331584284585\n",
       "  2980.9579870417283\n",
       "  8103.083927575384\n",
       " 22026.465794806718"
      ]
     },
     "execution_count": 46,
     "metadata": {},
     "output_type": "execute_result"
    }
   ],
   "source": [
    "xs = 0:10\n",
    "ys = map(exp, xs)"
   ]
  },
  {
   "cell_type": "code",
   "execution_count": 64,
   "metadata": {},
   "outputs": [
    {
     "data": {
      "text/plain": [
       "0:10"
      ]
     },
     "execution_count": 64,
     "metadata": {},
     "output_type": "execute_result"
    }
   ],
   "source": [
    "A = zeros(11,3)\n",
    "A[:,1] = xs.^2\n",
    "A[:,3] = ones(11)\n",
    "A[:,2] = xs"
   ]
  },
  {
   "cell_type": "code",
   "execution_count": 65,
   "metadata": {},
   "outputs": [
    {
     "data": {
      "text/plain": [
       "11×3 Array{Float64,2}:\n",
       "   0.0   0.0  1.0\n",
       "   1.0   1.0  1.0\n",
       "   4.0   2.0  1.0\n",
       "   9.0   3.0  1.0\n",
       "  16.0   4.0  1.0\n",
       "  25.0   5.0  1.0\n",
       "  36.0   6.0  1.0\n",
       "  49.0   7.0  1.0\n",
       "  64.0   8.0  1.0\n",
       "  81.0   9.0  1.0\n",
       " 100.0  10.0  1.0"
      ]
     },
     "execution_count": 65,
     "metadata": {},
     "output_type": "execute_result"
    }
   ],
   "source": [
    "A"
   ]
  },
  {
   "cell_type": "code",
   "execution_count": 66,
   "metadata": {},
   "outputs": [
    {
     "data": {
      "text/plain": [
       "QRPivoted{Float64,Array{Float64,2}}\n",
       "Q factor:\n",
       "11×11 LinearAlgebra.QRPackedQ{Float64,Array{Float64,2}}:\n",
       "  0.0          3.88578e-16  -0.761853   …  -0.126755   -0.305093   -0.533412\n",
       " -0.00628285  -0.180555     -0.495663      -0.0076019   0.185417    0.418096\n",
       " -0.0251314   -0.312143     -0.275368       0.414472    0.353916    0.24599\n",
       " -0.0565456   -0.394764     -0.100968      -0.0490099   0.0159554   0.0968077\n",
       " -0.100526    -0.428418      0.0275368     -0.120319   -0.0408803   0.0622431\n",
       " -0.157071    -0.413105      0.110147   …  -0.171831   -0.0936174   0.0109406\n",
       " -0.226183    -0.348824      0.146863      -0.203546   -0.142256   -0.0571\n",
       " -0.30786     -0.235576      0.137684      -0.215465   -0.186796   -0.141879\n",
       " -0.402102    -0.0733617     0.0826105      0.792412   -0.227238   -0.243395\n",
       " -0.508911     0.13782      -0.0183579     -0.179913    0.736419   -0.361649\n",
       " -0.628285     0.397969     -0.165221   …  -0.132443   -0.295826    0.503358\n",
       "R factor:\n",
       "3×3 Array{Float64,2}:\n",
       " -159.163  -19.0056   -2.4189\n",
       "    0.0     -4.87713  -1.85096\n",
       "    0.0      0.0      -1.31259\n",
       "permutation:\n",
       "3-element Array{Int64,1}:\n",
       " 1\n",
       " 2\n",
       " 3"
      ]
     },
     "execution_count": 66,
     "metadata": {},
     "output_type": "execute_result"
    }
   ],
   "source": [
    "Afactorized = factorize(A)"
   ]
  },
  {
   "cell_type": "code",
   "execution_count": 67,
   "metadata": {},
   "outputs": [
    {
     "data": {
      "text/plain": [
       "3-element Array{Float64,1}:\n",
       "   423.9531082523477\n",
       " -2839.9726803751155\n",
       "  2529.2113262553435"
      ]
     },
     "execution_count": 67,
     "metadata": {},
     "output_type": "execute_result"
    }
   ],
   "source": [
    "A\\ys"
   ]
  },
  {
   "cell_type": "code",
   "execution_count": 60,
   "metadata": {},
   "outputs": [],
   "source": [
    "using Polynomials"
   ]
  },
  {
   "cell_type": "code",
   "execution_count": 69,
   "metadata": {},
   "outputs": [
    {
     "data": {
      "text/html": [
       "2529.211326255355 &#45; 2839.97268037512&#8729;x &#43; 423.95310825234816&#8729;x<sup>2</sup>"
      ],
      "text/latex": [
       "$2529.211326255355 - 2839.97268037512\\cdot x + 423.95310825234816\\cdot x^{2}$"
      ],
      "text/plain": [
       "Polynomial(2529.211326255355 - 2839.97268037512*x + 423.95310825234816*x^2)"
      ]
     },
     "execution_count": 69,
     "metadata": {},
     "output_type": "execute_result"
    }
   ],
   "source": [
    "fit(xs,ys,2)"
   ]
  },
  {
   "cell_type": "markdown",
   "metadata": {},
   "source": [
    "# Zadanie 3 - uzycie faktoryzacji QR do znajdowania wartości własnych"
   ]
  },
  {
   "cell_type": "markdown",
   "metadata": {},
   "source": [
    "Faktoryzacja QR może zostać użyta do znalezienia wartości w następujący sposób. Mając daną macierz A i chcąc znaleść jej wartości własne możemy użyć gotowej faktoryzacji QR w Julii. "
   ]
  },
  {
   "cell_type": "code",
   "execution_count": 108,
   "metadata": {},
   "outputs": [
    {
     "data": {
      "text/plain": [
       "5×5 Array{Float64,2}:\n",
       " 0.964156  0.777062  0.334724   0.632129  0.233707\n",
       " 0.747619  0.381129  0.195553   0.394296  0.560621\n",
       " 0.167855  0.864053  0.710867   0.117321  0.279427\n",
       " 0.904667  0.14736   0.0195358  0.673353  0.0882015\n",
       " 0.360884  0.242801  0.993985   0.91599   0.221336"
      ]
     },
     "execution_count": 108,
     "metadata": {},
     "output_type": "execute_result"
    }
   ],
   "source": [
    "T = rand(5, 5)"
   ]
  },
  {
   "cell_type": "code",
   "execution_count": 109,
   "metadata": {},
   "outputs": [
    {
     "data": {
      "text/plain": [
       "LinearAlgebra.QRCompactWY{Float64,Array{Float64,2}}\n",
       "Q factor:\n",
       "5×5 LinearAlgebra.QRCompactWYQ{Float64,Array{Float64,2}}:\n",
       " -0.614054   0.259663    0.270974   -0.526381    0.45278\n",
       " -0.476145  -0.0491658   0.0713102   0.823217    0.296811\n",
       " -0.106904   0.869747   -0.0119531   0.1555     -0.455839\n",
       " -0.576167  -0.414565    0.0371125  -0.110776   -0.694636\n",
       " -0.229841   0.0428235  -0.95915    -0.0937303   0.128787\n",
       "R factor:\n",
       "5×5 Array{Float64,2}:\n",
       " -1.57015  -0.891711  -0.614359  -1.18694     -0.542009\n",
       "  0.0       0.883851   0.730043   0.00687082   0.249066\n",
       "  0.0       0.0       -0.856506  -0.655576    -0.109054\n",
       "  0.0       0.0        0.0       -0.150353     0.351428\n",
       "  0.0       0.0        0.0        0.0          0.11208"
      ]
     },
     "execution_count": 109,
     "metadata": {},
     "output_type": "execute_result"
    }
   ],
   "source": [
    "qr(T)"
   ]
  },
  {
   "cell_type": "markdown",
   "metadata": {},
   "source": [
    "Uzywajac funkcji qr otrzymujemy faktoryzację otrzymanej macierzy (w szczególności dwie macierze Q i R), dzięki którym możemy znaleść wartości własne macierzy wyjściowej. Chcąc znaleść wartości własne macierzy wejściowej nadpisujemy macierz przez macierz otrzymana poprzez mnożenie dwóch macierzy R i Q. Proces ten powtarzamy dla ilości iteracji ile chcemy. Im większa ilość iteracji, tym bardziej można zauważyć wartości własne. \n",
    "\n",
    "Dodatkowo z każdą kolejną iteracją, otrzymywana macierz staje się coraz bardziej macierzą trójkątną."
   ]
  },
  {
   "cell_type": "markdown",
   "metadata": {},
   "source": [
    "Poniżej znajduje się przykładowe znajdywanie wartości własnych dla macierzy T o wymiarach 5x5 gdzie ilość iteracji jest równa 20."
   ]
  },
  {
   "cell_type": "code",
   "execution_count": 119,
   "metadata": {},
   "outputs": [],
   "source": [
    "for i in 1:20\n",
    "    backup = qr(T)\n",
    "    T = backup.R * backup.Q\n",
    "end"
   ]
  },
  {
   "cell_type": "code",
   "execution_count": 120,
   "metadata": {},
   "outputs": [
    {
     "data": {
      "text/plain": [
       "5×5 Array{Float64,2}:\n",
       "  2.40572       0.327809      0.41576      -0.144567     -0.331387\n",
       " -4.00006e-10   0.789753     -0.0642282    -0.430346      0.461382\n",
       "  1.2211e-15   -1.89017e-6    0.014877      0.481915      0.644826\n",
       " -6.31887e-17   2.9296e-7    -0.349154     -0.195754      0.117157\n",
       " -4.30541e-32  -5.26714e-24  -7.73347e-17  -2.68231e-17  -0.0637602"
      ]
     },
     "execution_count": 120,
     "metadata": {},
     "output_type": "execute_result"
    }
   ],
   "source": [
    "T"
   ]
  },
  {
   "cell_type": "code",
   "execution_count": 2,
   "metadata": {},
   "outputs": [
    {
     "data": {
      "text/plain": [
       "10×10 Array{Float64,2}:\n",
       " 0.0899699  0.70299   0.961648  0.0554382  …  0.449494  0.215509   0.00436191\n",
       " 0.777592   0.642062  0.783826  0.676708      0.295891  0.0315888  0.30293\n",
       " 0.760369   0.931289  0.127395  0.807179      0.893632  0.742384   0.0836986\n",
       " 0.0484705  0.369918  0.421714  0.0525808     0.76675   0.362636   0.258707\n",
       " 0.437613   0.488409  0.144483  0.245601      0.740358  0.557901   0.330268\n",
       " 0.915983   0.854446  0.93605   0.927451   …  0.153754  0.357014   0.264353\n",
       " 0.166636   0.817109  0.954856  0.67506       0.871647  0.36309    0.808713\n",
       " 0.479954   0.930066  0.48088   0.544811      0.219386  0.800652   0.524857\n",
       " 0.700383   0.676289  0.873973  0.066552      0.244676  0.12704    0.308455\n",
       " 0.241459   0.881882  0.171035  0.972511      0.334393  0.650249   0.403354"
      ]
     },
     "execution_count": 2,
     "metadata": {},
     "output_type": "execute_result"
    }
   ],
   "source": [
    "A = rand(10,10) #Oryginalna macierz"
   ]
  },
  {
   "cell_type": "code",
   "execution_count": 10,
   "metadata": {},
   "outputs": [],
   "source": [
    "values = Matrix{Float64}[]\n",
    "for i in 1:30\n",
    "    backup = qr(A)\n",
    "    A = backup.R * backup.Q\n",
    "    if(i%5 == 0)\n",
    "        push!(values,A)\n",
    "    end\n",
    "end"
   ]
  },
  {
   "cell_type": "code",
   "execution_count": 13,
   "metadata": {},
   "outputs": [
    {
     "data": {
      "text/plain": [
       "10×10 Array{Float64,2}:\n",
       "  4.587          0.796607       0.313286      …  -0.762306     -0.405797\n",
       "  2.19201e-65   -0.788211       0.385764          0.29209      -0.0139045\n",
       " -1.95407e-66   -0.71017       -0.975109          0.0594706     0.0806248\n",
       " -1.51556e-72   -2.57557e-8    -8.31748e-8       -0.00839473   -0.0846189\n",
       "  4.17315e-75    7.39094e-8    -6.04535e-8        0.184287     -0.355663\n",
       " -4.34469e-88   -2.15124e-21    1.85126e-21   …  -0.0929686    -0.112025\n",
       " -6.43222e-97   -2.58799e-31    2.44588e-31      -0.0412285    -0.182367\n",
       " -4.15874e-101  -1.40557e-35    1.53524e-35       0.490877     -0.160243\n",
       " -3.11403e-102  -3.37562e-36    3.55093e-36       0.397085     -0.200899\n",
       "  1.77708e-190   1.82629e-124  -1.92266e-124     -2.49382e-89  -0.0556345"
      ]
     },
     "execution_count": 13,
     "metadata": {},
     "output_type": "execute_result"
    }
   ],
   "source": [
    "values[1] #Macierz po wykonaniu 5 iteracji algorytmu"
   ]
  },
  {
   "cell_type": "code",
   "execution_count": 15,
   "metadata": {},
   "outputs": [
    {
     "data": {
      "text/plain": [
       "10×10 Array{Float64,2}:\n",
       "  4.587          0.141694       0.844189      …   0.196199     -0.405797\n",
       "  8.84901e-72   -0.782333       0.706639         -0.0494237    -0.0762721\n",
       " -4.32104e-73   -0.389295      -0.980986          0.434898      0.0296018\n",
       "  8.12688e-80    4.41905e-10    2.46465e-8       -0.338463     -0.187202\n",
       " -1.82605e-82   -8.01705e-9     1.18414e-8       -0.077907      0.314026\n",
       " -7.47076e-97   -9.16982e-24    1.4257e-23    …  -0.154038     -0.112025\n",
       " -1.30521e-106  -1.30182e-34    2.22478e-34      -0.0153096    -0.182382\n",
       " -2.32317e-111  -1.59991e-39    3.20079e-39       0.388472     -0.209092\n",
       " -2.40159e-112  -6.45351e-40    1.22868e-39       0.0293009     0.149377\n",
       "  1.22422e-209   3.11883e-137  -5.94264e-137     -4.51622e-99  -0.0556345"
      ]
     },
     "execution_count": 15,
     "metadata": {},
     "output_type": "execute_result"
    }
   ],
   "source": [
    "values[3]#Macierz po wykonaniu 15 iteracji algorytmu"
   ]
  },
  {
   "cell_type": "code",
   "execution_count": 17,
   "metadata": {},
   "outputs": [
    {
     "data": {
      "text/plain": [
       "10×10 Array{Float64,2}:\n",
       "  4.587          0.747818      -0.416533      …  -0.0294544      0.405797\n",
       " -1.11547e-81   -1.0589         0.487718         -0.460688      -0.053461\n",
       "  8.81586e-83   -0.608216      -0.704423          0.135426      -0.0619324\n",
       " -6.82156e-91    4.62943e-11    9.75956e-10      -0.0503587      0.340936\n",
       "  2.47588e-93   -8.32407e-10    1.16545e-9        0.311746       0.131984\n",
       "  5.32688e-110  -5.00693e-27    7.25934e-27   …   0.168433       0.112025\n",
       " -3.77278e-121   2.8816e-39    -4.46233e-39       0.0234506      0.182385\n",
       " -1.43719e-126   7.57658e-45   -1.31472e-44       0.468694      -0.235778\n",
       " -1.23303e-127   2.53732e-45   -4.24574e-45       0.0287202      0.102178\n",
       "  2.21356e-238  -4.31842e-156   7.23028e-156     -1.58061e-112  -0.0556345"
      ]
     },
     "execution_count": 17,
     "metadata": {},
     "output_type": "execute_result"
    }
   ],
   "source": [
    "values[6] #Macierz po wykonaniu 30 iteracji algorytmu"
   ]
  },
  {
   "cell_type": "code",
   "execution_count": null,
   "metadata": {},
   "outputs": [],
   "source": []
  }
 ],
 "metadata": {
  "kernelspec": {
   "display_name": "Julia 1.5.3",
   "language": "julia",
   "name": "julia-1.5"
  },
  "language_info": {
   "file_extension": ".jl",
   "mimetype": "application/julia",
   "name": "julia",
   "version": "1.5.3"
  }
 },
 "nbformat": 4,
 "nbformat_minor": 2
}
